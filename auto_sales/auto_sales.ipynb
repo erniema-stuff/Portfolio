{
 "cells": [
  {
   "cell_type": "markdown",
   "metadata": {},
   "source": [
    "# Предсказание рыночной цены автомобиля\n",
    "\n",
    "Сервис по продаже автомобилей с пробегом хочет привлечь новых клиентов и разрабатывает приложение, с помощью которого можно быстро узнать рыночную стоимость своего автомобиля."
   ]
  },
  {
   "cell_type": "markdown",
   "metadata": {},
   "source": [
    "# Цель проекта\n",
    "\n",
    "Построить модель, решающую задачу регрессии и предсказывающую рыночную цену автомобилей по данным об их технических характеристиках и комплектации. При построении модели нужно найти баланс между качеством, скоростью предсказаний и временем обучения."
   ]
  },
  {
   "cell_type": "markdown",
   "metadata": {},
   "source": [
    "# План работы\n",
    "\n",
    "1. Знакомство с данными и предобработка - посмотрим, какие данные имеются в нашем распоряжении. Если в данных окажутся дубликаты, пропуски (явные и неявные), аномалии или артефакты, то попробуем их исправить (или удалить).\n",
    "\n",
    "\n",
    "2. Подготовка признаков - определим, какие данные и в каком видем будут переданы в модель. Выберем подходящий способ кодирования признаков. \n",
    "\n",
    "3. Построение модели - сформируем выборки и обучим несколько моделей (логистическую регрессию, случайный лес и модель, работающую по алгоритму градиентного бустинга). Сравним качество предсказаний (метрика качества - RMSE), проведем анализ остатков для лучшей модели.\n",
    "\n",
    "4. Подготовка отчета - сформулируем выводы и оценим результаты работы.\n",
    "\n",
    "***"
   ]
  },
  {
   "cell_type": "markdown",
   "metadata": {},
   "source": [
    "## Импорт библиотек"
   ]
  },
  {
   "cell_type": "code",
   "execution_count": 1,
   "metadata": {},
   "outputs": [
    {
     "name": "stdout",
     "output_type": "stream",
     "text": [
      "Импорт библиотек - ОК\n"
     ]
    }
   ],
   "source": [
    "import pandas as pd\n",
    "import numpy as np\n",
    "import random\n",
    "import matplotlib.pyplot as plt\n",
    "import seaborn as sns\n",
    "\n",
    "import warnings\n",
    "warnings.filterwarnings(action='ignore', category=FutureWarning)\n",
    "\n",
    "import time # импорт библиотеки для подсчета времени исполнения кода\n",
    "\n",
    "from sklearn.model_selection import train_test_split, cross_val_score, RandomizedSearchCV, GridSearchCV\n",
    "\n",
    "# импоритируем структуры данных для постройки базовых моделей\n",
    "from sklearn.linear_model import LinearRegression\n",
    "from sklearn.ensemble import RandomForestRegressor\n",
    "from sklearn.tree import DecisionTreeRegressor\n",
    "from sklearn.dummy import DummyRegressor\n",
    "from sklearn.metrics import mean_squared_error\n",
    "# импортируем структуры данных для кодирования признаков\n",
    "from category_encoders import OrdinalEncoder, TargetEncoder \n",
    "# импорт библиотеки для градиентного бустинга\n",
    "import lightgbm as lgb\n",
    "print('Импорт библиотек - ОК')"
   ]
  },
  {
   "cell_type": "markdown",
   "metadata": {},
   "source": [
    "# Пользовательские функции\n",
    "\n",
    "Объявим пользовательские функции:\n",
    "- **timer** вычисляет скорость работы моделей;\n",
    "- **encoder** кодирует категориальные признаки\n",
    "- **chart_feature_imp** строит график значимости признаков"
   ]
  },
  {
   "cell_type": "code",
   "execution_count": 2,
   "metadata": {},
   "outputs": [],
   "source": [
    "def timer(start, stop):\n",
    "    time = stop - start\n",
    "    m, s = divmod(time, 60)\n",
    "    h, m = divmod(m, 60)\n",
    "    s,m,h = int(round(s, 0)), int(round(m, 0)), int(round(h, 0))\n",
    "    return '{0:02d}:{1:02d}:{2:02d}'.format(h, m, s)"
   ]
  },
  {
   "cell_type": "code",
   "execution_count": 3,
   "metadata": {},
   "outputs": [],
   "source": [
    "# функция encoder принимает на вход категориальные признаки и возвращает их в кодированном виде\n",
    "def encoder(features_train, features_test, target_train):\n",
    "    \n",
    "    # 1\n",
    "    # закодируем порядковые категориальные данные о пробеге с помощью ordinal encoding\n",
    "    # создадим словарь кодирования категорий\n",
    "    oe_mapping = [\n",
    "        {'col':'kilometer',\n",
    "        'mapping': \n",
    "        {5000:1,\n",
    "         10000:2,\n",
    "         20000:3,\n",
    "         30000:4,\n",
    "         40000:5,\n",
    "         50000:6,\n",
    "         60000:7,\n",
    "         70000:8,\n",
    "         80000:9,\n",
    "         90000:10,\n",
    "         100000:11,\n",
    "         125000:12,\n",
    "         150000:13}        \n",
    "        }\n",
    "    ]\n",
    "    # создадим объект структур данных OrdinalEncoder и передаем в него словарь oe_mapping\n",
    "    encoder = OrdinalEncoder(mapping = oe_mapping, return_df = True)  \n",
    "    # закодируем данные о пробеге в обучающей и тестовой выборке\n",
    "    encoded_features_train = encoder.fit_transform(features_train)\n",
    "    encoded_features_test = encoder.transform(features_test)\n",
    "    \n",
    "    # 2\n",
    "    # закодируем номиральные признаки из списка ohe_list методом one-hot encoding\n",
    "    # добавим их к таблицам encoded_data_train, encoded_data_test\n",
    "    ohe_list = ['vehicle_type', 'gearbox', 'fuel_type', 'repaired'] \n",
    "    encoded_features_train = pd.concat([encoded_features_train,\n",
    "                                    pd.get_dummies(encoded_features_train[ohe_list], drop_first=True)], axis=1)\n",
    "    encoded_features_test = pd.concat([encoded_features_test,\n",
    "                                    pd.get_dummies(encoded_features_test[ohe_list], drop_first=True)], axis=1)\n",
    "    \n",
    "    # 3\n",
    "    # закодируем номиральные признаки brand и model с помощью target encoding\n",
    "    encoder = TargetEncoder(cols=['brand', 'model']) \n",
    "    encoded_features_train = encoder.fit_transform(encoded_features_train, target_train)\n",
    "    encoded_features_test = encoder.transform(encoded_features_test)\n",
    "    \n",
    "    # 4\n",
    "    # удалим исходные незакодированные признаки\n",
    "    encoded_features_train = encoded_features_train.drop(ohe_list, axis=1)\n",
    "    encoded_features_test = encoded_features_test.drop(ohe_list, axis=1)\n",
    "    \n",
    "    \n",
    "    return encoded_features_train, encoded_features_test   "
   ]
  },
  {
   "cell_type": "markdown",
   "metadata": {},
   "source": [
    "## Загрузка и знакомство с данными"
   ]
  },
  {
   "cell_type": "code",
   "execution_count": 4,
   "metadata": {},
   "outputs": [
    {
     "name": "stdout",
     "output_type": "stream",
     "text": [
      "Данные загружены.\n",
      "Количество объектов - 354369, количество признаков - 16.\n",
      "Дата последней выгрузки данных: 2016-04-07 14:36:58\n"
     ]
    }
   ],
   "source": [
    "try:\n",
    "    df = pd.read_csv('autos.csv')\n",
    "    print('Данные загружены.')\n",
    "    print(f'Количество объектов - {df.shape[0]}, количество признаков - {df.shape[1]}.')\n",
    "    print('Дата последней выгрузки данных:', df['DateCrawled'].max())\n",
    "except:\n",
    "    print('Указан некорректный путь к датасету или не подгружены библиотека pandas')"
   ]
  },
  {
   "cell_type": "code",
   "execution_count": 5,
   "metadata": {
    "scrolled": false
   },
   "outputs": [
    {
     "name": "stdout",
     "output_type": "stream",
     "text": [
      "<class 'pandas.core.frame.DataFrame'>\n",
      "RangeIndex: 354369 entries, 0 to 354368\n",
      "Data columns (total 16 columns):\n",
      " #   Column             Non-Null Count   Dtype \n",
      "---  ------             --------------   ----- \n",
      " 0   DateCrawled        354369 non-null  object\n",
      " 1   Price              354369 non-null  int64 \n",
      " 2   VehicleType        316879 non-null  object\n",
      " 3   RegistrationYear   354369 non-null  int64 \n",
      " 4   Gearbox            334536 non-null  object\n",
      " 5   Power              354369 non-null  int64 \n",
      " 6   Model              334664 non-null  object\n",
      " 7   Kilometer          354369 non-null  int64 \n",
      " 8   RegistrationMonth  354369 non-null  int64 \n",
      " 9   FuelType           321474 non-null  object\n",
      " 10  Brand              354369 non-null  object\n",
      " 11  Repaired           283215 non-null  object\n",
      " 12  DateCreated        354369 non-null  object\n",
      " 13  NumberOfPictures   354369 non-null  int64 \n",
      " 14  PostalCode         354369 non-null  int64 \n",
      " 15  LastSeen           354369 non-null  object\n",
      "dtypes: int64(7), object(9)\n",
      "memory usage: 43.3+ MB\n"
     ]
    }
   ],
   "source": [
    "df.info()"
   ]
  },
  {
   "cell_type": "markdown",
   "metadata": {},
   "source": [
    "Категориальные признаки:\n",
    "- `VehicleType` — тип автомобильного кузова;\n",
    "- `Gearbox` — тип коробки передач;\n",
    "- `Model` — модель автомобиля;\n",
    "- `FuelType` — тип топлива;\n",
    "- `RegistrationMonth` — месяц регистрации автомобиля;\n",
    "- `Brand` — марка автомобиля;\n",
    "- `Repaired` — была машина в ремонте или нет;\n",
    "- `PostalCode` — почтовый индекс владельца анкеты (пользователя);\n",
    "- `Kilometer` — пробег (км)\n",
    "\n",
    "Численные признаки:\n",
    "- `RegistrationYear` — год регистрации автомобиля;\n",
    "- `Power` — мощность (л. с.);\n",
    "- `NumberOfPictures` — количество фотографий автомобиля;\n",
    "\n",
    "Временные метки:\n",
    "- `DateCrawled` — дата скачивания анкеты из базы;\n",
    "- `DateCreated` — дата создания анкеты;\n",
    "- `LastSeen` — дата последней активности пользователя\n",
    "\n",
    "Целевой признак:\n",
    "- `Price` — цена (в евро)"
   ]
  },
  {
   "cell_type": "markdown",
   "metadata": {},
   "source": [
    "**Наблюдения** \n",
    "\n",
    "- Последние данные были выгружены из базы в апреле 2016 года.\n",
    "- Среди признаков присутсвуют как категориальные, так и численные переменные.\n",
    "- В данных есть пропуски. Больше всего - в колонке `Repaired` (была машина в ремонте или нет). Возможно ряд пользователей заполняли эту графу только в случае, если машина была в ремонта.\n",
    "- Признаки, содержащие временные метки (`DateCrawled`, `DateCreated`, `LastSeen`), можно сразу исключить из таблицы. Для прогнозирования автомобиля они не пригодятся. \n",
    "- Данные о месяце регистрации автомобиля (при наличие данных о годе регистрации) представляются излишними. Признак `RegistrationMonth` можно исключить.\n",
    "- Судя по описанию данных, `PostalCode` - это почтовый индекс пользователя. Значит ли это, что автомобиль находится там же? Важны ли эти данные?"
   ]
  },
  {
   "cell_type": "markdown",
   "metadata": {},
   "source": [
    "## Подготовка данных"
   ]
  },
  {
   "cell_type": "markdown",
   "metadata": {},
   "source": [
    "### Первичная обработка признаков\n",
    "\n",
    "Начнем с опеределения мусорных признаков, которые не нужно передавать в модель.\n",
    "\n",
    "- Посмотрим на содержание колонки `PostalCode`. Цена на автомобили указаны в евро. Можно предположить, что все пользователи разместившие объявления, находятся в Европе. Проверив несколько случайных почтовых индексов и посмотрев их географическую привязку, удалось установлить, что почтовые индексы не уникальные даже на территории Европы. Например, индекс 34385 может принадлежать как Германии, так и Индонезии, Израилю, Максике, Южной Корее, Турции и Украине. Следовательно интерпретировать почтовый индекс пользователя, как место хранения автомобиля, не получится. Значит пользы от этих данных нет - удалим колонку `PostalCode`.\n",
    "\n",
    "- Будем считать, что дата публикации объявления, активность пользователя и дата выгрузки данных не влияют на оценку стоимости автомобиля, - исключим из признаков временные метки `DateCrawled`, `DateCreated`, `LastSeen`.\n",
    "\n",
    "- Для оценки возраста автомобиля достаточно года регистрации - исключим колонку `RegistrationMonth`."
   ]
  },
  {
   "cell_type": "code",
   "execution_count": 6,
   "metadata": {},
   "outputs": [],
   "source": [
    "df = df.drop(columns=['DateCrawled', 'DateCreated', 'LastSeen', 'PostalCode', 'RegistrationMonth'])"
   ]
  },
  {
   "cell_type": "markdown",
   "metadata": {},
   "source": [
    "\n",
    "\n",
    "\n",
    "Можно предположить, что продавая машину \"по-дешёвке\" пользователь не будет утруждать себя подготовкой большого количества фотографий и наоборот. Посмотрим на данные в колонке `NumberOfPictures`."
   ]
  },
  {
   "cell_type": "code",
   "execution_count": 7,
   "metadata": {},
   "outputs": [
    {
     "data": {
      "text/plain": [
       "0    354369\n",
       "Name: NumberOfPictures, dtype: int64"
      ]
     },
     "execution_count": 7,
     "metadata": {},
     "output_type": "execute_result"
    }
   ],
   "source": [
    "df['NumberOfPictures'].value_counts()"
   ]
  },
  {
   "cell_type": "markdown",
   "metadata": {},
   "source": [
    "Фотографий нет. Вероятно при выгрузке произошлка какая-то ошибка и все данные обнулились - от колонки `NumberOfPictures` можно избавиться."
   ]
  },
  {
   "cell_type": "code",
   "execution_count": 8,
   "metadata": {},
   "outputs": [],
   "source": [
    "df = df.drop(columns=['NumberOfPictures'])"
   ]
  },
  {
   "cell_type": "markdown",
   "metadata": {},
   "source": [
    "Мы избавились от мусорной информации. Теперь приведем названия колонок к \"змеиному\" регистру для удобства дальнейшей работы."
   ]
  },
  {
   "cell_type": "code",
   "execution_count": 9,
   "metadata": {},
   "outputs": [],
   "source": [
    "# переведем весь штриф в нижний регистр\n",
    "df.columns = df.columns.str.lower()\n",
    "# расставим пробелы\n",
    "df.rename(columns=\n",
    "          {'vehicletype':'vehicle_type',\n",
    "           'registrationyear': 'registration_year',\n",
    "           'fueltype':'fuel_type', \n",
    "           'Repaired':'repaired'}, inplace=True)"
   ]
  },
  {
   "cell_type": "code",
   "execution_count": 10,
   "metadata": {},
   "outputs": [
    {
     "name": "stdout",
     "output_type": "stream",
     "text": [
      "Наименования колонок отредактированы.\n"
     ]
    },
    {
     "data": {
      "text/plain": [
       "Index(['price', 'vehicle_type', 'registration_year', 'gearbox', 'power',\n",
       "       'model', 'kilometer', 'fuel_type', 'brand', 'repaired'],\n",
       "      dtype='object')"
      ]
     },
     "execution_count": 10,
     "metadata": {},
     "output_type": "execute_result"
    }
   ],
   "source": [
    "print('Наименования колонок отредактированы.')\n",
    "df.columns"
   ]
  },
  {
   "cell_type": "markdown",
   "metadata": {},
   "source": [
    "### Обработка дубликатов"
   ]
  },
  {
   "cell_type": "code",
   "execution_count": 11,
   "metadata": {
    "scrolled": true
   },
   "outputs": [
    {
     "name": "stdout",
     "output_type": "stream",
     "text": [
      "Количество полных дубликатов строк в таблице: 45040\n"
     ]
    }
   ],
   "source": [
    "print('Количество полных дубликатов строк в таблице:', df.duplicated().sum())"
   ]
  },
  {
   "cell_type": "markdown",
   "metadata": {},
   "source": [
    "После удаления временнных меток стало видно, что 12% данных - дубликаты. Похоже, что система позволяла пользователям размещать одно и то же объявление многократно. Удалим повторы."
   ]
  },
  {
   "cell_type": "code",
   "execution_count": 12,
   "metadata": {},
   "outputs": [],
   "source": [
    "# удалим дубликаты и сбросим индексы\n",
    "df = df.drop_duplicates().reset_index(drop=True)"
   ]
  },
  {
   "cell_type": "markdown",
   "metadata": {},
   "source": [
    "### Обработка аномалий и пропусков"
   ]
  },
  {
   "cell_type": "markdown",
   "metadata": {},
   "source": [
    "#### Дата регистрации автомобиля\n",
    "Исследуем данные о времени регистрации автомобиля. Посление данные были выгружены из базы в апреле 2016. Это значит, что все значения даты регистрации автомобилей позже 2016 года - ошибочны. По диаграмме размаха определим нижнюю границу выбросов в колонке `registration_year`."
   ]
  },
  {
   "cell_type": "code",
   "execution_count": 13,
   "metadata": {
    "scrolled": false
   },
   "outputs": [
    {
     "data": {
      "image/png": "[encoded data removed]",
      "text/plain": [
       "<Figure size 800x200 with 1 Axes>"
      ]
     },
     "metadata": {},
     "output_type": "display_data"
    }
   ],
   "source": [
    "plt.subplots(figsize=(8, 2))\n",
    "sns.boxplot(data=df, x='registration_year', width=0.5, color='lightgray', showmeans=True, showfliers=True, orient='h')\n",
    "plt.title('')\n",
    "plt.grid(True)\n",
    "plt.title('Размах значений года регистрации автомобиля')\n",
    "plt.xlabel('')\n",
    "plt.xlim(1980, 2020);"
   ]
  },
  {
   "cell_type": "markdown",
   "metadata": {},
   "source": [
    "Нижняя граница выбросов - 1986 год."
   ]
  },
  {
   "cell_type": "code",
   "execution_count": 14,
   "metadata": {
    "scrolled": true
   },
   "outputs": [
    {
     "name": "stdout",
     "output_type": "stream",
     "text": [
      "Доля аномальных значений - 6%\n"
     ]
    }
   ],
   "source": [
    "# подсчитаем долю записей с годом регистрации автомобиля до 1986 или после 2016\n",
    "print('Доля аномальных значений -','{:.0%}'.format(\n",
    "    len(df[(df['registration_year'] < 1986) | (df['registration_year'] > 2016)]) / len(df)\n",
    "       ))"
   ]
  },
  {
   "cell_type": "markdown",
   "metadata": {},
   "source": [
    "Удалим аномальные записи."
   ]
  },
  {
   "cell_type": "code",
   "execution_count": 15,
   "metadata": {},
   "outputs": [],
   "source": [
    "df = df[(df['registration_year'] > 1985) & (df['registration_year'] < 2017)]"
   ]
  },
  {
   "cell_type": "markdown",
   "metadata": {},
   "source": [
    "#### Тип коробки передач\n",
    "С этим данными все в порядке. Пропуски уместно заполнить значением `unknown`."
   ]
  },
  {
   "cell_type": "code",
   "execution_count": 16,
   "metadata": {},
   "outputs": [
    {
     "name": "stdout",
     "output_type": "stream",
     "text": [
      "Варианты коробоки передач: ['manual' 'auto' nan]\n"
     ]
    }
   ],
   "source": [
    "print('Варианты коробоки передач:', df['gearbox'].unique())"
   ]
  },
  {
   "cell_type": "code",
   "execution_count": 17,
   "metadata": {},
   "outputs": [],
   "source": [
    "df['gearbox'] = df['gearbox'].fillna('unknown')"
   ]
  },
  {
   "cell_type": "markdown",
   "metadata": {},
   "source": [
    "#### Мощность автомобилей"
   ]
  },
  {
   "cell_type": "code",
   "execution_count": 18,
   "metadata": {},
   "outputs": [
    {
     "data": {
      "image/png": "[encoded data removed]",
      "text/plain": [
       "<Figure size 800x200 with 1 Axes>"
      ]
     },
     "metadata": {},
     "output_type": "display_data"
    }
   ],
   "source": [
    "plt.subplots(figsize=(8, 2))\n",
    "sns.boxplot(data=df, x='power', width=0.5, color='lightgray', showmeans=True, showfliers=False, orient='h')\n",
    "plt.grid(True)\n",
    "plt.title('Размах значений мощности автомобилей')\n",
    "plt.xlabel('hp');"
   ]
  },
  {
   "cell_type": "code",
   "execution_count": 19,
   "metadata": {
    "scrolled": true
   },
   "outputs": [
    {
     "name": "stdout",
     "output_type": "stream",
     "text": [
      "Доля автомобилей с мощностью больше 250 hp - 2.23%\n",
      "Доля автомобилей с мощностью меньше 70 hp - 24.39%\n"
     ]
    }
   ],
   "source": [
    "print('Доля автомобилей с мощностью больше 250 hp -','{:.2%}'.format(\n",
    "    len(df[df['power']>250]) / len(df)\n",
    "       ))\n",
    "print('Доля автомобилей с мощностью меньше 70 hp -','{:.2%}'.format(\n",
    "    len(df[df['power']<70]) / len(df)\n",
    "       ))"
   ]
  },
  {
   "cell_type": "markdown",
   "metadata": {},
   "source": [
    "За границами \"усов\" графика отказались записи об автомобилях мощностью более 250 л.с. Расширим этот диапазон до 500 л.с., чтобы учесть мощные серийные автомобили. Остальное будем считать выбросами и избавимся от них."
   ]
  },
  {
   "cell_type": "code",
   "execution_count": 20,
   "metadata": {},
   "outputs": [],
   "source": [
    "df = df[df['power'] <= 500]"
   ]
  },
  {
   "cell_type": "markdown",
   "metadata": {},
   "source": [
    "Четверть записей содержат необычно низкие значения мощности. Посмотрим на распределение этих данных."
   ]
  },
  {
   "cell_type": "code",
   "execution_count": 21,
   "metadata": {},
   "outputs": [
    {
     "data": {
      "image/png": "[encoded data removed]",
      "text/plain": [
       "<Figure size 640x480 with 1 Axes>"
      ]
     },
     "metadata": {},
     "output_type": "display_data"
    }
   ],
   "source": [
    "df[df['power'] < 70]['power'].hist(bins = 20, color='gray')\n",
    "plt.title('Распределение мощности автомобилей')\n",
    "plt.xlabel('hp')\n",
    "plt.ylabel('');"
   ]
  },
  {
   "cell_type": "markdown",
   "metadata": {},
   "source": [
    "Нулевое значение в данных о мощности двигателя - это пропуск, обозначенный константой. Единичные значения ниже 40 hp выглядят неправдоподобно. Предположим, что эти данные ошибочны,и попробуем их исправить. Для этого найдем найдем похожие автомобили (той же марки и модели) и воспользуемся медианным значеним мощности для каждой группы."
   ]
  },
  {
   "cell_type": "code",
   "execution_count": 22,
   "metadata": {},
   "outputs": [
    {
     "name": "stdout",
     "output_type": "stream",
     "text": [
      "Доля аномальных записей после обработки - 0.09%\n"
     ]
    }
   ],
   "source": [
    "# сгрупируем записи по колонкам brand, model\n",
    "# и заменим нули в колонке power медианными значениями\n",
    "df.loc[df['power'] < 40, 'power'] = (\n",
    "    df.groupby(['brand','model'])['power'].transform('median')\n",
    ")\n",
    "\n",
    "print('Доля аномальных записей после обработки -', '{:.2%}'.format(len(df[df['power'] < 40]) / len(df)))"
   ]
  },
  {
   "cell_type": "markdown",
   "metadata": {},
   "source": [
    "Указанный подход позволил нам свести случаи пропусков (нулей) в колонке `power` к единичным - удалим их."
   ]
  },
  {
   "cell_type": "code",
   "execution_count": 23,
   "metadata": {},
   "outputs": [],
   "source": [
    "# обновим набор данных, исключив мусорные записи\n",
    "df = df.loc[df['power'] >= 40]"
   ]
  },
  {
   "cell_type": "markdown",
   "metadata": {},
   "source": [
    "#### Марки и модели автомобилей \n",
    "В данных есть записи об автомобилях, содержащие только наименование марки. В таких случаях будет уместно заполнить пропуски в указании конкретных моделей значением `unknown`."
   ]
  },
  {
   "cell_type": "code",
   "execution_count": 24,
   "metadata": {},
   "outputs": [
    {
     "name": "stdout",
     "output_type": "stream",
     "text": [
      "Количестов уникальных марков автомобилей - 40\n",
      "Пропусков в данных - 0\n",
      "Количестов уникальных моделей автомобилей - 248\n",
      "Пропусков в данных - 10600\n"
     ]
    }
   ],
   "source": [
    "print('Количестов уникальных марков автомобилей -', len(df['brand'].unique()))\n",
    "print('Пропусков в данных -', df['brand'].isna().sum())\n",
    "print('Количестов уникальных моделей автомобилей -', len(df['model'].unique()))\n",
    "print('Пропусков в данных -', df['model'].isna().sum())"
   ]
  },
  {
   "cell_type": "code",
   "execution_count": 25,
   "metadata": {},
   "outputs": [],
   "source": [
    "df['model'] = df['model'].fillna('unknown')"
   ]
  },
  {
   "cell_type": "markdown",
   "metadata": {},
   "source": [
    "#### Пробег\n",
    "Данные о пребеге записаны в виде интервалов. Это значит, что признак `kilometer` не численный, а категориальный (порядковый). Аномальных значений пробега нет."
   ]
  },
  {
   "cell_type": "code",
   "execution_count": 26,
   "metadata": {},
   "outputs": [
    {
     "data": {
      "text/plain": [
       "150000    188618\n",
       "125000     30751\n",
       "100000     12260\n",
       "90000       9801\n",
       "80000       8481\n",
       "70000       7368\n",
       "60000       6202\n",
       "50000       5226\n",
       "40000       4114\n",
       "5000        4105\n",
       "30000       3645\n",
       "20000       3205\n",
       "10000        883\n",
       "Name: kilometer, dtype: int64"
      ]
     },
     "execution_count": 26,
     "metadata": {},
     "output_type": "execute_result"
    }
   ],
   "source": [
    "df['kilometer'].value_counts()"
   ]
  },
  {
   "cell_type": "markdown",
   "metadata": {},
   "source": [
    "#### Тип топлива"
   ]
  },
  {
   "cell_type": "code",
   "execution_count": 27,
   "metadata": {},
   "outputs": [
    {
     "data": {
      "text/plain": [
       "petrol      175838\n",
       "gasoline     81452\n",
       "lpg           4651\n",
       "cng            492\n",
       "hybrid         210\n",
       "other           87\n",
       "electric        64\n",
       "Name: fuel_type, dtype: int64"
      ]
     },
     "execution_count": 27,
     "metadata": {},
     "output_type": "execute_result"
    }
   ],
   "source": [
    "df['fuel_type'].value_counts()"
   ]
  },
  {
   "cell_type": "markdown",
   "metadata": {},
   "source": [
    "В Англии стандартное топливо для ДВС назвывают petrol, в США - gasoline. Уницифируем эти два термина - benzine."
   ]
  },
  {
   "cell_type": "code",
   "execution_count": 28,
   "metadata": {},
   "outputs": [],
   "source": [
    "# заменим petrol/gasoline в колонке fuel_type на benzine\n",
    "df.loc[(df['fuel_type'] == 'petrol') | (df['fuel_type'] == 'gasoline'), 'fuel_type'] = 'benzine'"
   ]
  },
  {
   "cell_type": "markdown",
   "metadata": {},
   "source": [
    "Пропуски в колонке `fuel_type` будет уместно заполнить значением `unknown`."
   ]
  },
  {
   "cell_type": "code",
   "execution_count": 29,
   "metadata": {},
   "outputs": [],
   "source": [
    "df['fuel_type'] = df['fuel_type'].fillna('unknown')"
   ]
  },
  {
   "cell_type": "markdown",
   "metadata": {},
   "source": [
    "#### Записи о ремонтах"
   ]
  },
  {
   "cell_type": "code",
   "execution_count": 30,
   "metadata": {},
   "outputs": [
    {
     "name": "stdout",
     "output_type": "stream",
     "text": [
      "Варианты записей о ремонтах: [nan 'yes' 'no']\n"
     ]
    }
   ],
   "source": [
    "print('Варианты записей о ремонтах:', df['repaired'].unique())"
   ]
  },
  {
   "cell_type": "markdown",
   "metadata": {},
   "source": [
    "В колонке `repaired` аномальных значений нет. Предположим, что пропуски в этой колонке означают, что машина не была в ремонте, и заполним их значением `no`."
   ]
  },
  {
   "cell_type": "code",
   "execution_count": 31,
   "metadata": {},
   "outputs": [],
   "source": [
    "# заполним пропуски в данных о ремонте    \n",
    "df['repaired'] = df['repaired'].fillna('no')"
   ]
  },
  {
   "cell_type": "markdown",
   "metadata": {},
   "source": [
    "#### Цены на автомобили"
   ]
  },
  {
   "cell_type": "code",
   "execution_count": 32,
   "metadata": {},
   "outputs": [
    {
     "data": {
      "image/png": "[encoded data removed]",
      "text/plain": [
       "<Figure size 800x200 with 1 Axes>"
      ]
     },
     "metadata": {},
     "output_type": "display_data"
    }
   ],
   "source": [
    "plt.subplots(figsize=(8, 2))\n",
    "sns.boxplot(data=df, x='price', width=0.5, color='lightgray', showmeans=True, showfliers=False, orient='h')\n",
    "plt.grid(True)\n",
    "plt.title('Диапазон цен на автомобили')\n",
    "plt.xlabel('Цена');"
   ]
  },
  {
   "cell_type": "markdown",
   "metadata": {},
   "source": [
    "Четверть набора данных - это записи об автомобилях дешевле 1000 евро. Посмотрим на распределение цен в этом диапазоне."
   ]
  },
  {
   "cell_type": "code",
   "execution_count": 33,
   "metadata": {
    "scrolled": false
   },
   "outputs": [
    {
     "data": {
      "image/png": "[encoded data removed]",
      "text/plain": [
       "<Figure size 640x480 with 1 Axes>"
      ]
     },
     "metadata": {},
     "output_type": "display_data"
    }
   ],
   "source": [
    "df[df['price'] < 1000]['price'].hist(bins = 20, color='gray')\n",
    "plt.title('Распределение цен на автомобили')\n",
    "plt.xlabel('Цена')\n",
    "plt.ylabel('');"
   ]
  },
  {
   "cell_type": "markdown",
   "metadata": {},
   "source": [
    "Много \"бесплатных\" автомобилей - в данных какая-то ошибка. Кроме того, немало записей о явно неадектно низкой стоимости. Эмпирически установим минимальную стоимость самого \"убитого\" автомобиля в 200 евро (по цене автолома) и исключим все записи о более дешевых автомобилях. Будем считать, что автомобиль в состоянии \"на 200 евро\" не будут продавать по объявлению, а сдадут в металлолом."
   ]
  },
  {
   "cell_type": "code",
   "execution_count": 34,
   "metadata": {},
   "outputs": [],
   "source": [
    "# отфильтруем записи о слишком дешевых автомобилях\n",
    "df = df[df['price'] >= 200]"
   ]
  },
  {
   "cell_type": "markdown",
   "metadata": {},
   "source": [
    "#### Тип кузова\n",
    "Все значения колонки `vehicle_type` адекватные."
   ]
  },
  {
   "cell_type": "code",
   "execution_count": 35,
   "metadata": {
    "scrolled": true
   },
   "outputs": [
    {
     "name": "stdout",
     "output_type": "stream",
     "text": [
      "Варианты типов кузова: [nan 'coupe' 'suv' 'small' 'sedan' 'convertible' 'bus' 'wagon' 'other']\n",
      "Доля пропусков - 5%\n"
     ]
    }
   ],
   "source": [
    "print('Варианты типов кузова:', df['vehicle_type'].unique())\n",
    "print('Доля пропусков -', '{:.0%}'.format(df['vehicle_type'].isna().mean()))"
   ]
  },
  {
   "cell_type": "markdown",
   "metadata": {},
   "source": [
    "Заполним пропуски в колонке `vehicle_type` самым распространенным типов кузова для каждой марки автомобиля."
   ]
  },
  {
   "cell_type": "code",
   "execution_count": 36,
   "metadata": {},
   "outputs": [],
   "source": [
    "# заполним пропуски в данных о типе кузова самым частым значеним\n",
    "# довим условие, чтобы избежать ошибки при отсутсвии пропусков в группах\n",
    "\n",
    "df['vehicle_type'] = df['vehicle_type'].fillna(\n",
    "    df.groupby(['brand','model'])['vehicle_type'].transform(\n",
    "        lambda x: x.mode()[0] if not x.mode().empty else np.nan)\n",
    ")"
   ]
  },
  {
   "cell_type": "code",
   "execution_count": 37,
   "metadata": {},
   "outputs": [
    {
     "name": "stdout",
     "output_type": "stream",
     "text": [
      "Количество пропусков в данных после обработки - 0\n"
     ]
    }
   ],
   "source": [
    "print('Количество пропусков в данных после обработки -', df.isna().sum().sum())"
   ]
  },
  {
   "cell_type": "markdown",
   "metadata": {},
   "source": [
    "Обработка аномалий и пропусков завершена."
   ]
  },
  {
   "cell_type": "markdown",
   "metadata": {},
   "source": [
    "### Подготовка выборок\n",
    "Отделим тестовую выборку в размере 25% данных."
   ]
  },
  {
   "cell_type": "code",
   "execution_count": 38,
   "metadata": {},
   "outputs": [],
   "source": [
    "target = df['price']\n",
    "features = df.drop(['price'] , axis=1)\n",
    "features_train, features_test, target_train, target_test = train_test_split(\n",
    "    features, target, test_size=0.25, random_state=12345)"
   ]
  },
  {
   "cell_type": "markdown",
   "metadata": {},
   "source": [
    "### Кодирование признаков\n",
    "\n",
    "Условие заказчика - выдержать баланс между качеством, скоростью предсказаний и временем обучения модели. Изучив признаки, в настоящем исследовании поступим так:\n",
    "\n",
    "- Для кодирования номинальных признаков при сравнительно малом разнообразии значений используем **One-Hot Encoding**. Простой и понятный метод, не создающий ложных зависимостей между закодированными значениями признаков. Применим этот метод к колонкам `vehicle_type`, `gearbox`, `fuel_type`, `repaired`.\n",
    "\n",
    "- Там, где применение One-Hot Encoding невозможно из-за чрезмерного увеличения объема наших данных (при кодирования номинальных признаков при широком разнообразии значений) используем **Target encoding** - закодируем категории, используя данные о значении целевого признака внутри кодируемой переменной. Обучающая и тестовая выборка разделены случайным образом, следовательно и распределения значений признаков в них должны быть похожи. Такой прием установит связь между целевым признаком и кодируемой категорией. Применим этот метод к колонкам `model`, `brand`.   \n",
    "\n",
    "- Для кодирования порядковых признаков используем **Ordinal encoding**, составив вручную словарь кодировки для сохранения существующих зависимостей в данных. Применим этот метод к колонке `kilometer`, в которой записаны данные о интервалах пробега.\n",
    "\n",
    "- Численные признаками `registration_year`, `power` оставим без обработки.\n",
    "\n",
    "Закодируем признаки обучающей и тестовой выборки с помощью пользовательской функции **encoder**."
   ]
  },
  {
   "cell_type": "code",
   "execution_count": 39,
   "metadata": {},
   "outputs": [
    {
     "name": "stdout",
     "output_type": "stream",
     "text": [
      "Размерность матрицы исходных признаков - 9\n",
      "Размерность матрицы закодированных признаков - 21\n"
     ]
    }
   ],
   "source": [
    "encoded_features_train, encoded_features_test = encoder(features_train, features_test, target_train)\n",
    "print(f'Размерность матрицы исходных признаков - {features_train.shape[1]}')\n",
    "print(f'Размерность матрицы закодированных признаков - {encoded_features_train.shape[1]}')"
   ]
  },
  {
   "cell_type": "markdown",
   "metadata": {},
   "source": [
    "Признаки обучающей и тестовой выборки закодированы и подготовлены для передачи в модель."
   ]
  },
  {
   "cell_type": "markdown",
   "metadata": {},
   "source": [
    "## Обучение моделей\n",
    "\n",
    "Проведем эксперимент и сравним качество предсказаний моделей, работающих по алгоритму линейной регрессии, случайного леса и градиентного бустинга. Метрика качества - среднеквадратичная ошибка **RMSE**. Обучать модели будем методом кросс-валидации.\n",
    "\n",
    "В качестве точки отсчета и меры адекватности рабочих моделей возьмем предсказания наивной модели, которая всегда предсказывает среднее значение целевого признака."
   ]
  },
  {
   "cell_type": "code",
   "execution_count": 62,
   "metadata": {},
   "outputs": [
    {
     "name": "stdout",
     "output_type": "stream",
     "text": [
      "Наивная модель.\n",
      "Контрольное значение RMSE: 4591\n"
     ]
    }
   ],
   "source": [
    "# инициируем наивную модель\n",
    "dummy = DummyRegressor(strategy='mean')\n",
    "dummy.fit(encoded_features_train, target_train)\n",
    "dummy_pred = dummy.predict(encoded_features_test)\n",
    "\n",
    "print(f'Наивная модель.\\nКонтрольное значение RMSE: \\\n",
    "{int(mean_squared_error(target_test, dummy_pred, squared=False))}')"
   ]
  },
  {
   "cell_type": "code",
   "execution_count": 41,
   "metadata": {},
   "outputs": [],
   "source": [
    "# соберем сравнительную таблицу models, в которую будем записывать характеристики моделей\n",
    "\n",
    "models = pd.DataFrame(index = ['lr', 'rf', 'lgbm'],\n",
    "                      data = {'RMSE' : [0, 0, 0],\n",
    "                      'training_time' : [0, 0, 0],\n",
    "                      'prediction_time' : [0, 0, 0],\n",
    "                      'parameters' : ['', '', '']})"
   ]
  },
  {
   "cell_type": "markdown",
   "metadata": {},
   "source": [
    "### Линейная регрессия"
   ]
  },
  {
   "cell_type": "code",
   "execution_count": 42,
   "metadata": {
    "scrolled": true
   },
   "outputs": [
    {
     "name": "stdout",
     "output_type": "stream",
     "text": [
      "Алгоритм линейной регрессии.\n",
      "Кросс-валидация.\n",
      "RMSE: 2686\n"
     ]
    }
   ],
   "source": [
    "# инициируем и обучим модель\n",
    "lr = LinearRegression()\n",
    "# значения полученных методом кросс-валидации метрик RMSE запишем в scores\n",
    "lr_scores = cross_val_score(lr, encoded_features_train, target_train, scoring='neg_root_mean_squared_error', cv=5, n_jobs=-1)\n",
    "print(f'Алгоритм линейной регрессии.\\nКросс-валидация.\\nRMSE: {int(abs(lr_scores.mean()))}')\n",
    "\n",
    "# измеряем время обучения фиксируем его в таблице\n",
    "start = time.time() \n",
    "lr.fit(encoded_features_train, target_train)\n",
    "stop = time.time() \n",
    "\n",
    "models.loc['lr','training_time'] = timer(start, stop)"
   ]
  },
  {
   "cell_type": "markdown",
   "metadata": {},
   "source": [
    "### Cлучайный лес"
   ]
  },
  {
   "cell_type": "code",
   "execution_count": 43,
   "metadata": {
    "scrolled": true
   },
   "outputs": [
    {
     "name": "stdout",
     "output_type": "stream",
     "text": [
      "Алгоритм случайного леса.\n",
      "Выбор гиперпараметров методовRandomizedSearchCV.\n",
      "RMSE: 1621.62\n",
      "Глубина дерева: 20\n",
      "Количество деревьев: 80\n",
      "CPU times: total: 2min 26s\n",
      "Wall time: 10min 33s\n"
     ]
    }
   ],
   "source": [
    "%%time\n",
    "# установим диапазон перебора гиперпараметров\n",
    "parametrs = {'n_estimators': range(20, 100, 10), 'max_depth': range(15, 50, 5)}\n",
    "\n",
    "# инициируем модель\n",
    "rf = RandomizedSearchCV(\n",
    "    RandomForestRegressor(random_state=12345), param_distributions=parametrs,\n",
    "    scoring='neg_root_mean_squared_error', n_iter=10, cv=3, n_jobs=-1)\n",
    "\n",
    "# выбираем гиперпараметры\n",
    "rf.fit(encoded_features_train, target_train)\n",
    "\n",
    "print('Алгоритм случайного леса.\\nВыбор гиперпараметров методовRandomizedSearchCV.')\n",
    "print(f'RMSE: {abs(rf.best_score_):.2f}')\n",
    "print('Глубина дерева:', rf.best_params_.get('max_depth'))\n",
    "print('Количество деревьев:', rf.best_params_.get('n_estimators'))\n",
    "\n",
    "# измеряем время обучения лучшей модели\n",
    "start = time.time() \n",
    "rf.best_estimator_.fit(encoded_features_train, target_train)\n",
    "stop = time.time()\n",
    "\n",
    "# записываем в сравнительную таблицу время обучение и параметры модели\n",
    "models.loc['rf','training_time'] = timer(start, stop)\n",
    "models.loc['rf','parameters'] = str(rf.best_params_)"
   ]
  },
  {
   "cell_type": "markdown",
   "metadata": {},
   "source": [
    "### Градиентный бустинг\n",
    "#### LightGBM\n",
    "Средствами библиотеки **LightGBM** реализуем алгоритм градиентного бустинга на решающих деревьях. Для регуляризации алгоритма будем изменять значения скорости обучения `learning_rate`, максимальной глубины деревьев `max_depth`, количества моделей в ансамбле `n_estimators` и доли признаков `colsample_bytree`, передаваемых в каждое дерево.\n",
    "\n",
    "Модель LGBMRegressor принимает в том числе не кодированные признаками. Проведем эксперимент и определим, как изменится ошибка предсказаний на обучающей выборке, если передать в модель исходные признаки `vehicle_type`, `gearbox`, `category`, `model`, `category`, `fuel_type`, `brand`, `repaired`. "
   ]
  },
  {
   "cell_type": "code",
   "execution_count": 78,
   "metadata": {
    "scrolled": false
   },
   "outputs": [
    {
     "name": "stdout",
     "output_type": "stream",
     "text": [
      "Алгоритм градиентного бустинга.\n",
      "RMSE модели, обученной на кодированных признаках: 1570\n",
      "RMSE модели, обученной на сырых признаках: 1560\n",
      "Ошибка модели, работающей с сырыми данными, ниже.\n",
      "\n",
      "Гиперпараметры лучшей модели.\n",
      "Количество моделей в ансамбле: 300\n",
      "Размер подвыборки: 1\n",
      "Максимальная глубина дерева: 20\n",
      "Скорость обучения: 0.2\n",
      "CPU times: total: 37.3 s\n",
      "Wall time: 11min 16s\n"
     ]
    }
   ],
   "source": [
    "%%time\n",
    "print('Алгоритм градиентного бустинга.')\n",
    "# установим диапазон перебора гиперпараметров\n",
    "parametrs = {'learning_rate': [0.1, 0.2, 0.3],\n",
    "             'max_depth': [2, 10, 20],\n",
    "             'n_estimators': [100, 200, 300],\n",
    "             'colsample_bytree': [0.7, 0.8, 1],}\n",
    "  \n",
    "# инициируем метод GridSearch\n",
    "lgbm_gs = GridSearchCV(\n",
    "    lgb.LGBMRegressor(random_state=12345), param_grid=parametrs,\n",
    "    scoring='neg_root_mean_squared_error', cv=3, n_jobs=-1)\n",
    " \n",
    "# выбираем гиперпараметры модели на кодированных признаках\n",
    "encoded_gs = lgbm_gs.fit(encoded_features_train, target_train)\n",
    "print('RMSE модели, обученной на кодированных признаках:', int(abs(encoded_gs.best_score_)))\n",
    "\n",
    "# размечаем категориальные признаки\n",
    "raw_features_train = features_train.astype({\n",
    "    'vehicle_type':'category',\n",
    "    'gearbox':'category',\n",
    "    'model':'category',\n",
    "    'fuel_type':'category',\n",
    "    'brand':'category',\n",
    "    'repaired':'category'})\n",
    "# выбираем гиперпараметры модели на сырых признаках\n",
    "raw_gs = lgbm_gs.fit(raw_features_train, target_train)\n",
    "print('RMSE модели, обученной на сырых признаках:', int(abs(raw_gs.best_score_)))\n",
    "\n",
    "if abs(encoded_gs.best_score_) < abs(raw_gs.best_score_):\n",
    "    print('Ошибка модели, работающей с заранее закодированными данными, ниже.')\n",
    "    # измеряем время обучения лучшей модели\n",
    "    start = time.time() \n",
    "    encoded_gs.best_estimator_.fit(encoded_features_train, target_train)\n",
    "    stop = time.time()\n",
    "    # записываем в сравнительную таблицу время обучение и параметры модели\n",
    "    models.loc['lgbm','training_time'] = timer(start, stop)\n",
    "    models.loc['lgbm','parameters'] = str(encoded_booster.best_params_)\n",
    "    # записываем результат работы метода GridSearch в переменную result\n",
    "    result = encoded_gs\n",
    "else:\n",
    "    print('Ошибка модели, работающей с сырыми данными, ниже.')\n",
    "    # измеряем время обучения лучшей модели\n",
    "    start = time.time() \n",
    "    raw_gs.best_estimator_.fit(raw_features_train, target_train)\n",
    "    stop = time.time()\n",
    "    # записываем в сравнительную таблицу время обучение и параметры модели\n",
    "    models.loc['lgbm','training_time'] = timer(start, stop)\n",
    "    models.loc['lgbm','parameters'] = str(raw_booster.best_params_)\n",
    "    # записываем результат работы метода GridSearch в переменную result\n",
    "    result = raw_gs\n",
    "    \n",
    "print('\\nГиперпараметры лучшей модели.')\n",
    "print('Количество моделей в ансамбле:', result.best_params_.get('n_estimators'))\n",
    "print('Размер подвыборки:', result.best_params_.get('colsample_bytree'))\n",
    "print('Максимальная глубина дерева:', result.best_params_.get('max_depth'))\n",
    "print('Скорость обучения:', result.best_params_.get('learning_rate'))\n",
    "\n",
    "# запишем лучшую модель в переменную booster\n",
    "booster = result.best_estimator_"
   ]
  },
  {
   "cell_type": "markdown",
   "metadata": {},
   "source": [
    "Модели обучены. На валидационной выборке лучшие результаты показала модель, работающая по алгоритму градиентного бустинга. Метрики качества предсказаний моделей, обученных на сырых признаках и кодированных внучную признаков, отличаются менее, чем на 1% - кодировать признаки вручную нецелесообразно."
   ]
  },
  {
   "cell_type": "markdown",
   "metadata": {},
   "source": [
    "## Тестирование моделей\n",
    "Сравним качество и скорость их работы обученных моделей на тестовой выборке."
   ]
  },
  {
   "cell_type": "code",
   "execution_count": 103,
   "metadata": {},
   "outputs": [],
   "source": [
    "# запишем в сравнительную таблицу полученные на тестовой выборке значения RMSE\n",
    "# и скорости предсказания обученных моделей \n",
    "model_list = [lr, rf.best_estimator_]\n",
    "# линейную регрессию и случайный лес протестируем на закодированных вручную данных\n",
    "for i, model in enumerate(model_list):\n",
    "    start = time.time() \n",
    "    models.iloc[i, models.columns.get_loc('RMSE')] = int(mean_squared_error(target_test,\n",
    "                                                                            model.predict(encoded_features_test),\n",
    "                                                                            squared=False))\n",
    "    stop = time.time()\n",
    "    models.iloc[i, models.columns.get_loc('prediction_time')] = timer(start, stop)"
   ]
  },
  {
   "cell_type": "code",
   "execution_count": 111,
   "metadata": {
    "scrolled": true
   },
   "outputs": [],
   "source": [
    "# градиентный бустинг протестируем на сырых данных\n",
    "raw_features_test = features_test.astype({'vehicle_type':'category',\n",
    "                                          'gearbox':'category',\n",
    "                                          'model':'category',\n",
    "                                          'fuel_type':'category',\n",
    "                                          'brand':'category',\n",
    "                                          'repaired':'category'})\n",
    "start = time.time()\n",
    "predictions = booster.predict(raw_features_test)\n",
    "stop = time.time()\n",
    "\n",
    "# запишем данные в таблицу                         \n",
    "models.loc['lgbm', 'RMSE'] = int(mean_squared_error(target_test, predictions, squared=False))\n",
    "models.loc['lgbm', 'prediction_time'] = timer(start, stop)"
   ]
  },
  {
   "cell_type": "code",
   "execution_count": 112,
   "metadata": {
    "scrolled": false
   },
   "outputs": [
    {
     "data": {
      "text/html": [
       "<div>\n",
       "<style scoped>\n",
       "    .dataframe tbody tr th:only-of-type {\n",
       "        vertical-align: middle;\n",
       "    }\n",
       "\n",
       "    .dataframe tbody tr th {\n",
       "        vertical-align: top;\n",
       "    }\n",
       "\n",
       "    .dataframe thead th {\n",
       "        text-align: right;\n",
       "    }\n",
       "</style>\n",
       "<table border=\"1\" class=\"dataframe\">\n",
       "  <thead>\n",
       "    <tr style=\"text-align: right;\">\n",
       "      <th></th>\n",
       "      <th>RMSE</th>\n",
       "      <th>training_time</th>\n",
       "      <th>prediction_time</th>\n",
       "      <th>parameters</th>\n",
       "    </tr>\n",
       "  </thead>\n",
       "  <tbody>\n",
       "    <tr>\n",
       "      <th>lgbm</th>\n",
       "      <td>1546</td>\n",
       "      <td>00:00:03</td>\n",
       "      <td>00:00:01</td>\n",
       "      <td>{'colsample_bytree': 0.7, 'learning_rate': 0.2...</td>\n",
       "    </tr>\n",
       "    <tr>\n",
       "      <th>rf</th>\n",
       "      <td>1589</td>\n",
       "      <td>00:01:16</td>\n",
       "      <td>00:00:02</td>\n",
       "      <td>{'n_estimators': 80, 'max_depth': 20}</td>\n",
       "    </tr>\n",
       "    <tr>\n",
       "      <th>lr</th>\n",
       "      <td>2683</td>\n",
       "      <td>00:00:00</td>\n",
       "      <td>00:00:00</td>\n",
       "      <td></td>\n",
       "    </tr>\n",
       "  </tbody>\n",
       "</table>\n",
       "</div>"
      ],
      "text/plain": [
       "      RMSE training_time prediction_time  \\\n",
       "lgbm  1546      00:00:03        00:00:01   \n",
       "rf    1589      00:01:16        00:00:02   \n",
       "lr    2683      00:00:00        00:00:00   \n",
       "\n",
       "                                             parameters  \n",
       "lgbm  {'colsample_bytree': 0.7, 'learning_rate': 0.2...  \n",
       "rf                {'n_estimators': 80, 'max_depth': 20}  \n",
       "lr                                                       "
      ]
     },
     "execution_count": 112,
     "metadata": {},
     "output_type": "execute_result"
    }
   ],
   "source": [
    "models.sort_values(by='RMSE')"
   ]
  },
  {
   "cell_type": "markdown",
   "metadata": {},
   "source": [
    "Тестирование показало, что среднеквадратичная ошибка предсказаний модели, обученной по алгоритму градиентного бустинга и работающей на сырых данных, ниже, чем у моделей, обученных по алгоритму случайного леса или линейной регрессии и работающих с вручную закондированными данными. Скорость предсказаний обученных моделей одинакова - они быстрые."
   ]
  },
  {
   "cell_type": "markdown",
   "metadata": {},
   "source": [
    "## Оценка характеристик итоговой модели\n",
    "Определим признаки, которые являются самыми важными для LGBM-модели в задаче оценки автомобиля."
   ]
  },
  {
   "cell_type": "code",
   "execution_count": 113,
   "metadata": {
    "scrolled": false
   },
   "outputs": [
    {
     "data": {
      "image/png": "[encoded data removed]",
      "text/plain": [
       "<Figure size 800x400 with 1 Axes>"
      ]
     },
     "metadata": {},
     "output_type": "display_data"
    }
   ],
   "source": [
    "# визуализируем показатели важности признаков, обратившись к атрибуту feature_importances_\n",
    "model_importances = pd.Series(booster.feature_importances_,\n",
    "                              index=features_test.columns).sort_values(ascending=False)\n",
    "\n",
    "std = np.std([booster.feature_importances_ for tree in str(1000)], axis=0)\n",
    "\n",
    "fig, ax = plt.subplots(figsize=(8,4))\n",
    "model_importances.plot.bar(std, ax=ax, color='gray')\n",
    "\n",
    "ax.set_title('Оценка значимости признаков')\n",
    "ax.set_ylabel('MDI')\n",
    "fig.tight_layout()"
   ]
  },
  {
   "cell_type": "markdown",
   "metadata": {},
   "source": [
    "Ключевые признаки, на которые ориентируется лидирующая модель **LGBMRegressor**, - это модель, мощность и год регистрации автомобиля. Наименее значимый признак - это тип топлива и факт ремонта. Можно предположить, что качество предсказаний улучшиться, если исключить малозначимые признаки и проверить оставшиеся на мультиколлинеарность. \n",
    "\n",
    "Визуально оценим величину остатков, где модель чаще всего ошибается и в каких случаях выдает наиболее точный результат. Для анализа выберем три наиболее значимых численных характеристики: мощность, год регистрации и пробег."
   ]
  },
  {
   "cell_type": "code",
   "execution_count": 125,
   "metadata": {},
   "outputs": [],
   "source": [
    "# значения остатков запишем в переменную residuals\n",
    "residuals = target_test - predictions"
   ]
  },
  {
   "cell_type": "code",
   "execution_count": 197,
   "metadata": {
    "scrolled": true
   },
   "outputs": [
    {
     "data": {
      "image/png": "[encoded data removed]",
      "text/plain": [
       "<Figure size 1600x500 with 3 Axes>"
      ]
     },
     "metadata": {},
     "output_type": "display_data"
    }
   ],
   "source": [
    "fig = plt.figure(figsize=(16, 5))\n",
    "for i, feature in enumerate(['power', 'registration_year', 'kilometer']):\n",
    "    fig.add_subplot(1, 3, i+1)\n",
    "    plt.scatter(features_test[feature], residuals, color='red', alpha=0.25, linewidths=0.1)\n",
    "    plt.yticks([0])\n",
    "    plt.ylabel('Остатки регрессии')\n",
    "    plt.xticks(rotation='vertical')\n",
    "    plt.title(feature)\n",
    "    plt.grid(visible=True, axis='y', color='black')\n",
    "    plt.tight_layout()"
   ]
  },
  {
   "cell_type": "markdown",
   "metadata": {},
   "source": [
    "На графиках остатков видно, что модель чаще и значительнее ошибается в предсказании рыночной цены автомобилей в следующих случаях:\n",
    "- мощность автомобиля в диапазоне от 100 до 200 hp (переоценка и недооценка равновероятны);\n",
    "- пробег автомобиля меньше 20000 км или больше 140000.\n",
    "\n",
    "Кроме того, модель ошибается в сторону переоценки для автомобилей старше 2000 года."
   ]
  },
  {
   "cell_type": "markdown",
   "metadata": {},
   "source": [
    "## Общий вывод\n",
    "\n",
    "Цель проекта достигнута. В ходе исследования были построены, обучены и протестированы модели машинного обученя, работающие по алгоритмам линейной регресси, случайного леса, а также ансамбль решающих деревьев, реализующий градиентный бустинг. \n",
    "\n",
    "С учетом точности и скорость работы к внедрению рекомендуется модель LMGBRegressor с RMSE 1546, принимающая на вход некодированных признаки.\n",
    "\n",
    "Предсказания модели могут быть улучшены следующим образом:\n",
    "- исключением малозначимых признаков: типа топлива, типа кузова и отметки ремонта;\n",
    "- отбором ведущих признаков путем проверки на мультиколлинеарность;\n",
    "- генерацией новых признаков, упрощающих работу модели (например категоризировать данные о годе регистрации автомобиля на насколько групп)."
   ]
  }
 ],
 "metadata": {
  "ExecuteTimeLog": [
   {
    "duration": 3,
    "start_time": "2022-05-19T11:56:55.515Z"
   },
   {
    "duration": 2,
    "start_time": "2022-05-19T11:57:51.775Z"
   },
   {
    "duration": 791,
    "start_time": "2022-05-19T11:57:51.811Z"
   },
   {
    "duration": 13,
    "start_time": "2022-05-19T11:57:52.604Z"
   },
   {
    "duration": 4,
    "start_time": "2022-05-19T11:58:05.645Z"
   },
   {
    "duration": 5,
    "start_time": "2022-05-19T11:59:20.798Z"
   },
   {
    "duration": 4,
    "start_time": "2022-05-19T12:00:20.672Z"
   },
   {
    "duration": 132,
    "start_time": "2022-05-19T12:00:51.895Z"
   },
   {
    "duration": 74,
    "start_time": "2022-05-19T12:01:16.809Z"
   },
   {
    "duration": 127,
    "start_time": "2022-05-19T12:01:21.873Z"
   },
   {
    "duration": 782,
    "start_time": "2022-05-19T12:01:51.544Z"
   },
   {
    "duration": 3,
    "start_time": "2022-05-19T12:02:58.321Z"
   },
   {
    "duration": 161,
    "start_time": "2022-05-19T12:23:28.352Z"
   },
   {
    "duration": 132,
    "start_time": "2022-05-19T12:58:27.591Z"
   },
   {
    "duration": 156,
    "start_time": "2022-05-19T12:58:35.113Z"
   },
   {
    "duration": 123,
    "start_time": "2022-05-19T12:58:43.179Z"
   },
   {
    "duration": 123,
    "start_time": "2022-05-19T12:59:18.794Z"
   },
   {
    "duration": 193,
    "start_time": "2022-05-19T12:59:38.051Z"
   },
   {
    "duration": 40,
    "start_time": "2022-05-19T12:59:58.539Z"
   },
   {
    "duration": 40,
    "start_time": "2022-05-19T13:00:09.227Z"
   },
   {
    "duration": 202,
    "start_time": "2022-05-19T13:00:13.435Z"
   },
   {
    "duration": 125,
    "start_time": "2022-05-19T13:00:54.711Z"
   },
   {
    "duration": 441,
    "start_time": "2022-05-20T05:44:00.626Z"
   },
   {
    "duration": 2855,
    "start_time": "2022-05-20T05:44:01.069Z"
   },
   {
    "duration": 29,
    "start_time": "2022-05-20T05:44:03.925Z"
   },
   {
    "duration": 3,
    "start_time": "2022-05-20T05:44:03.956Z"
   },
   {
    "duration": 131,
    "start_time": "2022-05-20T05:44:03.960Z"
   },
   {
    "duration": 122,
    "start_time": "2022-05-20T05:44:04.093Z"
   },
   {
    "duration": 256,
    "start_time": "2022-05-20T05:44:04.216Z"
   },
   {
    "duration": 69,
    "start_time": "2022-05-20T05:57:38.563Z"
   },
   {
    "duration": 37,
    "start_time": "2022-05-20T05:57:45.659Z"
   },
   {
    "duration": 27,
    "start_time": "2022-05-20T05:57:49.075Z"
   },
   {
    "duration": 31,
    "start_time": "2022-05-20T05:58:09.684Z"
   },
   {
    "duration": 4,
    "start_time": "2022-05-20T06:12:23.254Z"
   },
   {
    "duration": 15,
    "start_time": "2022-05-20T06:59:54.201Z"
   },
   {
    "duration": 39,
    "start_time": "2022-05-20T07:22:27.328Z"
   },
   {
    "duration": 33,
    "start_time": "2022-05-20T07:22:29.840Z"
   },
   {
    "duration": 28,
    "start_time": "2022-05-20T07:24:21.024Z"
   },
   {
    "duration": 16,
    "start_time": "2022-05-20T08:05:01.675Z"
   },
   {
    "duration": 19,
    "start_time": "2022-05-20T08:05:23.782Z"
   },
   {
    "duration": 48,
    "start_time": "2022-05-20T08:05:35.998Z"
   },
   {
    "duration": 3,
    "start_time": "2022-05-20T08:06:02.658Z"
   },
   {
    "duration": 16,
    "start_time": "2022-05-20T08:06:06.417Z"
   },
   {
    "duration": 11,
    "start_time": "2022-05-20T08:06:25.239Z"
   },
   {
    "duration": 14,
    "start_time": "2022-05-20T08:06:29.836Z"
   },
   {
    "duration": 10,
    "start_time": "2022-05-20T08:06:34.857Z"
   },
   {
    "duration": 10,
    "start_time": "2022-05-20T08:06:37.711Z"
   },
   {
    "duration": 8,
    "start_time": "2022-05-20T08:09:34.517Z"
   },
   {
    "duration": 3,
    "start_time": "2022-05-20T08:09:39.115Z"
   },
   {
    "duration": 3,
    "start_time": "2022-05-20T08:25:18.979Z"
   },
   {
    "duration": 7,
    "start_time": "2022-05-20T08:26:26.581Z"
   },
   {
    "duration": 95,
    "start_time": "2022-05-20T08:26:46.527Z"
   },
   {
    "duration": 32,
    "start_time": "2022-05-20T08:42:59.897Z"
   },
   {
    "duration": 20,
    "start_time": "2022-05-20T08:43:04.866Z"
   },
   {
    "duration": 6,
    "start_time": "2022-05-20T08:48:08.982Z"
   },
   {
    "duration": 4,
    "start_time": "2022-05-20T08:52:41.179Z"
   },
   {
    "duration": 8,
    "start_time": "2022-05-20T08:55:38.878Z"
   },
   {
    "duration": 9,
    "start_time": "2022-05-20T08:55:56.999Z"
   },
   {
    "duration": 6,
    "start_time": "2022-05-20T08:56:02.679Z"
   },
   {
    "duration": 6,
    "start_time": "2022-05-20T08:56:14.763Z"
   },
   {
    "duration": 8,
    "start_time": "2022-05-20T08:56:24.935Z"
   },
   {
    "duration": 3,
    "start_time": "2022-05-20T09:40:10.366Z"
   },
   {
    "duration": 4130,
    "start_time": "2022-05-20T09:40:10.384Z"
   },
   {
    "duration": 18,
    "start_time": "2022-05-20T09:40:14.516Z"
   },
   {
    "duration": 55,
    "start_time": "2022-05-20T09:40:14.536Z"
   },
   {
    "duration": 222,
    "start_time": "2022-05-20T09:40:14.594Z"
   },
   {
    "duration": 91,
    "start_time": "2022-05-20T09:40:14.818Z"
   },
   {
    "duration": 13,
    "start_time": "2022-05-20T09:41:01.267Z"
   },
   {
    "duration": 21,
    "start_time": "2022-05-20T09:41:16.849Z"
   },
   {
    "duration": 15,
    "start_time": "2022-05-20T09:41:20.863Z"
   },
   {
    "duration": 6,
    "start_time": "2022-05-20T09:51:44.183Z"
   },
   {
    "duration": 7,
    "start_time": "2022-05-20T09:51:54.439Z"
   },
   {
    "duration": 8,
    "start_time": "2022-05-20T09:52:24.183Z"
   },
   {
    "duration": 3,
    "start_time": "2022-05-20T09:58:19.508Z"
   },
   {
    "duration": 1009,
    "start_time": "2022-05-20T09:58:19.529Z"
   },
   {
    "duration": 16,
    "start_time": "2022-05-20T09:58:20.541Z"
   },
   {
    "duration": 5,
    "start_time": "2022-05-20T09:58:20.559Z"
   },
   {
    "duration": 167,
    "start_time": "2022-05-20T09:58:20.566Z"
   },
   {
    "duration": 73,
    "start_time": "2022-05-20T09:58:20.735Z"
   },
   {
    "duration": 9,
    "start_time": "2022-05-20T09:58:20.810Z"
   },
   {
    "duration": 55,
    "start_time": "2022-05-20T09:58:20.821Z"
   },
   {
    "duration": 12,
    "start_time": "2022-05-20T09:58:20.878Z"
   },
   {
    "duration": 5,
    "start_time": "2022-05-20T10:00:06.472Z"
   },
   {
    "duration": 6,
    "start_time": "2022-05-20T10:00:08.878Z"
   },
   {
    "duration": 20,
    "start_time": "2022-05-20T10:00:15.975Z"
   },
   {
    "duration": 14,
    "start_time": "2022-05-20T10:00:24.859Z"
   },
   {
    "duration": 22,
    "start_time": "2022-05-20T10:09:57.896Z"
   },
   {
    "duration": 20,
    "start_time": "2022-05-20T10:14:03.267Z"
   },
   {
    "duration": 47,
    "start_time": "2022-05-20T10:14:57.592Z"
   },
   {
    "duration": 45,
    "start_time": "2022-05-20T10:15:14.276Z"
   },
   {
    "duration": 45,
    "start_time": "2022-05-20T10:15:27.428Z"
   },
   {
    "duration": 34,
    "start_time": "2022-05-20T10:16:15.479Z"
   },
   {
    "duration": 40,
    "start_time": "2022-05-20T10:16:21.563Z"
   },
   {
    "duration": 252,
    "start_time": "2022-05-20T10:17:51.681Z"
   },
   {
    "duration": 46,
    "start_time": "2022-05-20T10:18:30.554Z"
   },
   {
    "duration": 237,
    "start_time": "2022-05-20T10:21:48.619Z"
   },
   {
    "duration": 217,
    "start_time": "2022-05-20T10:33:20.198Z"
   },
   {
    "duration": 250,
    "start_time": "2022-05-20T10:33:29.037Z"
   },
   {
    "duration": 267,
    "start_time": "2022-05-20T10:34:47.367Z"
   },
   {
    "duration": 30,
    "start_time": "2022-05-20T10:35:14.073Z"
   },
   {
    "duration": 23,
    "start_time": "2022-05-20T10:36:44.468Z"
   },
   {
    "duration": 12,
    "start_time": "2022-05-20T10:38:20.405Z"
   },
   {
    "duration": 5,
    "start_time": "2022-05-20T10:38:53.803Z"
   },
   {
    "duration": 6,
    "start_time": "2022-05-20T10:38:55.742Z"
   },
   {
    "duration": 3,
    "start_time": "2022-05-20T10:39:14.911Z"
   },
   {
    "duration": 850,
    "start_time": "2022-05-20T10:39:14.960Z"
   },
   {
    "duration": 13,
    "start_time": "2022-05-20T10:39:15.812Z"
   },
   {
    "duration": 5,
    "start_time": "2022-05-20T10:39:15.827Z"
   },
   {
    "duration": 162,
    "start_time": "2022-05-20T10:39:15.842Z"
   },
   {
    "duration": 45,
    "start_time": "2022-05-20T10:39:16.006Z"
   },
   {
    "duration": 9,
    "start_time": "2022-05-20T10:39:16.052Z"
   },
   {
    "duration": 25,
    "start_time": "2022-05-20T10:39:16.064Z"
   },
   {
    "duration": 6,
    "start_time": "2022-05-20T10:39:16.091Z"
   },
   {
    "duration": 7,
    "start_time": "2022-05-20T10:39:16.098Z"
   },
   {
    "duration": 50,
    "start_time": "2022-05-20T10:39:16.107Z"
   },
   {
    "duration": 221,
    "start_time": "2022-05-20T10:39:16.160Z"
   },
   {
    "duration": 278,
    "start_time": "2022-05-20T10:39:16.382Z"
   },
   {
    "duration": 29,
    "start_time": "2022-05-20T10:39:16.662Z"
   },
   {
    "duration": 19,
    "start_time": "2022-05-20T10:39:16.693Z"
   },
   {
    "duration": 5,
    "start_time": "2022-05-20T10:39:16.713Z"
   },
   {
    "duration": 54,
    "start_time": "2022-05-20T10:39:29.409Z"
   },
   {
    "duration": 32,
    "start_time": "2022-05-20T10:39:38.974Z"
   },
   {
    "duration": 79,
    "start_time": "2022-05-20T10:39:41.705Z"
   },
   {
    "duration": 8,
    "start_time": "2022-05-20T10:39:46.717Z"
   },
   {
    "duration": 8,
    "start_time": "2022-05-20T10:39:51.561Z"
   },
   {
    "duration": 695,
    "start_time": "2022-05-20T10:40:15.614Z"
   },
   {
    "duration": 7,
    "start_time": "2022-05-20T10:40:24.997Z"
   },
   {
    "duration": 10,
    "start_time": "2022-05-20T10:43:12.816Z"
   },
   {
    "duration": 10,
    "start_time": "2022-05-20T10:43:27.825Z"
   },
   {
    "duration": 37,
    "start_time": "2022-05-20T10:43:57.974Z"
   },
   {
    "duration": 14,
    "start_time": "2022-05-20T10:44:24.759Z"
   },
   {
    "duration": 13,
    "start_time": "2022-05-20T10:44:30.610Z"
   },
   {
    "duration": 68,
    "start_time": "2022-05-20T10:44:39.139Z"
   },
   {
    "duration": 16,
    "start_time": "2022-05-20T10:44:42.605Z"
   },
   {
    "duration": 11,
    "start_time": "2022-05-20T10:47:40.409Z"
   },
   {
    "duration": 100,
    "start_time": "2022-05-20T10:47:47.608Z"
   },
   {
    "duration": 12,
    "start_time": "2022-05-20T10:47:53.304Z"
   },
   {
    "duration": 31,
    "start_time": "2022-05-20T10:48:38.882Z"
   },
   {
    "duration": 9,
    "start_time": "2022-05-20T10:49:21.669Z"
   },
   {
    "duration": 14,
    "start_time": "2022-05-20T10:49:35.765Z"
   },
   {
    "duration": 82,
    "start_time": "2022-05-20T10:50:47.483Z"
   },
   {
    "duration": 70,
    "start_time": "2022-05-20T10:50:51.232Z"
   },
   {
    "duration": 44,
    "start_time": "2022-05-20T10:50:59.491Z"
   },
   {
    "duration": 67,
    "start_time": "2022-05-20T10:51:14.297Z"
   },
   {
    "duration": 90,
    "start_time": "2022-05-20T10:51:52.139Z"
   },
   {
    "duration": 8,
    "start_time": "2022-05-20T10:53:57.568Z"
   },
   {
    "duration": 6,
    "start_time": "2022-05-20T10:54:02.573Z"
   },
   {
    "duration": 63,
    "start_time": "2022-05-20T10:54:34.028Z"
   },
   {
    "duration": 6,
    "start_time": "2022-05-20T10:54:51.525Z"
   },
   {
    "duration": 31,
    "start_time": "2022-05-20T10:58:45.279Z"
   },
   {
    "duration": 18,
    "start_time": "2022-05-20T10:59:42.670Z"
   },
   {
    "duration": 15,
    "start_time": "2022-05-20T11:02:28.973Z"
   },
   {
    "duration": 11,
    "start_time": "2022-05-20T11:04:11.960Z"
   },
   {
    "duration": 12,
    "start_time": "2022-05-20T11:04:29.355Z"
   },
   {
    "duration": 13,
    "start_time": "2022-05-20T11:04:31.669Z"
   },
   {
    "duration": 3,
    "start_time": "2022-05-20T11:46:27.824Z"
   },
   {
    "duration": 3,
    "start_time": "2022-05-20T11:49:51.782Z"
   },
   {
    "duration": 1987,
    "start_time": "2022-05-20T11:49:51.821Z"
   },
   {
    "duration": 12,
    "start_time": "2022-05-20T11:49:53.810Z"
   },
   {
    "duration": 8,
    "start_time": "2022-05-20T11:49:53.823Z"
   },
   {
    "duration": 159,
    "start_time": "2022-05-20T11:49:53.833Z"
   },
   {
    "duration": 26,
    "start_time": "2022-05-20T11:49:53.994Z"
   },
   {
    "duration": 7,
    "start_time": "2022-05-20T11:49:54.021Z"
   },
   {
    "duration": 41,
    "start_time": "2022-05-20T11:49:54.029Z"
   },
   {
    "duration": 9,
    "start_time": "2022-05-20T11:49:54.074Z"
   },
   {
    "duration": 5,
    "start_time": "2022-05-20T11:49:54.085Z"
   },
   {
    "duration": 13,
    "start_time": "2022-05-20T11:49:54.092Z"
   },
   {
    "duration": 211,
    "start_time": "2022-05-20T11:49:54.106Z"
   },
   {
    "duration": 273,
    "start_time": "2022-05-20T11:49:54.318Z"
   },
   {
    "duration": 28,
    "start_time": "2022-05-20T11:49:54.594Z"
   },
   {
    "duration": 44,
    "start_time": "2022-05-20T11:49:54.623Z"
   },
   {
    "duration": 15,
    "start_time": "2022-05-20T11:49:54.677Z"
   },
   {
    "duration": 5,
    "start_time": "2022-05-20T11:49:54.694Z"
   },
   {
    "duration": 23,
    "start_time": "2022-05-20T11:49:54.700Z"
   },
   {
    "duration": 17,
    "start_time": "2022-05-20T11:49:54.725Z"
   },
   {
    "duration": 48,
    "start_time": "2022-05-20T11:49:54.743Z"
   },
   {
    "duration": 3,
    "start_time": "2022-05-20T11:49:54.793Z"
   },
   {
    "duration": 18,
    "start_time": "2022-05-20T11:49:54.798Z"
   },
   {
    "duration": 919,
    "start_time": "2022-05-20T11:49:54.818Z"
   },
   {
    "duration": 0,
    "start_time": "2022-05-20T11:49:55.739Z"
   },
   {
    "duration": 0,
    "start_time": "2022-05-20T11:49:55.741Z"
   },
   {
    "duration": 4,
    "start_time": "2022-05-20T11:50:25.666Z"
   },
   {
    "duration": 1023,
    "start_time": "2022-05-20T11:50:25.686Z"
   },
   {
    "duration": 13,
    "start_time": "2022-05-20T11:50:26.712Z"
   },
   {
    "duration": 10,
    "start_time": "2022-05-20T11:50:26.727Z"
   },
   {
    "duration": 315,
    "start_time": "2022-05-20T11:50:26.739Z"
   },
   {
    "duration": 52,
    "start_time": "2022-05-20T11:50:27.059Z"
   },
   {
    "duration": 8,
    "start_time": "2022-05-20T11:50:27.115Z"
   },
   {
    "duration": 37,
    "start_time": "2022-05-20T11:50:27.124Z"
   },
   {
    "duration": 4,
    "start_time": "2022-05-20T11:50:27.163Z"
   },
   {
    "duration": 34,
    "start_time": "2022-05-20T11:50:27.169Z"
   },
   {
    "duration": 24,
    "start_time": "2022-05-20T11:50:27.209Z"
   },
   {
    "duration": 293,
    "start_time": "2022-05-20T11:50:27.235Z"
   },
   {
    "duration": 303,
    "start_time": "2022-05-20T11:50:27.530Z"
   },
   {
    "duration": 51,
    "start_time": "2022-05-20T11:50:27.834Z"
   },
   {
    "duration": 44,
    "start_time": "2022-05-20T11:50:27.887Z"
   },
   {
    "duration": 11,
    "start_time": "2022-05-20T11:50:27.932Z"
   },
   {
    "duration": 41,
    "start_time": "2022-05-20T11:50:27.958Z"
   },
   {
    "duration": 23,
    "start_time": "2022-05-20T11:50:28.001Z"
   },
   {
    "duration": 22,
    "start_time": "2022-05-20T11:50:28.025Z"
   },
   {
    "duration": 53,
    "start_time": "2022-05-20T11:50:28.052Z"
   },
   {
    "duration": 4,
    "start_time": "2022-05-20T11:50:28.107Z"
   },
   {
    "duration": 18,
    "start_time": "2022-05-20T11:50:28.112Z"
   },
   {
    "duration": 960,
    "start_time": "2022-05-20T11:50:28.132Z"
   },
   {
    "duration": 0,
    "start_time": "2022-05-20T11:50:29.094Z"
   },
   {
    "duration": 0,
    "start_time": "2022-05-20T11:50:29.096Z"
   },
   {
    "duration": 1137,
    "start_time": "2022-05-20T11:53:21.574Z"
   },
   {
    "duration": 166,
    "start_time": "2022-05-20T11:53:30.363Z"
   },
   {
    "duration": 8,
    "start_time": "2022-05-20T11:54:29.519Z"
   },
   {
    "duration": 10,
    "start_time": "2022-05-20T11:54:43.775Z"
   },
   {
    "duration": 7,
    "start_time": "2022-05-20T11:55:28.929Z"
   },
   {
    "duration": 13,
    "start_time": "2022-05-20T11:55:32.757Z"
   },
   {
    "duration": 70,
    "start_time": "2022-05-20T11:57:36.889Z"
   },
   {
    "duration": 3,
    "start_time": "2022-05-20T11:57:56.712Z"
   },
   {
    "duration": 959,
    "start_time": "2022-05-20T11:57:56.730Z"
   },
   {
    "duration": 13,
    "start_time": "2022-05-20T11:57:57.691Z"
   },
   {
    "duration": 5,
    "start_time": "2022-05-20T11:57:57.705Z"
   },
   {
    "duration": 187,
    "start_time": "2022-05-20T11:57:57.712Z"
   },
   {
    "duration": 114,
    "start_time": "2022-05-20T11:57:57.902Z"
   },
   {
    "duration": 49,
    "start_time": "2022-05-20T11:57:58.018Z"
   },
   {
    "duration": 8,
    "start_time": "2022-05-20T11:57:58.073Z"
   },
   {
    "duration": 20,
    "start_time": "2022-05-20T11:57:58.083Z"
   },
   {
    "duration": 4,
    "start_time": "2022-05-20T11:57:58.104Z"
   },
   {
    "duration": 5,
    "start_time": "2022-05-20T11:57:58.110Z"
   },
   {
    "duration": 43,
    "start_time": "2022-05-20T11:57:58.116Z"
   },
   {
    "duration": 212,
    "start_time": "2022-05-20T11:57:58.169Z"
   },
   {
    "duration": 221,
    "start_time": "2022-05-20T11:57:58.383Z"
   },
   {
    "duration": 27,
    "start_time": "2022-05-20T11:57:58.607Z"
   },
   {
    "duration": 50,
    "start_time": "2022-05-20T11:57:58.642Z"
   },
   {
    "duration": 6,
    "start_time": "2022-05-20T11:57:58.694Z"
   },
   {
    "duration": 5,
    "start_time": "2022-05-20T11:57:58.702Z"
   },
   {
    "duration": 19,
    "start_time": "2022-05-20T11:57:58.709Z"
   },
   {
    "duration": 22,
    "start_time": "2022-05-20T11:57:58.730Z"
   },
   {
    "duration": 185,
    "start_time": "2022-05-20T11:57:58.754Z"
   },
   {
    "duration": 179,
    "start_time": "2022-05-20T11:57:58.943Z"
   },
   {
    "duration": 4,
    "start_time": "2022-05-20T11:57:59.123Z"
   },
   {
    "duration": 40,
    "start_time": "2022-05-20T11:57:59.140Z"
   },
   {
    "duration": 774,
    "start_time": "2022-05-20T11:57:59.182Z"
   },
   {
    "duration": 0,
    "start_time": "2022-05-20T11:57:59.958Z"
   },
   {
    "duration": 0,
    "start_time": "2022-05-20T11:57:59.960Z"
   },
   {
    "duration": 288,
    "start_time": "2022-05-20T12:02:59.392Z"
   },
   {
    "duration": 175,
    "start_time": "2022-05-20T12:03:07.459Z"
   },
   {
    "duration": 227,
    "start_time": "2022-05-20T12:03:10.681Z"
   },
   {
    "duration": 4,
    "start_time": "2022-05-20T12:09:01.890Z"
   },
   {
    "duration": 312,
    "start_time": "2022-05-20T12:10:52.831Z"
   },
   {
    "duration": 1542,
    "start_time": "2022-05-20T12:11:02.014Z"
   },
   {
    "duration": 1597,
    "start_time": "2022-05-20T12:11:11.393Z"
   },
   {
    "duration": 291,
    "start_time": "2022-05-20T12:11:26.313Z"
   },
   {
    "duration": 1718,
    "start_time": "2022-05-20T12:11:29.409Z"
   },
   {
    "duration": 2012,
    "start_time": "2022-05-20T12:11:37.519Z"
   },
   {
    "duration": 2379,
    "start_time": "2022-05-20T12:11:50.842Z"
   },
   {
    "duration": 1971,
    "start_time": "2022-05-20T12:11:56.817Z"
   },
   {
    "duration": 972,
    "start_time": "2022-05-20T12:12:15.193Z"
   },
   {
    "duration": 155,
    "start_time": "2022-05-20T12:12:34.372Z"
   },
   {
    "duration": 703,
    "start_time": "2022-05-20T12:12:40.938Z"
   },
   {
    "duration": 22385,
    "start_time": "2022-05-20T12:12:50.427Z"
   },
   {
    "duration": 31,
    "start_time": "2022-05-20T12:14:12.980Z"
   },
   {
    "duration": 6,
    "start_time": "2022-05-20T12:14:33.882Z"
   },
   {
    "duration": 20,
    "start_time": "2022-05-20T12:15:02.205Z"
   },
   {
    "duration": 14,
    "start_time": "2022-05-20T12:23:46.997Z"
   },
   {
    "duration": 560,
    "start_time": "2022-05-20T12:24:23.661Z"
   },
   {
    "duration": 17,
    "start_time": "2022-05-20T12:25:23.369Z"
   },
   {
    "duration": 26,
    "start_time": "2022-05-20T12:25:32.243Z"
   },
   {
    "duration": 21,
    "start_time": "2022-05-20T12:25:36.282Z"
   },
   {
    "duration": 11,
    "start_time": "2022-05-20T12:25:40.897Z"
   },
   {
    "duration": 9,
    "start_time": "2022-05-20T12:25:45.814Z"
   },
   {
    "duration": 9,
    "start_time": "2022-05-20T12:26:31.508Z"
   },
   {
    "duration": 935,
    "start_time": "2022-05-20T17:52:01.907Z"
   },
   {
    "duration": 1335,
    "start_time": "2022-05-20T17:52:02.844Z"
   },
   {
    "duration": 19,
    "start_time": "2022-05-20T17:52:04.181Z"
   },
   {
    "duration": 4,
    "start_time": "2022-05-20T17:52:04.202Z"
   },
   {
    "duration": 172,
    "start_time": "2022-05-20T17:52:04.210Z"
   },
   {
    "duration": 115,
    "start_time": "2022-05-20T17:52:04.385Z"
   },
   {
    "duration": 28,
    "start_time": "2022-05-20T17:52:04.501Z"
   },
   {
    "duration": 11,
    "start_time": "2022-05-20T17:52:04.531Z"
   },
   {
    "duration": 44,
    "start_time": "2022-05-20T17:52:04.543Z"
   },
   {
    "duration": 23,
    "start_time": "2022-05-20T17:52:04.589Z"
   },
   {
    "duration": 19,
    "start_time": "2022-05-20T17:52:04.614Z"
   },
   {
    "duration": 29,
    "start_time": "2022-05-20T17:52:04.635Z"
   },
   {
    "duration": 257,
    "start_time": "2022-05-20T17:52:04.669Z"
   },
   {
    "duration": 299,
    "start_time": "2022-05-20T17:52:04.930Z"
   },
   {
    "duration": 40,
    "start_time": "2022-05-20T17:52:05.233Z"
   },
   {
    "duration": 52,
    "start_time": "2022-05-20T17:52:05.282Z"
   },
   {
    "duration": 16,
    "start_time": "2022-05-20T17:52:05.337Z"
   },
   {
    "duration": 34,
    "start_time": "2022-05-20T17:52:05.355Z"
   },
   {
    "duration": 36,
    "start_time": "2022-05-20T17:52:05.392Z"
   },
   {
    "duration": 30,
    "start_time": "2022-05-20T17:52:05.431Z"
   },
   {
    "duration": 44,
    "start_time": "2022-05-20T17:52:05.463Z"
   },
   {
    "duration": 410,
    "start_time": "2022-05-20T17:52:05.509Z"
   },
   {
    "duration": 4,
    "start_time": "2022-05-20T17:52:05.921Z"
   },
   {
    "duration": 44,
    "start_time": "2022-05-20T17:52:05.927Z"
   },
   {
    "duration": 5,
    "start_time": "2022-05-20T17:52:05.987Z"
   },
   {
    "duration": 26,
    "start_time": "2022-05-20T17:52:05.994Z"
   },
   {
    "duration": 129,
    "start_time": "2022-05-20T17:52:06.022Z"
   },
   {
    "duration": 0,
    "start_time": "2022-05-20T17:52:06.153Z"
   },
   {
    "duration": 0,
    "start_time": "2022-05-20T17:52:06.154Z"
   },
   {
    "duration": 619,
    "start_time": "2022-05-20T17:53:00.036Z"
   },
   {
    "duration": 153,
    "start_time": "2022-05-20T18:06:45.731Z"
   },
   {
    "duration": 124,
    "start_time": "2022-05-20T18:06:56.698Z"
   },
   {
    "duration": 114,
    "start_time": "2022-05-20T18:07:07.206Z"
   },
   {
    "duration": 145,
    "start_time": "2022-05-20T18:07:15.447Z"
   },
   {
    "duration": 172,
    "start_time": "2022-05-20T18:07:25.175Z"
   },
   {
    "duration": 159,
    "start_time": "2022-05-20T18:07:39.500Z"
   },
   {
    "duration": 141,
    "start_time": "2022-05-20T18:07:46.491Z"
   },
   {
    "duration": 140,
    "start_time": "2022-05-20T18:08:23.244Z"
   },
   {
    "duration": 130,
    "start_time": "2022-05-20T18:08:57.487Z"
   },
   {
    "duration": 151,
    "start_time": "2022-05-20T18:09:21.763Z"
   },
   {
    "duration": 143,
    "start_time": "2022-05-20T18:09:55.740Z"
   },
   {
    "duration": 122,
    "start_time": "2022-05-20T18:15:28.189Z"
   },
   {
    "duration": 147,
    "start_time": "2022-05-20T18:15:46.335Z"
   },
   {
    "duration": 144,
    "start_time": "2022-05-20T18:16:29.979Z"
   },
   {
    "duration": 32,
    "start_time": "2022-05-20T18:20:27.663Z"
   },
   {
    "duration": 18,
    "start_time": "2022-05-20T18:20:30.197Z"
   },
   {
    "duration": 37,
    "start_time": "2022-05-20T18:21:17.397Z"
   },
   {
    "duration": 27,
    "start_time": "2022-05-20T18:21:25.178Z"
   },
   {
    "duration": 24,
    "start_time": "2022-05-20T18:44:10.115Z"
   },
   {
    "duration": 8,
    "start_time": "2022-05-20T18:44:21.123Z"
   },
   {
    "duration": 8,
    "start_time": "2022-05-20T18:44:41.618Z"
   },
   {
    "duration": 5,
    "start_time": "2022-05-20T18:44:47.772Z"
   },
   {
    "duration": 7,
    "start_time": "2022-05-20T18:44:54.241Z"
   },
   {
    "duration": 20,
    "start_time": "2022-05-20T18:45:13.050Z"
   },
   {
    "duration": 20,
    "start_time": "2022-05-20T18:46:15.680Z"
   },
   {
    "duration": 100,
    "start_time": "2022-05-20T18:46:43.232Z"
   },
   {
    "duration": 29,
    "start_time": "2022-05-20T18:46:51.534Z"
   },
   {
    "duration": 20,
    "start_time": "2022-05-20T18:48:44.317Z"
   },
   {
    "duration": 6,
    "start_time": "2022-05-20T18:49:10.309Z"
   },
   {
    "duration": 3,
    "start_time": "2022-05-20T18:50:58.716Z"
   },
   {
    "duration": 4,
    "start_time": "2022-05-20T18:51:08.054Z"
   },
   {
    "duration": 4,
    "start_time": "2022-05-20T18:51:44.452Z"
   },
   {
    "duration": 41,
    "start_time": "2022-05-20T18:52:13.686Z"
   },
   {
    "duration": 3,
    "start_time": "2022-05-20T18:52:17.514Z"
   },
   {
    "duration": 69,
    "start_time": "2022-05-20T18:53:03.592Z"
   },
   {
    "duration": 28,
    "start_time": "2022-05-20T18:53:09.360Z"
   },
   {
    "duration": 48,
    "start_time": "2022-05-20T18:53:13.625Z"
   },
   {
    "duration": 6,
    "start_time": "2022-05-20T18:53:44.578Z"
   },
   {
    "duration": 5,
    "start_time": "2022-05-20T18:54:30.743Z"
   },
   {
    "duration": 19,
    "start_time": "2022-05-20T18:55:32.261Z"
   },
   {
    "duration": 8,
    "start_time": "2022-05-20T18:55:40.452Z"
   },
   {
    "duration": 2,
    "start_time": "2022-05-20T18:55:54.389Z"
   },
   {
    "duration": 881,
    "start_time": "2022-05-20T18:55:54.393Z"
   },
   {
    "duration": 14,
    "start_time": "2022-05-20T18:55:55.276Z"
   },
   {
    "duration": 6,
    "start_time": "2022-05-20T18:55:55.292Z"
   },
   {
    "duration": 144,
    "start_time": "2022-05-20T18:55:55.300Z"
   },
   {
    "duration": 100,
    "start_time": "2022-05-20T18:55:55.446Z"
   },
   {
    "duration": 47,
    "start_time": "2022-05-20T18:55:55.547Z"
   },
   {
    "duration": 7,
    "start_time": "2022-05-20T18:55:55.595Z"
   },
   {
    "duration": 15,
    "start_time": "2022-05-20T18:55:55.604Z"
   },
   {
    "duration": 4,
    "start_time": "2022-05-20T18:55:55.620Z"
   },
   {
    "duration": 7,
    "start_time": "2022-05-20T18:55:55.627Z"
   },
   {
    "duration": 41,
    "start_time": "2022-05-20T18:55:55.636Z"
   },
   {
    "duration": 164,
    "start_time": "2022-05-20T18:55:55.678Z"
   },
   {
    "duration": 216,
    "start_time": "2022-05-20T18:55:55.844Z"
   },
   {
    "duration": 39,
    "start_time": "2022-05-20T18:55:56.062Z"
   },
   {
    "duration": 21,
    "start_time": "2022-05-20T18:55:56.102Z"
   },
   {
    "duration": 6,
    "start_time": "2022-05-20T18:55:56.125Z"
   },
   {
    "duration": 11,
    "start_time": "2022-05-20T18:55:56.133Z"
   },
   {
    "duration": 27,
    "start_time": "2022-05-20T18:55:56.170Z"
   },
   {
    "duration": 18,
    "start_time": "2022-05-20T18:55:56.198Z"
   },
   {
    "duration": 11,
    "start_time": "2022-05-20T18:55:56.218Z"
   },
   {
    "duration": 156,
    "start_time": "2022-05-20T18:55:56.231Z"
   },
   {
    "duration": 6,
    "start_time": "2022-05-20T18:55:56.389Z"
   },
   {
    "duration": 18,
    "start_time": "2022-05-20T18:55:56.396Z"
   },
   {
    "duration": 4,
    "start_time": "2022-05-20T18:55:56.416Z"
   },
   {
    "duration": 16,
    "start_time": "2022-05-20T18:55:56.422Z"
   },
   {
    "duration": 552,
    "start_time": "2022-05-20T18:55:56.439Z"
   },
   {
    "duration": 0,
    "start_time": "2022-05-20T18:55:56.994Z"
   },
   {
    "duration": 0,
    "start_time": "2022-05-20T18:55:56.995Z"
   },
   {
    "duration": 22,
    "start_time": "2022-05-20T18:58:08.160Z"
   },
   {
    "duration": 22,
    "start_time": "2022-05-20T18:59:55.902Z"
   },
   {
    "duration": 18,
    "start_time": "2022-05-20T19:00:28.397Z"
   },
   {
    "duration": 24,
    "start_time": "2022-05-20T19:00:46.582Z"
   },
   {
    "duration": 513,
    "start_time": "2022-05-20T19:00:59.064Z"
   },
   {
    "duration": 17,
    "start_time": "2022-05-20T19:01:02.621Z"
   },
   {
    "duration": 28,
    "start_time": "2022-05-20T19:02:43.548Z"
   },
   {
    "duration": 48,
    "start_time": "2022-05-20T19:03:22.080Z"
   },
   {
    "duration": 33,
    "start_time": "2022-05-20T19:03:28.106Z"
   },
   {
    "duration": 38,
    "start_time": "2022-05-20T19:04:11.783Z"
   },
   {
    "duration": 48,
    "start_time": "2022-05-20T19:05:04.798Z"
   },
   {
    "duration": 74,
    "start_time": "2022-05-20T19:05:18.984Z"
   },
   {
    "duration": 6,
    "start_time": "2022-05-20T19:13:52.262Z"
   },
   {
    "duration": 193,
    "start_time": "2022-05-20T19:15:10.310Z"
   },
   {
    "duration": 7,
    "start_time": "2022-05-20T19:15:27.305Z"
   },
   {
    "duration": 6,
    "start_time": "2022-05-20T19:17:56.842Z"
   },
   {
    "duration": 38,
    "start_time": "2022-05-20T19:19:18.873Z"
   },
   {
    "duration": 16,
    "start_time": "2022-05-20T19:21:46.075Z"
   },
   {
    "duration": 59,
    "start_time": "2022-05-20T19:31:58.622Z"
   },
   {
    "duration": 30,
    "start_time": "2022-05-20T19:32:57.226Z"
   },
   {
    "duration": 55,
    "start_time": "2022-05-20T19:33:13.082Z"
   },
   {
    "duration": 32,
    "start_time": "2022-05-20T19:33:15.412Z"
   },
   {
    "duration": 45,
    "start_time": "2022-05-20T19:33:44.839Z"
   },
   {
    "duration": 50,
    "start_time": "2022-05-20T19:33:50.928Z"
   },
   {
    "duration": 27,
    "start_time": "2022-05-20T19:33:53.323Z"
   },
   {
    "duration": 43,
    "start_time": "2022-05-20T19:34:41.851Z"
   },
   {
    "duration": 17,
    "start_time": "2022-05-20T19:34:56.097Z"
   },
   {
    "duration": 26,
    "start_time": "2022-05-20T19:35:30.751Z"
   },
   {
    "duration": 20,
    "start_time": "2022-05-20T19:52:23.837Z"
   },
   {
    "duration": 80,
    "start_time": "2022-05-20T20:04:29.549Z"
   },
   {
    "duration": 84,
    "start_time": "2022-05-20T20:04:37.730Z"
   },
   {
    "duration": 81,
    "start_time": "2022-05-20T20:04:47.643Z"
   },
   {
    "duration": 55,
    "start_time": "2022-05-20T20:05:22.608Z"
   },
   {
    "duration": 1514,
    "start_time": "2022-05-21T10:48:11.137Z"
   },
   {
    "duration": 2837,
    "start_time": "2022-05-21T10:48:12.653Z"
   },
   {
    "duration": 16,
    "start_time": "2022-05-21T10:48:15.491Z"
   },
   {
    "duration": 24,
    "start_time": "2022-05-21T10:48:15.508Z"
   },
   {
    "duration": 143,
    "start_time": "2022-05-21T10:48:15.534Z"
   },
   {
    "duration": 94,
    "start_time": "2022-05-21T10:48:15.679Z"
   },
   {
    "duration": 38,
    "start_time": "2022-05-21T10:48:15.775Z"
   },
   {
    "duration": 8,
    "start_time": "2022-05-21T10:48:15.814Z"
   },
   {
    "duration": 22,
    "start_time": "2022-05-21T10:48:15.823Z"
   },
   {
    "duration": 7,
    "start_time": "2022-05-21T10:48:15.847Z"
   },
   {
    "duration": 12,
    "start_time": "2022-05-21T10:48:15.855Z"
   },
   {
    "duration": 16,
    "start_time": "2022-05-21T10:48:15.869Z"
   },
   {
    "duration": 206,
    "start_time": "2022-05-21T10:48:15.886Z"
   },
   {
    "duration": 197,
    "start_time": "2022-05-21T10:48:16.094Z"
   },
   {
    "duration": 30,
    "start_time": "2022-05-21T10:48:16.293Z"
   },
   {
    "duration": 6,
    "start_time": "2022-05-21T10:48:16.325Z"
   },
   {
    "duration": 7,
    "start_time": "2022-05-21T10:48:16.332Z"
   },
   {
    "duration": 20,
    "start_time": "2022-05-21T10:48:16.341Z"
   },
   {
    "duration": 16,
    "start_time": "2022-05-21T10:48:16.363Z"
   },
   {
    "duration": 8,
    "start_time": "2022-05-21T10:48:16.411Z"
   },
   {
    "duration": 152,
    "start_time": "2022-05-21T10:48:16.421Z"
   },
   {
    "duration": 6,
    "start_time": "2022-05-21T10:48:16.575Z"
   },
   {
    "duration": 32,
    "start_time": "2022-05-21T10:48:16.583Z"
   },
   {
    "duration": 60,
    "start_time": "2022-05-21T10:48:16.618Z"
   },
   {
    "duration": 6,
    "start_time": "2022-05-21T10:48:16.680Z"
   },
   {
    "duration": 60,
    "start_time": "2022-05-21T10:48:16.688Z"
   },
   {
    "duration": 43,
    "start_time": "2022-05-21T10:48:16.750Z"
   },
   {
    "duration": 24,
    "start_time": "2022-05-21T10:48:16.796Z"
   },
   {
    "duration": 22,
    "start_time": "2022-05-21T10:48:16.822Z"
   },
   {
    "duration": 72,
    "start_time": "2022-05-21T10:48:16.846Z"
   },
   {
    "duration": 3,
    "start_time": "2022-05-21T10:55:19.909Z"
   },
   {
    "duration": 20,
    "start_time": "2022-05-21T10:55:25.237Z"
   },
   {
    "duration": 122,
    "start_time": "2022-05-21T10:56:08.410Z"
   },
   {
    "duration": 14,
    "start_time": "2022-05-21T10:56:21.668Z"
   },
   {
    "duration": 10,
    "start_time": "2022-05-21T11:16:26.612Z"
   },
   {
    "duration": 3,
    "start_time": "2022-05-21T11:17:39.615Z"
   },
   {
    "duration": 756,
    "start_time": "2022-05-21T11:17:51.874Z"
   },
   {
    "duration": 34,
    "start_time": "2022-05-21T11:18:05.012Z"
   },
   {
    "duration": 4,
    "start_time": "2022-05-21T11:19:58.873Z"
   },
   {
    "duration": 9,
    "start_time": "2022-05-21T11:20:05.841Z"
   },
   {
    "duration": 8,
    "start_time": "2022-05-21T11:20:22.399Z"
   },
   {
    "duration": 4,
    "start_time": "2022-05-21T11:20:30.202Z"
   },
   {
    "duration": 11,
    "start_time": "2022-05-21T11:22:41.610Z"
   },
   {
    "duration": 4,
    "start_time": "2022-05-21T11:22:51.776Z"
   },
   {
    "duration": 51,
    "start_time": "2022-05-21T11:22:55.731Z"
   },
   {
    "duration": 9,
    "start_time": "2022-05-21T11:23:11.177Z"
   },
   {
    "duration": 12,
    "start_time": "2022-05-21T11:23:20.199Z"
   },
   {
    "duration": 51,
    "start_time": "2022-05-21T11:23:29.881Z"
   },
   {
    "duration": 54,
    "start_time": "2022-05-21T11:23:45.575Z"
   },
   {
    "duration": 4,
    "start_time": "2022-05-21T11:36:32.764Z"
   },
   {
    "duration": 23,
    "start_time": "2022-05-21T11:36:35.279Z"
   },
   {
    "duration": 9,
    "start_time": "2022-05-21T11:37:38.735Z"
   },
   {
    "duration": 9,
    "start_time": "2022-05-21T11:37:55.905Z"
   },
   {
    "duration": 62,
    "start_time": "2022-05-21T11:38:14.770Z"
   },
   {
    "duration": 5,
    "start_time": "2022-05-21T11:38:31.965Z"
   },
   {
    "duration": 206,
    "start_time": "2022-05-21T11:41:08.095Z"
   },
   {
    "duration": 3,
    "start_time": "2022-05-21T11:41:16.126Z"
   },
   {
    "duration": 19,
    "start_time": "2022-05-21T11:41:19.309Z"
   },
   {
    "duration": 23,
    "start_time": "2022-05-21T11:43:06.121Z"
   },
   {
    "duration": 15,
    "start_time": "2022-05-21T11:44:47.765Z"
   },
   {
    "duration": 17,
    "start_time": "2022-05-21T11:44:51.495Z"
   },
   {
    "duration": 9,
    "start_time": "2022-05-21T11:50:46.867Z"
   },
   {
    "duration": 80,
    "start_time": "2022-05-21T11:50:54.192Z"
   },
   {
    "duration": 72,
    "start_time": "2022-05-21T11:53:15.580Z"
   },
   {
    "duration": 27,
    "start_time": "2022-05-21T11:54:42.789Z"
   },
   {
    "duration": 77,
    "start_time": "2022-05-21T11:54:49.169Z"
   },
   {
    "duration": 10,
    "start_time": "2022-05-21T11:57:45.768Z"
   },
   {
    "duration": 281,
    "start_time": "2022-05-21T12:02:03.464Z"
   },
   {
    "duration": 14,
    "start_time": "2022-05-21T12:02:21.084Z"
   },
   {
    "duration": 3,
    "start_time": "2022-05-21T12:04:03.844Z"
   },
   {
    "duration": 743,
    "start_time": "2022-05-21T12:04:03.884Z"
   },
   {
    "duration": 14,
    "start_time": "2022-05-21T12:04:04.630Z"
   },
   {
    "duration": 30,
    "start_time": "2022-05-21T12:04:04.645Z"
   },
   {
    "duration": 135,
    "start_time": "2022-05-21T12:04:04.677Z"
   },
   {
    "duration": 104,
    "start_time": "2022-05-21T12:04:04.814Z"
   },
   {
    "duration": 41,
    "start_time": "2022-05-21T12:04:04.920Z"
   },
   {
    "duration": 7,
    "start_time": "2022-05-21T12:04:04.963Z"
   },
   {
    "duration": 28,
    "start_time": "2022-05-21T12:04:04.972Z"
   },
   {
    "duration": 22,
    "start_time": "2022-05-21T12:04:05.011Z"
   },
   {
    "duration": 21,
    "start_time": "2022-05-21T12:04:05.038Z"
   },
   {
    "duration": 26,
    "start_time": "2022-05-21T12:04:05.060Z"
   },
   {
    "duration": 197,
    "start_time": "2022-05-21T12:04:05.088Z"
   },
   {
    "duration": 197,
    "start_time": "2022-05-21T12:04:05.287Z"
   },
   {
    "duration": 45,
    "start_time": "2022-05-21T12:04:05.487Z"
   },
   {
    "duration": 36,
    "start_time": "2022-05-21T12:04:05.534Z"
   },
   {
    "duration": 32,
    "start_time": "2022-05-21T12:04:05.572Z"
   },
   {
    "duration": 60,
    "start_time": "2022-05-21T12:04:05.605Z"
   },
   {
    "duration": 33,
    "start_time": "2022-05-21T12:04:05.667Z"
   },
   {
    "duration": 44,
    "start_time": "2022-05-21T12:04:05.702Z"
   },
   {
    "duration": 148,
    "start_time": "2022-05-21T12:04:05.747Z"
   },
   {
    "duration": 29,
    "start_time": "2022-05-21T12:04:05.896Z"
   },
   {
    "duration": 46,
    "start_time": "2022-05-21T12:04:05.929Z"
   },
   {
    "duration": 79,
    "start_time": "2022-05-21T12:04:05.977Z"
   },
   {
    "duration": 7,
    "start_time": "2022-05-21T12:04:06.057Z"
   },
   {
    "duration": 68,
    "start_time": "2022-05-21T12:04:06.066Z"
   },
   {
    "duration": 48,
    "start_time": "2022-05-21T12:04:06.136Z"
   },
   {
    "duration": 26,
    "start_time": "2022-05-21T12:04:06.186Z"
   },
   {
    "duration": 50,
    "start_time": "2022-05-21T12:04:06.213Z"
   },
   {
    "duration": 88,
    "start_time": "2022-05-21T12:04:06.265Z"
   },
   {
    "duration": 8,
    "start_time": "2022-05-21T12:04:06.355Z"
   },
   {
    "duration": 83,
    "start_time": "2022-05-21T12:04:06.365Z"
   },
   {
    "duration": 6,
    "start_time": "2022-05-21T12:04:06.449Z"
   },
   {
    "duration": 42,
    "start_time": "2022-05-21T12:04:06.456Z"
   },
   {
    "duration": 28,
    "start_time": "2022-05-21T12:04:06.499Z"
   },
   {
    "duration": 28,
    "start_time": "2022-05-21T12:04:06.529Z"
   },
   {
    "duration": 13,
    "start_time": "2022-05-21T12:04:06.559Z"
   },
   {
    "duration": 9,
    "start_time": "2022-05-21T12:04:25.086Z"
   },
   {
    "duration": 25,
    "start_time": "2022-05-21T12:04:32.515Z"
   },
   {
    "duration": 296,
    "start_time": "2022-05-21T12:04:36.184Z"
   },
   {
    "duration": 19,
    "start_time": "2022-05-21T12:05:01.734Z"
   },
   {
    "duration": 3,
    "start_time": "2022-05-21T12:09:07.821Z"
   },
   {
    "duration": 739,
    "start_time": "2022-05-21T12:09:07.829Z"
   },
   {
    "duration": 12,
    "start_time": "2022-05-21T12:09:08.570Z"
   },
   {
    "duration": 5,
    "start_time": "2022-05-21T12:09:08.584Z"
   },
   {
    "duration": 134,
    "start_time": "2022-05-21T12:09:08.591Z"
   },
   {
    "duration": 95,
    "start_time": "2022-05-21T12:09:08.727Z"
   },
   {
    "duration": 26,
    "start_time": "2022-05-21T12:09:08.824Z"
   },
   {
    "duration": 6,
    "start_time": "2022-05-21T12:09:08.852Z"
   },
   {
    "duration": 18,
    "start_time": "2022-05-21T12:09:08.860Z"
   },
   {
    "duration": 4,
    "start_time": "2022-05-21T12:09:08.880Z"
   },
   {
    "duration": 28,
    "start_time": "2022-05-21T12:09:08.886Z"
   },
   {
    "duration": 15,
    "start_time": "2022-05-21T12:09:08.915Z"
   },
   {
    "duration": 156,
    "start_time": "2022-05-21T12:09:08.931Z"
   },
   {
    "duration": 191,
    "start_time": "2022-05-21T12:09:09.089Z"
   },
   {
    "duration": 29,
    "start_time": "2022-05-21T12:09:09.283Z"
   },
   {
    "duration": 7,
    "start_time": "2022-05-21T12:09:09.313Z"
   },
   {
    "duration": 6,
    "start_time": "2022-05-21T12:09:09.321Z"
   },
   {
    "duration": 22,
    "start_time": "2022-05-21T12:09:09.328Z"
   },
   {
    "duration": 16,
    "start_time": "2022-05-21T12:09:09.352Z"
   },
   {
    "duration": 11,
    "start_time": "2022-05-21T12:09:09.369Z"
   },
   {
    "duration": 158,
    "start_time": "2022-05-21T12:09:09.381Z"
   },
   {
    "duration": 6,
    "start_time": "2022-05-21T12:09:09.541Z"
   },
   {
    "duration": 26,
    "start_time": "2022-05-21T12:09:09.548Z"
   },
   {
    "duration": 71,
    "start_time": "2022-05-21T12:09:09.576Z"
   },
   {
    "duration": 7,
    "start_time": "2022-05-21T12:09:09.649Z"
   },
   {
    "duration": 30,
    "start_time": "2022-05-21T12:09:09.658Z"
   },
   {
    "duration": 58,
    "start_time": "2022-05-21T12:09:09.690Z"
   },
   {
    "duration": 13,
    "start_time": "2022-05-21T12:09:09.750Z"
   },
   {
    "duration": 21,
    "start_time": "2022-05-21T12:09:09.765Z"
   },
   {
    "duration": 82,
    "start_time": "2022-05-21T12:09:09.788Z"
   },
   {
    "duration": 8,
    "start_time": "2022-05-21T12:09:09.872Z"
   },
   {
    "duration": 73,
    "start_time": "2022-05-21T12:09:09.881Z"
   },
   {
    "duration": 5,
    "start_time": "2022-05-21T12:09:09.955Z"
   },
   {
    "duration": 21,
    "start_time": "2022-05-21T12:09:09.962Z"
   },
   {
    "duration": 30,
    "start_time": "2022-05-21T12:09:09.984Z"
   },
   {
    "duration": 12,
    "start_time": "2022-05-21T12:09:10.015Z"
   },
   {
    "duration": 18,
    "start_time": "2022-05-21T12:09:10.029Z"
   },
   {
    "duration": 286,
    "start_time": "2022-05-21T12:09:10.048Z"
   },
   {
    "duration": 13,
    "start_time": "2022-05-21T12:09:10.335Z"
   },
   {
    "duration": 14,
    "start_time": "2022-05-21T12:11:20.016Z"
   },
   {
    "duration": 9,
    "start_time": "2022-05-21T12:13:06.875Z"
   },
   {
    "duration": 8,
    "start_time": "2022-05-21T12:13:44.814Z"
   },
   {
    "duration": 119,
    "start_time": "2022-05-21T12:14:26.402Z"
   },
   {
    "duration": 8,
    "start_time": "2022-05-21T12:14:48.637Z"
   },
   {
    "duration": 2,
    "start_time": "2022-05-21T12:15:15.510Z"
   },
   {
    "duration": 711,
    "start_time": "2022-05-21T12:15:15.518Z"
   },
   {
    "duration": 12,
    "start_time": "2022-05-21T12:15:16.231Z"
   },
   {
    "duration": 30,
    "start_time": "2022-05-21T12:15:16.245Z"
   },
   {
    "duration": 126,
    "start_time": "2022-05-21T12:15:16.277Z"
   },
   {
    "duration": 87,
    "start_time": "2022-05-21T12:15:16.406Z"
   },
   {
    "duration": 39,
    "start_time": "2022-05-21T12:15:16.494Z"
   },
   {
    "duration": 8,
    "start_time": "2022-05-21T12:15:16.535Z"
   },
   {
    "duration": 31,
    "start_time": "2022-05-21T12:15:16.544Z"
   },
   {
    "duration": 15,
    "start_time": "2022-05-21T12:15:16.577Z"
   },
   {
    "duration": 27,
    "start_time": "2022-05-21T12:15:16.593Z"
   },
   {
    "duration": 24,
    "start_time": "2022-05-21T12:15:16.622Z"
   },
   {
    "duration": 174,
    "start_time": "2022-05-21T12:15:16.648Z"
   },
   {
    "duration": 193,
    "start_time": "2022-05-21T12:15:16.824Z"
   },
   {
    "duration": 30,
    "start_time": "2022-05-21T12:15:17.021Z"
   },
   {
    "duration": 28,
    "start_time": "2022-05-21T12:15:17.053Z"
   },
   {
    "duration": 23,
    "start_time": "2022-05-21T12:15:17.083Z"
   },
   {
    "duration": 39,
    "start_time": "2022-05-21T12:15:17.108Z"
   },
   {
    "duration": 30,
    "start_time": "2022-05-21T12:15:17.148Z"
   },
   {
    "duration": 28,
    "start_time": "2022-05-21T12:15:17.180Z"
   },
   {
    "duration": 143,
    "start_time": "2022-05-21T12:15:17.210Z"
   },
   {
    "duration": 5,
    "start_time": "2022-05-21T12:15:17.354Z"
   },
   {
    "duration": 49,
    "start_time": "2022-05-21T12:15:17.361Z"
   },
   {
    "duration": 69,
    "start_time": "2022-05-21T12:15:17.412Z"
   },
   {
    "duration": 10,
    "start_time": "2022-05-21T12:15:17.483Z"
   },
   {
    "duration": 54,
    "start_time": "2022-05-21T12:15:17.494Z"
   },
   {
    "duration": 55,
    "start_time": "2022-05-21T12:15:17.550Z"
   },
   {
    "duration": 30,
    "start_time": "2022-05-21T12:15:17.607Z"
   },
   {
    "duration": 32,
    "start_time": "2022-05-21T12:15:17.639Z"
   },
   {
    "duration": 71,
    "start_time": "2022-05-21T12:15:17.672Z"
   },
   {
    "duration": 8,
    "start_time": "2022-05-21T12:15:17.745Z"
   },
   {
    "duration": 72,
    "start_time": "2022-05-21T12:15:17.755Z"
   },
   {
    "duration": 6,
    "start_time": "2022-05-21T12:15:17.828Z"
   },
   {
    "duration": 25,
    "start_time": "2022-05-21T12:15:17.835Z"
   },
   {
    "duration": 30,
    "start_time": "2022-05-21T12:15:17.862Z"
   },
   {
    "duration": 23,
    "start_time": "2022-05-21T12:15:17.893Z"
   },
   {
    "duration": 18,
    "start_time": "2022-05-21T12:15:17.918Z"
   },
   {
    "duration": 283,
    "start_time": "2022-05-21T12:15:17.938Z"
   },
   {
    "duration": 14,
    "start_time": "2022-05-21T12:15:18.223Z"
   },
   {
    "duration": 30,
    "start_time": "2022-05-21T12:15:18.239Z"
   },
   {
    "duration": 3,
    "start_time": "2022-05-21T12:16:57.678Z"
   },
   {
    "duration": 681,
    "start_time": "2022-05-21T12:16:57.682Z"
   },
   {
    "duration": 13,
    "start_time": "2022-05-21T12:16:58.364Z"
   },
   {
    "duration": 6,
    "start_time": "2022-05-21T12:16:58.378Z"
   },
   {
    "duration": 128,
    "start_time": "2022-05-21T12:16:58.386Z"
   },
   {
    "duration": 83,
    "start_time": "2022-05-21T12:16:58.515Z"
   },
   {
    "duration": 37,
    "start_time": "2022-05-21T12:16:58.600Z"
   },
   {
    "duration": 7,
    "start_time": "2022-05-21T12:16:58.639Z"
   },
   {
    "duration": 15,
    "start_time": "2022-05-21T12:16:58.648Z"
   },
   {
    "duration": 5,
    "start_time": "2022-05-21T12:16:58.664Z"
   },
   {
    "duration": 6,
    "start_time": "2022-05-21T12:16:58.671Z"
   },
   {
    "duration": 42,
    "start_time": "2022-05-21T12:16:58.678Z"
   },
   {
    "duration": 153,
    "start_time": "2022-05-21T12:16:58.721Z"
   },
   {
    "duration": 198,
    "start_time": "2022-05-21T12:16:58.878Z"
   },
   {
    "duration": 35,
    "start_time": "2022-05-21T12:16:59.077Z"
   },
   {
    "duration": 32,
    "start_time": "2022-05-21T12:16:59.114Z"
   },
   {
    "duration": 46,
    "start_time": "2022-05-21T12:16:59.148Z"
   },
   {
    "duration": 36,
    "start_time": "2022-05-21T12:16:59.196Z"
   },
   {
    "duration": 38,
    "start_time": "2022-05-21T12:16:59.233Z"
   },
   {
    "duration": 30,
    "start_time": "2022-05-21T12:16:59.273Z"
   },
   {
    "duration": 153,
    "start_time": "2022-05-21T12:16:59.305Z"
   },
   {
    "duration": 6,
    "start_time": "2022-05-21T12:16:59.460Z"
   },
   {
    "duration": 54,
    "start_time": "2022-05-21T12:16:59.468Z"
   },
   {
    "duration": 87,
    "start_time": "2022-05-21T12:16:59.523Z"
   },
   {
    "duration": 9,
    "start_time": "2022-05-21T12:16:59.612Z"
   },
   {
    "duration": 61,
    "start_time": "2022-05-21T12:16:59.622Z"
   },
   {
    "duration": 69,
    "start_time": "2022-05-21T12:16:59.685Z"
   },
   {
    "duration": 30,
    "start_time": "2022-05-21T12:16:59.756Z"
   },
   {
    "duration": 50,
    "start_time": "2022-05-21T12:16:59.788Z"
   },
   {
    "duration": 38,
    "start_time": "2022-05-21T12:16:59.839Z"
   },
   {
    "duration": 23,
    "start_time": "2022-05-21T12:17:52.710Z"
   },
   {
    "duration": 23,
    "start_time": "2022-05-21T12:19:57.446Z"
   },
   {
    "duration": 19,
    "start_time": "2022-05-21T12:20:18.385Z"
   },
   {
    "duration": 125,
    "start_time": "2022-05-21T12:22:25.041Z"
   },
   {
    "duration": 121,
    "start_time": "2022-05-21T12:26:24.337Z"
   },
   {
    "duration": 115,
    "start_time": "2022-05-21T12:27:10.717Z"
   },
   {
    "duration": 112,
    "start_time": "2022-05-21T12:29:05.936Z"
   },
   {
    "duration": 143,
    "start_time": "2022-05-21T12:30:11.998Z"
   },
   {
    "duration": 152,
    "start_time": "2022-05-21T12:43:07.516Z"
   },
   {
    "duration": 196,
    "start_time": "2022-05-21T12:43:21.893Z"
   },
   {
    "duration": 21,
    "start_time": "2022-05-21T12:43:48.549Z"
   },
   {
    "duration": 23,
    "start_time": "2022-05-21T12:49:33.106Z"
   },
   {
    "duration": 21,
    "start_time": "2022-05-21T12:49:42.542Z"
   },
   {
    "duration": 19,
    "start_time": "2022-05-21T12:49:54.585Z"
   },
   {
    "duration": 18,
    "start_time": "2022-05-21T12:50:13.048Z"
   },
   {
    "duration": 11,
    "start_time": "2022-05-21T12:55:13.744Z"
   },
   {
    "duration": 139,
    "start_time": "2022-05-21T12:55:23.334Z"
   },
   {
    "duration": 328,
    "start_time": "2022-05-21T12:56:29.124Z"
   },
   {
    "duration": 124,
    "start_time": "2022-05-21T12:56:52.897Z"
   },
   {
    "duration": 135,
    "start_time": "2022-05-21T12:57:02.310Z"
   },
   {
    "duration": 15,
    "start_time": "2022-05-21T12:59:59.110Z"
   },
   {
    "duration": 208,
    "start_time": "2022-05-21T13:00:06.450Z"
   },
   {
    "duration": 144,
    "start_time": "2022-05-21T13:00:19.941Z"
   },
   {
    "duration": 4,
    "start_time": "2022-05-21T13:07:06.679Z"
   },
   {
    "duration": 1166,
    "start_time": "2022-05-21T13:07:06.687Z"
   },
   {
    "duration": 17,
    "start_time": "2022-05-21T13:07:07.855Z"
   },
   {
    "duration": 6,
    "start_time": "2022-05-21T13:07:07.874Z"
   },
   {
    "duration": 143,
    "start_time": "2022-05-21T13:07:07.882Z"
   },
   {
    "duration": 89,
    "start_time": "2022-05-21T13:07:08.027Z"
   },
   {
    "duration": 29,
    "start_time": "2022-05-21T13:07:08.118Z"
   },
   {
    "duration": 8,
    "start_time": "2022-05-21T13:07:08.148Z"
   },
   {
    "duration": 16,
    "start_time": "2022-05-21T13:07:08.158Z"
   },
   {
    "duration": 4,
    "start_time": "2022-05-21T13:07:08.176Z"
   },
   {
    "duration": 4,
    "start_time": "2022-05-21T13:07:08.212Z"
   },
   {
    "duration": 14,
    "start_time": "2022-05-21T13:07:08.218Z"
   },
   {
    "duration": 237,
    "start_time": "2022-05-21T13:07:08.236Z"
   },
   {
    "duration": 206,
    "start_time": "2022-05-21T13:07:08.475Z"
   },
   {
    "duration": 50,
    "start_time": "2022-05-21T13:07:08.684Z"
   },
   {
    "duration": 13,
    "start_time": "2022-05-21T13:07:08.737Z"
   },
   {
    "duration": 10,
    "start_time": "2022-05-21T13:07:08.752Z"
   },
   {
    "duration": 24,
    "start_time": "2022-05-21T13:07:08.763Z"
   },
   {
    "duration": 39,
    "start_time": "2022-05-21T13:07:08.789Z"
   },
   {
    "duration": 16,
    "start_time": "2022-05-21T13:07:08.830Z"
   },
   {
    "duration": 126,
    "start_time": "2022-05-21T13:07:08.849Z"
   },
   {
    "duration": 6,
    "start_time": "2022-05-21T13:07:08.977Z"
   },
   {
    "duration": 42,
    "start_time": "2022-05-21T13:07:08.985Z"
   },
   {
    "duration": 117,
    "start_time": "2022-05-21T13:07:09.030Z"
   },
   {
    "duration": 8,
    "start_time": "2022-05-21T13:07:09.149Z"
   },
   {
    "duration": 30,
    "start_time": "2022-05-21T13:07:09.159Z"
   },
   {
    "duration": 60,
    "start_time": "2022-05-21T13:07:09.191Z"
   },
   {
    "duration": 15,
    "start_time": "2022-05-21T13:07:09.254Z"
   },
   {
    "duration": 42,
    "start_time": "2022-05-21T13:07:09.271Z"
   },
   {
    "duration": 162,
    "start_time": "2022-05-21T13:07:09.316Z"
   },
   {
    "duration": 250,
    "start_time": "2022-05-21T13:07:09.480Z"
   },
   {
    "duration": 3,
    "start_time": "2022-05-21T13:08:00.797Z"
   },
   {
    "duration": 882,
    "start_time": "2022-05-21T13:08:00.803Z"
   },
   {
    "duration": 19,
    "start_time": "2022-05-21T13:08:01.687Z"
   },
   {
    "duration": 37,
    "start_time": "2022-05-21T13:08:01.709Z"
   },
   {
    "duration": 179,
    "start_time": "2022-05-21T13:08:01.748Z"
   },
   {
    "duration": 107,
    "start_time": "2022-05-21T13:08:01.929Z"
   },
   {
    "duration": 50,
    "start_time": "2022-05-21T13:08:02.039Z"
   },
   {
    "duration": 23,
    "start_time": "2022-05-21T13:08:02.090Z"
   },
   {
    "duration": 15,
    "start_time": "2022-05-21T13:08:02.115Z"
   },
   {
    "duration": 8,
    "start_time": "2022-05-21T13:08:02.132Z"
   },
   {
    "duration": 13,
    "start_time": "2022-05-21T13:08:02.141Z"
   },
   {
    "duration": 16,
    "start_time": "2022-05-21T13:08:02.155Z"
   },
   {
    "duration": 217,
    "start_time": "2022-05-21T13:08:02.173Z"
   },
   {
    "duration": 202,
    "start_time": "2022-05-21T13:08:02.392Z"
   },
   {
    "duration": 33,
    "start_time": "2022-05-21T13:08:02.596Z"
   },
   {
    "duration": 17,
    "start_time": "2022-05-21T13:08:02.631Z"
   },
   {
    "duration": 8,
    "start_time": "2022-05-21T13:08:02.650Z"
   },
   {
    "duration": 31,
    "start_time": "2022-05-21T13:08:02.660Z"
   },
   {
    "duration": 45,
    "start_time": "2022-05-21T13:08:02.693Z"
   },
   {
    "duration": 31,
    "start_time": "2022-05-21T13:08:02.740Z"
   },
   {
    "duration": 152,
    "start_time": "2022-05-21T13:08:02.773Z"
   },
   {
    "duration": 6,
    "start_time": "2022-05-21T13:08:02.927Z"
   },
   {
    "duration": 30,
    "start_time": "2022-05-21T13:08:02.934Z"
   },
   {
    "duration": 79,
    "start_time": "2022-05-21T13:08:02.968Z"
   },
   {
    "duration": 9,
    "start_time": "2022-05-21T13:08:03.050Z"
   },
   {
    "duration": 63,
    "start_time": "2022-05-21T13:08:03.061Z"
   },
   {
    "duration": 59,
    "start_time": "2022-05-21T13:08:03.126Z"
   },
   {
    "duration": 32,
    "start_time": "2022-05-21T13:08:03.188Z"
   },
   {
    "duration": 36,
    "start_time": "2022-05-21T13:08:03.223Z"
   },
   {
    "duration": 180,
    "start_time": "2022-05-21T13:08:03.261Z"
   },
   {
    "duration": 199,
    "start_time": "2022-05-21T13:08:03.443Z"
   },
   {
    "duration": 19,
    "start_time": "2022-05-21T13:08:03.644Z"
   },
   {
    "duration": 75,
    "start_time": "2022-05-21T13:08:03.665Z"
   },
   {
    "duration": 12,
    "start_time": "2022-05-21T13:08:03.742Z"
   },
   {
    "duration": 103,
    "start_time": "2022-05-21T13:08:03.756Z"
   },
   {
    "duration": 6,
    "start_time": "2022-05-21T13:08:03.861Z"
   },
   {
    "duration": 22,
    "start_time": "2022-05-21T13:08:03.869Z"
   },
   {
    "duration": 36,
    "start_time": "2022-05-21T13:08:03.893Z"
   },
   {
    "duration": 14,
    "start_time": "2022-05-21T13:08:03.932Z"
   },
   {
    "duration": 19,
    "start_time": "2022-05-21T13:08:03.948Z"
   },
   {
    "duration": 299,
    "start_time": "2022-05-21T13:08:03.969Z"
   },
   {
    "duration": 15,
    "start_time": "2022-05-21T13:08:04.269Z"
   },
   {
    "duration": 1276,
    "start_time": "2022-05-22T12:11:38.125Z"
   },
   {
    "duration": 1011,
    "start_time": "2022-05-22T12:11:39.403Z"
   },
   {
    "duration": 16,
    "start_time": "2022-05-22T12:11:40.416Z"
   },
   {
    "duration": 2,
    "start_time": "2022-05-22T12:11:40.434Z"
   },
   {
    "duration": 114,
    "start_time": "2022-05-22T12:11:40.438Z"
   },
   {
    "duration": 86,
    "start_time": "2022-05-22T12:11:40.554Z"
   },
   {
    "duration": 28,
    "start_time": "2022-05-22T12:11:40.651Z"
   },
   {
    "duration": 8,
    "start_time": "2022-05-22T12:11:40.681Z"
   },
   {
    "duration": 20,
    "start_time": "2022-05-22T12:11:40.691Z"
   },
   {
    "duration": 15,
    "start_time": "2022-05-22T12:11:40.714Z"
   },
   {
    "duration": 24,
    "start_time": "2022-05-22T12:11:40.730Z"
   },
   {
    "duration": 12,
    "start_time": "2022-05-22T12:11:40.755Z"
   },
   {
    "duration": 175,
    "start_time": "2022-05-22T12:11:40.769Z"
   },
   {
    "duration": 215,
    "start_time": "2022-05-22T12:11:40.945Z"
   },
   {
    "duration": 26,
    "start_time": "2022-05-22T12:11:41.162Z"
   },
   {
    "duration": 8,
    "start_time": "2022-05-22T12:11:41.190Z"
   },
   {
    "duration": 7,
    "start_time": "2022-05-22T12:11:41.200Z"
   },
   {
    "duration": 52,
    "start_time": "2022-05-22T12:11:41.209Z"
   },
   {
    "duration": 17,
    "start_time": "2022-05-22T12:11:41.262Z"
   },
   {
    "duration": 10,
    "start_time": "2022-05-22T12:11:41.280Z"
   },
   {
    "duration": 134,
    "start_time": "2022-05-22T12:11:41.291Z"
   },
   {
    "duration": 5,
    "start_time": "2022-05-22T12:11:41.427Z"
   },
   {
    "duration": 40,
    "start_time": "2022-05-22T12:11:41.433Z"
   },
   {
    "duration": 50,
    "start_time": "2022-05-22T12:11:41.474Z"
   },
   {
    "duration": 7,
    "start_time": "2022-05-22T12:11:41.526Z"
   },
   {
    "duration": 25,
    "start_time": "2022-05-22T12:11:41.552Z"
   },
   {
    "duration": 38,
    "start_time": "2022-05-22T12:11:41.579Z"
   },
   {
    "duration": 14,
    "start_time": "2022-05-22T12:11:41.620Z"
   },
   {
    "duration": 16,
    "start_time": "2022-05-22T12:11:41.652Z"
   },
   {
    "duration": 191,
    "start_time": "2022-05-22T12:11:41.670Z"
   },
   {
    "duration": 153,
    "start_time": "2022-05-22T12:11:41.863Z"
   },
   {
    "duration": 19,
    "start_time": "2022-05-22T12:11:42.018Z"
   },
   {
    "duration": 59,
    "start_time": "2022-05-22T12:11:42.039Z"
   },
   {
    "duration": 8,
    "start_time": "2022-05-22T12:11:42.100Z"
   },
   {
    "duration": 86,
    "start_time": "2022-05-22T12:11:42.110Z"
   },
   {
    "duration": 5,
    "start_time": "2022-05-22T12:11:42.198Z"
   },
   {
    "duration": 24,
    "start_time": "2022-05-22T12:11:42.204Z"
   },
   {
    "duration": 24,
    "start_time": "2022-05-22T12:11:42.230Z"
   },
   {
    "duration": 293,
    "start_time": "2022-05-22T12:11:42.256Z"
   },
   {
    "duration": 16,
    "start_time": "2022-05-22T12:11:42.552Z"
   },
   {
    "duration": 1480,
    "start_time": "2022-05-22T17:24:08.407Z"
   },
   {
    "duration": 1175,
    "start_time": "2022-05-22T17:24:09.889Z"
   },
   {
    "duration": 19,
    "start_time": "2022-05-22T17:24:11.067Z"
   },
   {
    "duration": 4,
    "start_time": "2022-05-22T17:24:11.089Z"
   },
   {
    "duration": 154,
    "start_time": "2022-05-22T17:24:11.095Z"
   },
   {
    "duration": 108,
    "start_time": "2022-05-22T17:24:11.251Z"
   },
   {
    "duration": 30,
    "start_time": "2022-05-22T17:24:11.361Z"
   },
   {
    "duration": 7,
    "start_time": "2022-05-22T17:24:11.393Z"
   },
   {
    "duration": 44,
    "start_time": "2022-05-22T17:24:11.402Z"
   },
   {
    "duration": 4,
    "start_time": "2022-05-22T17:24:11.449Z"
   },
   {
    "duration": 14,
    "start_time": "2022-05-22T17:24:11.455Z"
   },
   {
    "duration": 17,
    "start_time": "2022-05-22T17:24:11.471Z"
   },
   {
    "duration": 183,
    "start_time": "2022-05-22T17:24:11.489Z"
   },
   {
    "duration": 234,
    "start_time": "2022-05-22T17:24:11.674Z"
   },
   {
    "duration": 30,
    "start_time": "2022-05-22T17:24:11.910Z"
   },
   {
    "duration": 10,
    "start_time": "2022-05-22T17:24:11.941Z"
   },
   {
    "duration": 8,
    "start_time": "2022-05-22T17:24:11.953Z"
   },
   {
    "duration": 20,
    "start_time": "2022-05-22T17:24:11.962Z"
   },
   {
    "duration": 44,
    "start_time": "2022-05-22T17:24:11.984Z"
   },
   {
    "duration": 8,
    "start_time": "2022-05-22T17:24:12.030Z"
   },
   {
    "duration": 142,
    "start_time": "2022-05-22T17:24:12.041Z"
   },
   {
    "duration": 6,
    "start_time": "2022-05-22T17:24:12.185Z"
   },
   {
    "duration": 28,
    "start_time": "2022-05-22T17:24:12.192Z"
   },
   {
    "duration": 55,
    "start_time": "2022-05-22T17:24:12.226Z"
   },
   {
    "duration": 7,
    "start_time": "2022-05-22T17:24:12.283Z"
   },
   {
    "duration": 54,
    "start_time": "2022-05-22T17:24:12.292Z"
   },
   {
    "duration": 55,
    "start_time": "2022-05-22T17:24:12.348Z"
   },
   {
    "duration": 21,
    "start_time": "2022-05-22T17:24:12.406Z"
   },
   {
    "duration": 47,
    "start_time": "2022-05-22T17:24:12.428Z"
   },
   {
    "duration": 135,
    "start_time": "2022-05-22T17:24:12.476Z"
   },
   {
    "duration": 181,
    "start_time": "2022-05-22T17:24:12.612Z"
   },
   {
    "duration": 33,
    "start_time": "2022-05-22T17:24:12.795Z"
   },
   {
    "duration": 65,
    "start_time": "2022-05-22T17:24:12.830Z"
   },
   {
    "duration": 9,
    "start_time": "2022-05-22T17:24:12.897Z"
   },
   {
    "duration": 81,
    "start_time": "2022-05-22T17:24:12.908Z"
   },
   {
    "duration": 4,
    "start_time": "2022-05-22T17:24:12.991Z"
   },
   {
    "duration": 40,
    "start_time": "2022-05-22T17:24:12.996Z"
   },
   {
    "duration": 32,
    "start_time": "2022-05-22T17:24:13.038Z"
   },
   {
    "duration": 314,
    "start_time": "2022-05-22T17:24:13.073Z"
   },
   {
    "duration": 13,
    "start_time": "2022-05-22T17:24:13.389Z"
   },
   {
    "duration": 84,
    "start_time": "2022-05-22T17:24:13.404Z"
   },
   {
    "duration": 3,
    "start_time": "2022-05-22T18:07:32.733Z"
   },
   {
    "duration": 777,
    "start_time": "2022-05-22T18:07:32.744Z"
   },
   {
    "duration": 16,
    "start_time": "2022-05-22T18:07:33.523Z"
   },
   {
    "duration": 6,
    "start_time": "2022-05-22T18:07:33.541Z"
   },
   {
    "duration": 150,
    "start_time": "2022-05-22T18:07:33.549Z"
   },
   {
    "duration": 92,
    "start_time": "2022-05-22T18:07:33.701Z"
   },
   {
    "duration": 55,
    "start_time": "2022-05-22T18:07:33.794Z"
   },
   {
    "duration": 10,
    "start_time": "2022-05-22T18:07:33.851Z"
   },
   {
    "duration": 18,
    "start_time": "2022-05-22T18:07:33.862Z"
   },
   {
    "duration": 12,
    "start_time": "2022-05-22T18:07:33.882Z"
   },
   {
    "duration": 7,
    "start_time": "2022-05-22T18:07:33.896Z"
   },
   {
    "duration": 29,
    "start_time": "2022-05-22T18:07:33.905Z"
   },
   {
    "duration": 158,
    "start_time": "2022-05-22T18:07:33.936Z"
   },
   {
    "duration": 186,
    "start_time": "2022-05-22T18:07:34.096Z"
   },
   {
    "duration": 29,
    "start_time": "2022-05-22T18:07:34.285Z"
   },
   {
    "duration": 13,
    "start_time": "2022-05-22T18:07:34.315Z"
   },
   {
    "duration": 6,
    "start_time": "2022-05-22T18:07:34.330Z"
   },
   {
    "duration": 23,
    "start_time": "2022-05-22T18:07:34.338Z"
   },
   {
    "duration": 16,
    "start_time": "2022-05-22T18:07:34.363Z"
   },
   {
    "duration": 10,
    "start_time": "2022-05-22T18:07:34.381Z"
   },
   {
    "duration": 145,
    "start_time": "2022-05-22T18:07:34.392Z"
   },
   {
    "duration": 6,
    "start_time": "2022-05-22T18:07:34.538Z"
   },
   {
    "duration": 23,
    "start_time": "2022-05-22T18:07:34.545Z"
   },
   {
    "duration": 77,
    "start_time": "2022-05-22T18:07:34.570Z"
   },
   {
    "duration": 9,
    "start_time": "2022-05-22T18:07:34.649Z"
   },
   {
    "duration": 30,
    "start_time": "2022-05-22T18:07:34.660Z"
   },
   {
    "duration": 57,
    "start_time": "2022-05-22T18:07:34.692Z"
   },
   {
    "duration": 25,
    "start_time": "2022-05-22T18:07:34.751Z"
   },
   {
    "duration": 25,
    "start_time": "2022-05-22T18:07:34.778Z"
   },
   {
    "duration": 138,
    "start_time": "2022-05-22T18:07:34.804Z"
   },
   {
    "duration": 145,
    "start_time": "2022-05-22T18:07:34.943Z"
   },
   {
    "duration": 20,
    "start_time": "2022-05-22T18:07:35.090Z"
   },
   {
    "duration": 63,
    "start_time": "2022-05-22T18:07:35.112Z"
   },
   {
    "duration": 11,
    "start_time": "2022-05-22T18:07:35.177Z"
   },
   {
    "duration": 83,
    "start_time": "2022-05-22T18:07:35.189Z"
   },
   {
    "duration": 5,
    "start_time": "2022-05-22T18:07:35.274Z"
   },
   {
    "duration": 46,
    "start_time": "2022-05-22T18:07:35.281Z"
   },
   {
    "duration": 13,
    "start_time": "2022-05-22T18:07:35.329Z"
   },
   {
    "duration": 265,
    "start_time": "2022-05-22T18:07:35.344Z"
   },
   {
    "duration": 13,
    "start_time": "2022-05-22T18:07:35.611Z"
   },
   {
    "duration": 84,
    "start_time": "2022-05-22T18:07:35.628Z"
   },
   {
    "duration": 39,
    "start_time": "2022-05-22T18:47:02.469Z"
   },
   {
    "duration": 6,
    "start_time": "2022-05-22T18:47:14.283Z"
   },
   {
    "duration": 49,
    "start_time": "2022-05-22T18:47:31.812Z"
   },
   {
    "duration": 31,
    "start_time": "2022-05-22T18:47:58.090Z"
   },
   {
    "duration": 31,
    "start_time": "2022-05-22T18:48:06.042Z"
   },
   {
    "duration": 10,
    "start_time": "2022-05-22T18:48:31.735Z"
   },
   {
    "duration": 108,
    "start_time": "2022-05-22T18:49:05.289Z"
   },
   {
    "duration": 5,
    "start_time": "2022-05-22T18:49:10.109Z"
   },
   {
    "duration": 48,
    "start_time": "2022-05-22T18:49:22.747Z"
   },
   {
    "duration": 7,
    "start_time": "2022-05-22T18:49:26.944Z"
   },
   {
    "duration": 21,
    "start_time": "2022-05-22T19:05:14.371Z"
   },
   {
    "duration": 94,
    "start_time": "2022-05-22T20:26:01.320Z"
   },
   {
    "duration": 3,
    "start_time": "2022-05-22T20:48:21.080Z"
   },
   {
    "duration": 4,
    "start_time": "2022-05-22T20:54:32.382Z"
   },
   {
    "duration": 16,
    "start_time": "2022-05-22T20:56:18.553Z"
   },
   {
    "duration": 80,
    "start_time": "2022-05-22T20:56:21.908Z"
   },
   {
    "duration": 4,
    "start_time": "2022-05-22T21:11:41.023Z"
   },
   {
    "duration": 1362,
    "start_time": "2022-05-23T07:09:01.030Z"
   },
   {
    "duration": 2843,
    "start_time": "2022-05-23T07:09:02.394Z"
   },
   {
    "duration": 17,
    "start_time": "2022-05-23T07:09:05.238Z"
   },
   {
    "duration": 22,
    "start_time": "2022-05-23T07:09:05.257Z"
   },
   {
    "duration": 199,
    "start_time": "2022-05-23T07:09:05.280Z"
   },
   {
    "duration": 102,
    "start_time": "2022-05-23T07:09:05.481Z"
   },
   {
    "duration": 33,
    "start_time": "2022-05-23T07:09:05.584Z"
   },
   {
    "duration": 7,
    "start_time": "2022-05-23T07:09:05.618Z"
   },
   {
    "duration": 24,
    "start_time": "2022-05-23T07:09:05.626Z"
   },
   {
    "duration": 5,
    "start_time": "2022-05-23T07:09:05.653Z"
   },
   {
    "duration": 7,
    "start_time": "2022-05-23T07:09:05.660Z"
   },
   {
    "duration": 12,
    "start_time": "2022-05-23T07:09:05.668Z"
   },
   {
    "duration": 206,
    "start_time": "2022-05-23T07:09:05.682Z"
   },
   {
    "duration": 232,
    "start_time": "2022-05-23T07:09:05.889Z"
   },
   {
    "duration": 27,
    "start_time": "2022-05-23T07:09:06.123Z"
   },
   {
    "duration": 13,
    "start_time": "2022-05-23T07:09:06.151Z"
   },
   {
    "duration": 7,
    "start_time": "2022-05-23T07:09:06.165Z"
   },
   {
    "duration": 41,
    "start_time": "2022-05-23T07:09:06.173Z"
   },
   {
    "duration": 17,
    "start_time": "2022-05-23T07:09:06.215Z"
   },
   {
    "duration": 21,
    "start_time": "2022-05-23T07:09:06.233Z"
   },
   {
    "duration": 121,
    "start_time": "2022-05-23T07:09:06.256Z"
   },
   {
    "duration": 5,
    "start_time": "2022-05-23T07:09:06.378Z"
   },
   {
    "duration": 32,
    "start_time": "2022-05-23T07:09:06.384Z"
   },
   {
    "duration": 53,
    "start_time": "2022-05-23T07:09:06.418Z"
   },
   {
    "duration": 7,
    "start_time": "2022-05-23T07:09:06.472Z"
   },
   {
    "duration": 42,
    "start_time": "2022-05-23T07:09:06.480Z"
   },
   {
    "duration": 38,
    "start_time": "2022-05-23T07:09:06.524Z"
   },
   {
    "duration": 13,
    "start_time": "2022-05-23T07:09:06.566Z"
   },
   {
    "duration": 33,
    "start_time": "2022-05-23T07:09:06.581Z"
   },
   {
    "duration": 129,
    "start_time": "2022-05-23T07:09:06.615Z"
   },
   {
    "duration": 145,
    "start_time": "2022-05-23T07:09:06.746Z"
   },
   {
    "duration": 28,
    "start_time": "2022-05-23T07:09:06.892Z"
   },
   {
    "duration": 55,
    "start_time": "2022-05-23T07:09:06.922Z"
   },
   {
    "duration": 9,
    "start_time": "2022-05-23T07:09:06.979Z"
   },
   {
    "duration": 78,
    "start_time": "2022-05-23T07:09:06.989Z"
   },
   {
    "duration": 4,
    "start_time": "2022-05-23T07:09:07.069Z"
   },
   {
    "duration": 37,
    "start_time": "2022-05-23T07:09:07.075Z"
   },
   {
    "duration": 14,
    "start_time": "2022-05-23T07:09:07.114Z"
   },
   {
    "duration": 296,
    "start_time": "2022-05-23T07:09:07.129Z"
   },
   {
    "duration": 12,
    "start_time": "2022-05-23T07:09:07.427Z"
   },
   {
    "duration": 19,
    "start_time": "2022-05-23T07:09:07.442Z"
   },
   {
    "duration": 91,
    "start_time": "2022-05-23T07:09:07.464Z"
   },
   {
    "duration": 66,
    "start_time": "2022-05-23T07:09:07.557Z"
   },
   {
    "duration": 5,
    "start_time": "2022-05-23T07:09:07.625Z"
   },
   {
    "duration": 19,
    "start_time": "2022-05-23T07:09:07.631Z"
   },
   {
    "duration": 104,
    "start_time": "2022-05-23T07:09:07.652Z"
   },
   {
    "duration": 109,
    "start_time": "2022-05-23T07:09:07.757Z"
   },
   {
    "duration": 0,
    "start_time": "2022-05-23T07:09:07.868Z"
   },
   {
    "duration": 3,
    "start_time": "2022-05-23T07:11:19.926Z"
   },
   {
    "duration": 754,
    "start_time": "2022-05-23T07:11:19.946Z"
   },
   {
    "duration": 25,
    "start_time": "2022-05-23T07:11:20.702Z"
   },
   {
    "duration": 33,
    "start_time": "2022-05-23T07:11:20.729Z"
   },
   {
    "duration": 136,
    "start_time": "2022-05-23T07:11:20.764Z"
   },
   {
    "duration": 100,
    "start_time": "2022-05-23T07:11:20.903Z"
   },
   {
    "duration": 29,
    "start_time": "2022-05-23T07:11:21.012Z"
   },
   {
    "duration": 8,
    "start_time": "2022-05-23T07:11:21.043Z"
   },
   {
    "duration": 38,
    "start_time": "2022-05-23T07:11:21.053Z"
   },
   {
    "duration": 26,
    "start_time": "2022-05-23T07:11:21.093Z"
   },
   {
    "duration": 17,
    "start_time": "2022-05-23T07:11:21.121Z"
   },
   {
    "duration": 67,
    "start_time": "2022-05-23T07:11:21.140Z"
   },
   {
    "duration": 22,
    "start_time": "2022-05-23T07:11:21.208Z"
   },
   {
    "duration": 38,
    "start_time": "2022-05-23T07:19:11.873Z"
   },
   {
    "duration": 36,
    "start_time": "2022-05-23T07:19:13.833Z"
   },
   {
    "duration": 23,
    "start_time": "2022-05-23T07:19:27.589Z"
   },
   {
    "duration": 16,
    "start_time": "2022-05-23T07:19:42.493Z"
   },
   {
    "duration": 49,
    "start_time": "2022-05-23T07:20:17.463Z"
   },
   {
    "duration": 3013,
    "start_time": "2022-05-23T08:32:23.301Z"
   },
   {
    "duration": 488,
    "start_time": "2022-05-23T08:33:31.578Z"
   },
   {
    "duration": 9,
    "start_time": "2022-05-23T08:40:15.941Z"
   },
   {
    "duration": 5,
    "start_time": "2022-05-23T08:47:04.177Z"
   },
   {
    "duration": 19,
    "start_time": "2022-05-23T09:44:46.665Z"
   },
   {
    "duration": 11,
    "start_time": "2022-05-23T09:45:01.300Z"
   },
   {
    "duration": 277,
    "start_time": "2022-05-23T09:45:22.585Z"
   },
   {
    "duration": 17,
    "start_time": "2022-05-23T09:45:28.967Z"
   },
   {
    "duration": 69,
    "start_time": "2022-05-23T10:05:07.318Z"
   },
   {
    "duration": 13,
    "start_time": "2022-05-23T10:05:15.190Z"
   },
   {
    "duration": 555,
    "start_time": "2022-05-23T10:05:28.584Z"
   },
   {
    "duration": 449,
    "start_time": "2022-05-23T10:05:49.298Z"
   },
   {
    "duration": 143,
    "start_time": "2022-05-23T10:06:15.557Z"
   },
   {
    "duration": 4,
    "start_time": "2022-05-23T10:06:42.254Z"
   },
   {
    "duration": 3,
    "start_time": "2022-05-23T10:06:53.416Z"
   },
   {
    "duration": 19,
    "start_time": "2022-05-23T10:07:02.315Z"
   },
   {
    "duration": 80,
    "start_time": "2022-05-23T10:12:25.992Z"
   },
   {
    "duration": 131,
    "start_time": "2022-05-23T10:12:30.413Z"
   },
   {
    "duration": 18,
    "start_time": "2022-05-23T10:22:08.121Z"
   },
   {
    "duration": 16,
    "start_time": "2022-05-23T10:22:13.959Z"
   },
   {
    "duration": 13,
    "start_time": "2022-05-23T10:22:19.509Z"
   },
   {
    "duration": 61,
    "start_time": "2022-05-23T10:22:29.455Z"
   },
   {
    "duration": 109,
    "start_time": "2022-05-23T10:22:38.367Z"
   },
   {
    "duration": 64,
    "start_time": "2022-05-23T10:23:33.580Z"
   },
   {
    "duration": 13,
    "start_time": "2022-05-23T10:37:17.187Z"
   },
   {
    "duration": 616,
    "start_time": "2022-05-23T10:38:19.086Z"
   },
   {
    "duration": 2402,
    "start_time": "2022-05-23T10:38:44.337Z"
   },
   {
    "duration": 3,
    "start_time": "2022-05-23T10:38:46.742Z"
   },
   {
    "duration": 822,
    "start_time": "2022-05-23T10:38:46.747Z"
   },
   {
    "duration": 14,
    "start_time": "2022-05-23T10:38:47.571Z"
   },
   {
    "duration": 6,
    "start_time": "2022-05-23T10:38:47.587Z"
   },
   {
    "duration": 155,
    "start_time": "2022-05-23T10:38:47.595Z"
   },
   {
    "duration": 100,
    "start_time": "2022-05-23T10:38:47.752Z"
   },
   {
    "duration": 27,
    "start_time": "2022-05-23T10:38:47.854Z"
   },
   {
    "duration": 30,
    "start_time": "2022-05-23T10:38:47.883Z"
   },
   {
    "duration": 15,
    "start_time": "2022-05-23T10:38:47.916Z"
   },
   {
    "duration": 5,
    "start_time": "2022-05-23T10:38:47.933Z"
   },
   {
    "duration": 12,
    "start_time": "2022-05-23T10:38:47.940Z"
   },
   {
    "duration": 14,
    "start_time": "2022-05-23T10:38:47.954Z"
   },
   {
    "duration": 188,
    "start_time": "2022-05-23T10:38:47.970Z"
   },
   {
    "duration": 205,
    "start_time": "2022-05-23T10:38:48.161Z"
   },
   {
    "duration": 34,
    "start_time": "2022-05-23T10:38:48.368Z"
   },
   {
    "duration": 8,
    "start_time": "2022-05-23T10:38:48.411Z"
   },
   {
    "duration": 7,
    "start_time": "2022-05-23T10:38:48.421Z"
   },
   {
    "duration": 23,
    "start_time": "2022-05-23T10:38:48.430Z"
   },
   {
    "duration": 17,
    "start_time": "2022-05-23T10:38:48.455Z"
   },
   {
    "duration": 38,
    "start_time": "2022-05-23T10:38:48.474Z"
   },
   {
    "duration": 176,
    "start_time": "2022-05-23T10:38:48.514Z"
   },
   {
    "duration": 6,
    "start_time": "2022-05-23T10:38:48.693Z"
   },
   {
    "duration": 29,
    "start_time": "2022-05-23T10:38:48.700Z"
   },
   {
    "duration": 59,
    "start_time": "2022-05-23T10:38:48.731Z"
   },
   {
    "duration": 27,
    "start_time": "2022-05-23T10:38:48.791Z"
   },
   {
    "duration": 30,
    "start_time": "2022-05-23T10:38:48.819Z"
   },
   {
    "duration": 70,
    "start_time": "2022-05-23T10:38:48.854Z"
   },
   {
    "duration": 14,
    "start_time": "2022-05-23T10:38:48.926Z"
   },
   {
    "duration": 22,
    "start_time": "2022-05-23T10:38:48.942Z"
   },
   {
    "duration": 171,
    "start_time": "2022-05-23T10:38:48.966Z"
   },
   {
    "duration": 161,
    "start_time": "2022-05-23T10:38:49.138Z"
   },
   {
    "duration": 25,
    "start_time": "2022-05-23T10:38:49.301Z"
   },
   {
    "duration": 58,
    "start_time": "2022-05-23T10:38:49.328Z"
   },
   {
    "duration": 24,
    "start_time": "2022-05-23T10:38:49.388Z"
   },
   {
    "duration": 70,
    "start_time": "2022-05-23T10:38:49.414Z"
   },
   {
    "duration": 6,
    "start_time": "2022-05-23T10:38:49.485Z"
   },
   {
    "duration": 36,
    "start_time": "2022-05-23T10:38:49.492Z"
   },
   {
    "duration": 15,
    "start_time": "2022-05-23T10:38:49.530Z"
   },
   {
    "duration": 290,
    "start_time": "2022-05-23T10:38:49.547Z"
   },
   {
    "duration": 14,
    "start_time": "2022-05-23T10:38:49.839Z"
   },
   {
    "duration": 21,
    "start_time": "2022-05-23T10:38:49.855Z"
   },
   {
    "duration": 107,
    "start_time": "2022-05-23T10:38:49.878Z"
   },
   {
    "duration": 68,
    "start_time": "2022-05-23T10:38:49.987Z"
   },
   {
    "duration": 584,
    "start_time": "2022-05-23T10:38:50.057Z"
   },
   {
    "duration": 2704,
    "start_time": "2022-05-23T10:40:33.974Z"
   },
   {
    "duration": 5,
    "start_time": "2022-05-23T10:40:36.681Z"
   },
   {
    "duration": 826,
    "start_time": "2022-05-23T10:40:36.688Z"
   },
   {
    "duration": 13,
    "start_time": "2022-05-23T10:40:37.517Z"
   },
   {
    "duration": 8,
    "start_time": "2022-05-23T10:40:37.532Z"
   },
   {
    "duration": 135,
    "start_time": "2022-05-23T10:40:37.542Z"
   },
   {
    "duration": 115,
    "start_time": "2022-05-23T10:40:37.679Z"
   },
   {
    "duration": 37,
    "start_time": "2022-05-23T10:40:37.796Z"
   },
   {
    "duration": 11,
    "start_time": "2022-05-23T10:40:37.835Z"
   },
   {
    "duration": 17,
    "start_time": "2022-05-23T10:40:37.849Z"
   },
   {
    "duration": 5,
    "start_time": "2022-05-23T10:40:37.867Z"
   },
   {
    "duration": 6,
    "start_time": "2022-05-23T10:40:37.873Z"
   },
   {
    "duration": 41,
    "start_time": "2022-05-23T10:40:37.880Z"
   },
   {
    "duration": 170,
    "start_time": "2022-05-23T10:40:37.923Z"
   },
   {
    "duration": 201,
    "start_time": "2022-05-23T10:40:38.095Z"
   },
   {
    "duration": 29,
    "start_time": "2022-05-23T10:40:38.298Z"
   },
   {
    "duration": 16,
    "start_time": "2022-05-23T10:40:38.330Z"
   },
   {
    "duration": 12,
    "start_time": "2022-05-23T10:40:38.348Z"
   },
   {
    "duration": 21,
    "start_time": "2022-05-23T10:40:38.362Z"
   },
   {
    "duration": 49,
    "start_time": "2022-05-23T10:40:38.385Z"
   },
   {
    "duration": 17,
    "start_time": "2022-05-23T10:40:38.437Z"
   },
   {
    "duration": 132,
    "start_time": "2022-05-23T10:40:38.456Z"
   },
   {
    "duration": 5,
    "start_time": "2022-05-23T10:40:38.590Z"
   },
   {
    "duration": 36,
    "start_time": "2022-05-23T10:40:38.596Z"
   },
   {
    "duration": 54,
    "start_time": "2022-05-23T10:40:38.634Z"
   },
   {
    "duration": 27,
    "start_time": "2022-05-23T10:40:38.689Z"
   },
   {
    "duration": 35,
    "start_time": "2022-05-23T10:40:38.718Z"
   },
   {
    "duration": 52,
    "start_time": "2022-05-23T10:40:38.758Z"
   },
   {
    "duration": 18,
    "start_time": "2022-05-23T10:40:38.812Z"
   },
   {
    "duration": 38,
    "start_time": "2022-05-23T10:40:38.832Z"
   },
   {
    "duration": 254,
    "start_time": "2022-05-23T10:40:38.872Z"
   },
   {
    "duration": 166,
    "start_time": "2022-05-23T10:40:39.128Z"
   },
   {
    "duration": 28,
    "start_time": "2022-05-23T10:40:39.296Z"
   },
   {
    "duration": 59,
    "start_time": "2022-05-23T10:40:39.326Z"
   },
   {
    "duration": 28,
    "start_time": "2022-05-23T10:40:39.387Z"
   },
   {
    "duration": 67,
    "start_time": "2022-05-23T10:40:39.417Z"
   },
   {
    "duration": 9,
    "start_time": "2022-05-23T10:40:39.486Z"
   },
   {
    "duration": 22,
    "start_time": "2022-05-23T10:40:39.513Z"
   },
   {
    "duration": 14,
    "start_time": "2022-05-23T10:40:39.537Z"
   },
   {
    "duration": 322,
    "start_time": "2022-05-23T10:40:39.553Z"
   },
   {
    "duration": 14,
    "start_time": "2022-05-23T10:40:39.877Z"
   },
   {
    "duration": 30,
    "start_time": "2022-05-23T10:40:39.893Z"
   },
   {
    "duration": 80,
    "start_time": "2022-05-23T10:40:39.925Z"
   },
   {
    "duration": 59,
    "start_time": "2022-05-23T10:40:40.012Z"
   },
   {
    "duration": 542,
    "start_time": "2022-05-23T10:40:40.074Z"
   },
   {
    "duration": 2187,
    "start_time": "2022-05-23T10:43:05.201Z"
   },
   {
    "duration": 4,
    "start_time": "2022-05-23T10:43:07.391Z"
   },
   {
    "duration": 762,
    "start_time": "2022-05-23T10:43:07.396Z"
   },
   {
    "duration": 15,
    "start_time": "2022-05-23T10:43:08.159Z"
   },
   {
    "duration": 6,
    "start_time": "2022-05-23T10:43:08.176Z"
   },
   {
    "duration": 127,
    "start_time": "2022-05-23T10:43:08.183Z"
   },
   {
    "duration": 88,
    "start_time": "2022-05-23T10:43:08.311Z"
   },
   {
    "duration": 35,
    "start_time": "2022-05-23T10:43:08.401Z"
   },
   {
    "duration": 7,
    "start_time": "2022-05-23T10:43:08.438Z"
   },
   {
    "duration": 15,
    "start_time": "2022-05-23T10:43:08.449Z"
   },
   {
    "duration": 4,
    "start_time": "2022-05-23T10:43:08.466Z"
   },
   {
    "duration": 41,
    "start_time": "2022-05-23T10:43:08.472Z"
   },
   {
    "duration": 15,
    "start_time": "2022-05-23T10:43:08.515Z"
   },
   {
    "duration": 160,
    "start_time": "2022-05-23T10:43:08.532Z"
   },
   {
    "duration": 190,
    "start_time": "2022-05-23T10:43:08.694Z"
   },
   {
    "duration": 33,
    "start_time": "2022-05-23T10:43:08.886Z"
   },
   {
    "duration": 7,
    "start_time": "2022-05-23T10:43:08.921Z"
   },
   {
    "duration": 6,
    "start_time": "2022-05-23T10:43:08.930Z"
   },
   {
    "duration": 22,
    "start_time": "2022-05-23T10:43:08.937Z"
   },
   {
    "duration": 53,
    "start_time": "2022-05-23T10:43:08.961Z"
   },
   {
    "duration": 10,
    "start_time": "2022-05-23T10:43:09.015Z"
   },
   {
    "duration": 133,
    "start_time": "2022-05-23T10:43:09.026Z"
   },
   {
    "duration": 5,
    "start_time": "2022-05-23T10:43:09.160Z"
   },
   {
    "duration": 24,
    "start_time": "2022-05-23T10:43:09.166Z"
   },
   {
    "duration": 64,
    "start_time": "2022-05-23T10:43:09.192Z"
   },
   {
    "duration": 7,
    "start_time": "2022-05-23T10:43:09.258Z"
   },
   {
    "duration": 28,
    "start_time": "2022-05-23T10:43:09.267Z"
   },
   {
    "duration": 50,
    "start_time": "2022-05-23T10:43:09.298Z"
   },
   {
    "duration": 13,
    "start_time": "2022-05-23T10:43:09.350Z"
   },
   {
    "duration": 19,
    "start_time": "2022-05-23T10:43:09.364Z"
   },
   {
    "duration": 163,
    "start_time": "2022-05-23T10:43:09.385Z"
   },
   {
    "duration": 150,
    "start_time": "2022-05-23T10:43:09.550Z"
   },
   {
    "duration": 22,
    "start_time": "2022-05-23T10:43:09.701Z"
   },
   {
    "duration": 54,
    "start_time": "2022-05-23T10:43:09.725Z"
   },
   {
    "duration": 8,
    "start_time": "2022-05-23T10:43:09.780Z"
   },
   {
    "duration": 81,
    "start_time": "2022-05-23T10:43:09.790Z"
   },
   {
    "duration": 4,
    "start_time": "2022-05-23T10:43:09.873Z"
   },
   {
    "duration": 34,
    "start_time": "2022-05-23T10:43:09.878Z"
   },
   {
    "duration": 13,
    "start_time": "2022-05-23T10:43:09.914Z"
   },
   {
    "duration": 266,
    "start_time": "2022-05-23T10:43:09.928Z"
   },
   {
    "duration": 17,
    "start_time": "2022-05-23T10:43:10.196Z"
   },
   {
    "duration": 19,
    "start_time": "2022-05-23T10:43:10.214Z"
   },
   {
    "duration": 81,
    "start_time": "2022-05-23T10:43:10.235Z"
   },
   {
    "duration": 56,
    "start_time": "2022-05-23T10:43:10.317Z"
   },
   {
    "duration": 587,
    "start_time": "2022-05-23T10:43:10.375Z"
   },
   {
    "duration": 8,
    "start_time": "2022-05-23T10:47:45.121Z"
   },
   {
    "duration": 2487,
    "start_time": "2022-05-23T10:47:55.966Z"
   },
   {
    "duration": 4,
    "start_time": "2022-05-23T10:47:58.456Z"
   },
   {
    "duration": 833,
    "start_time": "2022-05-23T10:47:58.462Z"
   },
   {
    "duration": 31,
    "start_time": "2022-05-23T10:47:59.297Z"
   },
   {
    "duration": 9,
    "start_time": "2022-05-23T10:47:59.331Z"
   },
   {
    "duration": 138,
    "start_time": "2022-05-23T10:47:59.342Z"
   },
   {
    "duration": 105,
    "start_time": "2022-05-23T10:47:59.482Z"
   },
   {
    "duration": 42,
    "start_time": "2022-05-23T10:47:59.589Z"
   },
   {
    "duration": 7,
    "start_time": "2022-05-23T10:47:59.633Z"
   },
   {
    "duration": 19,
    "start_time": "2022-05-23T10:47:59.643Z"
   },
   {
    "duration": 4,
    "start_time": "2022-05-23T10:47:59.664Z"
   },
   {
    "duration": 10,
    "start_time": "2022-05-23T10:47:59.671Z"
   },
   {
    "duration": 46,
    "start_time": "2022-05-23T10:47:59.683Z"
   },
   {
    "duration": 188,
    "start_time": "2022-05-23T10:47:59.730Z"
   },
   {
    "duration": 236,
    "start_time": "2022-05-23T10:47:59.920Z"
   },
   {
    "duration": 30,
    "start_time": "2022-05-23T10:48:00.159Z"
   },
   {
    "duration": 18,
    "start_time": "2022-05-23T10:48:00.191Z"
   },
   {
    "duration": 37,
    "start_time": "2022-05-23T10:48:00.212Z"
   },
   {
    "duration": 26,
    "start_time": "2022-05-23T10:48:00.251Z"
   },
   {
    "duration": 17,
    "start_time": "2022-05-23T10:48:00.279Z"
   },
   {
    "duration": 10,
    "start_time": "2022-05-23T10:48:00.299Z"
   },
   {
    "duration": 126,
    "start_time": "2022-05-23T10:48:00.310Z"
   },
   {
    "duration": 6,
    "start_time": "2022-05-23T10:48:00.438Z"
   },
   {
    "duration": 30,
    "start_time": "2022-05-23T10:48:00.446Z"
   },
   {
    "duration": 82,
    "start_time": "2022-05-23T10:48:00.478Z"
   },
   {
    "duration": 7,
    "start_time": "2022-05-23T10:48:00.562Z"
   },
   {
    "duration": 55,
    "start_time": "2022-05-23T10:48:00.571Z"
   },
   {
    "duration": 41,
    "start_time": "2022-05-23T10:48:00.631Z"
   },
   {
    "duration": 19,
    "start_time": "2022-05-23T10:48:00.674Z"
   },
   {
    "duration": 27,
    "start_time": "2022-05-23T10:48:00.695Z"
   },
   {
    "duration": 163,
    "start_time": "2022-05-23T10:48:00.724Z"
   },
   {
    "duration": 185,
    "start_time": "2022-05-23T10:48:00.889Z"
   },
   {
    "duration": 22,
    "start_time": "2022-05-23T10:48:01.076Z"
   },
   {
    "duration": 108,
    "start_time": "2022-05-23T10:48:01.112Z"
   },
   {
    "duration": 10,
    "start_time": "2022-05-23T10:48:01.226Z"
   },
   {
    "duration": 90,
    "start_time": "2022-05-23T10:48:01.238Z"
   },
   {
    "duration": 6,
    "start_time": "2022-05-23T10:48:01.329Z"
   },
   {
    "duration": 24,
    "start_time": "2022-05-23T10:48:01.337Z"
   },
   {
    "duration": 14,
    "start_time": "2022-05-23T10:48:01.362Z"
   },
   {
    "duration": 390,
    "start_time": "2022-05-23T10:48:01.378Z"
   },
   {
    "duration": 16,
    "start_time": "2022-05-23T10:48:01.771Z"
   },
   {
    "duration": 42,
    "start_time": "2022-05-23T10:48:01.788Z"
   },
   {
    "duration": 85,
    "start_time": "2022-05-23T10:48:01.837Z"
   },
   {
    "duration": 66,
    "start_time": "2022-05-23T10:48:01.925Z"
   },
   {
    "duration": 22,
    "start_time": "2022-05-23T10:48:01.994Z"
   },
   {
    "duration": 1007,
    "start_time": "2022-05-23T10:49:14.202Z"
   },
   {
    "duration": 41,
    "start_time": "2022-05-23T10:49:20.944Z"
   },
   {
    "duration": 31,
    "start_time": "2022-05-23T10:49:26.450Z"
   },
   {
    "duration": 18,
    "start_time": "2022-05-23T10:49:48.958Z"
   },
   {
    "duration": 28,
    "start_time": "2022-05-23T10:49:53.529Z"
   },
   {
    "duration": 70,
    "start_time": "2022-05-23T10:51:11.398Z"
   },
   {
    "duration": 3031,
    "start_time": "2022-05-23T17:47:01.760Z"
   },
   {
    "duration": 1730,
    "start_time": "2022-05-23T17:47:04.793Z"
   },
   {
    "duration": 4124,
    "start_time": "2022-05-23T17:47:06.527Z"
   },
   {
    "duration": 21,
    "start_time": "2022-05-23T17:47:10.654Z"
   },
   {
    "duration": 19,
    "start_time": "2022-05-23T17:47:10.677Z"
   },
   {
    "duration": 151,
    "start_time": "2022-05-23T17:47:10.710Z"
   },
   {
    "duration": 170,
    "start_time": "2022-05-23T17:47:10.862Z"
   },
   {
    "duration": 37,
    "start_time": "2022-05-23T17:47:11.034Z"
   },
   {
    "duration": 12,
    "start_time": "2022-05-23T17:47:11.094Z"
   },
   {
    "duration": 27,
    "start_time": "2022-05-23T17:47:11.110Z"
   },
   {
    "duration": 17,
    "start_time": "2022-05-23T17:47:11.139Z"
   },
   {
    "duration": 21,
    "start_time": "2022-05-23T17:47:11.158Z"
   },
   {
    "duration": 35,
    "start_time": "2022-05-23T17:47:11.181Z"
   },
   {
    "duration": 250,
    "start_time": "2022-05-23T17:47:11.221Z"
   },
   {
    "duration": 375,
    "start_time": "2022-05-23T17:47:11.472Z"
   },
   {
    "duration": 37,
    "start_time": "2022-05-23T17:47:11.848Z"
   },
   {
    "duration": 19,
    "start_time": "2022-05-23T17:47:11.890Z"
   },
   {
    "duration": 11,
    "start_time": "2022-05-23T17:47:11.915Z"
   },
   {
    "duration": 41,
    "start_time": "2022-05-23T17:47:11.928Z"
   },
   {
    "duration": 49,
    "start_time": "2022-05-23T17:47:11.972Z"
   },
   {
    "duration": 10,
    "start_time": "2022-05-23T17:47:12.023Z"
   },
   {
    "duration": 196,
    "start_time": "2022-05-23T17:47:12.035Z"
   },
   {
    "duration": 6,
    "start_time": "2022-05-23T17:47:12.233Z"
   },
   {
    "duration": 35,
    "start_time": "2022-05-23T17:47:12.241Z"
   },
   {
    "duration": 78,
    "start_time": "2022-05-23T17:47:12.278Z"
   },
   {
    "duration": 6,
    "start_time": "2022-05-23T17:47:12.358Z"
   },
   {
    "duration": 68,
    "start_time": "2022-05-23T17:47:12.366Z"
   },
   {
    "duration": 67,
    "start_time": "2022-05-23T17:47:12.438Z"
   },
   {
    "duration": 27,
    "start_time": "2022-05-23T17:47:12.508Z"
   },
   {
    "duration": 18,
    "start_time": "2022-05-23T17:47:12.537Z"
   },
   {
    "duration": 196,
    "start_time": "2022-05-23T17:47:12.557Z"
   },
   {
    "duration": 187,
    "start_time": "2022-05-23T17:47:12.755Z"
   },
   {
    "duration": 27,
    "start_time": "2022-05-23T17:47:12.944Z"
   },
   {
    "duration": 87,
    "start_time": "2022-05-23T17:47:12.973Z"
   },
   {
    "duration": 10,
    "start_time": "2022-05-23T17:47:13.061Z"
   },
   {
    "duration": 92,
    "start_time": "2022-05-23T17:47:13.073Z"
   },
   {
    "duration": 5,
    "start_time": "2022-05-23T17:47:13.167Z"
   },
   {
    "duration": 29,
    "start_time": "2022-05-23T17:47:13.183Z"
   },
   {
    "duration": 16,
    "start_time": "2022-05-23T17:47:13.216Z"
   },
   {
    "duration": 332,
    "start_time": "2022-05-23T17:47:13.234Z"
   },
   {
    "duration": 20,
    "start_time": "2022-05-23T17:47:13.568Z"
   },
   {
    "duration": 29,
    "start_time": "2022-05-23T17:47:13.597Z"
   },
   {
    "duration": 96,
    "start_time": "2022-05-23T17:47:13.628Z"
   },
   {
    "duration": 87,
    "start_time": "2022-05-23T17:47:13.725Z"
   },
   {
    "duration": 7,
    "start_time": "2022-05-23T17:47:13.817Z"
   },
   {
    "duration": 1583,
    "start_time": "2022-05-23T17:47:13.825Z"
   },
   {
    "duration": 19,
    "start_time": "2022-05-23T17:47:15.411Z"
   },
   {
    "duration": 69,
    "start_time": "2022-05-23T17:47:15.431Z"
   },
   {
    "duration": 6,
    "start_time": "2022-05-23T17:47:15.502Z"
   },
   {
    "duration": 88,
    "start_time": "2022-05-23T17:47:15.510Z"
   },
   {
    "duration": 221,
    "start_time": "2022-05-23T17:47:15.600Z"
   },
   {
    "duration": 4,
    "start_time": "2022-05-23T17:47:15.823Z"
   },
   {
    "duration": 86,
    "start_time": "2022-05-23T17:47:15.829Z"
   },
   {
    "duration": 404,
    "start_time": "2022-05-23T17:47:15.917Z"
   },
   {
    "duration": 0,
    "start_time": "2022-05-23T17:47:16.323Z"
   },
   {
    "duration": 46,
    "start_time": "2022-05-23T17:58:25.702Z"
   },
   {
    "duration": 4,
    "start_time": "2022-05-23T18:05:37.608Z"
   },
   {
    "duration": 2526,
    "start_time": "2022-05-23T18:31:58.213Z"
   },
   {
    "duration": 2527,
    "start_time": "2022-05-23T18:33:34.783Z"
   },
   {
    "duration": 4,
    "start_time": "2022-05-23T18:39:30.707Z"
   },
   {
    "duration": 138873,
    "start_time": "2022-05-23T18:57:20.750Z"
   },
   {
    "duration": 132616,
    "start_time": "2022-05-23T19:04:20.970Z"
   },
   {
    "duration": 140099,
    "start_time": "2022-05-23T19:17:09.646Z"
   },
   {
    "duration": 554477,
    "start_time": "2022-05-23T19:19:29.749Z"
   },
   {
    "duration": 64347,
    "start_time": "2022-05-23T19:29:21.763Z"
   },
   {
    "duration": 72659,
    "start_time": "2022-05-23T19:30:31.778Z"
   },
   {
    "duration": 386797,
    "start_time": "2022-05-23T19:34:05.580Z"
   },
   {
    "duration": 301332,
    "start_time": "2022-05-23T19:41:00.527Z"
   },
   {
    "duration": 360008,
    "start_time": "2022-05-23T19:46:17.010Z"
   },
   {
    "duration": 41690,
    "start_time": "2022-05-23T19:52:59.275Z"
   },
   {
    "duration": 173132,
    "start_time": "2022-05-23T19:53:45.860Z"
   },
   {
    "duration": 8,
    "start_time": "2022-05-23T19:57:24.690Z"
   },
   {
    "duration": 607300,
    "start_time": "2022-05-23T19:59:27.518Z"
   },
   {
    "duration": 2486,
    "start_time": "2022-05-23T20:09:34.820Z"
   },
   {
    "duration": 87071,
    "start_time": "2022-05-23T20:09:43.921Z"
   },
   {
    "duration": 3386,
    "start_time": "2022-05-24T10:24:27.710Z"
   },
   {
    "duration": 1784,
    "start_time": "2022-05-24T10:24:31.098Z"
   },
   {
    "duration": 3120,
    "start_time": "2022-05-24T10:24:32.884Z"
   },
   {
    "duration": 17,
    "start_time": "2022-05-24T10:24:36.006Z"
   },
   {
    "duration": 10,
    "start_time": "2022-05-24T10:24:36.024Z"
   },
   {
    "duration": 142,
    "start_time": "2022-05-24T10:24:36.036Z"
   },
   {
    "duration": 123,
    "start_time": "2022-05-24T10:24:36.180Z"
   },
   {
    "duration": 29,
    "start_time": "2022-05-24T10:24:36.305Z"
   },
   {
    "duration": 8,
    "start_time": "2022-05-24T10:24:36.335Z"
   },
   {
    "duration": 53,
    "start_time": "2022-05-24T10:24:36.347Z"
   },
   {
    "duration": 4,
    "start_time": "2022-05-24T10:24:36.402Z"
   },
   {
    "duration": 9,
    "start_time": "2022-05-24T10:24:36.407Z"
   },
   {
    "duration": 15,
    "start_time": "2022-05-24T10:24:36.417Z"
   },
   {
    "duration": 219,
    "start_time": "2022-05-24T10:24:36.434Z"
   },
   {
    "duration": 270,
    "start_time": "2022-05-24T10:24:36.655Z"
   },
   {
    "duration": 33,
    "start_time": "2022-05-24T10:24:36.927Z"
   },
   {
    "duration": 8,
    "start_time": "2022-05-24T10:24:36.962Z"
   },
   {
    "duration": 28,
    "start_time": "2022-05-24T10:24:36.972Z"
   },
   {
    "duration": 31,
    "start_time": "2022-05-24T10:24:37.002Z"
   },
   {
    "duration": 22,
    "start_time": "2022-05-24T10:24:37.036Z"
   },
   {
    "duration": 13,
    "start_time": "2022-05-24T10:24:37.060Z"
   },
   {
    "duration": 157,
    "start_time": "2022-05-24T10:24:37.094Z"
   },
   {
    "duration": 8,
    "start_time": "2022-05-24T10:24:37.253Z"
   },
   {
    "duration": 42,
    "start_time": "2022-05-24T10:24:37.263Z"
   },
   {
    "duration": 64,
    "start_time": "2022-05-24T10:24:37.307Z"
   },
   {
    "duration": 24,
    "start_time": "2022-05-24T10:24:37.372Z"
   },
   {
    "duration": 31,
    "start_time": "2022-05-24T10:24:37.397Z"
   },
   {
    "duration": 63,
    "start_time": "2022-05-24T10:24:37.432Z"
   },
   {
    "duration": 16,
    "start_time": "2022-05-24T10:24:37.497Z"
   },
   {
    "duration": 25,
    "start_time": "2022-05-24T10:24:37.514Z"
   },
   {
    "duration": 159,
    "start_time": "2022-05-24T10:24:37.541Z"
   },
   {
    "duration": 169,
    "start_time": "2022-05-24T10:24:37.702Z"
   },
   {
    "duration": 33,
    "start_time": "2022-05-24T10:24:37.873Z"
   },
   {
    "duration": 66,
    "start_time": "2022-05-24T10:24:37.907Z"
   },
   {
    "duration": 24,
    "start_time": "2022-05-24T10:24:37.975Z"
   },
   {
    "duration": 73,
    "start_time": "2022-05-24T10:24:38.001Z"
   },
   {
    "duration": 4,
    "start_time": "2022-05-24T10:24:38.076Z"
   },
   {
    "duration": 20,
    "start_time": "2022-05-24T10:24:38.095Z"
   },
   {
    "duration": 15,
    "start_time": "2022-05-24T10:24:38.116Z"
   },
   {
    "duration": 316,
    "start_time": "2022-05-24T10:24:38.132Z"
   },
   {
    "duration": 15,
    "start_time": "2022-05-24T10:24:38.450Z"
   },
   {
    "duration": 35,
    "start_time": "2022-05-24T10:24:38.467Z"
   },
   {
    "duration": 80,
    "start_time": "2022-05-24T10:24:38.504Z"
   },
   {
    "duration": 6,
    "start_time": "2022-05-24T10:24:38.595Z"
   },
   {
    "duration": 1100,
    "start_time": "2022-05-24T10:24:38.603Z"
   },
   {
    "duration": 18,
    "start_time": "2022-05-24T10:24:39.705Z"
   },
   {
    "duration": 20,
    "start_time": "2022-05-24T10:24:39.725Z"
   },
   {
    "duration": 2354,
    "start_time": "2022-05-24T10:24:39.747Z"
   },
   {
    "duration": 74009,
    "start_time": "2022-05-24T10:24:42.104Z"
   },
   {
    "duration": 97406,
    "start_time": "2022-05-24T10:27:05.954Z"
   },
   {
    "duration": 7059,
    "start_time": "2022-05-24T10:28:43.362Z"
   },
   {
    "duration": 98841,
    "start_time": "2022-05-24T10:29:03.110Z"
   },
   {
    "duration": 73807,
    "start_time": "2022-05-24T10:30:46.347Z"
   },
   {
    "duration": 298079,
    "start_time": "2022-05-24T10:33:31.975Z"
   },
   {
    "duration": 133032,
    "start_time": "2022-05-24T10:39:46.032Z"
   },
   {
    "duration": 476434,
    "start_time": "2022-05-24T10:42:34.929Z"
   },
   {
    "duration": 932084,
    "start_time": "2022-05-24T10:57:30.698Z"
   },
   {
    "duration": 34,
    "start_time": "2022-05-24T11:13:02.784Z"
   },
   {
    "duration": 4,
    "start_time": "2022-05-24T11:14:21.260Z"
   },
   {
    "duration": 4,
    "start_time": "2022-05-24T11:14:50.558Z"
   },
   {
    "duration": 6,
    "start_time": "2022-05-24T11:18:11.820Z"
   },
   {
    "duration": 5,
    "start_time": "2022-05-24T11:24:24.704Z"
   },
   {
    "duration": 55,
    "start_time": "2022-05-24T11:24:52.619Z"
   },
   {
    "duration": 6,
    "start_time": "2022-05-24T11:25:03.859Z"
   },
   {
    "duration": 6,
    "start_time": "2022-05-24T11:25:26.197Z"
   },
   {
    "duration": 3768,
    "start_time": "2022-05-24T12:08:20.073Z"
   },
   {
    "duration": 300,
    "start_time": "2022-05-24T12:09:38.389Z"
   },
   {
    "duration": 23,
    "start_time": "2022-05-24T12:19:50.891Z"
   },
   {
    "duration": 2938,
    "start_time": "2022-05-24T18:02:24.647Z"
   },
   {
    "duration": 2373,
    "start_time": "2022-05-24T18:02:27.589Z"
   },
   {
    "duration": 1639,
    "start_time": "2022-05-24T18:02:29.964Z"
   },
   {
    "duration": 2888,
    "start_time": "2022-05-24T18:02:31.605Z"
   },
   {
    "duration": 18,
    "start_time": "2022-05-24T18:02:34.495Z"
   },
   {
    "duration": 4,
    "start_time": "2022-05-24T18:02:34.515Z"
   },
   {
    "duration": 130,
    "start_time": "2022-05-24T18:02:34.521Z"
   },
   {
    "duration": 118,
    "start_time": "2022-05-24T18:02:34.653Z"
   },
   {
    "duration": 36,
    "start_time": "2022-05-24T18:02:34.773Z"
   },
   {
    "duration": 7,
    "start_time": "2022-05-24T18:02:34.811Z"
   },
   {
    "duration": 26,
    "start_time": "2022-05-24T18:02:34.819Z"
   },
   {
    "duration": 8,
    "start_time": "2022-05-24T18:02:34.846Z"
   },
   {
    "duration": 29,
    "start_time": "2022-05-24T18:02:34.855Z"
   },
   {
    "duration": 14,
    "start_time": "2022-05-24T18:02:34.887Z"
   },
   {
    "duration": 207,
    "start_time": "2022-05-24T18:02:34.903Z"
   },
   {
    "duration": 225,
    "start_time": "2022-05-24T18:02:35.112Z"
   },
   {
    "duration": 31,
    "start_time": "2022-05-24T18:02:35.339Z"
   },
   {
    "duration": 9,
    "start_time": "2022-05-24T18:02:35.383Z"
   },
   {
    "duration": 10,
    "start_time": "2022-05-24T18:02:35.394Z"
   },
   {
    "duration": 21,
    "start_time": "2022-05-24T18:02:35.406Z"
   },
   {
    "duration": 18,
    "start_time": "2022-05-24T18:02:35.429Z"
   },
   {
    "duration": 36,
    "start_time": "2022-05-24T18:02:35.449Z"
   },
   {
    "duration": 144,
    "start_time": "2022-05-24T18:02:35.487Z"
   },
   {
    "duration": 6,
    "start_time": "2022-05-24T18:02:35.632Z"
   },
   {
    "duration": 25,
    "start_time": "2022-05-24T18:02:35.640Z"
   },
   {
    "duration": 75,
    "start_time": "2022-05-24T18:02:35.667Z"
   },
   {
    "duration": 7,
    "start_time": "2022-05-24T18:02:35.744Z"
   },
   {
    "duration": 52,
    "start_time": "2022-05-24T18:02:35.753Z"
   },
   {
    "duration": 45,
    "start_time": "2022-05-24T18:02:35.807Z"
   },
   {
    "duration": 15,
    "start_time": "2022-05-24T18:02:35.854Z"
   },
   {
    "duration": 19,
    "start_time": "2022-05-24T18:02:35.884Z"
   },
   {
    "duration": 161,
    "start_time": "2022-05-24T18:02:35.905Z"
   },
   {
    "duration": 165,
    "start_time": "2022-05-24T18:02:36.068Z"
   },
   {
    "duration": 20,
    "start_time": "2022-05-24T18:02:36.234Z"
   },
   {
    "duration": 76,
    "start_time": "2022-05-24T18:02:36.256Z"
   },
   {
    "duration": 10,
    "start_time": "2022-05-24T18:02:36.335Z"
   },
   {
    "duration": 89,
    "start_time": "2022-05-24T18:02:36.348Z"
   },
   {
    "duration": 5,
    "start_time": "2022-05-24T18:02:36.439Z"
   },
   {
    "duration": 38,
    "start_time": "2022-05-24T18:02:36.446Z"
   },
   {
    "duration": 13,
    "start_time": "2022-05-24T18:02:36.486Z"
   },
   {
    "duration": 308,
    "start_time": "2022-05-24T18:02:36.503Z"
   },
   {
    "duration": 15,
    "start_time": "2022-05-24T18:02:36.813Z"
   },
   {
    "duration": 23,
    "start_time": "2022-05-24T18:02:36.830Z"
   },
   {
    "duration": 101,
    "start_time": "2022-05-24T18:02:36.854Z"
   },
   {
    "duration": 7,
    "start_time": "2022-05-24T18:02:36.957Z"
   },
   {
    "duration": 1220,
    "start_time": "2022-05-24T18:02:36.965Z"
   },
   {
    "duration": 18,
    "start_time": "2022-05-24T18:02:38.187Z"
   },
   {
    "duration": 18,
    "start_time": "2022-05-24T18:02:38.207Z"
   },
   {
    "duration": 6,
    "start_time": "2022-05-24T18:02:38.226Z"
   },
   {
    "duration": 2460,
    "start_time": "2022-05-24T18:02:38.234Z"
   },
   {
    "duration": 68828,
    "start_time": "2022-05-24T18:02:40.696Z"
   },
   {
    "duration": 849370,
    "start_time": "2022-05-24T18:03:49.526Z"
   },
   {
    "duration": 18,
    "start_time": "2022-05-24T18:17:58.898Z"
   },
   {
    "duration": 5,
    "start_time": "2022-05-24T18:17:58.917Z"
   },
   {
    "duration": 19,
    "start_time": "2022-05-24T18:17:58.923Z"
   },
   {
    "duration": 105,
    "start_time": "2022-05-24T18:17:58.943Z"
   },
   {
    "duration": 4,
    "start_time": "2022-05-24T18:17:59.050Z"
   },
   {
    "duration": 41,
    "start_time": "2022-05-24T18:17:59.056Z"
   },
   {
    "duration": 143,
    "start_time": "2022-05-24T18:17:59.099Z"
   },
   {
    "duration": 0,
    "start_time": "2022-05-24T18:17:59.243Z"
   },
   {
    "duration": 8,
    "start_time": "2022-05-24T18:24:02.671Z"
   },
   {
    "duration": 12,
    "start_time": "2022-05-24T18:35:31.526Z"
   },
   {
    "duration": 4,
    "start_time": "2022-05-24T18:52:57.922Z"
   },
   {
    "duration": 15,
    "start_time": "2022-05-24T19:16:51.370Z"
   },
   {
    "duration": 0,
    "start_time": "2022-05-24T19:21:20.234Z"
   },
   {
    "duration": 15,
    "start_time": "2022-05-24T19:21:25.750Z"
   },
   {
    "duration": 903748,
    "start_time": "2022-05-24T19:21:42.657Z"
   },
   {
    "duration": 3022,
    "start_time": "2022-05-25T05:32:11.916Z"
   },
   {
    "duration": 2235,
    "start_time": "2022-05-25T05:32:14.940Z"
   },
   {
    "duration": 1459,
    "start_time": "2022-05-25T05:32:17.177Z"
   },
   {
    "duration": 1023,
    "start_time": "2022-05-25T05:32:18.639Z"
   },
   {
    "duration": 16,
    "start_time": "2022-05-25T05:32:19.664Z"
   },
   {
    "duration": 3,
    "start_time": "2022-05-25T05:32:19.682Z"
   },
   {
    "duration": 111,
    "start_time": "2022-05-25T05:32:19.687Z"
   },
   {
    "duration": 96,
    "start_time": "2022-05-25T05:32:19.800Z"
   },
   {
    "duration": 30,
    "start_time": "2022-05-25T05:32:19.897Z"
   },
   {
    "duration": 25,
    "start_time": "2022-05-25T05:32:19.930Z"
   },
   {
    "duration": 16,
    "start_time": "2022-05-25T05:32:19.956Z"
   },
   {
    "duration": 4,
    "start_time": "2022-05-25T05:32:19.974Z"
   },
   {
    "duration": 6,
    "start_time": "2022-05-25T05:32:19.980Z"
   },
   {
    "duration": 17,
    "start_time": "2022-05-25T05:32:19.988Z"
   },
   {
    "duration": 215,
    "start_time": "2022-05-25T05:32:20.007Z"
   },
   {
    "duration": 242,
    "start_time": "2022-05-25T05:32:20.224Z"
   },
   {
    "duration": 31,
    "start_time": "2022-05-25T05:32:20.468Z"
   },
   {
    "duration": 12,
    "start_time": "2022-05-25T05:32:20.501Z"
   },
   {
    "duration": 9,
    "start_time": "2022-05-25T05:32:20.514Z"
   },
   {
    "duration": 47,
    "start_time": "2022-05-25T05:32:20.525Z"
   },
   {
    "duration": 16,
    "start_time": "2022-05-25T05:32:20.573Z"
   },
   {
    "duration": 17,
    "start_time": "2022-05-25T05:32:20.591Z"
   },
   {
    "duration": 142,
    "start_time": "2022-05-25T05:32:20.610Z"
   },
   {
    "duration": 6,
    "start_time": "2022-05-25T05:32:20.754Z"
   },
   {
    "duration": 30,
    "start_time": "2022-05-25T05:32:20.762Z"
   },
   {
    "duration": 74,
    "start_time": "2022-05-25T05:32:20.794Z"
   },
   {
    "duration": 6,
    "start_time": "2022-05-25T05:32:20.870Z"
   },
   {
    "duration": 28,
    "start_time": "2022-05-25T05:32:20.880Z"
   },
   {
    "duration": 60,
    "start_time": "2022-05-25T05:32:20.910Z"
   },
   {
    "duration": 17,
    "start_time": "2022-05-25T05:32:20.972Z"
   },
   {
    "duration": 25,
    "start_time": "2022-05-25T05:32:20.991Z"
   },
   {
    "duration": 146,
    "start_time": "2022-05-25T05:32:21.017Z"
   },
   {
    "duration": 170,
    "start_time": "2022-05-25T05:32:21.165Z"
   },
   {
    "duration": 25,
    "start_time": "2022-05-25T05:32:21.337Z"
   },
   {
    "duration": 54,
    "start_time": "2022-05-25T05:32:21.364Z"
   },
   {
    "duration": 9,
    "start_time": "2022-05-25T05:32:21.420Z"
   },
   {
    "duration": 81,
    "start_time": "2022-05-25T05:32:21.430Z"
   },
   {
    "duration": 5,
    "start_time": "2022-05-25T05:32:21.513Z"
   },
   {
    "duration": 39,
    "start_time": "2022-05-25T05:32:21.519Z"
   },
   {
    "duration": 12,
    "start_time": "2022-05-25T05:32:21.560Z"
   },
   {
    "duration": 296,
    "start_time": "2022-05-25T05:32:21.574Z"
   },
   {
    "duration": 11,
    "start_time": "2022-05-25T05:32:21.872Z"
   },
   {
    "duration": 25,
    "start_time": "2022-05-25T05:32:21.885Z"
   },
   {
    "duration": 87,
    "start_time": "2022-05-25T05:32:21.912Z"
   },
   {
    "duration": 6,
    "start_time": "2022-05-25T05:32:22.001Z"
   },
   {
    "duration": 1065,
    "start_time": "2022-05-25T05:32:22.009Z"
   },
   {
    "duration": 18,
    "start_time": "2022-05-25T05:32:23.076Z"
   },
   {
    "duration": 37,
    "start_time": "2022-05-25T05:32:23.096Z"
   },
   {
    "duration": 14,
    "start_time": "2022-05-25T05:32:23.135Z"
   },
   {
    "duration": 190,
    "start_time": "2022-05-25T05:39:05.250Z"
   },
   {
    "duration": 97132,
    "start_time": "2022-05-25T05:55:06.039Z"
   },
   {
    "duration": 172966,
    "start_time": "2022-05-25T05:57:01.301Z"
   },
   {
    "duration": 7,
    "start_time": "2022-05-25T06:00:20.286Z"
   },
   {
    "duration": 7,
    "start_time": "2022-05-25T06:00:29.791Z"
   },
   {
    "duration": 181452,
    "start_time": "2022-05-25T06:06:51.313Z"
   },
   {
    "duration": 2595,
    "start_time": "2022-05-25T06:19:35.867Z"
   },
   {
    "duration": 227420,
    "start_time": "2022-05-25T06:23:17.964Z"
   },
   {
    "duration": 46,
    "start_time": "2022-05-25T06:29:00.868Z"
   },
   {
    "duration": 2,
    "start_time": "2022-05-25T06:29:04.312Z"
   },
   {
    "duration": 2713,
    "start_time": "2022-05-25T06:33:08.558Z"
   },
   {
    "duration": 4148,
    "start_time": "2022-05-25T07:23:21.288Z"
   },
   {
    "duration": 35143,
    "start_time": "2022-05-25T07:23:58.638Z"
   },
   {
    "duration": 834080,
    "start_time": "2022-05-25T07:27:12.988Z"
   },
   {
    "duration": 3340708,
    "start_time": "2022-05-25T07:49:21.054Z"
   },
   {
    "duration": 1078969,
    "start_time": "2022-05-25T08:57:36.786Z"
   },
   {
    "duration": 5,
    "start_time": "2022-05-25T09:27:46.708Z"
   },
   {
    "duration": 1568,
    "start_time": "2022-05-25T09:30:03.444Z"
   },
   {
    "duration": 2518,
    "start_time": "2022-05-25T09:49:21.853Z"
   },
   {
    "duration": 2277,
    "start_time": "2022-05-25T10:11:41.788Z"
   },
   {
    "duration": 57,
    "start_time": "2022-05-25T10:26:27.159Z"
   },
   {
    "duration": 20,
    "start_time": "2022-05-25T10:26:36.593Z"
   },
   {
    "duration": 4,
    "start_time": "2022-05-25T10:27:02.812Z"
   },
   {
    "duration": 2262,
    "start_time": "2022-05-25T10:36:30.702Z"
   },
   {
    "duration": 15416,
    "start_time": "2022-05-25T10:36:40.750Z"
   },
   {
    "duration": 89753,
    "start_time": "2022-05-25T10:37:10.322Z"
   },
   {
    "duration": 4,
    "start_time": "2022-05-25T10:38:59.510Z"
   },
   {
    "duration": 7,
    "start_time": "2022-05-25T10:39:18.224Z"
   },
   {
    "duration": 9,
    "start_time": "2022-05-25T10:43:53.256Z"
   },
   {
    "duration": 5,
    "start_time": "2022-05-25T10:44:01.114Z"
   },
   {
    "duration": 6,
    "start_time": "2022-05-25T10:44:19.117Z"
   },
   {
    "duration": 14,
    "start_time": "2022-05-25T10:46:48.696Z"
   },
   {
    "duration": 360,
    "start_time": "2022-05-25T10:51:02.311Z"
   },
   {
    "duration": 2666,
    "start_time": "2022-05-25T10:57:26.390Z"
   },
   {
    "duration": 2549,
    "start_time": "2022-05-25T10:57:43.209Z"
   },
   {
    "duration": 2528,
    "start_time": "2022-05-25T10:57:59.825Z"
   },
   {
    "duration": 443,
    "start_time": "2022-05-25T11:01:10.712Z"
   },
   {
    "duration": 9,
    "start_time": "2022-05-25T11:01:15.161Z"
   },
   {
    "duration": 73491,
    "start_time": "2022-05-25T11:03:55.888Z"
   },
   {
    "duration": 4,
    "start_time": "2022-05-25T11:05:18.238Z"
   },
   {
    "duration": 4,
    "start_time": "2022-05-25T11:07:02.539Z"
   },
   {
    "duration": 73885,
    "start_time": "2022-05-25T11:07:13.303Z"
   },
   {
    "duration": 761677,
    "start_time": "2022-05-25T11:09:25.979Z"
   },
   {
    "duration": 4,
    "start_time": "2022-05-25T11:22:52.842Z"
   },
   {
    "duration": 685,
    "start_time": "2022-05-25T11:23:33.823Z"
   },
   {
    "duration": 4,
    "start_time": "2022-05-25T12:05:17.424Z"
   },
   {
    "duration": 4,
    "start_time": "2022-05-25T12:13:26.918Z"
   },
   {
    "duration": 41,
    "start_time": "2022-05-25T12:25:14.553Z"
   },
   {
    "duration": 60,
    "start_time": "2022-05-25T12:25:20.724Z"
   },
   {
    "duration": 6,
    "start_time": "2022-05-25T12:25:50.116Z"
   },
   {
    "duration": 1074172,
    "start_time": "2022-05-25T12:26:50.389Z"
   },
   {
    "duration": 1260,
    "start_time": "2022-05-25T12:50:00.033Z"
   },
   {
    "duration": 5,
    "start_time": "2022-05-25T12:50:40.964Z"
   },
   {
    "duration": 5,
    "start_time": "2022-05-25T12:55:41.474Z"
   },
   {
    "duration": 4,
    "start_time": "2022-05-25T12:55:47.094Z"
   },
   {
    "duration": 49,
    "start_time": "2022-05-25T12:58:52.030Z"
   },
   {
    "duration": 83673,
    "start_time": "2022-05-25T12:59:06.369Z"
   },
   {
    "duration": 17,
    "start_time": "2022-05-25T13:13:50.495Z"
   },
   {
    "duration": 6,
    "start_time": "2022-05-25T13:13:58.667Z"
   },
   {
    "duration": 59,
    "start_time": "2022-05-25T13:16:05.825Z"
   },
   {
    "duration": 4,
    "start_time": "2022-05-25T13:16:08.893Z"
   },
   {
    "duration": 73,
    "start_time": "2022-05-25T13:16:30.094Z"
   },
   {
    "duration": 897,
    "start_time": "2022-05-25T13:16:35.753Z"
   },
   {
    "duration": 4,
    "start_time": "2022-05-25T13:18:11.163Z"
   },
   {
    "duration": 7,
    "start_time": "2022-05-25T13:19:21.046Z"
   },
   {
    "duration": 2787,
    "start_time": "2022-05-25T13:20:25.373Z"
   },
   {
    "duration": 8,
    "start_time": "2022-05-25T13:20:30.604Z"
   },
   {
    "duration": 106136,
    "start_time": "2022-05-25T13:22:52.305Z"
   },
   {
    "duration": 9,
    "start_time": "2022-05-25T13:25:29.304Z"
   },
   {
    "duration": 5,
    "start_time": "2022-05-25T13:26:01.143Z"
   },
   {
    "duration": 5,
    "start_time": "2022-05-25T13:31:07.090Z"
   },
   {
    "duration": 13,
    "start_time": "2022-05-25T13:31:21.596Z"
   },
   {
    "duration": 7,
    "start_time": "2022-05-25T13:31:25.502Z"
   },
   {
    "duration": 87658,
    "start_time": "2022-05-25T13:32:59.861Z"
   },
   {
    "duration": 5,
    "start_time": "2022-05-25T13:34:27.522Z"
   },
   {
    "duration": 11,
    "start_time": "2022-05-25T13:38:28.174Z"
   },
   {
    "duration": 5,
    "start_time": "2022-05-25T13:39:03.759Z"
   },
   {
    "duration": 11,
    "start_time": "2022-05-25T13:39:05.890Z"
   },
   {
    "duration": 2946,
    "start_time": "2022-05-25T13:39:19.623Z"
   },
   {
    "duration": 96862,
    "start_time": "2022-05-25T13:39:28.401Z"
   },
   {
    "duration": 11,
    "start_time": "2022-05-25T13:41:29.950Z"
   },
   {
    "duration": 90624,
    "start_time": "2022-05-25T13:41:58.331Z"
   },
   {
    "duration": 8,
    "start_time": "2022-05-25T13:44:52.752Z"
   },
   {
    "duration": 11,
    "start_time": "2022-05-25T13:45:35.271Z"
   },
   {
    "duration": 5,
    "start_time": "2022-05-25T13:45:40.588Z"
   },
   {
    "duration": 82533,
    "start_time": "2022-05-25T13:46:42.711Z"
   },
   {
    "duration": 11,
    "start_time": "2022-05-25T13:48:35.004Z"
   },
   {
    "duration": 10,
    "start_time": "2022-05-25T13:50:52.223Z"
   },
   {
    "duration": 2876,
    "start_time": "2022-05-25T15:46:32.357Z"
   },
   {
    "duration": 2164,
    "start_time": "2022-05-25T15:46:35.236Z"
   },
   {
    "duration": 1665,
    "start_time": "2022-05-25T15:46:37.402Z"
   },
   {
    "duration": 1082,
    "start_time": "2022-05-25T15:46:39.069Z"
   },
   {
    "duration": 17,
    "start_time": "2022-05-25T15:46:40.153Z"
   },
   {
    "duration": 4,
    "start_time": "2022-05-25T15:46:40.171Z"
   },
   {
    "duration": 130,
    "start_time": "2022-05-25T15:46:40.176Z"
   },
   {
    "duration": 109,
    "start_time": "2022-05-25T15:46:40.308Z"
   },
   {
    "duration": 33,
    "start_time": "2022-05-25T15:46:40.418Z"
   },
   {
    "duration": 7,
    "start_time": "2022-05-25T15:46:40.452Z"
   },
   {
    "duration": 28,
    "start_time": "2022-05-25T15:46:40.461Z"
   },
   {
    "duration": 14,
    "start_time": "2022-05-25T15:46:40.491Z"
   },
   {
    "duration": 18,
    "start_time": "2022-05-25T15:46:40.506Z"
   },
   {
    "duration": 13,
    "start_time": "2022-05-25T15:46:40.527Z"
   },
   {
    "duration": 190,
    "start_time": "2022-05-25T15:46:40.542Z"
   },
   {
    "duration": 229,
    "start_time": "2022-05-25T15:46:40.734Z"
   },
   {
    "duration": 27,
    "start_time": "2022-05-25T15:46:40.965Z"
   },
   {
    "duration": 8,
    "start_time": "2022-05-25T15:46:40.993Z"
   },
   {
    "duration": 23,
    "start_time": "2022-05-25T15:46:41.003Z"
   },
   {
    "duration": 27,
    "start_time": "2022-05-25T15:46:41.027Z"
   },
   {
    "duration": 16,
    "start_time": "2022-05-25T15:46:41.055Z"
   },
   {
    "duration": 29,
    "start_time": "2022-05-25T15:46:41.073Z"
   },
   {
    "duration": 117,
    "start_time": "2022-05-25T15:46:41.104Z"
   },
   {
    "duration": 6,
    "start_time": "2022-05-25T15:46:41.223Z"
   },
   {
    "duration": 32,
    "start_time": "2022-05-25T15:46:41.230Z"
   },
   {
    "duration": 62,
    "start_time": "2022-05-25T15:46:41.264Z"
   },
   {
    "duration": 7,
    "start_time": "2022-05-25T15:46:41.327Z"
   },
   {
    "duration": 29,
    "start_time": "2022-05-25T15:46:41.335Z"
   },
   {
    "duration": 61,
    "start_time": "2022-05-25T15:46:41.365Z"
   },
   {
    "duration": 19,
    "start_time": "2022-05-25T15:46:41.428Z"
   },
   {
    "duration": 34,
    "start_time": "2022-05-25T15:46:41.449Z"
   },
   {
    "duration": 126,
    "start_time": "2022-05-25T15:46:41.484Z"
   },
   {
    "duration": 145,
    "start_time": "2022-05-25T15:46:41.612Z"
   },
   {
    "duration": 20,
    "start_time": "2022-05-25T15:46:41.759Z"
   },
   {
    "duration": 70,
    "start_time": "2022-05-25T15:46:41.781Z"
   },
   {
    "duration": 9,
    "start_time": "2022-05-25T15:46:41.852Z"
   },
   {
    "duration": 73,
    "start_time": "2022-05-25T15:46:41.863Z"
   },
   {
    "duration": 4,
    "start_time": "2022-05-25T15:46:41.938Z"
   },
   {
    "duration": 24,
    "start_time": "2022-05-25T15:46:41.944Z"
   },
   {
    "duration": 14,
    "start_time": "2022-05-25T15:46:41.970Z"
   },
   {
    "duration": 316,
    "start_time": "2022-05-25T15:46:41.987Z"
   },
   {
    "duration": 14,
    "start_time": "2022-05-25T15:46:42.305Z"
   },
   {
    "duration": 21,
    "start_time": "2022-05-25T15:46:42.327Z"
   },
   {
    "duration": 94,
    "start_time": "2022-05-25T15:46:42.350Z"
   },
   {
    "duration": 7,
    "start_time": "2022-05-25T15:46:42.446Z"
   },
   {
    "duration": 1023,
    "start_time": "2022-05-25T15:46:42.455Z"
   },
   {
    "duration": 16,
    "start_time": "2022-05-25T15:46:43.480Z"
   },
   {
    "duration": 29,
    "start_time": "2022-05-25T15:46:43.498Z"
   },
   {
    "duration": 4,
    "start_time": "2022-05-25T15:46:43.528Z"
   },
   {
    "duration": 6,
    "start_time": "2022-05-25T15:46:43.534Z"
   },
   {
    "duration": 21,
    "start_time": "2022-05-25T15:46:43.542Z"
   },
   {
    "duration": 20,
    "start_time": "2022-05-25T15:46:43.564Z"
   },
   {
    "duration": 2845,
    "start_time": "2022-05-25T15:46:43.586Z"
   },
   {
    "duration": 74744,
    "start_time": "2022-05-25T15:46:46.434Z"
   },
   {
    "duration": 880613,
    "start_time": "2022-05-25T15:48:01.181Z"
   },
   {
    "duration": 13637,
    "start_time": "2022-05-25T16:02:41.796Z"
   },
   {
    "duration": 179,
    "start_time": "2022-05-25T16:02:55.435Z"
   },
   {
    "duration": 0,
    "start_time": "2022-05-25T16:02:55.625Z"
   },
   {
    "duration": 7,
    "start_time": "2022-05-25T17:22:07.714Z"
   },
   {
    "duration": 12,
    "start_time": "2022-05-25T17:22:36.690Z"
   },
   {
    "duration": 14,
    "start_time": "2022-05-25T17:27:33.531Z"
   },
   {
    "duration": 7,
    "start_time": "2022-05-25T17:28:20.722Z"
   },
   {
    "duration": 4,
    "start_time": "2022-05-25T17:28:28.070Z"
   },
   {
    "duration": 5,
    "start_time": "2022-05-25T17:28:41.645Z"
   },
   {
    "duration": 4,
    "start_time": "2022-05-25T17:28:52.615Z"
   },
   {
    "duration": 10,
    "start_time": "2022-05-25T17:29:00.531Z"
   },
   {
    "duration": 5,
    "start_time": "2022-05-25T17:29:11.492Z"
   },
   {
    "duration": 15,
    "start_time": "2022-05-25T17:29:16.523Z"
   },
   {
    "duration": 5,
    "start_time": "2022-05-25T17:29:25.996Z"
   },
   {
    "duration": 4,
    "start_time": "2022-05-25T17:31:28.870Z"
   },
   {
    "duration": 5,
    "start_time": "2022-05-25T17:33:27.894Z"
   },
   {
    "duration": 15,
    "start_time": "2022-05-25T17:33:27.901Z"
   },
   {
    "duration": 11,
    "start_time": "2022-05-25T17:33:41.340Z"
   },
   {
    "duration": 11,
    "start_time": "2022-05-25T17:33:47.977Z"
   },
   {
    "duration": 92,
    "start_time": "2022-05-25T17:34:20.944Z"
   },
   {
    "duration": 20,
    "start_time": "2022-05-25T17:34:32.063Z"
   },
   {
    "duration": 2112,
    "start_time": "2022-05-25T17:34:38.449Z"
   },
   {
    "duration": 11,
    "start_time": "2022-05-25T17:34:47.691Z"
   },
   {
    "duration": 1155,
    "start_time": "2022-05-25T17:34:59.001Z"
   },
   {
    "duration": 12,
    "start_time": "2022-05-25T17:35:26.441Z"
   },
   {
    "duration": 3338,
    "start_time": "2022-05-25T17:36:23.788Z"
   },
   {
    "duration": 8,
    "start_time": "2022-05-25T17:36:33.860Z"
   },
   {
    "duration": 5,
    "start_time": "2022-05-25T18:01:22.304Z"
   },
   {
    "duration": 13,
    "start_time": "2022-05-25T18:01:30.613Z"
   },
   {
    "duration": 8,
    "start_time": "2022-05-25T18:01:41.171Z"
   },
   {
    "duration": 29,
    "start_time": "2022-05-25T18:14:59.583Z"
   },
   {
    "duration": 43,
    "start_time": "2022-05-25T18:15:25.293Z"
   },
   {
    "duration": 5,
    "start_time": "2022-05-25T18:15:33.193Z"
   },
   {
    "duration": 3,
    "start_time": "2022-05-25T18:16:45.121Z"
   },
   {
    "duration": 4,
    "start_time": "2022-05-25T18:16:50.373Z"
   },
   {
    "duration": 3245,
    "start_time": "2022-05-25T18:32:20.888Z"
   },
   {
    "duration": 9,
    "start_time": "2022-05-25T18:32:29.367Z"
   },
   {
    "duration": 2907,
    "start_time": "2022-05-26T03:14:21.288Z"
   },
   {
    "duration": 2076,
    "start_time": "2022-05-26T03:14:24.197Z"
   },
   {
    "duration": 1416,
    "start_time": "2022-05-26T03:14:26.275Z"
   },
   {
    "duration": 1050,
    "start_time": "2022-05-26T03:14:27.693Z"
   },
   {
    "duration": 15,
    "start_time": "2022-05-26T03:14:28.745Z"
   },
   {
    "duration": 3,
    "start_time": "2022-05-26T03:14:28.762Z"
   },
   {
    "duration": 122,
    "start_time": "2022-05-26T03:14:28.767Z"
   },
   {
    "duration": 101,
    "start_time": "2022-05-26T03:14:28.891Z"
   },
   {
    "duration": 35,
    "start_time": "2022-05-26T03:14:28.994Z"
   },
   {
    "duration": 7,
    "start_time": "2022-05-26T03:14:29.031Z"
   },
   {
    "duration": 22,
    "start_time": "2022-05-26T03:14:29.039Z"
   },
   {
    "duration": 7,
    "start_time": "2022-05-26T03:14:29.063Z"
   },
   {
    "duration": 8,
    "start_time": "2022-05-26T03:14:29.071Z"
   },
   {
    "duration": 14,
    "start_time": "2022-05-26T03:14:29.081Z"
   },
   {
    "duration": 189,
    "start_time": "2022-05-26T03:14:29.097Z"
   },
   {
    "duration": 196,
    "start_time": "2022-05-26T03:14:29.288Z"
   },
   {
    "duration": 27,
    "start_time": "2022-05-26T03:14:29.486Z"
   },
   {
    "duration": 15,
    "start_time": "2022-05-26T03:14:29.515Z"
   },
   {
    "duration": 6,
    "start_time": "2022-05-26T03:14:29.532Z"
   },
   {
    "duration": 22,
    "start_time": "2022-05-26T03:14:29.540Z"
   },
   {
    "duration": 17,
    "start_time": "2022-05-26T03:14:29.564Z"
   },
   {
    "duration": 11,
    "start_time": "2022-05-26T03:14:29.582Z"
   },
   {
    "duration": 153,
    "start_time": "2022-05-26T03:14:29.594Z"
   },
   {
    "duration": 6,
    "start_time": "2022-05-26T03:14:29.748Z"
   },
   {
    "duration": 26,
    "start_time": "2022-05-26T03:14:29.755Z"
   },
   {
    "duration": 68,
    "start_time": "2022-05-26T03:14:29.783Z"
   },
   {
    "duration": 7,
    "start_time": "2022-05-26T03:14:29.853Z"
   },
   {
    "duration": 32,
    "start_time": "2022-05-26T03:14:29.864Z"
   },
   {
    "duration": 56,
    "start_time": "2022-05-26T03:14:29.898Z"
   },
   {
    "duration": 19,
    "start_time": "2022-05-26T03:14:29.956Z"
   },
   {
    "duration": 27,
    "start_time": "2022-05-26T03:14:29.977Z"
   },
   {
    "duration": 171,
    "start_time": "2022-05-26T03:14:30.006Z"
   },
   {
    "duration": 151,
    "start_time": "2022-05-26T03:14:30.178Z"
   },
   {
    "duration": 25,
    "start_time": "2022-05-26T03:14:30.330Z"
   },
   {
    "duration": 71,
    "start_time": "2022-05-26T03:14:30.357Z"
   },
   {
    "duration": 9,
    "start_time": "2022-05-26T03:14:30.430Z"
   },
   {
    "duration": 79,
    "start_time": "2022-05-26T03:14:30.441Z"
   },
   {
    "duration": 6,
    "start_time": "2022-05-26T03:14:30.522Z"
   },
   {
    "duration": 27,
    "start_time": "2022-05-26T03:14:30.529Z"
   },
   {
    "duration": 31,
    "start_time": "2022-05-26T03:14:30.557Z"
   },
   {
    "duration": 300,
    "start_time": "2022-05-26T03:14:30.590Z"
   },
   {
    "duration": 13,
    "start_time": "2022-05-26T03:14:30.892Z"
   },
   {
    "duration": 98,
    "start_time": "2022-05-26T03:14:30.907Z"
   },
   {
    "duration": 7,
    "start_time": "2022-05-26T03:14:31.007Z"
   },
   {
    "duration": 1041,
    "start_time": "2022-05-26T03:14:31.015Z"
   },
   {
    "duration": 16,
    "start_time": "2022-05-26T03:14:32.058Z"
   },
   {
    "duration": 18,
    "start_time": "2022-05-26T03:14:32.076Z"
   },
   {
    "duration": 7,
    "start_time": "2022-05-26T03:14:32.096Z"
   },
   {
    "duration": 28,
    "start_time": "2022-05-26T03:14:32.104Z"
   },
   {
    "duration": 11,
    "start_time": "2022-05-26T03:14:32.133Z"
   },
   {
    "duration": 2884,
    "start_time": "2022-05-26T03:14:32.145Z"
   },
   {
    "duration": 73312,
    "start_time": "2022-05-26T03:14:35.030Z"
   },
   {
    "duration": 1039070,
    "start_time": "2022-05-26T03:15:48.343Z"
   },
   {
    "duration": 90316,
    "start_time": "2022-05-26T03:33:07.415Z"
   },
   {
    "duration": 3324,
    "start_time": "2022-05-26T03:34:37.733Z"
   },
   {
    "duration": 85,
    "start_time": "2022-05-26T03:34:41.059Z"
   },
   {
    "duration": 11,
    "start_time": "2022-05-26T03:34:41.146Z"
   },
   {
    "duration": 2273,
    "start_time": "2022-05-26T08:23:52.294Z"
   },
   {
    "duration": 2298,
    "start_time": "2022-05-26T08:23:54.570Z"
   },
   {
    "duration": 1470,
    "start_time": "2022-05-26T08:23:56.870Z"
   },
   {
    "duration": 911,
    "start_time": "2022-05-26T08:23:58.342Z"
   },
   {
    "duration": 18,
    "start_time": "2022-05-26T08:23:59.255Z"
   },
   {
    "duration": 3,
    "start_time": "2022-05-26T08:23:59.275Z"
   },
   {
    "duration": 175,
    "start_time": "2022-05-26T08:23:59.280Z"
   },
   {
    "duration": 115,
    "start_time": "2022-05-26T08:23:59.457Z"
   },
   {
    "duration": 41,
    "start_time": "2022-05-26T08:23:59.573Z"
   },
   {
    "duration": 12,
    "start_time": "2022-05-26T08:23:59.634Z"
   },
   {
    "duration": 28,
    "start_time": "2022-05-26T08:23:59.648Z"
   },
   {
    "duration": 10,
    "start_time": "2022-05-26T08:23:59.677Z"
   },
   {
    "duration": 13,
    "start_time": "2022-05-26T08:23:59.689Z"
   },
   {
    "duration": 33,
    "start_time": "2022-05-26T08:23:59.703Z"
   },
   {
    "duration": 218,
    "start_time": "2022-05-26T08:23:59.737Z"
   },
   {
    "duration": 284,
    "start_time": "2022-05-26T08:23:59.956Z"
   },
   {
    "duration": 31,
    "start_time": "2022-05-26T08:24:00.242Z"
   },
   {
    "duration": 8,
    "start_time": "2022-05-26T08:24:00.275Z"
   },
   {
    "duration": 9,
    "start_time": "2022-05-26T08:24:00.285Z"
   },
   {
    "duration": 58,
    "start_time": "2022-05-26T08:24:00.296Z"
   },
   {
    "duration": 24,
    "start_time": "2022-05-26T08:24:00.356Z"
   },
   {
    "duration": 18,
    "start_time": "2022-05-26T08:24:00.381Z"
   },
   {
    "duration": 157,
    "start_time": "2022-05-26T08:24:00.400Z"
   },
   {
    "duration": 7,
    "start_time": "2022-05-26T08:24:00.559Z"
   },
   {
    "duration": 43,
    "start_time": "2022-05-26T08:24:00.568Z"
   },
   {
    "duration": 76,
    "start_time": "2022-05-26T08:24:00.613Z"
   },
   {
    "duration": 9,
    "start_time": "2022-05-26T08:24:00.690Z"
   },
   {
    "duration": 58,
    "start_time": "2022-05-26T08:24:00.703Z"
   },
   {
    "duration": 55,
    "start_time": "2022-05-26T08:24:00.763Z"
   },
   {
    "duration": 35,
    "start_time": "2022-05-26T08:24:00.820Z"
   },
   {
    "duration": 40,
    "start_time": "2022-05-26T08:24:00.857Z"
   },
   {
    "duration": 165,
    "start_time": "2022-05-26T08:24:00.898Z"
   },
   {
    "duration": 181,
    "start_time": "2022-05-26T08:24:01.066Z"
   },
   {
    "duration": 23,
    "start_time": "2022-05-26T08:24:01.248Z"
   },
   {
    "duration": 114,
    "start_time": "2022-05-26T08:24:01.273Z"
   },
   {
    "duration": 10,
    "start_time": "2022-05-26T08:24:01.389Z"
   },
   {
    "duration": 92,
    "start_time": "2022-05-26T08:24:01.401Z"
   },
   {
    "duration": 6,
    "start_time": "2022-05-26T08:24:01.495Z"
   },
   {
    "duration": 58,
    "start_time": "2022-05-26T08:24:01.502Z"
   },
   {
    "duration": 36,
    "start_time": "2022-05-26T08:24:01.562Z"
   },
   {
    "duration": 552,
    "start_time": "2022-05-26T08:24:01.600Z"
   },
   {
    "duration": 85,
    "start_time": "2022-05-26T08:24:02.154Z"
   },
   {
    "duration": 195,
    "start_time": "2022-05-26T08:24:02.241Z"
   },
   {
    "duration": 8,
    "start_time": "2022-05-26T08:24:02.437Z"
   },
   {
    "duration": 1147,
    "start_time": "2022-05-26T08:24:02.446Z"
   },
   {
    "duration": 17,
    "start_time": "2022-05-26T08:24:03.595Z"
   },
   {
    "duration": 55,
    "start_time": "2022-05-26T08:24:03.614Z"
   },
   {
    "duration": 23,
    "start_time": "2022-05-26T08:24:03.671Z"
   },
   {
    "duration": 43,
    "start_time": "2022-05-26T08:24:03.696Z"
   },
   {
    "duration": 49,
    "start_time": "2022-05-26T08:24:03.741Z"
   },
   {
    "duration": 3345,
    "start_time": "2022-05-26T08:24:03.791Z"
   },
   {
    "duration": 81931,
    "start_time": "2022-05-26T08:24:07.138Z"
   },
   {
    "duration": 954989,
    "start_time": "2022-05-26T08:25:29.071Z"
   },
   {
    "duration": 485773,
    "start_time": "2022-05-26T08:41:24.062Z"
   },
   {
    "duration": 2808,
    "start_time": "2022-05-26T08:49:29.837Z"
   },
   {
    "duration": 9,
    "start_time": "2022-05-26T08:49:32.647Z"
   },
   {
    "duration": 26,
    "start_time": "2022-05-26T08:49:32.657Z"
   },
   {
    "duration": 11,
    "start_time": "2022-05-26T10:50:23.538Z"
   },
   {
    "duration": 8,
    "start_time": "2022-05-26T10:50:48.053Z"
   },
   {
    "duration": 10,
    "start_time": "2022-05-26T12:29:23.786Z"
   },
   {
    "duration": 1803,
    "start_time": "2022-05-26T12:29:34.605Z"
   },
   {
    "duration": 2965,
    "start_time": "2022-05-26T12:29:40.378Z"
   },
   {
    "duration": 2227,
    "start_time": "2022-05-26T12:29:44.599Z"
   },
   {
    "duration": 328,
    "start_time": "2022-05-26T12:29:49.798Z"
   },
   {
    "duration": 3243,
    "start_time": "2022-05-26T12:30:22.916Z"
   },
   {
    "duration": 28,
    "start_time": "2022-05-26T12:42:24.505Z"
   },
   {
    "duration": 26,
    "start_time": "2022-05-26T12:42:34.859Z"
   },
   {
    "duration": 25,
    "start_time": "2022-05-26T12:42:41.993Z"
   },
   {
    "duration": 102,
    "start_time": "2022-05-26T12:44:45.507Z"
   },
   {
    "duration": 82,
    "start_time": "2022-05-26T12:45:03.971Z"
   },
   {
    "duration": 27,
    "start_time": "2022-05-26T12:47:19.516Z"
   },
   {
    "duration": 26,
    "start_time": "2022-05-26T12:47:52.719Z"
   },
   {
    "duration": 27,
    "start_time": "2022-05-26T12:49:19.149Z"
   },
   {
    "duration": 79,
    "start_time": "2022-05-26T12:50:40.039Z"
   },
   {
    "duration": 588,
    "start_time": "2022-05-26T13:00:46.574Z"
   },
   {
    "duration": 2390,
    "start_time": "2022-05-26T13:00:52.064Z"
   },
   {
    "duration": 2401,
    "start_time": "2022-05-26T13:00:54.457Z"
   },
   {
    "duration": 6,
    "start_time": "2022-05-26T13:00:56.861Z"
   },
   {
    "duration": 964,
    "start_time": "2022-05-26T13:00:56.870Z"
   },
   {
    "duration": 18,
    "start_time": "2022-05-26T13:00:57.836Z"
   },
   {
    "duration": 4,
    "start_time": "2022-05-26T13:00:57.856Z"
   },
   {
    "duration": 205,
    "start_time": "2022-05-26T13:00:57.862Z"
   },
   {
    "duration": 45,
    "start_time": "2022-05-26T13:00:58.070Z"
   },
   {
    "duration": 138,
    "start_time": "2022-05-26T13:00:58.117Z"
   },
   {
    "duration": 50,
    "start_time": "2022-05-26T13:00:58.258Z"
   },
   {
    "duration": 8,
    "start_time": "2022-05-26T13:00:58.310Z"
   },
   {
    "duration": 32,
    "start_time": "2022-05-26T13:00:58.321Z"
   },
   {
    "duration": 30,
    "start_time": "2022-05-26T13:00:58.355Z"
   },
   {
    "duration": 8,
    "start_time": "2022-05-26T13:00:58.387Z"
   },
   {
    "duration": 16,
    "start_time": "2022-05-26T13:00:58.397Z"
   },
   {
    "duration": 199,
    "start_time": "2022-05-26T13:00:58.414Z"
   },
   {
    "duration": 251,
    "start_time": "2022-05-26T13:00:58.614Z"
   },
   {
    "duration": 32,
    "start_time": "2022-05-26T13:00:58.867Z"
   },
   {
    "duration": 9,
    "start_time": "2022-05-26T13:00:58.901Z"
   },
   {
    "duration": 462,
    "start_time": "2022-05-26T13:01:02.243Z"
   },
   {
    "duration": 342,
    "start_time": "2022-05-26T13:05:01.615Z"
   },
   {
    "duration": 10,
    "start_time": "2022-05-26T13:05:14.184Z"
   },
   {
    "duration": 132,
    "start_time": "2022-05-26T13:06:10.642Z"
   },
   {
    "duration": 144,
    "start_time": "2022-05-26T13:06:45.866Z"
   },
   {
    "duration": 133,
    "start_time": "2022-05-26T13:06:53.193Z"
   },
   {
    "duration": 159,
    "start_time": "2022-05-26T13:07:18.115Z"
   },
   {
    "duration": 148,
    "start_time": "2022-05-26T13:08:36.228Z"
   },
   {
    "duration": 151,
    "start_time": "2022-05-26T13:08:41.517Z"
   },
   {
    "duration": 153,
    "start_time": "2022-05-26T13:08:45.140Z"
   },
   {
    "duration": 243,
    "start_time": "2022-05-26T13:09:02.164Z"
   },
   {
    "duration": 131,
    "start_time": "2022-05-26T13:11:11.743Z"
   },
   {
    "duration": 122,
    "start_time": "2022-05-26T13:12:20.638Z"
   },
   {
    "duration": 137,
    "start_time": "2022-05-26T13:12:24.824Z"
   },
   {
    "duration": 12,
    "start_time": "2022-05-26T13:13:30.233Z"
   },
   {
    "duration": 23,
    "start_time": "2022-05-26T13:31:16.045Z"
   },
   {
    "duration": 53,
    "start_time": "2022-05-27T07:19:48.388Z"
   },
   {
    "duration": 3370,
    "start_time": "2022-05-27T07:20:04.115Z"
   },
   {
    "duration": 2197,
    "start_time": "2022-05-27T07:20:07.487Z"
   },
   {
    "duration": 2157,
    "start_time": "2022-05-27T07:20:09.686Z"
   },
   {
    "duration": 3141,
    "start_time": "2022-05-27T07:20:11.845Z"
   },
   {
    "duration": 17,
    "start_time": "2022-05-27T07:20:14.987Z"
   },
   {
    "duration": 10,
    "start_time": "2022-05-27T07:20:15.005Z"
   },
   {
    "duration": 139,
    "start_time": "2022-05-27T07:20:15.017Z"
   },
   {
    "duration": 24,
    "start_time": "2022-05-27T07:20:15.158Z"
   },
   {
    "duration": 109,
    "start_time": "2022-05-27T07:20:15.184Z"
   },
   {
    "duration": 27,
    "start_time": "2022-05-27T07:20:15.295Z"
   },
   {
    "duration": 7,
    "start_time": "2022-05-27T07:20:15.324Z"
   },
   {
    "duration": 41,
    "start_time": "2022-05-27T07:20:15.332Z"
   },
   {
    "duration": 9,
    "start_time": "2022-05-27T07:20:15.375Z"
   },
   {
    "duration": 7,
    "start_time": "2022-05-27T07:20:15.386Z"
   },
   {
    "duration": 21,
    "start_time": "2022-05-27T07:20:15.394Z"
   },
   {
    "duration": 173,
    "start_time": "2022-05-27T07:20:15.417Z"
   },
   {
    "duration": 182,
    "start_time": "2022-05-27T07:20:15.592Z"
   },
   {
    "duration": 27,
    "start_time": "2022-05-27T07:20:15.776Z"
   },
   {
    "duration": 8,
    "start_time": "2022-05-27T07:20:15.805Z"
   },
   {
    "duration": 151,
    "start_time": "2022-05-27T07:20:15.815Z"
   },
   {
    "duration": 10,
    "start_time": "2022-05-27T07:20:15.968Z"
   },
   {
    "duration": 19,
    "start_time": "2022-05-27T07:20:15.979Z"
   },
   {
    "duration": 17,
    "start_time": "2022-05-27T07:20:15.999Z"
   },
   {
    "duration": 9,
    "start_time": "2022-05-27T07:20:16.017Z"
   },
   {
    "duration": 136,
    "start_time": "2022-05-27T07:20:16.028Z"
   },
   {
    "duration": 6,
    "start_time": "2022-05-27T07:20:16.165Z"
   },
   {
    "duration": 23,
    "start_time": "2022-05-27T07:20:16.173Z"
   },
   {
    "duration": 64,
    "start_time": "2022-05-27T07:20:16.200Z"
   },
   {
    "duration": 7,
    "start_time": "2022-05-27T07:20:16.266Z"
   },
   {
    "duration": 26,
    "start_time": "2022-05-27T07:20:16.275Z"
   },
   {
    "duration": 58,
    "start_time": "2022-05-27T07:20:16.302Z"
   },
   {
    "duration": 14,
    "start_time": "2022-05-27T07:20:16.362Z"
   },
   {
    "duration": 16,
    "start_time": "2022-05-27T07:20:16.377Z"
   },
   {
    "duration": 130,
    "start_time": "2022-05-27T07:20:16.394Z"
   },
   {
    "duration": 146,
    "start_time": "2022-05-27T07:20:16.525Z"
   },
   {
    "duration": 19,
    "start_time": "2022-05-27T07:20:16.673Z"
   },
   {
    "duration": 70,
    "start_time": "2022-05-27T07:20:16.693Z"
   },
   {
    "duration": 8,
    "start_time": "2022-05-27T07:20:16.764Z"
   },
   {
    "duration": 75,
    "start_time": "2022-05-27T07:20:16.774Z"
   },
   {
    "duration": 8,
    "start_time": "2022-05-27T07:20:16.851Z"
   },
   {
    "duration": 28,
    "start_time": "2022-05-27T07:20:16.861Z"
   },
   {
    "duration": 14,
    "start_time": "2022-05-27T07:20:16.891Z"
   },
   {
    "duration": 273,
    "start_time": "2022-05-27T07:20:16.906Z"
   },
   {
    "duration": 12,
    "start_time": "2022-05-27T07:20:17.181Z"
   },
   {
    "duration": 81,
    "start_time": "2022-05-27T07:20:17.194Z"
   },
   {
    "duration": 6,
    "start_time": "2022-05-27T07:20:17.277Z"
   },
   {
    "duration": 962,
    "start_time": "2022-05-27T07:20:17.284Z"
   },
   {
    "duration": 23,
    "start_time": "2022-05-27T07:20:18.247Z"
   },
   {
    "duration": 23,
    "start_time": "2022-05-27T07:20:18.271Z"
   },
   {
    "duration": 25,
    "start_time": "2022-05-27T07:20:18.296Z"
   },
   {
    "duration": 16,
    "start_time": "2022-05-27T07:20:18.323Z"
   },
   {
    "duration": 7,
    "start_time": "2022-05-27T07:20:26.411Z"
   },
   {
    "duration": 5,
    "start_time": "2022-05-27T07:20:32.900Z"
   },
   {
    "duration": 2674,
    "start_time": "2022-05-27T07:20:40.686Z"
   },
   {
    "duration": 63309,
    "start_time": "2022-05-27T07:20:59.158Z"
   },
   {
    "duration": 298505,
    "start_time": "2022-05-27T07:23:37.347Z"
   },
   {
    "duration": 2051,
    "start_time": "2022-05-27T07:31:18.713Z"
   },
   {
    "duration": 2034,
    "start_time": "2022-05-27T07:31:20.766Z"
   },
   {
    "duration": 6,
    "start_time": "2022-05-27T07:31:22.803Z"
   },
   {
    "duration": 724,
    "start_time": "2022-05-27T07:31:22.812Z"
   },
   {
    "duration": 12,
    "start_time": "2022-05-27T07:31:23.537Z"
   },
   {
    "duration": 10,
    "start_time": "2022-05-27T07:31:23.550Z"
   },
   {
    "duration": 130,
    "start_time": "2022-05-27T07:31:23.562Z"
   },
   {
    "duration": 23,
    "start_time": "2022-05-27T07:31:23.696Z"
   },
   {
    "duration": 108,
    "start_time": "2022-05-27T07:31:23.721Z"
   },
   {
    "duration": 39,
    "start_time": "2022-05-27T07:31:23.832Z"
   },
   {
    "duration": 10,
    "start_time": "2022-05-27T07:31:23.873Z"
   },
   {
    "duration": 18,
    "start_time": "2022-05-27T07:31:23.885Z"
   },
   {
    "duration": 4,
    "start_time": "2022-05-27T07:31:23.905Z"
   },
   {
    "duration": 5,
    "start_time": "2022-05-27T07:31:23.910Z"
   },
   {
    "duration": 15,
    "start_time": "2022-05-27T07:31:23.917Z"
   },
   {
    "duration": 173,
    "start_time": "2022-05-27T07:31:23.933Z"
   },
   {
    "duration": 180,
    "start_time": "2022-05-27T07:31:24.108Z"
   },
   {
    "duration": 27,
    "start_time": "2022-05-27T07:31:24.289Z"
   },
   {
    "duration": 9,
    "start_time": "2022-05-27T07:31:24.317Z"
   },
   {
    "duration": 147,
    "start_time": "2022-05-27T07:31:24.328Z"
   },
   {
    "duration": 9,
    "start_time": "2022-05-27T07:31:24.477Z"
   },
   {
    "duration": 19,
    "start_time": "2022-05-27T07:31:24.488Z"
   },
   {
    "duration": 16,
    "start_time": "2022-05-27T07:31:24.508Z"
   },
   {
    "duration": 35,
    "start_time": "2022-05-27T07:31:24.525Z"
   },
   {
    "duration": 108,
    "start_time": "2022-05-27T07:31:24.562Z"
   },
   {
    "duration": 5,
    "start_time": "2022-05-27T07:31:24.671Z"
   },
   {
    "duration": 22,
    "start_time": "2022-05-27T07:31:24.677Z"
   },
   {
    "duration": 67,
    "start_time": "2022-05-27T07:31:24.703Z"
   },
   {
    "duration": 7,
    "start_time": "2022-05-27T07:31:24.771Z"
   },
   {
    "duration": 25,
    "start_time": "2022-05-27T07:31:24.780Z"
   },
   {
    "duration": 56,
    "start_time": "2022-05-27T07:31:24.807Z"
   },
   {
    "duration": 14,
    "start_time": "2022-05-27T07:31:24.864Z"
   },
   {
    "duration": 26,
    "start_time": "2022-05-27T07:31:24.880Z"
   },
   {
    "duration": 280,
    "start_time": "2022-05-27T07:31:24.908Z"
   },
   {
    "duration": 127,
    "start_time": "2022-05-27T07:31:25.189Z"
   },
   {
    "duration": 19,
    "start_time": "2022-05-27T07:31:25.317Z"
   },
   {
    "duration": 59,
    "start_time": "2022-05-27T07:31:25.337Z"
   },
   {
    "duration": 9,
    "start_time": "2022-05-27T07:31:25.398Z"
   },
   {
    "duration": 76,
    "start_time": "2022-05-27T07:31:25.408Z"
   },
   {
    "duration": 5,
    "start_time": "2022-05-27T07:31:25.486Z"
   },
   {
    "duration": 24,
    "start_time": "2022-05-27T07:31:25.492Z"
   },
   {
    "duration": 12,
    "start_time": "2022-05-27T07:31:25.517Z"
   },
   {
    "duration": 246,
    "start_time": "2022-05-27T07:31:25.530Z"
   },
   {
    "duration": 12,
    "start_time": "2022-05-27T07:31:25.777Z"
   },
   {
    "duration": 74,
    "start_time": "2022-05-27T07:31:25.790Z"
   },
   {
    "duration": 6,
    "start_time": "2022-05-27T07:31:25.865Z"
   },
   {
    "duration": 831,
    "start_time": "2022-05-27T07:31:25.873Z"
   },
   {
    "duration": 15,
    "start_time": "2022-05-27T07:31:26.705Z"
   },
   {
    "duration": 14,
    "start_time": "2022-05-27T07:31:26.721Z"
   },
   {
    "duration": 3,
    "start_time": "2022-05-27T07:31:26.736Z"
   },
   {
    "duration": 3,
    "start_time": "2022-05-27T07:31:26.759Z"
   },
   {
    "duration": 13,
    "start_time": "2022-05-27T07:31:26.764Z"
   },
   {
    "duration": 2584,
    "start_time": "2022-05-27T07:31:26.778Z"
   },
   {
    "duration": 62869,
    "start_time": "2022-05-27T07:31:29.364Z"
   },
   {
    "duration": 629538,
    "start_time": "2022-05-27T07:32:32.235Z"
   },
   {
    "duration": 14898,
    "start_time": "2022-05-27T07:43:01.775Z"
   },
   {
    "duration": 2506,
    "start_time": "2022-05-27T07:43:16.674Z"
   },
   {
    "duration": 86,
    "start_time": "2022-05-27T07:43:19.181Z"
   },
   {
    "duration": 5,
    "start_time": "2022-05-27T07:43:19.268Z"
   },
   {
    "duration": 544220,
    "start_time": "2022-05-27T07:56:40.357Z"
   },
   {
    "duration": 2888,
    "start_time": "2022-05-27T08:06:52.795Z"
   },
   {
    "duration": 10,
    "start_time": "2022-05-27T08:06:57.912Z"
   },
   {
    "duration": 9,
    "start_time": "2022-05-27T08:40:24.418Z"
   },
   {
    "duration": 11,
    "start_time": "2022-05-27T08:40:36.482Z"
   },
   {
    "duration": 16,
    "start_time": "2022-05-27T08:43:58.876Z"
   },
   {
    "duration": 9,
    "start_time": "2022-05-27T08:45:22.289Z"
   },
   {
    "duration": 13,
    "start_time": "2022-05-27T08:50:06.695Z"
   },
   {
    "duration": 8,
    "start_time": "2022-05-27T08:50:29.127Z"
   },
   {
    "duration": 9,
    "start_time": "2022-05-27T08:55:28.249Z"
   },
   {
    "duration": 9,
    "start_time": "2022-05-27T08:55:45.417Z"
   },
   {
    "duration": 9,
    "start_time": "2022-05-27T08:56:00.342Z"
   },
   {
    "duration": 8,
    "start_time": "2022-05-27T08:56:10.197Z"
   },
   {
    "duration": 11,
    "start_time": "2022-05-27T08:56:34.516Z"
   },
   {
    "duration": 4,
    "start_time": "2022-05-27T08:57:19.523Z"
   },
   {
    "duration": 10,
    "start_time": "2022-05-27T08:58:09.995Z"
   },
   {
    "duration": 6,
    "start_time": "2022-05-27T08:58:47.940Z"
   },
   {
    "duration": 4,
    "start_time": "2022-05-27T08:59:12.016Z"
   },
   {
    "duration": 4,
    "start_time": "2022-05-27T08:59:55.442Z"
   },
   {
    "duration": 4,
    "start_time": "2022-05-27T08:59:58.109Z"
   },
   {
    "duration": 4,
    "start_time": "2022-05-27T09:00:00.525Z"
   },
   {
    "duration": 4,
    "start_time": "2022-05-27T09:14:32.463Z"
   },
   {
    "duration": 5,
    "start_time": "2022-05-27T09:19:07.687Z"
   },
   {
    "duration": 5,
    "start_time": "2022-05-27T09:19:15.092Z"
   },
   {
    "duration": 10,
    "start_time": "2022-05-27T09:19:29.092Z"
   },
   {
    "duration": 362,
    "start_time": "2022-05-27T09:22:44.097Z"
   },
   {
    "duration": 122,
    "start_time": "2022-05-27T09:23:13.011Z"
   },
   {
    "duration": 376,
    "start_time": "2022-05-27T09:23:39.703Z"
   },
   {
    "duration": 330,
    "start_time": "2022-05-27T09:24:37.141Z"
   },
   {
    "duration": 399,
    "start_time": "2022-05-27T09:26:17.504Z"
   },
   {
    "duration": 401,
    "start_time": "2022-05-27T09:26:31.838Z"
   },
   {
    "duration": 349,
    "start_time": "2022-05-27T09:26:38.547Z"
   },
   {
    "duration": 4973,
    "start_time": "2022-05-28T07:09:26.999Z"
   },
   {
    "duration": 4090,
    "start_time": "2022-05-28T07:09:31.975Z"
   },
   {
    "duration": 2402,
    "start_time": "2022-05-28T07:09:36.066Z"
   },
   {
    "duration": 1783,
    "start_time": "2022-05-28T07:09:38.470Z"
   },
   {
    "duration": 20,
    "start_time": "2022-05-28T07:09:40.255Z"
   },
   {
    "duration": 52,
    "start_time": "2022-05-28T07:09:40.277Z"
   },
   {
    "duration": 229,
    "start_time": "2022-05-28T07:09:40.331Z"
   },
   {
    "duration": 85,
    "start_time": "2022-05-28T07:09:40.562Z"
   },
   {
    "duration": 290,
    "start_time": "2022-05-28T07:09:40.648Z"
   },
   {
    "duration": 27,
    "start_time": "2022-05-28T07:09:40.940Z"
   },
   {
    "duration": 60,
    "start_time": "2022-05-28T07:09:40.968Z"
   },
   {
    "duration": 21,
    "start_time": "2022-05-28T07:09:41.030Z"
   },
   {
    "duration": 10,
    "start_time": "2022-05-28T07:09:41.053Z"
   },
   {
    "duration": 66,
    "start_time": "2022-05-28T07:09:41.064Z"
   },
   {
    "duration": 13,
    "start_time": "2022-05-28T07:09:41.132Z"
   },
   {
    "duration": 418,
    "start_time": "2022-05-28T07:09:41.147Z"
   },
   {
    "duration": 487,
    "start_time": "2022-05-28T07:09:41.567Z"
   },
   {
    "duration": 82,
    "start_time": "2022-05-28T07:09:42.056Z"
   },
   {
    "duration": 8,
    "start_time": "2022-05-28T07:09:42.139Z"
   },
   {
    "duration": 306,
    "start_time": "2022-05-28T07:09:42.149Z"
   },
   {
    "duration": 12,
    "start_time": "2022-05-28T07:09:42.457Z"
   },
   {
    "duration": 83,
    "start_time": "2022-05-28T07:09:42.471Z"
   },
   {
    "duration": 74,
    "start_time": "2022-05-28T07:09:42.556Z"
   },
   {
    "duration": 12,
    "start_time": "2022-05-28T07:09:42.632Z"
   },
   {
    "duration": 206,
    "start_time": "2022-05-28T07:09:42.645Z"
   },
   {
    "duration": 6,
    "start_time": "2022-05-28T07:09:42.852Z"
   },
   {
    "duration": 87,
    "start_time": "2022-05-28T07:09:42.859Z"
   },
   {
    "duration": 103,
    "start_time": "2022-05-28T07:09:42.949Z"
   },
   {
    "duration": 7,
    "start_time": "2022-05-28T07:09:43.053Z"
   },
   {
    "duration": 85,
    "start_time": "2022-05-28T07:09:43.061Z"
   },
   {
    "duration": 94,
    "start_time": "2022-05-28T07:09:43.147Z"
   },
   {
    "duration": 17,
    "start_time": "2022-05-28T07:09:43.243Z"
   },
   {
    "duration": 74,
    "start_time": "2022-05-28T07:09:43.262Z"
   },
   {
    "duration": 298,
    "start_time": "2022-05-28T07:09:43.338Z"
   },
   {
    "duration": 306,
    "start_time": "2022-05-28T07:09:43.637Z"
   },
   {
    "duration": 18,
    "start_time": "2022-05-28T07:09:43.945Z"
   },
   {
    "duration": 162,
    "start_time": "2022-05-28T07:09:43.965Z"
   },
   {
    "duration": 9,
    "start_time": "2022-05-28T07:09:44.129Z"
   },
   {
    "duration": 117,
    "start_time": "2022-05-28T07:09:44.139Z"
   },
   {
    "duration": 5,
    "start_time": "2022-05-28T07:09:44.257Z"
   },
   {
    "duration": 1076,
    "start_time": "2022-05-28T07:09:44.264Z"
   },
   {
    "duration": 14,
    "start_time": "2022-05-28T07:09:45.341Z"
   },
   {
    "duration": 571,
    "start_time": "2022-05-28T07:09:45.356Z"
   },
   {
    "duration": 12,
    "start_time": "2022-05-28T07:09:45.929Z"
   },
   {
    "duration": 192,
    "start_time": "2022-05-28T07:09:45.942Z"
   },
   {
    "duration": 6,
    "start_time": "2022-05-28T07:09:46.136Z"
   },
   {
    "duration": 2284,
    "start_time": "2022-05-28T07:09:46.143Z"
   },
   {
    "duration": 22,
    "start_time": "2022-05-28T07:09:48.429Z"
   },
   {
    "duration": 98,
    "start_time": "2022-05-28T07:09:48.452Z"
   },
   {
    "duration": 4,
    "start_time": "2022-05-28T07:09:48.552Z"
   },
   {
    "duration": 14,
    "start_time": "2022-05-28T07:09:48.558Z"
   },
   {
    "duration": 6,
    "start_time": "2022-05-28T07:09:48.628Z"
   },
   {
    "duration": 3792,
    "start_time": "2022-05-28T07:09:48.636Z"
   },
   {
    "duration": 138011,
    "start_time": "2022-05-28T07:09:52.430Z"
   },
   {
    "duration": 4490,
    "start_time": "2022-05-28T07:20:20.676Z"
   },
   {
    "duration": 4464,
    "start_time": "2022-05-28T07:20:25.169Z"
   },
   {
    "duration": 2736,
    "start_time": "2022-05-28T07:20:29.635Z"
   },
   {
    "duration": 1967,
    "start_time": "2022-05-28T07:20:32.373Z"
   },
   {
    "duration": 15,
    "start_time": "2022-05-28T07:20:34.343Z"
   },
   {
    "duration": 4,
    "start_time": "2022-05-28T07:20:34.360Z"
   },
   {
    "duration": 269,
    "start_time": "2022-05-28T07:20:34.365Z"
   },
   {
    "duration": 30,
    "start_time": "2022-05-28T07:20:34.636Z"
   },
   {
    "duration": 200,
    "start_time": "2022-05-28T07:20:34.668Z"
   },
   {
    "duration": 90,
    "start_time": "2022-05-28T07:20:34.870Z"
   },
   {
    "duration": 8,
    "start_time": "2022-05-28T07:20:34.961Z"
   },
   {
    "duration": 19,
    "start_time": "2022-05-28T07:20:35.028Z"
   },
   {
    "duration": 8,
    "start_time": "2022-05-28T07:20:35.050Z"
   },
   {
    "duration": 6,
    "start_time": "2022-05-28T07:20:35.060Z"
   },
   {
    "duration": 70,
    "start_time": "2022-05-28T07:20:35.068Z"
   },
   {
    "duration": 335,
    "start_time": "2022-05-28T07:20:35.140Z"
   },
   {
    "duration": 461,
    "start_time": "2022-05-28T07:20:35.477Z"
   },
   {
    "duration": 28,
    "start_time": "2022-05-28T07:20:35.939Z"
   },
   {
    "duration": 61,
    "start_time": "2022-05-28T07:20:35.968Z"
   },
   {
    "duration": 399,
    "start_time": "2022-05-28T07:20:36.031Z"
   },
   {
    "duration": 13,
    "start_time": "2022-05-28T07:20:36.433Z"
   },
   {
    "duration": 89,
    "start_time": "2022-05-28T07:20:36.448Z"
   },
   {
    "duration": 16,
    "start_time": "2022-05-28T07:20:36.539Z"
   },
   {
    "duration": 71,
    "start_time": "2022-05-28T07:20:36.557Z"
   },
   {
    "duration": 230,
    "start_time": "2022-05-28T07:20:36.630Z"
   },
   {
    "duration": 6,
    "start_time": "2022-05-28T07:20:36.863Z"
   },
   {
    "duration": 24,
    "start_time": "2022-05-28T07:20:36.928Z"
   },
   {
    "duration": 111,
    "start_time": "2022-05-28T07:20:36.954Z"
   },
   {
    "duration": 65,
    "start_time": "2022-05-28T07:20:37.067Z"
   },
   {
    "duration": 97,
    "start_time": "2022-05-28T07:20:37.134Z"
   },
   {
    "duration": 96,
    "start_time": "2022-05-28T07:20:37.233Z"
   },
   {
    "duration": 14,
    "start_time": "2022-05-28T07:20:37.330Z"
   },
   {
    "duration": 20,
    "start_time": "2022-05-28T07:20:37.345Z"
   },
   {
    "duration": 284,
    "start_time": "2022-05-28T07:20:37.367Z"
   },
   {
    "duration": 299,
    "start_time": "2022-05-28T07:20:37.653Z"
   },
   {
    "duration": 77,
    "start_time": "2022-05-28T07:20:37.953Z"
   },
   {
    "duration": 106,
    "start_time": "2022-05-28T07:20:38.032Z"
   },
   {
    "duration": 8,
    "start_time": "2022-05-28T07:20:38.140Z"
   },
   {
    "duration": 113,
    "start_time": "2022-05-28T07:20:38.149Z"
   },
   {
    "duration": 5,
    "start_time": "2022-05-28T07:20:38.264Z"
   },
   {
    "duration": 19,
    "start_time": "2022-05-28T07:20:38.329Z"
   },
   {
    "duration": 14,
    "start_time": "2022-05-28T07:20:38.349Z"
   },
   {
    "duration": 675,
    "start_time": "2022-05-28T07:20:38.365Z"
   },
   {
    "duration": 13,
    "start_time": "2022-05-28T07:20:39.042Z"
   },
   {
    "duration": 177,
    "start_time": "2022-05-28T07:20:39.056Z"
   },
   {
    "duration": 6,
    "start_time": "2022-05-28T07:20:39.235Z"
   },
   {
    "duration": 1920,
    "start_time": "2022-05-28T07:20:39.242Z"
   },
   {
    "duration": 75,
    "start_time": "2022-05-28T07:20:41.164Z"
   },
   {
    "duration": 24,
    "start_time": "2022-05-28T07:20:41.240Z"
   },
   {
    "duration": 61,
    "start_time": "2022-05-28T07:20:41.266Z"
   },
   {
    "duration": 5,
    "start_time": "2022-05-28T07:20:41.330Z"
   },
   {
    "duration": 19,
    "start_time": "2022-05-28T07:20:41.337Z"
   },
   {
    "duration": 3382,
    "start_time": "2022-05-28T07:20:41.358Z"
   },
   {
    "duration": 143927,
    "start_time": "2022-05-28T07:20:44.827Z"
   },
   {
    "duration": 325748,
    "start_time": "2022-05-28T07:28:21.180Z"
   },
   {
    "duration": 172,
    "start_time": "2022-05-28T07:33:46.930Z"
   },
   {
    "duration": 9,
    "start_time": "2022-05-28T07:33:47.103Z"
   },
   {
    "duration": 388,
    "start_time": "2022-05-28T07:33:47.114Z"
   },
   {
    "duration": 3,
    "start_time": "2022-05-28T07:33:47.504Z"
   },
   {
    "duration": 55,
    "start_time": "2022-05-28T07:41:03.739Z"
   }
  ],
  "kernelspec": {
   "display_name": "Python 3 (ipykernel)",
   "language": "python",
   "name": "python3"
  },
  "language_info": {
   "codemirror_mode": {
    "name": "ipython",
    "version": 3
   },
   "file_extension": ".py",
   "mimetype": "text/x-python",
   "name": "python",
   "nbconvert_exporter": "python",
   "pygments_lexer": "ipython3",
   "version": "3.9.15"
  },
  "toc": {
   "base_numbering": 1,
   "nav_menu": {},
   "number_sections": true,
   "sideBar": true,
   "skip_h1_title": true,
   "title_cell": "Table of Contents",
   "title_sidebar": "Contents",
   "toc_cell": false,
   "toc_position": {
    "height": "calc(100% - 180px)",
    "left": "10px",
    "top": "150px",
    "width": "366.391px"
   },
   "toc_section_display": true,
   "toc_window_display": true
  }
 },
 "nbformat": 4,
 "nbformat_minor": 2
}
