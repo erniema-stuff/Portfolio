{
 "cells": [
  {
   "cell_type": "markdown",
   "metadata": {
    "id": "eVKYZudrsian"
   },
   "source": [
    "# Анализ комментариев\n",
    "\n",
    "Интернет-магазин открывает для пользователей возможность редактировать описание товаров. Нужен инструмент, который будет искать токсичные комментарии и отправлять их на модерацию."
   ]
  },
  {
   "cell_type": "markdown",
   "metadata": {},
   "source": [
    "# Цель проекта\n",
    "\n",
    "Используя размеченный набор данных (комментарии на английском языке) необходимо построить бинарный классификатор, выявляющий токсичные комментарии. \n",
    "\n",
    "Метрикой качетва модели является среднее гармоническое полноты и точности предсказаний - **F1 мера** (целевое значение > 0,75)."
   ]
  },
  {
   "cell_type": "markdown",
   "metadata": {},
   "source": [
    "# План работы\n",
    "\n",
    "1. Подготовить текстовые данные (предобработать комментарии и привести их форму, пригодную для передачи в модель).\n",
    "2. Исследовать нейтральные и токсичные комментарии, выявить их особенности.\n",
    "3. Обучить разные модели, сравнить скорость их работы и качество предсказаний. \n",
    "4. Подготовить отчет."
   ]
  },
  {
   "cell_type": "markdown",
   "metadata": {
    "id": "HlX6SKXIsilv"
   },
   "source": [
    "## Импорт библиотек"
   ]
  },
  {
   "cell_type": "code",
   "execution_count": 1,
   "metadata": {
    "id": "X1KJrNy-tDAH"
   },
   "outputs": [
    {
     "name": "stdout",
     "output_type": "stream",
     "text": [
      "Библиотеки загружены успешно.\n"
     ]
    }
   ],
   "source": [
    "import pandas as pd\n",
    "import numpy as np\n",
    "import seaborn as sns\n",
    "import matplotlib.pyplot as plt\n",
    "\n",
    "# импортируем модуль для работы с регулярными выражениями\n",
    "import re \n",
    "\n",
    "# импортируем библиотеку spacy для лемматизациия английского текста\n",
    "import spacy\n",
    "\n",
    "# импортитуем элементы библиотеки nltk\n",
    "import nltk\n",
    "from nltk.corpus import stopwords\n",
    "from nltk import FreqDist\n",
    "\n",
    "# импортируем счетчик векторов для работы с TF-IDF \n",
    "from sklearn.feature_extraction.text import TfidfVectorizer\n",
    "\n",
    "# импортируем структуры данных для построения моделей\n",
    "from sklearn.linear_model import LogisticRegression\n",
    "from sklearn.tree import DecisionTreeClassifier\n",
    "from sklearn.ensemble import RandomForestClassifier \n",
    "from sklearn.dummy import DummyClassifier\n",
    "import lightgbm as lgb\n",
    "\n",
    "# импортируем структуры данных для обучения моделей \n",
    "from sklearn.model_selection import train_test_split, cross_val_score, GridSearchCV, RandomizedSearchCV\n",
    "from sklearn.metrics import f1_score\n",
    "from sklearn.metrics import confusion_matrix\n",
    "\n",
    "# импорт библиотеки для подсчета времени исполнения кода\n",
    "import time \n",
    "\n",
    "# импорт библиотеки для создания пайплайнов\n",
    "from sklearn.pipeline import Pipeline\n",
    "\n",
    "print('Библиотеки загружены успешно.')"
   ]
  },
  {
   "cell_type": "markdown",
   "metadata": {
    "id": "65JvYlU6siox"
   },
   "source": [
    "## Загрузка и знакомство с данными"
   ]
  },
  {
   "cell_type": "code",
   "execution_count": 2,
   "metadata": {
    "id": "HrqcU0sptQtS"
   },
   "outputs": [
    {
     "data": {
      "text/html": [
       "<div>\n",
       "<style scoped>\n",
       "    .dataframe tbody tr th:only-of-type {\n",
       "        vertical-align: middle;\n",
       "    }\n",
       "\n",
       "    .dataframe tbody tr th {\n",
       "        vertical-align: top;\n",
       "    }\n",
       "\n",
       "    .dataframe thead th {\n",
       "        text-align: right;\n",
       "    }\n",
       "</style>\n",
       "<table border=\"1\" class=\"dataframe\">\n",
       "  <thead>\n",
       "    <tr style=\"text-align: right;\">\n",
       "      <th></th>\n",
       "      <th>text</th>\n",
       "      <th>toxic</th>\n",
       "    </tr>\n",
       "  </thead>\n",
       "  <tbody>\n",
       "    <tr>\n",
       "      <th>0</th>\n",
       "      <td>Explanation\\nWhy the edits made under my usern...</td>\n",
       "      <td>0</td>\n",
       "    </tr>\n",
       "    <tr>\n",
       "      <th>1</th>\n",
       "      <td>D'aww! He matches this background colour I'm s...</td>\n",
       "      <td>0</td>\n",
       "    </tr>\n",
       "    <tr>\n",
       "      <th>2</th>\n",
       "      <td>Hey man, I'm really not trying to edit war. It...</td>\n",
       "      <td>0</td>\n",
       "    </tr>\n",
       "    <tr>\n",
       "      <th>3</th>\n",
       "      <td>\"\\nMore\\nI can't make any real suggestions on ...</td>\n",
       "      <td>0</td>\n",
       "    </tr>\n",
       "    <tr>\n",
       "      <th>4</th>\n",
       "      <td>You, sir, are my hero. Any chance you remember...</td>\n",
       "      <td>0</td>\n",
       "    </tr>\n",
       "    <tr>\n",
       "      <th>5</th>\n",
       "      <td>\"\\n\\nCongratulations from me as well, use the ...</td>\n",
       "      <td>0</td>\n",
       "    </tr>\n",
       "    <tr>\n",
       "      <th>6</th>\n",
       "      <td>COCKSUCKER BEFORE YOU PISS AROUND ON MY WORK</td>\n",
       "      <td>1</td>\n",
       "    </tr>\n",
       "    <tr>\n",
       "      <th>7</th>\n",
       "      <td>Your vandalism to the Matt Shirvington article...</td>\n",
       "      <td>0</td>\n",
       "    </tr>\n",
       "    <tr>\n",
       "      <th>8</th>\n",
       "      <td>Sorry if the word 'nonsense' was offensive to ...</td>\n",
       "      <td>0</td>\n",
       "    </tr>\n",
       "    <tr>\n",
       "      <th>9</th>\n",
       "      <td>alignment on this subject and which are contra...</td>\n",
       "      <td>0</td>\n",
       "    </tr>\n",
       "  </tbody>\n",
       "</table>\n",
       "</div>"
      ],
      "text/plain": [
       "                                                text  toxic\n",
       "0  Explanation\\nWhy the edits made under my usern...      0\n",
       "1  D'aww! He matches this background colour I'm s...      0\n",
       "2  Hey man, I'm really not trying to edit war. It...      0\n",
       "3  \"\\nMore\\nI can't make any real suggestions on ...      0\n",
       "4  You, sir, are my hero. Any chance you remember...      0\n",
       "5  \"\\n\\nCongratulations from me as well, use the ...      0\n",
       "6       COCKSUCKER BEFORE YOU PISS AROUND ON MY WORK      1\n",
       "7  Your vandalism to the Matt Shirvington article...      0\n",
       "8  Sorry if the word 'nonsense' was offensive to ...      0\n",
       "9  alignment on this subject and which are contra...      0"
      ]
     },
     "execution_count": 2,
     "metadata": {},
     "output_type": "execute_result"
    }
   ],
   "source": [
    "comments = pd.read_csv('toxic_comments.csv', usecols=['text','toxic'])\n",
    "comments.head(10)"
   ]
  },
  {
   "cell_type": "markdown",
   "metadata": {
    "id": "ddAcdVrQsir1"
   },
   "source": [
    "Столбец **text** содержит текст комментария, **toxic** — бинарный целевой признак (0 — нормальный комментарий, 1 — токсичный)."
   ]
  },
  {
   "cell_type": "code",
   "execution_count": 3,
   "metadata": {
    "scrolled": true
   },
   "outputs": [
    {
     "name": "stdout",
     "output_type": "stream",
     "text": [
      "Количество дубликатов: 0\n",
      "Количество пропусков: 0\n"
     ]
    }
   ],
   "source": [
    "print('Количество дубликатов:', comments.duplicated().sum())\n",
    "print('Количество пропусков:', comments['text'].isna().sum() + comments['toxic'].isna().sum())"
   ]
  },
  {
   "cell_type": "markdown",
   "metadata": {
    "id": "oifKZSpLt_0d"
   },
   "source": [
    "**Наблюдения**\n",
    "- данные не содержат пропусков и дубликатов\n",
    "- комментарии включают служебные символы (HTML-теги)\n",
    "- тексты набраны разным регистром"
   ]
  },
  {
   "cell_type": "markdown",
   "metadata": {
    "id": "PI4q7ZM6uEsp"
   },
   "source": [
    "## Подготовка данных\n",
    "\n",
    "Чтобы подготовить данные для передачи в модель выполним следующие шаги:\n",
    "\n",
    "- избавимся от служебных символов (тегов)\n",
    "- приведем весь текст к нижнему регистру\n",
    "- избавимся от знаков препинания и стоп-слов\n",
    "- подготовим sparse-матрицы признаков"
   ]
  },
  {
   "cell_type": "markdown",
   "metadata": {
    "id": "LupTEexeuKGO"
   },
   "source": [
    "### Очистка текста\n",
    "Выполним очистку текста - приведем его к нижнему регистру, удалим все небуквенные символы и лишние пробелы."
   ]
  },
  {
   "cell_type": "code",
   "execution_count": 4,
   "metadata": {
    "id": "ubQKWOWducYt"
   },
   "outputs": [],
   "source": [
    "# подготовим чистящую фукнцию\n",
    "def text_cleaner(text):\n",
    "    clear_text = text.lower() # приведение текста к нижнему регистру\n",
    "    clear_text = clear_text.replace('\\n', ' ') # удаление служебного символа \\n\n",
    "    clear_text = ' '.join(re.sub(r'[^a-z ]', ' ', clear_text).split()) # удаление всех небуквенных символов и лишних пробелов\n",
    "    return clear_text"
   ]
  },
  {
   "cell_type": "code",
   "execution_count": 5,
   "metadata": {
    "id": "ijCnyUjGufYG"
   },
   "outputs": [],
   "source": [
    "# применим фукнцию text_cleaner\n",
    "comments['clean_text'] = comments['text'].apply(lambda line: text_cleaner(line))"
   ]
  },
  {
   "cell_type": "code",
   "execution_count": 6,
   "metadata": {
    "colab": {
     "base_uri": "https://localhost:8080/"
    },
    "id": "T3aMzAWUujNl",
    "outputId": "b66228b9-290a-4a70-98f0-6262349021cd"
   },
   "outputs": [
    {
     "data": {
      "text/plain": [
       "0    explanation why the edits made under my userna...\n",
       "1    d aww he matches this background colour i m se...\n",
       "2    hey man i m really not trying to edit war it s...\n",
       "3    more i can t make any real suggestions on impr...\n",
       "4    you sir are my hero any chance you remember wh...\n",
       "Name: clean_text, dtype: object"
      ]
     },
     "execution_count": 6,
     "metadata": {},
     "output_type": "execute_result"
    }
   ],
   "source": [
    "comments['clean_text'].head()"
   ]
  },
  {
   "cell_type": "markdown",
   "metadata": {
    "id": "ikavPn0muKDh"
   },
   "source": [
    "### Лемматизация\n",
    "Для лемматизации англоязычного текста воспользуемся библиотекой **spacy**, которая самостроятельно определяет части речи и предлагает соответсвующую им лемму."
   ]
  },
  {
   "cell_type": "code",
   "execution_count": 9,
   "metadata": {
    "id": "66z-AaLcuqWR"
   },
   "outputs": [],
   "source": [
    "# подготовим функцию для лемматизации текста\n",
    "lemmatizer = spacy.load('en_core_web_sm', disable=['perser', 'ner',])\n",
    "def text_lemmatizer(text):\n",
    "    return ' '.join([word.lemma_ for word in lemmatizer(text)])"
   ]
  },
  {
   "cell_type": "code",
   "execution_count": 10,
   "metadata": {
    "colab": {
     "base_uri": "https://localhost:8080/"
    },
    "id": "L5d_-IfuuqS1",
    "outputId": "3ba62b0d-b578-4340-c215-e28aaa230385"
   },
   "outputs": [
    {
     "name": "stdout",
     "output_type": "stream",
     "text": [
      "CPU times: total: 33min 56s\n",
      "Wall time: 34min 38s\n"
     ]
    }
   ],
   "source": [
    "%%time\n",
    "# применим фукнцию text_lemmatizer к очищенным текстам\n",
    "comments['lemm_text'] = comments['clean_text'].apply(text_lemmatizer)"
   ]
  },
  {
   "cell_type": "code",
   "execution_count": 16,
   "metadata": {
    "colab": {
     "base_uri": "https://localhost:8080/"
    },
    "id": "5VPLEUdxuqPl",
    "outputId": "79b8fabc-e083-47ee-9e72-5ea3453f5d93",
    "scrolled": true
   },
   "outputs": [
    {
     "data": {
      "text/html": [
       "<div>\n",
       "<style scoped>\n",
       "    .dataframe tbody tr th:only-of-type {\n",
       "        vertical-align: middle;\n",
       "    }\n",
       "\n",
       "    .dataframe tbody tr th {\n",
       "        vertical-align: top;\n",
       "    }\n",
       "\n",
       "    .dataframe thead th {\n",
       "        text-align: right;\n",
       "    }\n",
       "</style>\n",
       "<table border=\"1\" class=\"dataframe\">\n",
       "  <thead>\n",
       "    <tr style=\"text-align: right;\">\n",
       "      <th></th>\n",
       "      <th>clean_text</th>\n",
       "      <th>lemm_text</th>\n",
       "    </tr>\n",
       "  </thead>\n",
       "  <tbody>\n",
       "    <tr>\n",
       "      <th>0</th>\n",
       "      <td>explanation why the edits made under my userna...</td>\n",
       "      <td>explanation why the edit make under my usernam...</td>\n",
       "    </tr>\n",
       "    <tr>\n",
       "      <th>1</th>\n",
       "      <td>d aww he matches this background colour i m se...</td>\n",
       "      <td>d aww he match this background colour I m seem...</td>\n",
       "    </tr>\n",
       "    <tr>\n",
       "      <th>2</th>\n",
       "      <td>hey man i m really not trying to edit war it s...</td>\n",
       "      <td>hey man I m really not try to edit war it s ju...</td>\n",
       "    </tr>\n",
       "    <tr>\n",
       "      <th>3</th>\n",
       "      <td>more i can t make any real suggestions on impr...</td>\n",
       "      <td>more I can t make any real suggestion on impro...</td>\n",
       "    </tr>\n",
       "    <tr>\n",
       "      <th>4</th>\n",
       "      <td>you sir are my hero any chance you remember wh...</td>\n",
       "      <td>you sir be my hero any chance you remember wha...</td>\n",
       "    </tr>\n",
       "  </tbody>\n",
       "</table>\n",
       "</div>"
      ],
      "text/plain": [
       "                                          clean_text  \\\n",
       "0  explanation why the edits made under my userna...   \n",
       "1  d aww he matches this background colour i m se...   \n",
       "2  hey man i m really not trying to edit war it s...   \n",
       "3  more i can t make any real suggestions on impr...   \n",
       "4  you sir are my hero any chance you remember wh...   \n",
       "\n",
       "                                           lemm_text  \n",
       "0  explanation why the edit make under my usernam...  \n",
       "1  d aww he match this background colour I m seem...  \n",
       "2  hey man I m really not try to edit war it s ju...  \n",
       "3  more I can t make any real suggestion on impro...  \n",
       "4  you sir be my hero any chance you remember wha...  "
      ]
     },
     "execution_count": 16,
     "metadata": {},
     "output_type": "execute_result"
    }
   ],
   "source": [
    "comments[['clean_text', 'lemm_text']].head()"
   ]
  },
  {
   "cell_type": "markdown",
   "metadata": {
    "id": "daXTlqvzHnoS"
   },
   "source": [
    "### Оценка частотности слов\n",
    "Определим самые частые слова, которые встречаются в нейтральных и токсичных отзывах."
   ]
  },
  {
   "cell_type": "code",
   "execution_count": 17,
   "metadata": {
    "id": "0oj6PSjdHnI3"
   },
   "outputs": [],
   "source": [
    "# подготовим функцию, использующую метод FreqDist\n",
    "def frequent_words(df, col):\n",
    "    lst=[]\n",
    "    for text in df[col]:\n",
    "        lst+=text.split()      \n",
    "    fdist=FreqDist(lst)\n",
    "    return fdist.most_common(10)"
   ]
  },
  {
   "cell_type": "code",
   "execution_count": 18,
   "metadata": {
    "colab": {
     "base_uri": "https://localhost:8080/"
    },
    "id": "YZp9SwXBJ84m",
    "outputId": "c863244d-4c68-4ff8-aae7-85e1317a59c0"
   },
   "outputs": [
    {
     "name": "stdout",
     "output_type": "stream",
     "text": [
      "Самые \"полулярные\" слова в нейтральных комментариях\n"
     ]
    },
    {
     "data": {
      "text/plain": [
       "[('the', 473054),\n",
       " ('be', 423207),\n",
       " ('to', 279853),\n",
       " ('I', 246264),\n",
       " ('of', 211895),\n",
       " ('and', 206170),\n",
       " ('a', 194801),\n",
       " ('you', 177376),\n",
       " ('that', 151830),\n",
       " ('it', 139170)]"
      ]
     },
     "execution_count": 18,
     "metadata": {},
     "output_type": "execute_result"
    }
   ],
   "source": [
    "print('Самые \"полулярные\" слова в нейтральных комментариях')\n",
    "frequent_words(comments[comments['toxic'] == 0], 'lemm_text')"
   ]
  },
  {
   "cell_type": "code",
   "execution_count": 19,
   "metadata": {
    "colab": {
     "base_uri": "https://localhost:8080/"
    },
    "id": "ERKhcV5lMJwt",
    "outputId": "ed47c00e-d996-4e3a-a89a-7599d1a01265",
    "scrolled": true
   },
   "outputs": [
    {
     "name": "stdout",
     "output_type": "stream",
     "text": [
      "Самые \"полулярные\" слова в токсичных комментариях\n"
     ]
    },
    {
     "data": {
      "text/plain": [
       "[('you', 41075),\n",
       " ('be', 35804),\n",
       " ('I', 31521),\n",
       " ('the', 23056),\n",
       " ('a', 22160),\n",
       " ('to', 17783),\n",
       " ('and', 17468),\n",
       " ('of', 12652),\n",
       " ('fuck', 11424),\n",
       " ('your', 9673)]"
      ]
     },
     "execution_count": 19,
     "metadata": {},
     "output_type": "execute_result"
    }
   ],
   "source": [
    "print('Самые \"полулярные\" слова в токсичных комментариях')\n",
    "frequent_words(comments[comments['toxic'] == 1], 'lemm_text')"
   ]
  },
  {
   "cell_type": "markdown",
   "metadata": {
    "id": "J7wJ-ucqMPm1"
   },
   "source": [
    "С точки зрения частотности слов нейтральные и токсичные комментарии почти не отличаются. Самые распространенные слова - предлоги и местоимения. Все эти мусорные слова нужно отфильтровать. Единственное полезное для модели ключевое слово в токсичном списке на предпоследнем месте."
   ]
  },
  {
   "cell_type": "markdown",
   "metadata": {
    "id": "tJ4e0Ps1uKAW"
   },
   "source": [
    "### Фильтрация стоп-слов\n",
    "\n",
    "К стоп-словам относят предлоги, союзы, междометия, частицы и другие части речи, которые часто встречаются в тексте, являются служебными и не несут смысловой нагрузки – являются избыточными."
   ]
  },
  {
   "cell_type": "code",
   "execution_count": 49,
   "metadata": {
    "colab": {
     "base_uri": "https://localhost:8080/"
    },
    "id": "dPCoo8A1wmO2",
    "outputId": "e02274bc-062f-44f2-8f20-50a28c2e8301",
    "scrolled": true
   },
   "outputs": [
    {
     "name": "stdout",
     "output_type": "stream",
     "text": [
      "Список стоп-слов подготовлен.\n"
     ]
    }
   ],
   "source": [
    "# Библиотека NLTK содержит готовые списки стоп-слов для различных языков. Получим список стоп-слов для английского языка.\n",
    "nltk.download('stopwords', quiet=True)\n",
    "sw = set(stopwords.words('english'))\n",
    "print('Список стоп-слов подготовлен.')"
   ]
  },
  {
   "cell_type": "markdown",
   "metadata": {
    "id": "Mlabq8AD00T2"
   },
   "source": [
    "### Подготовка выборок\n",
    "\n",
    "Подготовим стратифицированыне по целевому признаку обучающую и тестовую выборки. В тестовую выборку уберем 40% данных."
   ]
  },
  {
   "cell_type": "code",
   "execution_count": 22,
   "metadata": {
    "id": "BEFDkhmU4lbr"
   },
   "outputs": [],
   "source": [
    "target = comments['toxic']\n",
    "features = comments['lemm_text']\n",
    "features_train, features_test, target_train, target_test = train_test_split(\n",
    "    features, target, test_size=0.4, random_state = 12345, stratify=target)"
   ]
  },
  {
   "cell_type": "markdown",
   "metadata": {
    "id": "5mUtNlwQuJ89"
   },
   "source": [
    "###  TF-IDF\n",
    "\n",
    "Создадим признаки на которых будут обучаться модели - матрицы оценок важности слов в комментариях, расчитанные с помощью показателя TF-IDF."
   ]
  },
  {
   "cell_type": "code",
   "execution_count": 23,
   "metadata": {
    "colab": {
     "base_uri": "https://localhost:8080/"
    },
    "id": "c9VK2YRMtppL",
    "outputId": "87a44552-fa73-45a9-833b-6d0b9b727641"
   },
   "outputs": [
    {
     "name": "stdout",
     "output_type": "stream",
     "text": [
      "Sparse-матрицы признаков для обучающей и тестовой выборки подготовлены.\n"
     ]
    }
   ],
   "source": [
    "# создадим счетчик важности слов, фильтрующий стоп-слова\n",
    "count_tf_idf = TfidfVectorizer(stop_words=sw)\n",
    "# вычислим TF-IDF матрицу для корпуса обучающих текстов \n",
    "features_train_transformed = count_tf_idf.fit_transform(features_train.values)\n",
    "# вычислим TF-IDF матрицу для корпуса тестовых текстов\n",
    "features_test = count_tf_idf.transform(features_test.values)\n",
    "# сравним размеры выборок, чтобы убедиться в корректности работы алгоритма\n",
    "print('Sparse-матрицы признаков для обучающей и тестовой выборки подготовлены.')"
   ]
  },
  {
   "cell_type": "markdown",
   "metadata": {
    "id": "r3GoE-sS8uaQ"
   },
   "source": [
    "### Вывод по разделу\n",
    "\n",
    "Данные о комментариях подготовлены:\n",
    "- удалены лишние символы и пробелы\n",
    "- проведена лемматизация слов\n",
    "- офтильтрованы стоп-слова\n",
    "- подготовлены обучающая и тестовая выборка\n",
    "- сформированы sparse-матрицы признаков, на которых будут обучаться модели"
   ]
  },
  {
   "cell_type": "markdown",
   "metadata": {
    "id": "s7h3Rx4YOxDo"
   },
   "source": [
    "## Обучение моделей\n",
    "Проведем эксперимент и сравним характеристики базовых моделей, работающих по алгоритмам линейной регрессии, случайного леса и градиентного бустинга. Оценим скорость работы и качество предсказаний. Метрикой качества будет выступать **F1 мера**. Обучать модели будем методом кросс-валидации."
   ]
  },
  {
   "cell_type": "code",
   "execution_count": 24,
   "metadata": {
    "id": "YmJfwyGEOuh_"
   },
   "outputs": [],
   "source": [
    "# соберем сравнительную таблицу models, в которую будем записывать характеристики моделей\n",
    "models = pd.DataFrame({'algorithm' : ['логистическая регрессия', 'случайный лес', 'градиентный бустинг'],\n",
    "                      'F1 score' : [0, 0, 0],\n",
    "                      'training_time' : [0, 0, 0],\n",
    "                      'prediction_time' : [0, 0, 0],\n",
    "                      'setting' : ['', '', '']})"
   ]
  },
  {
   "cell_type": "code",
   "execution_count": 25,
   "metadata": {
    "id": "RF305qFrOvkA"
   },
   "outputs": [],
   "source": [
    "# время обучения/предсказания моделей будет расчитывать функция timer\n",
    "def timer(start, stop):\n",
    "    time = stop - start\n",
    "    m, s = divmod(time, 60)\n",
    "    h, m = divmod(m, 60)\n",
    "    s,m,h = int(round(s, 0)), int(round(m, 0)), int(round(h, 0))\n",
    "    return '{0:02d}:{1:02d}:{2:02d}'.format(h, m, s)"
   ]
  },
  {
   "cell_type": "markdown",
   "metadata": {
    "id": "vqQ_QFwARYO0"
   },
   "source": [
    "### Наивная модель\n",
    "В качестве точки отсчета и меры адекватности рабочих моделей возьмем предсказания наивной модели-перестраховщика, которая всегда утверждает, что комментарий токсичный."
   ]
  },
  {
   "cell_type": "code",
   "execution_count": 26,
   "metadata": {
    "colab": {
     "base_uri": "https://localhost:8080/"
    },
    "id": "Xi_k8YiwOvrB",
    "outputId": "0d651558-3d05-41ec-a5ed-dc4ee656f783"
   },
   "outputs": [
    {
     "name": "stdout",
     "output_type": "stream",
     "text": [
      "Наивная модель.\n",
      "Контрольное значение метрики F1 = 0.18\n"
     ]
    }
   ],
   "source": [
    "# сформируем константные псевдо-пресказания наивной модели\n",
    "# пусть модель всегда предсказывает токсичность комментария\n",
    "dummy_pred = np.ones(len(target_test))\n",
    "\n",
    "print(f'Наивная модель.\\nКонтрольное значение метрики F1 = {f1_score(target_test, dummy_pred, zero_division=1):.2f}')"
   ]
  },
  {
   "cell_type": "markdown",
   "metadata": {
    "id": "jM8v9ZwpXb86"
   },
   "source": [
    "### Логистическая регрессия"
   ]
  },
  {
   "cell_type": "markdown",
   "metadata": {},
   "source": [
    "Кросс-валидация предсказаний логистической регрессии с использованием пайплайна."
   ]
  },
  {
   "cell_type": "code",
   "execution_count": 30,
   "metadata": {},
   "outputs": [],
   "source": [
    "# построитм пайплайн с логистической регрессией\n",
    "lg = LogisticRegression(random_state=12345, solver='liblinear', class_weight='balanced')\n",
    "pipe_lg = Pipeline([('tf_idf', count_tf_idf), ('model', lg)])"
   ]
  },
  {
   "cell_type": "code",
   "execution_count": 31,
   "metadata": {
    "scrolled": false
   },
   "outputs": [
    {
     "name": "stdout",
     "output_type": "stream",
     "text": [
      "Алгоритм логистической регрессии. Кросс-валидация.\n",
      "Лучшее значение метрики F1 = 0.751\n"
     ]
    }
   ],
   "source": [
    "# выполниим кросс-валидацию и запишем лучшее значение лучшее метрики f1 запишем в pipe_lg_score\n",
    "# в пайплайн передаем невекторизованный корпус признаков features_train.values\n",
    "pipe_lg_score = cross_val_score(pipe_lg, features_train.values, target_train, scoring='f1', cv=5, n_jobs=-1)\n",
    "print(f'Алгоритм логистической регрессии. Кросс-валидация.\\nЛучшее значение метрики F1 = {pipe_lg_score.max():.3f}')\n",
    "\n",
    "# измеряем время обучения фиксируем его в таблице\n",
    "start = time.time() \n",
    "lg.fit(features_train_transformed, target_train)\n",
    "stop = time.time() \n",
    "\n",
    "models.loc[0,'training_time'] = timer(start, stop)\n",
    "models.loc[0,'setting'] = 'по-умолчанию'"
   ]
  },
  {
   "cell_type": "markdown",
   "metadata": {
    "id": "G9q7l1cYaeCw"
   },
   "source": [
    "### Случаный лес"
   ]
  },
  {
   "cell_type": "code",
   "execution_count": 32,
   "metadata": {},
   "outputs": [
    {
     "name": "stdout",
     "output_type": "stream",
     "text": [
      "Алгоритм случайного леса. Метод RandomizedSearchCV.\n",
      "Лучшее значение метрики F1 = 0.488\n",
      "Глубина дерева: 45\n",
      "Количество деревьев: 150\n",
      "CPU times: total: 3min 40s\n",
      "Wall time: 18min 40s\n"
     ]
    }
   ],
   "source": [
    "%%time\n",
    "# инициируем базовую модель и пайплайн\n",
    "\n",
    "model = RandomForestClassifier(random_state=12345, class_weight='balanced')\n",
    "pipe_rf = Pipeline([('tf_idf', count_tf_idf), ('model', model)])\n",
    "\n",
    "# установим диапазон перебора гиперпараметров\n",
    "parametrs = {'model__n_estimators': range(50, 201, 25), 'model__max_depth': range(5, 51, 5)}\n",
    "\n",
    "# инициируем модель\n",
    "rf = RandomizedSearchCV(estimator=pipe_rf, param_distributions=parametrs,\n",
    "                        scoring='f1', n_iter=10, cv=3, n_jobs=-1)\n",
    "\n",
    "# выбираем гиперпараметры\n",
    "rf.fit(features_train.values, target_train)\n",
    "\n",
    "print(f'Алгоритм случайного леса. Метод RandomizedSearchCV.\\nЛучшее значение метрики F1 = {rf.best_score_:.3f}')\n",
    "print('Глубина дерева:', rf.best_params_.get('model__max_depth'))\n",
    "print('Количество деревьев:', rf.best_params_.get('model__n_estimators'))"
   ]
  },
  {
   "cell_type": "code",
   "execution_count": 33,
   "metadata": {},
   "outputs": [],
   "source": [
    "#измеряем время обучения модели\n",
    "start = time.time() \n",
    "rf.best_estimator_['model'].fit(features_train_transformed, target_train)\n",
    "stop = time.time()\n",
    "#записываем в сравнительную таблицу время обучение и параметры модели\n",
    "models.loc[1,'training_time'] = timer(start, stop)\n",
    "models.loc[1,'setting'] = str(rf.best_params_)"
   ]
  },
  {
   "cell_type": "markdown",
   "metadata": {
    "id": "5I18dCdd7q2B"
   },
   "source": [
    "### Градиентный бустинг\n",
    "Средствами библиотеки LightGBM реализуем алгоритм градиентного бустинга моделей решающего дерева. Для регуляризации алгоритма будем изменять значения скорости обучения learning_rate, максимальной глубины деревьев max_depth, количества моделей в ансамбле n_estimators и доли признаков colsample_bytree, передаваемых в каждое дерево."
   ]
  },
  {
   "cell_type": "code",
   "execution_count": 36,
   "metadata": {
    "scrolled": true
   },
   "outputs": [
    {
     "name": "stdout",
     "output_type": "stream",
     "text": [
      "Градиентный бустинг. Метод RandomizedSearchCV.\n",
      "Лучшее значение метрики F1 = 0.763\n",
      "Количество моделей в ансамбле: 200\n",
      "Размер подвыборки: 0.8\n",
      "Максимальная глубина дерева: 10\n",
      "Скорость обучения: 0.3\n",
      "CPU times: total: 1min 55s\n",
      "Wall time: 8min 43s\n"
     ]
    }
   ],
   "source": [
    "%%time\n",
    "# инициируем базовую модель и пайплайн\n",
    "\n",
    "model = lgb.LGBMClassifier(random_state=12345, class_weight='balanced')\n",
    "pipe_booster = Pipeline([('tf_idf', count_tf_idf), ('model', model)])\n",
    "\n",
    "# установим диапазон перебора гиперпараметров\n",
    "parametrs = {'model__learning_rate': [0.1, 0.2, 0.3],\n",
    "             'model__max_depth': [2, 10, 20],\n",
    "             'model__n_estimators': [100, 200, 300],\n",
    "             'model__colsample_bytree': [0.7, 0.8, 1],}\n",
    "\n",
    "# инициируем модель\n",
    "booster = RandomizedSearchCV(estimator=pipe_booster, param_distributions=parametrs,\n",
    "                             scoring='f1', n_iter=10, cv=3, n_jobs=-1)\n",
    "\n",
    "# выбираем гиперпараметры\n",
    "booster.fit(features_train.values, target_train)\n",
    "\n",
    "# вычисляем параметры\n",
    "print(f'Градиентный бустинг. Метод RandomizedSearchCV.\\nЛучшее значение метрики F1 = {booster.best_score_:.3f}')\n",
    "print('Количество моделей в ансамбле:', booster.best_params_.get('model__n_estimators'))\n",
    "print('Размер подвыборки:', booster.best_params_.get('model__colsample_bytree'))\n",
    "print('Максимальная глубина дерева:', booster.best_params_.get('model__max_depth'))\n",
    "print('Скорость обучения:', booster.best_params_.get('model__learning_rate'))"
   ]
  },
  {
   "cell_type": "code",
   "execution_count": 37,
   "metadata": {},
   "outputs": [],
   "source": [
    "#измеряем время обучения модели\n",
    "start = time.time() \n",
    "booster.best_estimator_['model'].fit(features_train_transformed, target_train)\n",
    "stop = time.time()\n",
    "#записываем в сравнительную таблицу время обучение и параметры модели\n",
    "models.loc[2,'training_time'] = timer(start, stop)\n",
    "models.loc[2,'setting'] = str(booster.best_params_)"
   ]
  },
  {
   "cell_type": "markdown",
   "metadata": {
    "id": "pubHIAM2Sej9"
   },
   "source": [
    "Модели, обученные по алгоритму логистической регрессии и градиентного бустинга на решающих деревьяв, на валидационной выборке справились значительно лучше, чем случайный лес. Протестируем их."
   ]
  },
  {
   "cell_type": "markdown",
   "metadata": {
    "id": "jXyizgy9TJDX"
   },
   "source": [
    "## Тестирование моделей\n",
    "\n",
    "Проверим качество и скорость предсказаний моделей на тестовой выборке."
   ]
  },
  {
   "cell_type": "code",
   "execution_count": 41,
   "metadata": {
    "colab": {
     "base_uri": "https://localhost:8080/"
    },
    "id": "58YUegTSacD8",
    "outputId": "e37bcfb8-23fb-4133-ff5a-93be019d0805"
   },
   "outputs": [
    {
     "name": "stdout",
     "output_type": "stream",
     "text": [
      "CPU times: total: 3.25 s\n",
      "Wall time: 869 ms\n"
     ]
    }
   ],
   "source": [
    "%%time\n",
    "# запишем в сравнительную таблицу полученные на тестовой выборке значения метрики F1\n",
    "# и скорости предсказания обученных моделей\n",
    "\n",
    "# логистическая регрессия\n",
    "start = time.time()\n",
    "lg_pred = lg.predict(features_test)\n",
    "stop = time.time() \n",
    "\n",
    "models.loc[0,'F1 score'] = f1_score(target_test, lg_pred)\n",
    "models.loc[0,'prediction_time'] = timer(start, stop)\n",
    "\n",
    "# градиентный бустинг\n",
    "start = time.time()\n",
    "booster_pred = booster.best_estimator_['model'].predict(features_test)\n",
    "stop = time.time() \n",
    "\n",
    "models.loc[2,'F1 score'] = f1_score(target_test, booster_pred)\n",
    "models.loc[2,'prediction_time'] = timer(start, stop)\n",
    "\n",
    "models.loc[1,'F1 score'] = '-'"
   ]
  },
  {
   "cell_type": "code",
   "execution_count": 45,
   "metadata": {
    "colab": {
     "base_uri": "https://localhost:8080/",
     "height": 143
    },
    "id": "dBPgdobjTYL1",
    "outputId": "afb7e138-731d-4e4b-f90f-1e753b772b4c"
   },
   "outputs": [
    {
     "data": {
      "text/html": [
       "<div>\n",
       "<style scoped>\n",
       "    .dataframe tbody tr th:only-of-type {\n",
       "        vertical-align: middle;\n",
       "    }\n",
       "\n",
       "    .dataframe tbody tr th {\n",
       "        vertical-align: top;\n",
       "    }\n",
       "\n",
       "    .dataframe thead th {\n",
       "        text-align: right;\n",
       "    }\n",
       "</style>\n",
       "<table border=\"1\" class=\"dataframe\">\n",
       "  <thead>\n",
       "    <tr style=\"text-align: right;\">\n",
       "      <th></th>\n",
       "      <th>algorithm</th>\n",
       "      <th>F1 score</th>\n",
       "      <th>training_time</th>\n",
       "      <th>prediction_time</th>\n",
       "      <th>setting</th>\n",
       "    </tr>\n",
       "  </thead>\n",
       "  <tbody>\n",
       "    <tr>\n",
       "      <th>0</th>\n",
       "      <td>логистическая регрессия</td>\n",
       "      <td>0.750528</td>\n",
       "      <td>00:00:02</td>\n",
       "      <td>00:00:00</td>\n",
       "      <td>по-умолчанию</td>\n",
       "    </tr>\n",
       "    <tr>\n",
       "      <th>2</th>\n",
       "      <td>градиентный бустинг</td>\n",
       "      <td>0.762044</td>\n",
       "      <td>00:00:31</td>\n",
       "      <td>00:00:01</td>\n",
       "      <td>{'model__n_estimators': 200, 'model__max_depth...</td>\n",
       "    </tr>\n",
       "  </tbody>\n",
       "</table>\n",
       "</div>"
      ],
      "text/plain": [
       "                 algorithm  F1 score training_time prediction_time  \\\n",
       "0  логистическая регрессия  0.750528      00:00:02        00:00:00   \n",
       "2      градиентный бустинг  0.762044      00:00:31        00:00:01   \n",
       "\n",
       "                                             setting  \n",
       "0                                       по-умолчанию  \n",
       "2  {'model__n_estimators': 200, 'model__max_depth...  "
      ]
     },
     "execution_count": 45,
     "metadata": {},
     "output_type": "execute_result"
    }
   ],
   "source": [
    "models.iloc[[0,2]]"
   ]
  },
  {
   "cell_type": "markdown",
   "metadata": {
    "id": "f83Xr9r9aI2I"
   },
   "source": [
    "Модель, использующая алгоритм градиентного бустинга, показала лучший результат на тестовой выборке. Однако, разница в качестве предсказаний между ней и логистической регрессией не так велика, чтобы оправдать временные ресурсы, затраченные на её обучение. \n",
    "\n",
    "Предположим, что для заказчика важнее всего предотварить ошибки второго типа (false negative) - пропустить токсичные комментарии, ошибочно маркированные нормальнальными. Сравним предсказания этих моделей, построив для них матрицы ошибок. "
   ]
  },
  {
   "cell_type": "code",
   "execution_count": 46,
   "metadata": {
    "id": "JRX8ELgJa_x4"
   },
   "outputs": [],
   "source": [
    "# матрица ошибок для логистической регрессии\n",
    "lg_matrix = confusion_matrix(target_test, lg_pred)\n",
    "\n",
    "# матрица ошибок для логистической регрессии\n",
    "booster_matrix = confusion_matrix(target_test, booster_pred)"
   ]
  },
  {
   "cell_type": "code",
   "execution_count": 47,
   "metadata": {
    "colab": {
     "base_uri": "https://localhost:8080/",
     "height": 337
    },
    "id": "92Lg_KKoiAhM",
    "outputId": "e3968041-2733-4717-fe5b-24576ebc01ed"
   },
   "outputs": [
    {
     "data": {
      "image/png": "[encoded data removed]",
      "text/plain": [
       "<Figure size 640x480 with 2 Axes>"
      ]
     },
     "metadata": {},
     "output_type": "display_data"
    }
   ],
   "source": [
    "# изобразим матрицу ошибок модели логистической регрессии в процентном представлении\n",
    "\n",
    "ax = sns.heatmap(lg_matrix/np.sum(lg_matrix), annot=True, \n",
    "            fmt='.2%', cmap='Blues')\n",
    "\n",
    "ax.set_title('Матрица ошибок логистической регрессии\\n\\n');\n",
    "ax.set_xlabel('\\nPredicted Values')\n",
    "ax.set_ylabel('Actual Values ');\n",
    "\n",
    "ax.xaxis.set_ticklabels(['False','True'])\n",
    "ax.yaxis.set_ticklabels(['False','True'])\n",
    "\n",
    "plt.show()"
   ]
  },
  {
   "cell_type": "code",
   "execution_count": 48,
   "metadata": {
    "colab": {
     "base_uri": "https://localhost:8080/",
     "height": 337
    },
    "id": "CkdJTbfMlzp0",
    "outputId": "efea6426-a233-4aba-bc28-26218123b314"
   },
   "outputs": [
    {
     "data": {
      "image/png": "[encoded data removed]",
      "text/plain": [
       "<Figure size 640x480 with 2 Axes>"
      ]
     },
     "metadata": {},
     "output_type": "display_data"
    }
   ],
   "source": [
    "# изобразим матрицу ошибок модели градиентного бустинга в процентном представлении\n",
    "\n",
    "ax = sns.heatmap(booster_matrix/np.sum(booster_matrix), annot=True, \n",
    "            fmt='.2%', cmap='Blues')\n",
    "\n",
    "ax.set_title('Матрица ошибок градиентного бустинга\\n\\n');\n",
    "ax.set_xlabel('\\nPredicted Values')\n",
    "ax.set_ylabel('Actual Values ');\n",
    "\n",
    "ax.xaxis.set_ticklabels(['False','True'])\n",
    "ax.yaxis.set_ticklabels(['False','True'])\n",
    "\n",
    "plt.show()"
   ]
  },
  {
   "cell_type": "markdown",
   "metadata": {
    "id": "sUm4ghuNl9zR"
   },
   "source": [
    "Модель обученная, по алгоритму градиентного бустинга, допускает больше неприемлимых ошибок второго рода, чем логистическая регрессия."
   ]
  },
  {
   "cell_type": "markdown",
   "metadata": {
    "id": "wY7EdZlMmf2H"
   },
   "source": [
    "***\n",
    "\n",
    "## Отчет\n",
    "\n",
    "Работы прошла по плану - выполнена подготовку текстовых данных естественного языка и построины модели, предсказывающие токсичность комментариев с необходимым качеством. \n",
    "\n",
    "Значения F1-меры на тестовой выборке не менее 0,75 удалось достичь для модели логистической регрессии и градиентного бустинга на решающих деревьях.\n",
    "\n",
    "Проверка количества критически важных ошибок второго рода показала, что модель логистической регрессии дает ложно отрицательные ответы реже, чем модель градиентного бустинга.\n",
    "\n",
    "**Учитывая скорость обучения и работы моделей и качество их предсказаний итогом исследования является рекомендация**: для выявления токсичных комментариев пользователей рекомендовано использовать модель, обученную по аглоритму логистической регрессии. "
   ]
  }
 ],
 "metadata": {
  "ExecuteTimeLog": [
   {
    "duration": 70,
    "start_time": "2022-06-10T06:15:07.314Z"
   },
   {
    "duration": 2491,
    "start_time": "2022-06-10T06:15:12.742Z"
   },
   {
    "duration": 5181,
    "start_time": "2022-06-10T06:15:17.028Z"
   },
   {
    "duration": 3618,
    "start_time": "2022-06-10T06:15:24.936Z"
   },
   {
    "duration": 2339,
    "start_time": "2022-06-10T06:18:23.283Z"
   },
   {
    "duration": 7,
    "start_time": "2022-06-10T06:18:25.625Z"
   },
   {
    "duration": 891,
    "start_time": "2022-06-10T06:18:25.634Z"
   },
   {
    "duration": 57,
    "start_time": "2022-06-10T06:18:26.528Z"
   },
   {
    "duration": 228,
    "start_time": "2022-06-10T06:18:26.587Z"
   },
   {
    "duration": 4,
    "start_time": "2022-06-10T06:18:26.816Z"
   },
   {
    "duration": 2663,
    "start_time": "2022-06-10T06:18:26.822Z"
   },
   {
    "duration": 7,
    "start_time": "2022-06-10T06:18:29.488Z"
   },
   {
    "duration": 4,
    "start_time": "2022-06-10T06:28:21.006Z"
   },
   {
    "duration": 2622,
    "start_time": "2022-06-10T06:28:22.641Z"
   },
   {
    "duration": 5,
    "start_time": "2022-06-10T06:28:27.304Z"
   },
   {
    "duration": 6,
    "start_time": "2022-06-10T06:28:30.955Z"
   },
   {
    "duration": 1545265,
    "start_time": "2022-06-10T06:28:40.643Z"
   },
   {
    "duration": 0,
    "start_time": "2022-06-10T06:54:25.947Z"
   },
   {
    "duration": 5,
    "start_time": "2022-06-10T06:54:38.023Z"
   },
   {
    "duration": 243,
    "start_time": "2022-06-10T06:55:18.245Z"
   },
   {
    "duration": 70,
    "start_time": "2022-06-10T06:55:30.878Z"
   },
   {
    "duration": 7131,
    "start_time": "2022-06-10T06:55:38.674Z"
   },
   {
    "duration": 4,
    "start_time": "2022-06-10T07:08:03.571Z"
   },
   {
    "duration": 5,
    "start_time": "2022-06-10T07:08:09.771Z"
   },
   {
    "duration": 5,
    "start_time": "2022-06-10T07:08:11.661Z"
   },
   {
    "duration": 29,
    "start_time": "2022-06-10T07:08:14.635Z"
   },
   {
    "duration": 47,
    "start_time": "2022-06-10T07:12:45.058Z"
   },
   {
    "duration": 45,
    "start_time": "2022-06-10T07:13:02.852Z"
   },
   {
    "duration": 43,
    "start_time": "2022-06-10T07:13:23.557Z"
   },
   {
    "duration": 29,
    "start_time": "2022-06-10T07:13:32.111Z"
   },
   {
    "duration": 39,
    "start_time": "2022-06-10T07:14:16.458Z"
   },
   {
    "duration": 4,
    "start_time": "2022-06-10T07:14:58.322Z"
   },
   {
    "duration": 539,
    "start_time": "2022-06-10T07:15:00.736Z"
   },
   {
    "duration": 3,
    "start_time": "2022-06-10T07:15:17.392Z"
   },
   {
    "duration": 72681,
    "start_time": "2022-06-10T07:15:19.596Z"
   },
   {
    "duration": 0,
    "start_time": "2022-06-10T07:16:32.279Z"
   },
   {
    "duration": 3,
    "start_time": "2022-06-10T07:16:45.120Z"
   },
   {
    "duration": 7435,
    "start_time": "2022-06-10T07:16:47.294Z"
   },
   {
    "duration": 627,
    "start_time": "2022-06-10T07:16:59.112Z"
   },
   {
    "duration": 5,
    "start_time": "2022-06-10T07:18:09.732Z"
   },
   {
    "duration": 6,
    "start_time": "2022-06-10T07:24:22.838Z"
   },
   {
    "duration": 7,
    "start_time": "2022-06-10T07:24:44.381Z"
   },
   {
    "duration": 5,
    "start_time": "2022-06-10T07:27:36.215Z"
   },
   {
    "duration": 4,
    "start_time": "2022-06-10T07:27:37.884Z"
   },
   {
    "duration": 52,
    "start_time": "2022-06-10T07:27:40.244Z"
   },
   {
    "duration": 9,
    "start_time": "2022-06-10T07:30:17.485Z"
   },
   {
    "duration": 4,
    "start_time": "2022-06-10T07:49:55.418Z"
   },
   {
    "duration": 25,
    "start_time": "2022-06-10T07:50:23.651Z"
   },
   {
    "duration": 62414,
    "start_time": "2022-06-10T07:50:34.550Z"
   },
   {
    "duration": 2,
    "start_time": "2022-06-10T07:51:59.782Z"
   },
   {
    "duration": 26,
    "start_time": "2022-06-10T07:54:57.455Z"
   },
   {
    "duration": 84,
    "start_time": "2022-06-10T07:55:17.319Z"
   },
   {
    "duration": 21,
    "start_time": "2022-06-10T07:59:14.634Z"
   },
   {
    "duration": 5,
    "start_time": "2022-06-10T07:59:27.261Z"
   },
   {
    "duration": 79,
    "start_time": "2022-06-10T07:59:37.198Z"
   },
   {
    "duration": 5,
    "start_time": "2022-06-10T07:59:39.098Z"
   },
   {
    "duration": 19,
    "start_time": "2022-06-10T08:00:09.157Z"
   },
   {
    "duration": 71239,
    "start_time": "2022-06-10T08:00:21.567Z"
   },
   {
    "duration": 75,
    "start_time": "2022-06-10T08:09:24.374Z"
   },
   {
    "duration": 8239,
    "start_time": "2022-06-10T08:09:26.056Z"
   },
   {
    "duration": 4,
    "start_time": "2022-06-10T08:09:36.374Z"
   },
   {
    "duration": 73,
    "start_time": "2022-06-10T08:09:42.455Z"
   },
   {
    "duration": 69,
    "start_time": "2022-06-10T09:50:09.771Z"
   },
   {
    "duration": 7525,
    "start_time": "2022-06-10T09:50:17.604Z"
   },
   {
    "duration": 85,
    "start_time": "2022-06-10T09:56:06.975Z"
   },
   {
    "duration": 7878,
    "start_time": "2022-06-10T09:56:09.214Z"
   },
   {
    "duration": 78919,
    "start_time": "2022-06-10T09:59:04.798Z"
   },
   {
    "duration": 92,
    "start_time": "2022-06-10T10:02:42.307Z"
   },
   {
    "duration": 7742,
    "start_time": "2022-06-10T10:02:55.089Z"
   },
   {
    "duration": 5,
    "start_time": "2022-06-10T10:03:57.822Z"
   },
   {
    "duration": 4,
    "start_time": "2022-06-10T10:03:59.429Z"
   },
   {
    "duration": 28,
    "start_time": "2022-06-10T10:04:02.923Z"
   },
   {
    "duration": 11,
    "start_time": "2022-06-10T10:19:40.722Z"
   },
   {
    "duration": 91001,
    "start_time": "2022-06-10T10:19:42.878Z"
   },
   {
    "duration": 9,
    "start_time": "2022-06-10T10:54:21.129Z"
   },
   {
    "duration": 100,
    "start_time": "2022-06-10T11:02:11.480Z"
   },
   {
    "duration": 81,
    "start_time": "2022-06-10T11:03:19.719Z"
   },
   {
    "duration": 73,
    "start_time": "2022-06-10T11:04:15.778Z"
   },
   {
    "duration": 3,
    "start_time": "2022-06-10T11:04:42.278Z"
   },
   {
    "duration": 77,
    "start_time": "2022-06-10T11:05:07.438Z"
   },
   {
    "duration": 95,
    "start_time": "2022-06-10T11:08:26.180Z"
   },
   {
    "duration": 115,
    "start_time": "2022-06-10T11:13:39.828Z"
   },
   {
    "duration": 77,
    "start_time": "2022-06-10T11:15:14.432Z"
   },
   {
    "duration": 74,
    "start_time": "2022-06-10T11:15:43.677Z"
   },
   {
    "duration": 77,
    "start_time": "2022-06-10T11:16:00.282Z"
   },
   {
    "duration": 642261,
    "start_time": "2022-06-10T11:21:34.191Z"
   },
   {
    "duration": 8,
    "start_time": "2022-06-10T11:37:41.120Z"
   },
   {
    "duration": 10,
    "start_time": "2022-06-10T11:38:47.705Z"
   },
   {
    "duration": 20,
    "start_time": "2022-06-10T11:39:10.490Z"
   },
   {
    "duration": 19,
    "start_time": "2022-06-10T11:39:24.477Z"
   },
   {
    "duration": 9,
    "start_time": "2022-06-10T11:39:31.281Z"
   },
   {
    "duration": 9,
    "start_time": "2022-06-10T11:43:29.300Z"
   },
   {
    "duration": 19,
    "start_time": "2022-06-10T11:43:43.479Z"
   },
   {
    "duration": 4,
    "start_time": "2022-06-10T11:43:53.581Z"
   },
   {
    "duration": 606760,
    "start_time": "2022-06-10T12:03:44.990Z"
   },
   {
    "duration": 9,
    "start_time": "2022-06-10T12:15:36.932Z"
   },
   {
    "duration": 37,
    "start_time": "2022-06-10T12:15:46.051Z"
   },
   {
    "duration": 20,
    "start_time": "2022-06-10T12:16:37.560Z"
   },
   {
    "duration": 9,
    "start_time": "2022-06-10T12:16:46.544Z"
   },
   {
    "duration": 19,
    "start_time": "2022-06-10T12:16:57.999Z"
   },
   {
    "duration": 6,
    "start_time": "2022-06-10T12:17:07.527Z"
   },
   {
    "duration": 4,
    "start_time": "2022-06-10T12:17:40.608Z"
   },
   {
    "duration": 19,
    "start_time": "2022-06-10T12:17:47.184Z"
   },
   {
    "duration": 88583,
    "start_time": "2022-06-10T12:18:07.370Z"
   },
   {
    "duration": 9,
    "start_time": "2022-06-10T12:20:02.673Z"
   },
   {
    "duration": 10,
    "start_time": "2022-06-10T12:21:48.212Z"
   },
   {
    "duration": 2206736,
    "start_time": "2022-06-10T12:28:24.312Z"
   },
   {
    "duration": 3660,
    "start_time": "2022-06-10T17:01:02.259Z"
   },
   {
    "duration": 7253,
    "start_time": "2022-06-10T17:01:05.921Z"
   },
   {
    "duration": 3405,
    "start_time": "2022-06-10T17:01:13.176Z"
   },
   {
    "duration": 45,
    "start_time": "2022-06-10T17:01:16.583Z"
   },
   {
    "duration": 234,
    "start_time": "2022-06-10T17:01:16.630Z"
   },
   {
    "duration": 4,
    "start_time": "2022-06-10T17:01:16.866Z"
   },
   {
    "duration": 2369,
    "start_time": "2022-06-10T17:01:16.871Z"
   },
   {
    "duration": 5,
    "start_time": "2022-06-10T17:01:19.242Z"
   },
   {
    "duration": 18,
    "start_time": "2022-06-10T17:01:19.249Z"
   },
   {
    "duration": 1432725,
    "start_time": "2022-06-10T17:01:19.270Z"
   },
   {
    "duration": 6,
    "start_time": "2022-06-10T17:25:11.997Z"
   },
   {
    "duration": 10,
    "start_time": "2022-06-10T17:25:12.006Z"
   },
   {
    "duration": 6678,
    "start_time": "2022-06-10T17:25:12.018Z"
   },
   {
    "duration": 583,
    "start_time": "2022-06-10T17:25:18.698Z"
   },
   {
    "duration": 241,
    "start_time": "2022-06-10T17:25:19.283Z"
   },
   {
    "duration": 69,
    "start_time": "2022-06-10T17:25:19.525Z"
   },
   {
    "duration": 7382,
    "start_time": "2022-06-10T17:25:19.596Z"
   },
   {
    "duration": 5,
    "start_time": "2022-06-10T17:25:26.980Z"
   },
   {
    "duration": 14,
    "start_time": "2022-06-10T17:25:26.987Z"
   },
   {
    "duration": 31,
    "start_time": "2022-06-10T17:25:27.003Z"
   },
   {
    "duration": 3,
    "start_time": "2022-06-10T17:25:27.036Z"
   },
   {
    "duration": 18,
    "start_time": "2022-06-10T17:25:27.041Z"
   },
   {
    "duration": 82710,
    "start_time": "2022-06-10T17:25:27.062Z"
   },
   {
    "duration": 3,
    "start_time": "2022-06-10T17:26:49.774Z"
   },
   {
    "duration": 434696,
    "start_time": "2022-06-10T17:26:49.778Z"
   },
   {
    "duration": 20020,
    "start_time": "2022-06-10T17:34:04.477Z"
   },
   {
    "duration": 4,
    "start_time": "2022-06-10T17:34:24.498Z"
   },
   {
    "duration": 2326373,
    "start_time": "2022-06-10T17:34:24.505Z"
   },
   {
    "duration": 175435,
    "start_time": "2022-06-10T18:16:40.546Z"
   },
   {
    "duration": 11,
    "start_time": "2022-06-10T18:20:14.017Z"
   },
   {
    "duration": 11505,
    "start_time": "2022-06-10T18:25:45.189Z"
   },
   {
    "duration": 9,
    "start_time": "2022-06-10T18:25:58.994Z"
   },
   {
    "duration": 76,
    "start_time": "2022-06-10T18:26:37.948Z"
   },
   {
    "duration": 369,
    "start_time": "2022-06-10T18:26:42.142Z"
   },
   {
    "duration": 305,
    "start_time": "2022-06-10T18:26:48.364Z"
   },
   {
    "duration": 4,
    "start_time": "2022-06-10T18:27:46.424Z"
   },
   {
    "duration": 15974,
    "start_time": "2022-06-10T18:28:12.142Z"
   },
   {
    "duration": 171230,
    "start_time": "2022-06-10T18:29:06.195Z"
   },
   {
    "duration": 9,
    "start_time": "2022-06-10T18:47:10.935Z"
   },
   {
    "duration": 105,
    "start_time": "2022-06-10T18:47:41.792Z"
   },
   {
    "duration": 297,
    "start_time": "2022-06-10T18:47:45.364Z"
   },
   {
    "duration": 297,
    "start_time": "2022-06-10T18:47:50.931Z"
   },
   {
    "duration": 268,
    "start_time": "2022-06-10T18:48:38.295Z"
   },
   {
    "duration": 282,
    "start_time": "2022-06-10T18:48:51.170Z"
   },
   {
    "duration": 292,
    "start_time": "2022-06-10T18:49:18.148Z"
   }
  ],
  "colab": {
   "collapsed_sections": [],
   "name": "wikishop.ipynb",
   "provenance": [],
   "toc_visible": true
  },
  "kernelspec": {
   "display_name": "Python 3 (ipykernel)",
   "language": "python",
   "name": "python3"
  },
  "language_info": {
   "codemirror_mode": {
    "name": "ipython",
    "version": 3
   },
   "file_extension": ".py",
   "mimetype": "text/x-python",
   "name": "python",
   "nbconvert_exporter": "python",
   "pygments_lexer": "ipython3",
   "version": "3.9.15"
  },
  "toc": {
   "base_numbering": 1,
   "nav_menu": {},
   "number_sections": true,
   "sideBar": true,
   "skip_h1_title": true,
   "title_cell": "Table of Contents",
   "title_sidebar": "Contents",
   "toc_cell": false,
   "toc_position": {
    "height": "calc(100% - 180px)",
    "left": "10px",
    "top": "150px",
    "width": "276.4px"
   },
   "toc_section_display": true,
   "toc_window_display": true
  }
 },
 "nbformat": 4,
 "nbformat_minor": 1
}
