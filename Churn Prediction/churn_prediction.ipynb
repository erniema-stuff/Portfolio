{
 "cells": [
  {
   "cell_type": "markdown",
   "metadata": {
    "id": "Lir3JCDTNP5q"
   },
   "source": [
    "# Прогноз оттока клиентов телеком-компании\n",
    "\n",
    "Телеком-компания столкнулась с оттоком клиентов. Привлечение новых или возвращение ушедших к конкурентам клиентов обходится компании дороже, чем удержание \"сомневающихся\". Компания хочет научиться прогнозировать желание клиентов уйти, чтобы вовремя предложить им промокоды и специальные условия."
   ]
  },
  {
   "cell_type": "markdown",
   "metadata": {
    "id": "OI5Bk0CVNP8N"
   },
   "source": [
    "# Цель проекта\n",
    "\n",
    "Необходимо построить модель, решающую задачу классификации и предсказывающую намерение клиента уйти из компании. Заказчик требует, чтобы метрика качества AUC-ROC были выше 0.75 (желательно - выше 0.85)."
   ]
  },
  {
   "cell_type": "markdown",
   "metadata": {},
   "source": [
    "# Содержание <a name=\"contents\"></a>\n",
    "1. [Пран работы](#introduction)\n",
    "2. [Импорт библиотек](#paragraph1)\n",
    "3. [Закомство с данными и предобработка](#paragraph2)\n",
    "    1. [Информация о контрактах](#subparagraph2.1)\n",
    "    2. [Персональные данные клиентов](#subparagraph2.2)\n",
    "    3. [Интернет-услуги](#subparagraph2.3)\n",
    "    4. [Телефония](#subparagraph2.4)\n",
    "    5. [Выводы по разделу](#subparagraph2.5)\n",
    "4. [Исследовательский анализ данных](#paragraph3)\n",
    "    1. [Исследование расходов клиентов](#subparagraph3.1)\n",
    "    2. [Поиск сомнительных записей](#subparagraph3.2)\n",
    "    3. [Генерация искусственных признаков](#subparagraph3.3)\n",
    "    4. [Выводы по разделу](#subparagraph3.4)\n",
    "5. [Подготовка данных](#paragraph4)\n",
    "    1. [Подготовка выборок](#subparagraph4.1)\n",
    "    2. [Кодирование признаков](#subparagraph4.2)\n",
    "6. [Построение модели](#paragraph5)\n",
    "    1. [Обучение и сравнение моделей](#subparagraph5.1)\n",
    "    2. [Улучшение модели-лидера](#subparagraph5.2)\n",
    "    3. [Тестирование модели](#subparagraph5.3)\n",
    "7. [Общий вывод](#paragraph6)\n",
    "8. [Отчет о результатах работы](#paragraph7)"
   ]
  },
  {
   "cell_type": "markdown",
   "metadata": {
    "id": "v7LZsi0ENP_F"
   },
   "source": [
    "# План работы <a name=\"introduction\"></a>\n",
    "1. Знакомство с данными и предобработка - посмотрим, какие данные имеются в нашем распоряжении. Если в данных окажутся дубликаты, пропуски (явные и неявные), аномалии или артефакты, то попробуем их исправить (или удалить).\n",
    "\n",
    "\n",
    "2. EDA - исследуем данные и определим какие из них и в каком виде будут переданы в модель. Найдем и исключим потенциально недостоверные данные, если их доля в датасете незначительна. Проведем feature engineering, чтобы создать полезные синтетические признаки на основе данные, которые нельзя и (или) нецелесообразно передаветь в модель напрямую.\n",
    "\n",
    "\n",
    "3. Построение модели - подготовим данные для передачи в модель (закодируем/отмасштабируем признаки), сформируем выборки и обучим несколько моделей (логистическую регрессию, случайный лес и модель, работающую по алгоритму градиентного бустинга). Сравним качество предсказаний (метрика качества - AUC-ROC), баланс ошибок первого и второго рода и выберим лучшую модель. Для управления псевдо-случайность используем параметр random_state = 250722. Для улучшения качества предсказаний модели используем балансировку классов.\n",
    "\n",
    "\n",
    "4. Подготовка отчета - сформулируем выводы и оценим результаты работы.\n",
    "\n",
    "***\n",
    "\n",
    "[Вернуться к содержанию](#contents)"
   ]
  },
  {
   "cell_type": "markdown",
   "metadata": {
    "id": "oTFq7uiAiNmm"
   },
   "source": [
    "## Импорт библиотек <a name=\"paragraph1\"></a>"
   ]
  },
  {
   "cell_type": "code",
   "execution_count": 1,
   "metadata": {
    "id": "2oKIgofwiMjB"
   },
   "outputs": [
    {
     "name": "stdout",
     "output_type": "stream",
     "text": [
      "Библиотеки загружены успешно.\n"
     ]
    }
   ],
   "source": [
    "import pandas as pd\n",
    "pd.options.mode.chained_assignment = None\n",
    "import numpy as np\n",
    "import seaborn as sns\n",
    "import matplotlib.pyplot as plt\n",
    "\n",
    "# импорт библиотеки для проведения теста по критерию хи-квадрат\n",
    "from scipy.stats import chi2_contingency\n",
    "from phik.report import plot_correlation_matrix\n",
    "\n",
    "# импорт библиотеки для подсчета времени исполнения кода\n",
    "import time\n",
    "\n",
    "# импорт библиотеки для работы со временем\n",
    "import datetime\n",
    "\n",
    "import warnings\n",
    "warnings.filterwarnings(action='ignore', category=RuntimeWarning)\n",
    "\n",
    "# импорт библиотеки для ресемплирования данных\n",
    "from imblearn.over_sampling import SMOTE \n",
    "\n",
    "# импорт построение, обучени и оценки моделей\n",
    "from sklearn.model_selection import train_test_split, RandomizedSearchCV, cross_validate\n",
    "from sklearn.linear_model import LogisticRegression\n",
    "from sklearn.ensemble import RandomForestClassifier\n",
    "import lightgbm as lgb\n",
    "from sklearn.metrics import roc_auc_score, recall_score, precision_score, roc_curve, confusion_matrix\n",
    "\n",
    "from statsmodels.stats.outliers_influence import variance_inflation_factor as vif\n",
    "from statsmodels.tools.tools import add_constant\n",
    "\n",
    "print('Библиотеки загружены успешно.')"
   ]
  },
  {
   "cell_type": "markdown",
   "metadata": {
    "id": "_CZeJqaGiuaA"
   },
   "source": [
    "## Знакомство с данными и предобработка  <a name=\"paragraph2\"></a>\n",
    "\n",
    "Данные состоят из файлов, полученных из разных источников:\n",
    "\n",
    "- `contract.csv` — сведения о контрактах;\n",
    "- `personal.csv` — персональные данные клиентов;\n",
    "- `internet.csv` — информация об интернет-услугах;\n",
    "- `phone.csv` — информация об услугах телефонии.\n",
    "\n",
    "Загрузим таблицы и познакомимся с данными."
   ]
  },
  {
   "cell_type": "code",
   "execution_count": 2,
   "metadata": {},
   "outputs": [],
   "source": [
    "contract = pd.read_csv('contract.csv')\n",
    "personal = pd.read_csv('personal.csv')\n",
    "internet = pd.read_csv('internet.csv')\n",
    "phone = pd.read_csv('phone.csv')"
   ]
  },
  {
   "cell_type": "markdown",
   "metadata": {
    "id": "N-tzAPX8Ajbv"
   },
   "source": [
    "### Информация о контрактах <a name=\"subparagraph2.1\"></a>"
   ]
  },
  {
   "cell_type": "code",
   "execution_count": 3,
   "metadata": {
    "colab": {
     "base_uri": "https://localhost:8080/",
     "height": 206
    },
    "id": "iOwy8Bqgmt3x",
    "outputId": "11edc585-8e03-4334-8137-9768f3dcf3a0"
   },
   "outputs": [
    {
     "data": {
      "text/html": [
       "<div>\n",
       "<style scoped>\n",
       "    .dataframe tbody tr th:only-of-type {\n",
       "        vertical-align: middle;\n",
       "    }\n",
       "\n",
       "    .dataframe tbody tr th {\n",
       "        vertical-align: top;\n",
       "    }\n",
       "\n",
       "    .dataframe thead th {\n",
       "        text-align: right;\n",
       "    }\n",
       "</style>\n",
       "<table border=\"1\" class=\"dataframe\">\n",
       "  <thead>\n",
       "    <tr style=\"text-align: right;\">\n",
       "      <th></th>\n",
       "      <th>customerID</th>\n",
       "      <th>BeginDate</th>\n",
       "      <th>EndDate</th>\n",
       "      <th>Type</th>\n",
       "      <th>PaperlessBilling</th>\n",
       "      <th>PaymentMethod</th>\n",
       "      <th>MonthlyCharges</th>\n",
       "      <th>TotalCharges</th>\n",
       "    </tr>\n",
       "  </thead>\n",
       "  <tbody>\n",
       "    <tr>\n",
       "      <th>0</th>\n",
       "      <td>7590-VHVEG</td>\n",
       "      <td>2020-01-01</td>\n",
       "      <td>No</td>\n",
       "      <td>Month-to-month</td>\n",
       "      <td>Yes</td>\n",
       "      <td>Electronic check</td>\n",
       "      <td>29.85</td>\n",
       "      <td>29.85</td>\n",
       "    </tr>\n",
       "    <tr>\n",
       "      <th>1</th>\n",
       "      <td>5575-GNVDE</td>\n",
       "      <td>2017-04-01</td>\n",
       "      <td>No</td>\n",
       "      <td>One year</td>\n",
       "      <td>No</td>\n",
       "      <td>Mailed check</td>\n",
       "      <td>56.95</td>\n",
       "      <td>1889.5</td>\n",
       "    </tr>\n",
       "    <tr>\n",
       "      <th>2</th>\n",
       "      <td>3668-QPYBK</td>\n",
       "      <td>2019-10-01</td>\n",
       "      <td>2019-12-01 00:00:00</td>\n",
       "      <td>Month-to-month</td>\n",
       "      <td>Yes</td>\n",
       "      <td>Mailed check</td>\n",
       "      <td>53.85</td>\n",
       "      <td>108.15</td>\n",
       "    </tr>\n",
       "    <tr>\n",
       "      <th>3</th>\n",
       "      <td>7795-CFOCW</td>\n",
       "      <td>2016-05-01</td>\n",
       "      <td>No</td>\n",
       "      <td>One year</td>\n",
       "      <td>No</td>\n",
       "      <td>Bank transfer (automatic)</td>\n",
       "      <td>42.30</td>\n",
       "      <td>1840.75</td>\n",
       "    </tr>\n",
       "    <tr>\n",
       "      <th>4</th>\n",
       "      <td>9237-HQITU</td>\n",
       "      <td>2019-09-01</td>\n",
       "      <td>2019-11-01 00:00:00</td>\n",
       "      <td>Month-to-month</td>\n",
       "      <td>Yes</td>\n",
       "      <td>Electronic check</td>\n",
       "      <td>70.70</td>\n",
       "      <td>151.65</td>\n",
       "    </tr>\n",
       "  </tbody>\n",
       "</table>\n",
       "</div>"
      ],
      "text/plain": [
       "   customerID   BeginDate              EndDate            Type  \\\n",
       "0  7590-VHVEG  2020-01-01                   No  Month-to-month   \n",
       "1  5575-GNVDE  2017-04-01                   No        One year   \n",
       "2  3668-QPYBK  2019-10-01  2019-12-01 00:00:00  Month-to-month   \n",
       "3  7795-CFOCW  2016-05-01                   No        One year   \n",
       "4  9237-HQITU  2019-09-01  2019-11-01 00:00:00  Month-to-month   \n",
       "\n",
       "  PaperlessBilling              PaymentMethod  MonthlyCharges TotalCharges  \n",
       "0              Yes           Electronic check           29.85        29.85  \n",
       "1               No               Mailed check           56.95       1889.5  \n",
       "2              Yes               Mailed check           53.85       108.15  \n",
       "3               No  Bank transfer (automatic)           42.30      1840.75  \n",
       "4              Yes           Electronic check           70.70       151.65  "
      ]
     },
     "execution_count": 3,
     "metadata": {},
     "output_type": "execute_result"
    }
   ],
   "source": [
    "contract.head()"
   ]
  },
  {
   "cell_type": "markdown",
   "metadata": {
    "id": "8CTA-6uInqD5"
   },
   "source": [
    "Информация о договоре содержит 8 колонок:\n",
    "- `customerID` — уникальный номер клиента;\n",
    "- `BeginDate` — дата заключения договора;\n",
    "- `EndDate` — дата закрытия договора;\n",
    "- `Type` — тип контракта (с ежемесячной оплатой или на 1-2 года);\n",
    "- `PaperlessBilling` — метка безналичного расчета;\n",
    "- `PaymentMethod` — форма выставления счета;\n",
    "- `MonthlyCharges` — среднемесячные расходы клиента;\n",
    "- `TotalCharges` — накопленная выручка компании с каждого клиента на 1 февраля 2020 года или на дату расторжения договора.\n"
   ]
  },
  {
   "cell_type": "markdown",
   "metadata": {
    "id": "FqzFDNq4tqHr"
   },
   "source": [
    "Посмотрим подробнее на содержание отдельных колонок."
   ]
  },
  {
   "cell_type": "code",
   "execution_count": 4,
   "metadata": {
    "colab": {
     "base_uri": "https://localhost:8080/"
    },
    "id": "SjizPtDwnpAb",
    "outputId": "f6bcbbe7-82d3-4ea9-8aa9-595dbc7c2bbb"
   },
   "outputs": [
    {
     "name": "stdout",
     "output_type": "stream",
     "text": [
      "Количество дубликатов в идентификаторах пользователей: 0\n",
      "Типы контрактов по длительности: ['Month-to-month', 'One year', 'Two year']\n",
      "Типы контрактов по форме выставления счете: ['Electronic check', 'Mailed check', 'Bank transfer (automatic)', 'Credit card (automatic)']\n",
      "Типы меток безналичной оплаты: ['Yes', 'No']\n"
     ]
    }
   ],
   "source": [
    "print('Количество дубликатов в идентификаторах пользователей:', contract.duplicated(subset='customerID').sum())\n",
    "print('Типы контрактов по длительности:', list(contract['Type'].unique()))\n",
    "print('Типы контрактов по форме выставления счете:', list(contract['PaymentMethod'].unique()))\n",
    "print('Типы меток безналичной оплаты:', list(contract['PaperlessBilling'].unique()))"
   ]
  },
  {
   "cell_type": "markdown",
   "metadata": {
    "id": "K0FBh4LgsFXM"
   },
   "source": [
    "**Наблюдения**\n",
    "\n",
    "В нашем распоряжении записи о 7043 договорах. Идентификаторы клиентов не повторяются (один клиент - один договор). Договора бывают как с ежемесячной оплатой, так и заключенные на срок 1 или 2 года. Оплата может списываться со карты клиента автоматические или путем направления клиенту счета (бумажного или электронного).\n",
    "\n",
    "\n",
    "\n",
    "\n"
   ]
  },
  {
   "cell_type": "markdown",
   "metadata": {
    "id": "aymqV8q0r_7n"
   },
   "source": [
    "Колонка **EndDate** содержит сведения о дате расторжения договора, преобразовав которые мы получим значения целевого признака - закрыт договор (1) или нет (0). Запишем классы наших объектов в новую колонку **target**."
   ]
  },
  {
   "cell_type": "code",
   "execution_count": 5,
   "metadata": {
    "colab": {
     "base_uri": "https://localhost:8080/",
     "height": 206
    },
    "id": "islO-hB7tK2E",
    "outputId": "ab078e3c-0270-42b7-9d21-bf85585948a1"
   },
   "outputs": [
    {
     "data": {
      "text/html": [
       "<div>\n",
       "<style scoped>\n",
       "    .dataframe tbody tr th:only-of-type {\n",
       "        vertical-align: middle;\n",
       "    }\n",
       "\n",
       "    .dataframe tbody tr th {\n",
       "        vertical-align: top;\n",
       "    }\n",
       "\n",
       "    .dataframe thead th {\n",
       "        text-align: right;\n",
       "    }\n",
       "</style>\n",
       "<table border=\"1\" class=\"dataframe\">\n",
       "  <thead>\n",
       "    <tr style=\"text-align: right;\">\n",
       "      <th></th>\n",
       "      <th>EndDate</th>\n",
       "      <th>target</th>\n",
       "    </tr>\n",
       "  </thead>\n",
       "  <tbody>\n",
       "    <tr>\n",
       "      <th>0</th>\n",
       "      <td>No</td>\n",
       "      <td>0</td>\n",
       "    </tr>\n",
       "    <tr>\n",
       "      <th>1</th>\n",
       "      <td>No</td>\n",
       "      <td>0</td>\n",
       "    </tr>\n",
       "    <tr>\n",
       "      <th>2</th>\n",
       "      <td>2019-12-01 00:00:00</td>\n",
       "      <td>1</td>\n",
       "    </tr>\n",
       "    <tr>\n",
       "      <th>3</th>\n",
       "      <td>No</td>\n",
       "      <td>0</td>\n",
       "    </tr>\n",
       "    <tr>\n",
       "      <th>4</th>\n",
       "      <td>2019-11-01 00:00:00</td>\n",
       "      <td>1</td>\n",
       "    </tr>\n",
       "  </tbody>\n",
       "</table>\n",
       "</div>"
      ],
      "text/plain": [
       "               EndDate  target\n",
       "0                   No       0\n",
       "1                   No       0\n",
       "2  2019-12-01 00:00:00       1\n",
       "3                   No       0\n",
       "4  2019-11-01 00:00:00       1"
      ]
     },
     "execution_count": 5,
     "metadata": {},
     "output_type": "execute_result"
    }
   ],
   "source": [
    "# создадим колонку с целевым признаком\n",
    "contract.loc[contract['EndDate'] == 'No', 'target'] = 0\n",
    "contract.loc[contract['EndDate'] != 'No', 'target'] = 1\n",
    "contract['target'] = contract['target'].astype('int8')\n",
    "contract[['EndDate', 'target']].head()"
   ]
  },
  {
   "cell_type": "markdown",
   "metadata": {
    "id": "lLahN5QFnz_D"
   },
   "source": [
    "Теперь данные о дате регистрации договора **BeginDate** и о дате расторжения **EndDate** нужно превести к типу `datetime` - они могут пригодится для создания синтетических признаков."
   ]
  },
  {
   "cell_type": "code",
   "execution_count": 6,
   "metadata": {
    "colab": {
     "base_uri": "https://localhost:8080/"
    },
    "id": "yUlwGWhHu544",
    "outputId": "5c42c540-16b6-4c54-ccfc-435878267eab",
    "scrolled": true
   },
   "outputs": [],
   "source": [
    "# преобразуем данные в столбцам BeginDate, EndDate в тип datetime \n",
    "# там, где это не получится сделать, проставим NaT, которые будет легко отследить\n",
    "contract['EndDate'] = pd.to_datetime(contract['EndDate'], format='%Y-%m-%d', errors='coerce')\n",
    "contract['BeginDate']= pd.to_datetime(contract['BeginDate'], format='%Y-%m-%d')"
   ]
  },
  {
   "cell_type": "markdown",
   "metadata": {
    "id": "TGondOqBsLad"
   },
   "source": [
    "С данными о накопленной выручке в колонке **TotalCharges** проблема. Среди численных значений где-то спрятались артефакты - найдем их."
   ]
  },
  {
   "cell_type": "code",
   "execution_count": 7,
   "metadata": {
    "colab": {
     "base_uri": "https://localhost:8080/",
     "height": 394
    },
    "id": "ffBo-Ynbp4Au",
    "outputId": "7dbf6f8e-eb06-4885-8e0f-0b769c6b0342"
   },
   "outputs": [
    {
     "data": {
      "text/html": [
       "<div>\n",
       "<style scoped>\n",
       "    .dataframe tbody tr th:only-of-type {\n",
       "        vertical-align: middle;\n",
       "    }\n",
       "\n",
       "    .dataframe tbody tr th {\n",
       "        vertical-align: top;\n",
       "    }\n",
       "\n",
       "    .dataframe thead th {\n",
       "        text-align: right;\n",
       "    }\n",
       "</style>\n",
       "<table border=\"1\" class=\"dataframe\">\n",
       "  <thead>\n",
       "    <tr style=\"text-align: right;\">\n",
       "      <th></th>\n",
       "      <th>customerID</th>\n",
       "      <th>BeginDate</th>\n",
       "      <th>EndDate</th>\n",
       "      <th>Type</th>\n",
       "      <th>PaperlessBilling</th>\n",
       "      <th>PaymentMethod</th>\n",
       "      <th>MonthlyCharges</th>\n",
       "      <th>TotalCharges</th>\n",
       "      <th>target</th>\n",
       "      <th>TotalCharges_fixed</th>\n",
       "    </tr>\n",
       "  </thead>\n",
       "  <tbody>\n",
       "    <tr>\n",
       "      <th>488</th>\n",
       "      <td>4472-LVYGI</td>\n",
       "      <td>2020-02-01</td>\n",
       "      <td>NaT</td>\n",
       "      <td>Two year</td>\n",
       "      <td>Yes</td>\n",
       "      <td>Bank transfer (automatic)</td>\n",
       "      <td>52.55</td>\n",
       "      <td></td>\n",
       "      <td>0</td>\n",
       "      <td>NaN</td>\n",
       "    </tr>\n",
       "    <tr>\n",
       "      <th>753</th>\n",
       "      <td>3115-CZMZD</td>\n",
       "      <td>2020-02-01</td>\n",
       "      <td>NaT</td>\n",
       "      <td>Two year</td>\n",
       "      <td>No</td>\n",
       "      <td>Mailed check</td>\n",
       "      <td>20.25</td>\n",
       "      <td></td>\n",
       "      <td>0</td>\n",
       "      <td>NaN</td>\n",
       "    </tr>\n",
       "    <tr>\n",
       "      <th>936</th>\n",
       "      <td>5709-LVOEQ</td>\n",
       "      <td>2020-02-01</td>\n",
       "      <td>NaT</td>\n",
       "      <td>Two year</td>\n",
       "      <td>No</td>\n",
       "      <td>Mailed check</td>\n",
       "      <td>80.85</td>\n",
       "      <td></td>\n",
       "      <td>0</td>\n",
       "      <td>NaN</td>\n",
       "    </tr>\n",
       "    <tr>\n",
       "      <th>1082</th>\n",
       "      <td>4367-NUYAO</td>\n",
       "      <td>2020-02-01</td>\n",
       "      <td>NaT</td>\n",
       "      <td>Two year</td>\n",
       "      <td>No</td>\n",
       "      <td>Mailed check</td>\n",
       "      <td>25.75</td>\n",
       "      <td></td>\n",
       "      <td>0</td>\n",
       "      <td>NaN</td>\n",
       "    </tr>\n",
       "    <tr>\n",
       "      <th>1340</th>\n",
       "      <td>1371-DWPAZ</td>\n",
       "      <td>2020-02-01</td>\n",
       "      <td>NaT</td>\n",
       "      <td>Two year</td>\n",
       "      <td>No</td>\n",
       "      <td>Credit card (automatic)</td>\n",
       "      <td>56.05</td>\n",
       "      <td></td>\n",
       "      <td>0</td>\n",
       "      <td>NaN</td>\n",
       "    </tr>\n",
       "    <tr>\n",
       "      <th>3331</th>\n",
       "      <td>7644-OMVMY</td>\n",
       "      <td>2020-02-01</td>\n",
       "      <td>NaT</td>\n",
       "      <td>Two year</td>\n",
       "      <td>No</td>\n",
       "      <td>Mailed check</td>\n",
       "      <td>19.85</td>\n",
       "      <td></td>\n",
       "      <td>0</td>\n",
       "      <td>NaN</td>\n",
       "    </tr>\n",
       "    <tr>\n",
       "      <th>3826</th>\n",
       "      <td>3213-VVOLG</td>\n",
       "      <td>2020-02-01</td>\n",
       "      <td>NaT</td>\n",
       "      <td>Two year</td>\n",
       "      <td>No</td>\n",
       "      <td>Mailed check</td>\n",
       "      <td>25.35</td>\n",
       "      <td></td>\n",
       "      <td>0</td>\n",
       "      <td>NaN</td>\n",
       "    </tr>\n",
       "    <tr>\n",
       "      <th>4380</th>\n",
       "      <td>2520-SGTTA</td>\n",
       "      <td>2020-02-01</td>\n",
       "      <td>NaT</td>\n",
       "      <td>Two year</td>\n",
       "      <td>No</td>\n",
       "      <td>Mailed check</td>\n",
       "      <td>20.00</td>\n",
       "      <td></td>\n",
       "      <td>0</td>\n",
       "      <td>NaN</td>\n",
       "    </tr>\n",
       "    <tr>\n",
       "      <th>5218</th>\n",
       "      <td>2923-ARZLG</td>\n",
       "      <td>2020-02-01</td>\n",
       "      <td>NaT</td>\n",
       "      <td>One year</td>\n",
       "      <td>Yes</td>\n",
       "      <td>Mailed check</td>\n",
       "      <td>19.70</td>\n",
       "      <td></td>\n",
       "      <td>0</td>\n",
       "      <td>NaN</td>\n",
       "    </tr>\n",
       "    <tr>\n",
       "      <th>6670</th>\n",
       "      <td>4075-WKNIU</td>\n",
       "      <td>2020-02-01</td>\n",
       "      <td>NaT</td>\n",
       "      <td>Two year</td>\n",
       "      <td>No</td>\n",
       "      <td>Mailed check</td>\n",
       "      <td>73.35</td>\n",
       "      <td></td>\n",
       "      <td>0</td>\n",
       "      <td>NaN</td>\n",
       "    </tr>\n",
       "    <tr>\n",
       "      <th>6754</th>\n",
       "      <td>2775-SEFEE</td>\n",
       "      <td>2020-02-01</td>\n",
       "      <td>NaT</td>\n",
       "      <td>Two year</td>\n",
       "      <td>Yes</td>\n",
       "      <td>Bank transfer (automatic)</td>\n",
       "      <td>61.90</td>\n",
       "      <td></td>\n",
       "      <td>0</td>\n",
       "      <td>NaN</td>\n",
       "    </tr>\n",
       "  </tbody>\n",
       "</table>\n",
       "</div>"
      ],
      "text/plain": [
       "      customerID  BeginDate EndDate      Type PaperlessBilling  \\\n",
       "488   4472-LVYGI 2020-02-01     NaT  Two year              Yes   \n",
       "753   3115-CZMZD 2020-02-01     NaT  Two year               No   \n",
       "936   5709-LVOEQ 2020-02-01     NaT  Two year               No   \n",
       "1082  4367-NUYAO 2020-02-01     NaT  Two year               No   \n",
       "1340  1371-DWPAZ 2020-02-01     NaT  Two year               No   \n",
       "3331  7644-OMVMY 2020-02-01     NaT  Two year               No   \n",
       "3826  3213-VVOLG 2020-02-01     NaT  Two year               No   \n",
       "4380  2520-SGTTA 2020-02-01     NaT  Two year               No   \n",
       "5218  2923-ARZLG 2020-02-01     NaT  One year              Yes   \n",
       "6670  4075-WKNIU 2020-02-01     NaT  Two year               No   \n",
       "6754  2775-SEFEE 2020-02-01     NaT  Two year              Yes   \n",
       "\n",
       "                  PaymentMethod  MonthlyCharges TotalCharges  target  \\\n",
       "488   Bank transfer (automatic)           52.55                    0   \n",
       "753                Mailed check           20.25                    0   \n",
       "936                Mailed check           80.85                    0   \n",
       "1082               Mailed check           25.75                    0   \n",
       "1340    Credit card (automatic)           56.05                    0   \n",
       "3331               Mailed check           19.85                    0   \n",
       "3826               Mailed check           25.35                    0   \n",
       "4380               Mailed check           20.00                    0   \n",
       "5218               Mailed check           19.70                    0   \n",
       "6670               Mailed check           73.35                    0   \n",
       "6754  Bank transfer (automatic)           61.90                    0   \n",
       "\n",
       "      TotalCharges_fixed  \n",
       "488                  NaN  \n",
       "753                  NaN  \n",
       "936                  NaN  \n",
       "1082                 NaN  \n",
       "1340                 NaN  \n",
       "3331                 NaN  \n",
       "3826                 NaN  \n",
       "4380                 NaN  \n",
       "5218                 NaN  \n",
       "6670                 NaN  \n",
       "6754                 NaN  "
      ]
     },
     "execution_count": 7,
     "metadata": {},
     "output_type": "execute_result"
    }
   ],
   "source": [
    "# в новый столбец TotalCharges_fixed запишем преобразованные в числа \n",
    "# значения накопленной выручки с каждого клиента\n",
    "# там, где это не получится сделать, проставим NaN, которые будет легко отследить\n",
    "contract['TotalCharges_fixed'] = pd.to_numeric(contract['TotalCharges'], errors='coerce')\n",
    "# посмотрим на записи с некорректными заначениями\n",
    "contract[contract['TotalCharges_fixed'].isna()]"
   ]
  },
  {
   "cell_type": "markdown",
   "metadata": {
    "id": "2YgMB0_byirH"
   },
   "source": [
    "Проблема с типом данных в колонке **TotalCharges** в пустых строках у клиентов, заключивших договор в день выгрузки данных 1 февраля 2020. Статистика по накопленной выручке по ним не успела накопиться. Избавимся от этих записей."
   ]
  },
  {
   "cell_type": "code",
   "execution_count": 8,
   "metadata": {
    "id": "CuwJ9ojnsO83"
   },
   "outputs": [],
   "source": [
    "# удаляем записи с пропусками в колонке TotalCharges_fixed и обновляем индексы\n",
    "contract.dropna(subset=['TotalCharges_fixed'], inplace=True)\n",
    "contract.reset_index(inplace=True, drop=True)\n",
    "# переписываем содержимое колонки TotalCharges\n",
    "contract['TotalCharges'] = contract['TotalCharges_fixed']\n",
    "# удаляем временную колонку TotalCharges_fixed \n",
    "contract.drop('TotalCharges_fixed', axis=1, inplace=True)"
   ]
  },
  {
   "cell_type": "markdown",
   "metadata": {
    "id": "lsXpvaBZpTgc"
   },
   "source": [
    "Данные о контрактах загружены, cформирована колонка с целевым признаком.\n",
    "\n",
    "***\n",
    "\n",
    "[Вернуться к содержанию](#contents)"
   ]
  },
  {
   "cell_type": "markdown",
   "metadata": {
    "id": "LHer-siLC5rm"
   },
   "source": [
    "### Персональные данные клиентов  <a name=\"subparagraph2.2\"></a>"
   ]
  },
  {
   "cell_type": "code",
   "execution_count": 9,
   "metadata": {},
   "outputs": [
    {
     "data": {
      "text/html": [
       "<div>\n",
       "<style scoped>\n",
       "    .dataframe tbody tr th:only-of-type {\n",
       "        vertical-align: middle;\n",
       "    }\n",
       "\n",
       "    .dataframe tbody tr th {\n",
       "        vertical-align: top;\n",
       "    }\n",
       "\n",
       "    .dataframe thead th {\n",
       "        text-align: right;\n",
       "    }\n",
       "</style>\n",
       "<table border=\"1\" class=\"dataframe\">\n",
       "  <thead>\n",
       "    <tr style=\"text-align: right;\">\n",
       "      <th></th>\n",
       "      <th>customerID</th>\n",
       "      <th>gender</th>\n",
       "      <th>SeniorCitizen</th>\n",
       "      <th>Partner</th>\n",
       "      <th>Dependents</th>\n",
       "    </tr>\n",
       "  </thead>\n",
       "  <tbody>\n",
       "    <tr>\n",
       "      <th>0</th>\n",
       "      <td>7590-VHVEG</td>\n",
       "      <td>Female</td>\n",
       "      <td>0</td>\n",
       "      <td>Yes</td>\n",
       "      <td>No</td>\n",
       "    </tr>\n",
       "    <tr>\n",
       "      <th>1</th>\n",
       "      <td>5575-GNVDE</td>\n",
       "      <td>Male</td>\n",
       "      <td>0</td>\n",
       "      <td>No</td>\n",
       "      <td>No</td>\n",
       "    </tr>\n",
       "    <tr>\n",
       "      <th>2</th>\n",
       "      <td>3668-QPYBK</td>\n",
       "      <td>Male</td>\n",
       "      <td>0</td>\n",
       "      <td>No</td>\n",
       "      <td>No</td>\n",
       "    </tr>\n",
       "    <tr>\n",
       "      <th>3</th>\n",
       "      <td>7795-CFOCW</td>\n",
       "      <td>Male</td>\n",
       "      <td>0</td>\n",
       "      <td>No</td>\n",
       "      <td>No</td>\n",
       "    </tr>\n",
       "    <tr>\n",
       "      <th>4</th>\n",
       "      <td>9237-HQITU</td>\n",
       "      <td>Female</td>\n",
       "      <td>0</td>\n",
       "      <td>No</td>\n",
       "      <td>No</td>\n",
       "    </tr>\n",
       "  </tbody>\n",
       "</table>\n",
       "</div>"
      ],
      "text/plain": [
       "   customerID  gender  SeniorCitizen Partner Dependents\n",
       "0  7590-VHVEG  Female              0     Yes         No\n",
       "1  5575-GNVDE    Male              0      No         No\n",
       "2  3668-QPYBK    Male              0      No         No\n",
       "3  7795-CFOCW    Male              0      No         No\n",
       "4  9237-HQITU  Female              0      No         No"
      ]
     },
     "execution_count": 9,
     "metadata": {},
     "output_type": "execute_result"
    }
   ],
   "source": [
    "personal.head()"
   ]
  },
  {
   "cell_type": "markdown",
   "metadata": {
    "id": "CAnDrxejHAhH"
   },
   "source": [
    "Информация о клиенте содержит 5 колонок:\n",
    "- `customerID` — уникальный номер клиента;\n",
    "- `gender` — пол клиента;\n",
    "- `SeniorCitizen` — метка возрастной категории клиента (пенсионер или нет);\n",
    "- `Partner` — метка семейного статуса (есть партнер или нет);\n",
    "- `Dependents` — факт наличия у клиента иждивенцев."
   ]
  },
  {
   "cell_type": "markdown",
   "metadata": {
    "id": "p8YWZ9nY2IfH"
   },
   "source": [
    "Проверим данные в колонках на предмет аномальных значений."
   ]
  },
  {
   "cell_type": "code",
   "execution_count": 10,
   "metadata": {
    "colab": {
     "base_uri": "https://localhost:8080/"
    },
    "id": "Ec9ctqv7HX8F",
    "outputId": "9f7e2b8b-cffa-483d-b567-daf42c709270"
   },
   "outputs": [
    {
     "name": "stdout",
     "output_type": "stream",
     "text": [
      "Количество дубликатов в идентификаторах пользователей: 0\n",
      "Типы меток возрастной категории клиента: [0, 1]\n",
      "Типы меток семейного статуса клиента: ['Yes', 'No']\n",
      "Типы меток наличия иждивенцев у клиента: ['No', 'Yes']\n"
     ]
    }
   ],
   "source": [
    "print('Количество дубликатов в идентификаторах пользователей:', personal.duplicated(subset='customerID').sum())\n",
    "print('Типы меток возрастной категории клиента:', list(personal['SeniorCitizen'].unique()))\n",
    "print('Типы меток семейного статуса клиента:', list(personal['Partner'].unique()))\n",
    "print('Типы меток наличия иждивенцев у клиента:', list(personal['Dependents'].unique()))"
   ]
  },
  {
   "cell_type": "markdown",
   "metadata": {
    "id": "6ZEttrcWIi9z"
   },
   "source": [
    "**Наблюдения**\n",
    "\n",
    "Персональные данные клиентов загружены корректно и содержат 7042 записи с 4 характеристиками. Пропусков и аномалий нет.\n",
    "\n",
    "***\n",
    "\n",
    "[Вернуться к содержанию](#contents)"
   ]
  },
  {
   "cell_type": "markdown",
   "metadata": {
    "id": "GyHyO3siC5aV"
   },
   "source": [
    "### Интернет-услуги  <a name=\"subparagraph2.3\"></a>"
   ]
  },
  {
   "cell_type": "code",
   "execution_count": 11,
   "metadata": {
    "colab": {
     "base_uri": "https://localhost:8080/",
     "height": 206
    },
    "id": "Hyvp0x3aJaE3",
    "outputId": "85404348-34c1-4b1e-9adc-0f0c800df54c",
    "scrolled": true
   },
   "outputs": [
    {
     "data": {
      "text/html": [
       "<div>\n",
       "<style scoped>\n",
       "    .dataframe tbody tr th:only-of-type {\n",
       "        vertical-align: middle;\n",
       "    }\n",
       "\n",
       "    .dataframe tbody tr th {\n",
       "        vertical-align: top;\n",
       "    }\n",
       "\n",
       "    .dataframe thead th {\n",
       "        text-align: right;\n",
       "    }\n",
       "</style>\n",
       "<table border=\"1\" class=\"dataframe\">\n",
       "  <thead>\n",
       "    <tr style=\"text-align: right;\">\n",
       "      <th></th>\n",
       "      <th>customerID</th>\n",
       "      <th>InternetService</th>\n",
       "      <th>OnlineSecurity</th>\n",
       "      <th>OnlineBackup</th>\n",
       "      <th>DeviceProtection</th>\n",
       "      <th>TechSupport</th>\n",
       "      <th>StreamingTV</th>\n",
       "      <th>StreamingMovies</th>\n",
       "    </tr>\n",
       "  </thead>\n",
       "  <tbody>\n",
       "    <tr>\n",
       "      <th>0</th>\n",
       "      <td>7590-VHVEG</td>\n",
       "      <td>DSL</td>\n",
       "      <td>No</td>\n",
       "      <td>Yes</td>\n",
       "      <td>No</td>\n",
       "      <td>No</td>\n",
       "      <td>No</td>\n",
       "      <td>No</td>\n",
       "    </tr>\n",
       "    <tr>\n",
       "      <th>1</th>\n",
       "      <td>5575-GNVDE</td>\n",
       "      <td>DSL</td>\n",
       "      <td>Yes</td>\n",
       "      <td>No</td>\n",
       "      <td>Yes</td>\n",
       "      <td>No</td>\n",
       "      <td>No</td>\n",
       "      <td>No</td>\n",
       "    </tr>\n",
       "    <tr>\n",
       "      <th>2</th>\n",
       "      <td>3668-QPYBK</td>\n",
       "      <td>DSL</td>\n",
       "      <td>Yes</td>\n",
       "      <td>Yes</td>\n",
       "      <td>No</td>\n",
       "      <td>No</td>\n",
       "      <td>No</td>\n",
       "      <td>No</td>\n",
       "    </tr>\n",
       "    <tr>\n",
       "      <th>3</th>\n",
       "      <td>7795-CFOCW</td>\n",
       "      <td>DSL</td>\n",
       "      <td>Yes</td>\n",
       "      <td>No</td>\n",
       "      <td>Yes</td>\n",
       "      <td>Yes</td>\n",
       "      <td>No</td>\n",
       "      <td>No</td>\n",
       "    </tr>\n",
       "    <tr>\n",
       "      <th>4</th>\n",
       "      <td>9237-HQITU</td>\n",
       "      <td>Fiber optic</td>\n",
       "      <td>No</td>\n",
       "      <td>No</td>\n",
       "      <td>No</td>\n",
       "      <td>No</td>\n",
       "      <td>No</td>\n",
       "      <td>No</td>\n",
       "    </tr>\n",
       "  </tbody>\n",
       "</table>\n",
       "</div>"
      ],
      "text/plain": [
       "   customerID InternetService OnlineSecurity OnlineBackup DeviceProtection  \\\n",
       "0  7590-VHVEG             DSL             No          Yes               No   \n",
       "1  5575-GNVDE             DSL            Yes           No              Yes   \n",
       "2  3668-QPYBK             DSL            Yes          Yes               No   \n",
       "3  7795-CFOCW             DSL            Yes           No              Yes   \n",
       "4  9237-HQITU     Fiber optic             No           No               No   \n",
       "\n",
       "  TechSupport StreamingTV StreamingMovies  \n",
       "0          No          No              No  \n",
       "1          No          No              No  \n",
       "2          No          No              No  \n",
       "3         Yes          No              No  \n",
       "4          No          No              No  "
      ]
     },
     "execution_count": 11,
     "metadata": {},
     "output_type": "execute_result"
    }
   ],
   "source": [
    "internet.head()"
   ]
  },
  {
   "cell_type": "markdown",
   "metadata": {
    "id": "DQTS5miyT8Qc"
   },
   "source": [
    "Информация о подключенных интернет-услугах содержит 8 колонок:\n",
    "- `customerID` — уникальный номер клиента;\n",
    "- `InternetService` — тип подключения (телефонная линия или оптика);\n",
    "- `OnlineSecurity`, `OnlineBackup`, `DeviceProtection`, `TechSupport`, `StreamingTV`, `StreamingMovies` — метки использования клиентом дополнительных услуг."
   ]
  },
  {
   "cell_type": "code",
   "execution_count": 12,
   "metadata": {
    "colab": {
     "base_uri": "https://localhost:8080/"
    },
    "id": "jX9YJFNyU9Oe",
    "outputId": "0971535e-f52d-4c1f-ff42-fba0cbcaaf21"
   },
   "outputs": [
    {
     "name": "stdout",
     "output_type": "stream",
     "text": [
      "Количество дубликатов в идентификаторах пользователей: 0\n",
      "Доля клиентов клентов компании, пользующихся интернетом: 78%\n"
     ]
    }
   ],
   "source": [
    "print('Количество дубликатов в идентификаторах пользователей:', internet.duplicated(subset='customerID').sum())\n",
    "print(f'Доля клиентов клентов компании, пользующихся интернетом: {len(internet) / len(contract):.0%}')"
   ]
  },
  {
   "cell_type": "markdown",
   "metadata": {
    "id": "5PybJuFoTFnx"
   },
   "source": [
    "**Наблюдения**\n",
    "\n",
    "Данные о потребленных клиентами интернет-услугах загружены и содержат 5517 записей. Пропусков и аномалий нет.\n",
    "\n",
    "***\n",
    "\n",
    "[Вернуться к содержанию](#contents)"
   ]
  },
  {
   "cell_type": "markdown",
   "metadata": {
    "id": "mh_3npBAC5OB"
   },
   "source": [
    "### Телефония  <a name=\"subparagraph2.4\"></a>"
   ]
  },
  {
   "cell_type": "code",
   "execution_count": 13,
   "metadata": {
    "colab": {
     "base_uri": "https://localhost:8080/",
     "height": 206
    },
    "id": "NCBKdWS7VdDc",
    "outputId": "43f7896f-dd20-4b26-a14d-341322ec7773"
   },
   "outputs": [
    {
     "data": {
      "text/html": [
       "<div>\n",
       "<style scoped>\n",
       "    .dataframe tbody tr th:only-of-type {\n",
       "        vertical-align: middle;\n",
       "    }\n",
       "\n",
       "    .dataframe tbody tr th {\n",
       "        vertical-align: top;\n",
       "    }\n",
       "\n",
       "    .dataframe thead th {\n",
       "        text-align: right;\n",
       "    }\n",
       "</style>\n",
       "<table border=\"1\" class=\"dataframe\">\n",
       "  <thead>\n",
       "    <tr style=\"text-align: right;\">\n",
       "      <th></th>\n",
       "      <th>customerID</th>\n",
       "      <th>MultipleLines</th>\n",
       "    </tr>\n",
       "  </thead>\n",
       "  <tbody>\n",
       "    <tr>\n",
       "      <th>0</th>\n",
       "      <td>5575-GNVDE</td>\n",
       "      <td>No</td>\n",
       "    </tr>\n",
       "    <tr>\n",
       "      <th>1</th>\n",
       "      <td>3668-QPYBK</td>\n",
       "      <td>No</td>\n",
       "    </tr>\n",
       "    <tr>\n",
       "      <th>2</th>\n",
       "      <td>9237-HQITU</td>\n",
       "      <td>No</td>\n",
       "    </tr>\n",
       "    <tr>\n",
       "      <th>3</th>\n",
       "      <td>9305-CDSKC</td>\n",
       "      <td>Yes</td>\n",
       "    </tr>\n",
       "    <tr>\n",
       "      <th>4</th>\n",
       "      <td>1452-KIOVK</td>\n",
       "      <td>Yes</td>\n",
       "    </tr>\n",
       "  </tbody>\n",
       "</table>\n",
       "</div>"
      ],
      "text/plain": [
       "   customerID MultipleLines\n",
       "0  5575-GNVDE            No\n",
       "1  3668-QPYBK            No\n",
       "2  9237-HQITU            No\n",
       "3  9305-CDSKC           Yes\n",
       "4  1452-KIOVK           Yes"
      ]
     },
     "execution_count": 13,
     "metadata": {},
     "output_type": "execute_result"
    }
   ],
   "source": [
    "phone.head()"
   ]
  },
  {
   "cell_type": "markdown",
   "metadata": {
    "id": "S0GaDU62Z9_N"
   },
   "source": [
    "Информация об услугах телефонии содержит 2 колонки:\n",
    "- `customerID` — уникальный номер клиента;\n",
    "- `MultiplieLines` —  метка использования клиентом дополнительной услуги."
   ]
  },
  {
   "cell_type": "code",
   "execution_count": 14,
   "metadata": {
    "colab": {
     "base_uri": "https://localhost:8080/"
    },
    "id": "by0nD6i2ZZLK",
    "outputId": "128b695f-cb52-422b-911b-a02c7c416ed1"
   },
   "outputs": [
    {
     "name": "stdout",
     "output_type": "stream",
     "text": [
      "Количество дубликатов в идентификаторах пользователей: 0\n",
      "Доля клиентов клентов компании, пользующихся стационарным телефоном: 90%\n"
     ]
    }
   ],
   "source": [
    "print('Количество дубликатов в идентификаторах пользователей:', phone.duplicated(subset='customerID').sum())\n",
    "print(f'Доля клиентов клентов компании, пользующихся стационарным телефоном: {len(phone) / len(contract):.0%}')"
   ]
  },
  {
   "cell_type": "markdown",
   "metadata": {
    "id": "foI2TKiyZrD3"
   },
   "source": [
    "**Наблюдения**\n",
    "\n",
    "Данные о потребленных клиентами услугах телефонии загружены и содержат 6361 запись. Пропусков и аномалий нет.\n",
    "\n",
    "***\n",
    "\n",
    "[Вернуться к содержанию](#contents)"
   ]
  },
  {
   "cell_type": "markdown",
   "metadata": {
    "id": "7UI82KmEabrB"
   },
   "source": [
    "### Выводы по разделу <a name=\"subparagraph2.5\"></a>\n",
    "\n",
    "Исходные данные загружены и предобработаны:\n",
    " - календарные данные о датах открытия и закрытия договоров приведены к типу `datetime` там, где это возможно;\n",
    " - единичные записи с пропусками в колонке с суммарной выручкой по клиенту удалены;\n",
    " - данные проверены на предмет дубликатов и артефактов;\n",
    " - в таблице **contract** сформирована колонка **target** с целевым признаком.\n",
    " \n",
    "При знакомстве с данными мы выяснили, что 90% клиентов пользуются стационарной телефонной связью и только 78% пользуются интернетом. Почти все категориальные признаки в таблицах бинарные - это значит, что при построении модели мы сможем использовать простое и эффектвное прямое кодирование и размерность матрицы признаков не будет чрезмерной.\n",
    "\n",
    "***\n",
    "\n",
    "[Вернуться к содержанию](#contents)"
   ]
  },
  {
   "cell_type": "markdown",
   "metadata": {
    "id": "W0XGD9SPheTP"
   },
   "source": [
    "## Исследовательский анализ данных <a name=\"paragraph3\"></a>\n",
    "\n",
    "В нашем случае задача исседовательного анализа - определить, какие признаки в каком виде будут переданы в модель. Познакомившись с данными, договоримся, что персональные данные клиентов и информация об интересующих их услугах будет использована в качестве признаков в полном объеме (после соответсвующей подготовки) и сосредоточимся на исследовании данных о заключенных и расторгнутых договорах. "
   ]
  },
  {
   "cell_type": "code",
   "execution_count": 15,
   "metadata": {
    "colab": {
     "base_uri": "https://localhost:8080/"
    },
    "id": "k4sBHWL7tWpv",
    "outputId": "e9ab4694-dc74-43de-fabe-0cf1308b043a"
   },
   "outputs": [
    {
     "name": "stdout",
     "output_type": "stream",
     "text": [
      "Баланс классов в исходных данных:\n",
      "\n"
     ]
    },
    {
     "data": {
      "text/plain": [
       "0    0.734215\n",
       "1    0.265785\n",
       "Name: target, dtype: float64"
      ]
     },
     "execution_count": 15,
     "metadata": {},
     "output_type": "execute_result"
    }
   ],
   "source": [
    "print('Баланс классов в исходных данных:\\n')\n",
    "contract['target'].value_counts(normalize=1)"
   ]
  },
  {
   "cell_type": "markdown",
   "metadata": {
    "id": "nf72smBvp_ay"
   },
   "source": [
    "Классы несбалансированны - это нужно будет учесть."
   ]
  },
  {
   "cell_type": "markdown",
   "metadata": {
    "id": "GJxFgH_QMyWr"
   },
   "source": [
    "### Расходы клиентов <a name=\"subparagraph3.1\"></a>"
   ]
  },
  {
   "cell_type": "markdown",
   "metadata": {
    "id": "qPlQCXLWlwPg"
   },
   "source": [
    "Исследуем главную доступную нам количественную характеристику клиентов - среднемесячную выручку по клиентам в колонке **MonthlyCharges**. Разделим клиентов на лояльных и покинувших компанию и оценим размах и распределение среднемеческой выручки. Так мы оценим достовернось данных и проверим очевидную догадку - \"Клиенты уходят потому, что дорого\". Может быть компании нужно просто снизить цену на свои услуги до уровня конкурентов?"
   ]
  },
  {
   "cell_type": "code",
   "execution_count": 16,
   "metadata": {
    "colab": {
     "base_uri": "https://localhost:8080/",
     "height": 404
    },
    "id": "tAGBLJanzqAS",
    "outputId": "6e15e377-c4dd-488a-b0a8-2cef573b3eab"
   },
   "outputs": [
    {
     "data": {
      "image/png": "[encoded data removed]",
      "text/plain": [
       "<Figure size 800x400 with 1 Axes>"
      ]
     },
     "metadata": {},
     "output_type": "display_data"
    }
   ],
   "source": [
    "fig, ax = plt.subplots(figsize=(8, 4))\n",
    "\n",
    "sns.boxplot(data=contract, y='target', x='MonthlyCharges', \n",
    "            width=0.5, color='lightgray', showmeans=True, showfliers=True, ax=ax, orient='h')\n",
    "ax.grid(color='gray', alpha=0.5, lw=0.5)\n",
    "plt.xlabel('Выручка')\n",
    "plt.ylabel('')\n",
    "plt.yticks([0, 1], ['Лояльные клиенты', 'Ушедшие клиенты'])\n",
    "plt.title('Размах значений среднемесячной выручки');"
   ]
  },
  {
   "cell_type": "markdown",
   "metadata": {
    "id": "nEujBSOL0OKQ"
   },
   "source": [
    "Аномальных значений нет. Верхние и нижние границы значений выручки совпадают, но среднемесячные расходы ушедших клиентов в среднем выше, чем у лояльных клиентов. Расходы половины ушедших клиентов превышали средние расходы лояльных клиентов. Эта часть клиентов покинула компанию потому, что их расходы превысили ожидания, - это логично и ожидаемо. "
   ]
  },
  {
   "cell_type": "code",
   "execution_count": 17,
   "metadata": {
    "colab": {
     "base_uri": "https://localhost:8080/",
     "height": 404
    },
    "id": "U0HZPijJ5N03",
    "outputId": "83b6164b-99dc-4a32-eddb-e082281b2040"
   },
   "outputs": [
    {
     "data": {
      "image/png": "[encoded data removed]",
      "text/plain": [
       "<Figure size 800x400 with 1 Axes>"
      ]
     },
     "metadata": {},
     "output_type": "display_data"
    }
   ],
   "source": [
    "plt.subplots(figsize=(8, 4))\n",
    "plt.hist(contract[contract['target'] == 0]['MonthlyCharges'], label='Лояльные клиенты', bins=25, density=False, color='orange')\n",
    "plt.hist(contract[contract['target'] == 1]['MonthlyCharges'], label='Ушедшие клиенты', bins=25, density=False, color='gray')\n",
    "plt.xlabel('Выручка')\n",
    "plt.ylabel('Частота')\n",
    "plt.yticks([])\n",
    "\n",
    "plt.legend()\n",
    "plt.title('Распределение значений среднемесячной выручки');"
   ]
  },
  {
   "cell_type": "markdown",
   "metadata": {
    "id": "shxIT4TqqO2K"
   },
   "source": [
    "Распределения похожи, но на гистограмме расходов лояльных выделяется \"пик\" тех, кто сидит на минимальном месячном платеже, - таких клиентов все устраивает."
   ]
  },
  {
   "cell_type": "markdown",
   "metadata": {
    "id": "SOf6sxvPzVxR"
   },
   "source": [
    "**Наблюдения**\n",
    "\n",
    "Данные о среднемесячной выручке лояльных и ушедших клиентов будем считать достоверными. Сравнительно высокими расходами можно объяснить уход только части клиентов, остальные клиенты покинули компанию по менее очевидным причинам.  \n",
    "\n",
    "***\n",
    "\n",
    "[Вернуться к содержанию](#contents)"
   ]
  },
  {
   "cell_type": "markdown",
   "metadata": {
    "id": "nKCJ-DlM1a8H"
   },
   "source": [
    "### Поиск сомнительных записей <a name=\"subparagraph3.2\"></a>\n",
    "Посмотрим на временные рамки имеющихся в нашем распоряжении данных."
   ]
  },
  {
   "cell_type": "code",
   "execution_count": 18,
   "metadata": {
    "colab": {
     "base_uri": "https://localhost:8080/",
     "height": 263
    },
    "id": "DLRVy8fwFH3-",
    "outputId": "f5af2696-8b52-48b6-ee58-87532b17d1f8"
   },
   "outputs": [
    {
     "data": {
      "image/png": "[encoded data removed]",
      "text/plain": [
       "<Figure size 800x200 with 1 Axes>"
      ]
     },
     "metadata": {},
     "output_type": "display_data"
    },
    {
     "name": "stdout",
     "output_type": "stream",
     "text": [
      "\n",
      "Самое частотное значение: 2019\n"
     ]
    }
   ],
   "source": [
    "plt.subplots(figsize=(8, 2))\n",
    "sns.boxplot(x=pd.DatetimeIndex(contract['BeginDate']).year,\n",
    "            width=0.5, color='lightgray', showmeans=False, showfliers=True, orient='h')\n",
    "plt.title('Временные рамки исходных данных')\n",
    "plt.grid(True)\n",
    "plt.xlabel('')\n",
    "plt.show()\n",
    "print('\\nСамое частотное значение:', \n",
    "      max(set(list(pd.DatetimeIndex(contract['BeginDate']).year)), \n",
    "          key=list(pd.DatetimeIndex(contract['BeginDate']).year).count));"
   ]
  },
  {
   "cell_type": "markdown",
   "metadata": {
    "id": "J0TFBpv3cS8f"
   },
   "source": [
    "В нашем распоряжении данные о договорах, открытых с 2013 по 2020 год.\n",
    "\n",
    "Предположим, что условия договора, заключенного на 1 или 2 года, предусматривают штрафные санкции в случае его досрочного расторжения по инициативе клиента. Так, например, в США за символическую цену продают айфоны, к которым прилается обязательный годовой контракт с сотовым оператором, дострочное расторжение которого грозит выплатой неустойки, равной полной стоимости айфона.\n",
    "\n",
    "Следуя этой логике, предположим, что клиент, заключивший срочный контракт с телеком-компанией получил за это какие-то скидки, бонусы или \"бесплатный\" роутер и не будет досрочно расторгать договор, даже желая уйти к другому оператору, из-за не желания платить неустойку. В таком случае \"лояльность\" подобного клиента будет потенциально недостоверной.\n",
    "\n",
    "Найдем таких клиентов, учитывая дата выгрузки данных - 1 февраля 2020 года."
   ]
  },
  {
   "cell_type": "code",
   "execution_count": 19,
   "metadata": {
    "colab": {
     "base_uri": "https://localhost:8080/"
    },
    "id": "MqbBhwz4c_SF",
    "outputId": "79e3de5b-cd77-4e06-ae86-6b51ec50626e"
   },
   "outputs": [
    {
     "name": "stdout",
     "output_type": "stream",
     "text": [
      "Количество потенциально недостоверных записей: 230\n"
     ]
    }
   ],
   "source": [
    "unreliable_contracts = contract[\n",
    "         # клиенты заключившие договор с ежемесячной платой менее, чем за месяц до даты выгрузки\n",
    "         # по ним не накопилось никакой адекватной статистики\n",
    "         ((contract['BeginDate'] > '2020-01-01') & (contract['Type'] == 'Month-to-month'))\n",
    "         |\n",
    "         # клиенты заключившие договор сроком на 1 год менее, чем за год до даты выгрузки\n",
    "         ((contract['BeginDate'] > '2019-02-01') & (contract['Type'] == 'One year'))\n",
    "         |\n",
    "         # клиенты заключившие договор сроком на 2 год менее, чем за два года до даты выгрузки\n",
    "         ((contract['BeginDate'] > '2018-02-01') & (contract['Type'] == 'Two year'))\n",
    "         ]\n",
    "print('Количество потенциально недостоверных записей:', len(unreliable_contracts))         "
   ]
  },
  {
   "cell_type": "markdown",
   "metadata": {
    "id": "vC8LMVSaMaf8"
   },
   "source": [
    "\n",
    "С помощью аналитического метода Хи-квадрат проверим нулевую гипотезу, что статус клиента-новичка никак не влияет на факт расторжения договора."
   ]
  },
  {
   "cell_type": "code",
   "execution_count": 20,
   "metadata": {
    "id": "VQt_xcRVFJio"
   },
   "outputs": [],
   "source": [
    "# создадим колонку new, чтобы отметить клиентов-новичков\n",
    "unreliable_contracts['new'] = 1\n",
    "contract = contract.merge(unreliable_contracts[['customerID','new']], how='left')\n",
    "contract['new'] = contract['new'].fillna(0)"
   ]
  },
  {
   "cell_type": "code",
   "execution_count": 21,
   "metadata": {
    "colab": {
     "base_uri": "https://localhost:8080/"
    },
    "id": "Su-ujEADHuMa",
    "outputId": "854a066e-8305-4281-b5c3-171ab5849fd3"
   },
   "outputs": [
    {
     "name": "stdout",
     "output_type": "stream",
     "text": [
      "p-value =  1.7440070803124201e-16\n",
      "Отвергаем нулевую гипотезу\n"
     ]
    }
   ],
   "source": [
    "# из данных в колонка new и traget созданим кросс-таблицу chisqt,\n",
    "# которая отображает частотное распределение признаков new и target\n",
    "chisqt = pd.crosstab(contract['new'], contract['target'], margins=True)\n",
    "# применим к заниченим таблицы тест хи-квадрат и проверим нулевую гипотезу\n",
    "value = np.array([chisqt.iloc[0][0:4].values,\n",
    "                  chisqt.iloc[1][0:4].values])\n",
    "print('p-value = ', chi2_contingency(value)[1])\n",
    "if chi2_contingency(value)[1] > 0.05:\n",
    "    print('Принимаем нулевую гипотезу')\n",
    "else:\n",
    "    print('Отвергаем нулевую гипотезу')"
   ]
  },
  {
   "cell_type": "code",
   "execution_count": 22,
   "metadata": {
    "id": "L00gYwreMqt7"
   },
   "outputs": [],
   "source": [
    "contract.drop(['new'], axis=1, inplace=True)"
   ]
  },
  {
   "cell_type": "markdown",
   "metadata": {
    "id": "AutIOfrNkrzi"
   },
   "source": [
    "Нулевая гипотеза отвергнута - статус новичка влияет на решение клиента остаться или покинуть компанию. Удалим 230 записей о клиентах с потенциально неверной оценкой лояльности и в исходных данных останутся только однозначно лояльные и ушедшие клиенты."
   ]
  },
  {
   "cell_type": "code",
   "execution_count": 23,
   "metadata": {
    "id": "CFA-hgTngRHc"
   },
   "outputs": [],
   "source": [
    "# исключим из основной таблицы contract клиентов из таблицы unreliable_contracts\n",
    "contract = contract[~(contract['customerID'].isin(unreliable_contracts['customerID']))]"
   ]
  },
  {
   "cell_type": "code",
   "execution_count": 24,
   "metadata": {
    "colab": {
     "base_uri": "https://localhost:8080/"
    },
    "id": "P6pOf5w0wi5s",
    "outputId": "98dc5d13-5e02-4419-a2b7-99fc445b9aa9"
   },
   "outputs": [
    {
     "name": "stdout",
     "output_type": "stream",
     "text": [
      "Количество записей о договорах после очистки: 6802\n"
     ]
    }
   ],
   "source": [
    "print('Количество записей о договорах после очистки:', len(contract))"
   ]
  },
  {
   "cell_type": "markdown",
   "metadata": {
    "id": "3clAAQxD0B0E"
   },
   "source": [
    "Мы избавились от записей о клиентах, лояльность которых сомнительна.\n",
    "\n",
    "***\n",
    "\n",
    "[Вернуться к содержанию](#contents)"
   ]
  },
  {
   "cell_type": "markdown",
   "metadata": {
    "id": "L6pcaEAL23JZ"
   },
   "source": [
    "### Генерация искусственных признаков <a name=\"subparagraph3.3\"></a>\n",
    "Какую полезную информацию мы можем извлечь из данных о дате заключения контракта и дате его расторжения? Передавать в модель даты заключения договоров - нельзя, но можно накапливать данные об общей продолжительности отношений клиента и компании и фактах того, что клиент не ушел после истечения первоначального срочного договора (месяц, год или два года).\n",
    "\n",
    "Для каждого клиента мы создадим синтетические количественные признаки, которые будет характеризовать степень лояльности клиента (как активного, так и покинувшего компанию):\n",
    "- **prolongation** - количество пролонгаций первоначального контракта на момент выгрузки данных;\n",
    "- **duration** - \"стаж\" клиента в компании на момент выгрузки данных или на момент расторжения договора (в днях)."
   ]
  },
  {
   "cell_type": "code",
   "execution_count": 25,
   "metadata": {
    "id": "Q_TCvqPOwi1z"
   },
   "outputs": [],
   "source": [
    "# заполним пропуски в дате расторжения контракта датой выгрузки\n",
    "contract['EndDate'].fillna(\n",
    "    pd.to_datetime('2020-02-01', format='%Y-%m-%d'),\n",
    "    inplace=True)\n",
    "\n",
    "# для каждого типа контракта вычислим целое число пролонгаций и запишем его в колонку prolongation\n",
    "contract.loc[contract['Type'] == 'Month-to-month', 'prolongation'] = (contract['EndDate'] - contract['BeginDate']).dt.days // 30\n",
    "contract.loc[contract['Type'] == 'One year', 'prolongation'] = (contract['EndDate'] - contract['BeginDate']).dt.days // 365\n",
    "contract.loc[contract['Type'] == 'Two year', 'prolongation'] = (contract['EndDate'] - contract['BeginDate']).dt.days // 730\n",
    "\n",
    "# для каждого клиента расчитаем \"стаж\"\n",
    "contract['duration'] = (contract['EndDate'] - contract['BeginDate']).dt.days\n",
    "\n",
    "contract['prolongation'] = contract['prolongation'].astype('int16')\n",
    "contract['duration'] = contract['duration'].astype('int16')"
   ]
  },
  {
   "cell_type": "markdown",
   "metadata": {
    "id": "Vlj9Bw5UQpHf"
   },
   "source": [
    "Как мы условились ранее, в качестве признаков объектов мы используем все доступные личные данные клиентов и сведения об интересующих их услугах. \n",
    "\n",
    "Однако, некоторые данные лишние и не должны быть переданы в модель:\n",
    " - даты заключения и расторжения договора - из них мы сформировали синтетический признак prolongation);\n",
    " - суммарная выручка c каждого клиента - эти данные (в отличие от среднемесячной выручки) адекватно характеризуют только клиентов, растрогнувших договор, и оценивать по ним лояльных клиентов без учета изменений во времени некорректно.\n",
    "\n",
    "Соберем все признаки в одну таблицу **clients**."
   ]
  },
  {
   "cell_type": "code",
   "execution_count": 26,
   "metadata": {
    "colab": {
     "base_uri": "https://localhost:8080/"
    },
    "id": "s57bJrtCcrT0",
    "outputId": "acb541de-a60a-407f-b4e8-3b31b82475cb"
   },
   "outputs": [
    {
     "name": "stdout",
     "output_type": "stream",
     "text": [
      "Количество пропущенных значений\n"
     ]
    },
    {
     "data": {
      "text/plain": [
       "Type                   0\n",
       "PaperlessBilling       0\n",
       "PaymentMethod          0\n",
       "MonthlyCharges         0\n",
       "target                 0\n",
       "prolongation           0\n",
       "duration               0\n",
       "gender                 0\n",
       "SeniorCitizen          0\n",
       "Partner                0\n",
       "Dependents             0\n",
       "InternetService     1358\n",
       "OnlineSecurity      1358\n",
       "OnlineBackup        1358\n",
       "DeviceProtection    1358\n",
       "TechSupport         1358\n",
       "StreamingTV         1358\n",
       "StreamingMovies     1358\n",
       "MultipleLines        651\n",
       "dtype: int64"
      ]
     },
     "execution_count": 26,
     "metadata": {},
     "output_type": "execute_result"
    }
   ],
   "source": [
    "clients = contract.merge(personal, how='left')\n",
    "clients = clients.merge(internet, how='left')\n",
    "clients = clients.merge(phone, how='left')\n",
    "clients.drop(labels=['BeginDate', 'EndDate', 'TotalCharges', 'customerID'], axis=1, inplace=True)\n",
    "print('Количество пропущенных значений')\n",
    "clients.isna().sum()"
   ]
  },
  {
   "cell_type": "markdown",
   "metadata": {
    "id": "MEU2xadqbZGW"
   },
   "source": [
    "Т.к. интернетом пользуются 78% клиентов, а телефонией - 90%, при объедении таблиц в колонках с подключенными услугами возникли пропуски - заполним их значениями \"No\", чтобы сохранить бинарность признака (там, где это возможно). Для того, чтобы сохранить информацию об фактах подключения абонентов к интернету и телефонной линии, введем 2 новых признака **internet_usage**  и **phone_usage**."
   ]
  },
  {
   "cell_type": "code",
   "execution_count": 27,
   "metadata": {
    "id": "K0oX6jSzfzqd"
   },
   "outputs": [],
   "source": [
    "# там, где есть пропуски в колонках MultipleLines и InternetService, запишем 0 в колонки phone_usage и internet_usage\n",
    "clients.loc[clients['MultipleLines'].isna(), 'phone_usage'] = 0.\n",
    "clients.loc[clients['InternetService'].isna(), 'internet_usage'] = 0.\n",
    "# там, где пропусков нет - запишем 1\n",
    "clients.loc[~(clients['MultipleLines'].isna()), 'phone_usage'] = 1.\n",
    "clients.loc[~(clients['InternetService'].isna()), 'internet_usage'] = 1."
   ]
  },
  {
   "cell_type": "code",
   "execution_count": 28,
   "metadata": {
    "id": "hqmvJ3qIhaqg"
   },
   "outputs": [],
   "source": [
    "# заполним пропуски в колонках из списка labels заглушками No\n",
    "labels = ['InternetService', 'OnlineSecurity', 'OnlineBackup', 'DeviceProtection', 'TechSupport', 'StreamingTV', 'StreamingMovies', 'MultipleLines']\n",
    "for label in labels:\n",
    "    clients[label].fillna('No', inplace=True)  "
   ]
  },
  {
   "cell_type": "markdown",
   "metadata": {
    "id": "_enqa-9lYPpt"
   },
   "source": [
    "### Выводы по разделу <a name=\"subparagraph3.4\"></a>\n",
    "\n",
    "Задача данного исследовательского анализа выполнена выполенена - мы изучили данные, определили, какие из них должны быть переданы в модель, и изъяли полезную информацию из тех данных, которые не могут быть использованы напрямую. В результате мы получили обезличенную таблицу **clients**, которая содержит 6802 объектов с 21 признаком.\n",
    "\n",
    "***\n",
    "\n",
    "[Вернуться к содержанию](#contents)"
   ]
  },
  {
   "cell_type": "markdown",
   "metadata": {
    "id": "1MBWLNFZaQxl"
   },
   "source": [
    "## Подготовка данных <a name=\"paragraph4\"></a>"
   ]
  },
  {
   "cell_type": "markdown",
   "metadata": {
    "id": "8Gin50GynPh0"
   },
   "source": [
    "### Подготовка выборок <a name=\"subparagraph4.1\"></a>\n",
    "Разделим данные на обучающую и тестовую выборку. Для теста отберем 20% данных."
   ]
  },
  {
   "cell_type": "code",
   "execution_count": 29,
   "metadata": {
    "id": "83t9zw_lneHX"
   },
   "outputs": [],
   "source": [
    "target = clients['target']\n",
    "features = clients.drop(['target'] , axis=1)\n",
    "\n",
    "features_train, features_test, target_train, target_test = train_test_split(\n",
    "    features, target, test_size=0.2, random_state=250722)"
   ]
  },
  {
   "cell_type": "markdown",
   "metadata": {
    "id": "5BgYtZiaTLDr"
   },
   "source": [
    "### Кодирование признаков  <a name=\"subparagraph4.2\"></a>\n",
    "\n",
    "Для кодирования номинальных признаков при сравнительно малом разнообразии значений используем **One-Hot Encoding**. Простой и понятный метод, не создающий ложных зависимостей между закодированными значениями признаков. Применим этот метод к колонкам категориальным колонкам, данные к которых имеют тип `object`."
   ]
  },
  {
   "cell_type": "code",
   "execution_count": 30,
   "metadata": {
    "id": "Ypb_1Z5xxMBd"
   },
   "outputs": [],
   "source": [
    "# закодируем признаки обучающей и тестовой выборки\n",
    "features_train = pd.get_dummies(features_train, drop_first=True)\n",
    "features_test = pd.get_dummies(features_test, drop_first=True)"
   ]
  },
  {
   "cell_type": "code",
   "execution_count": 31,
   "metadata": {
    "colab": {
     "base_uri": "https://localhost:8080/"
    },
    "id": "K7zAfSGZTnim",
    "outputId": "0417d2d1-c383-4f9f-9e0b-66237009a3fc"
   },
   "outputs": [
    {
     "name": "stdout",
     "output_type": "stream",
     "text": [
      "Размерность пространства признаков после кодировки: 24\n"
     ]
    }
   ],
   "source": [
    "print('Размерность пространства признаков после кодировки:', features_train.shape[1])"
   ]
  },
  {
   "cell_type": "code",
   "execution_count": 32,
   "metadata": {
    "colab": {
     "base_uri": "https://localhost:8080/"
    },
    "id": "-fg3V1RCS9dX",
    "outputId": "559537ea-19d7-481e-dc02-64be54048dc4"
   },
   "outputs": [
    {
     "name": "stdout",
     "output_type": "stream",
     "text": [
      "<class 'pandas.core.frame.DataFrame'>\n",
      "Int64Index: 5441 entries, 6030 to 1653\n",
      "Data columns (total 24 columns):\n",
      " #   Column                                 Non-Null Count  Dtype  \n",
      "---  ------                                 --------------  -----  \n",
      " 0   MonthlyCharges                         5441 non-null   float64\n",
      " 1   prolongation                           5441 non-null   int16  \n",
      " 2   duration                               5441 non-null   int16  \n",
      " 3   SeniorCitizen                          5441 non-null   int64  \n",
      " 4   phone_usage                            5441 non-null   float64\n",
      " 5   internet_usage                         5441 non-null   float64\n",
      " 6   Type_One year                          5441 non-null   uint8  \n",
      " 7   Type_Two year                          5441 non-null   uint8  \n",
      " 8   PaperlessBilling_Yes                   5441 non-null   uint8  \n",
      " 9   PaymentMethod_Credit card (automatic)  5441 non-null   uint8  \n",
      " 10  PaymentMethod_Electronic check         5441 non-null   uint8  \n",
      " 11  PaymentMethod_Mailed check             5441 non-null   uint8  \n",
      " 12  gender_Male                            5441 non-null   uint8  \n",
      " 13  Partner_Yes                            5441 non-null   uint8  \n",
      " 14  Dependents_Yes                         5441 non-null   uint8  \n",
      " 15  InternetService_Fiber optic            5441 non-null   uint8  \n",
      " 16  InternetService_No                     5441 non-null   uint8  \n",
      " 17  OnlineSecurity_Yes                     5441 non-null   uint8  \n",
      " 18  OnlineBackup_Yes                       5441 non-null   uint8  \n",
      " 19  DeviceProtection_Yes                   5441 non-null   uint8  \n",
      " 20  TechSupport_Yes                        5441 non-null   uint8  \n",
      " 21  StreamingTV_Yes                        5441 non-null   uint8  \n",
      " 22  StreamingMovies_Yes                    5441 non-null   uint8  \n",
      " 23  MultipleLines_Yes                      5441 non-null   uint8  \n",
      "dtypes: float64(3), int16(2), int64(1), uint8(18)\n",
      "memory usage: 329.4 KB\n"
     ]
    }
   ],
   "source": [
    "features_train.info()"
   ]
  },
  {
   "cell_type": "markdown",
   "metadata": {
    "id": "RqAlqneuz5tK"
   },
   "source": [
    "Признаки объектов закодированы - переходим к обучению моделей.\n",
    "\n",
    "***\n",
    "\n",
    "[Вернуться к содержанию](#contents)"
   ]
  },
  {
   "cell_type": "markdown",
   "metadata": {
    "id": "s5npem9MZ7UF"
   },
   "source": [
    "## Построение модели  <a name=\"paragraph5\"></a>\n",
    "Обучим и сравним качество трех моделей - логистрической регрессии, случайного леса и модели, работающую по алгоритму градиентного бустинга. Наша метрика качества AUС-ROC позволяет обойтись без наивной модели - наша модель будет адекватной, если значение метрики будет больше 0.5. \n",
    "\n",
    "Представим себя на месте закачика и порассуждаем об экономической целесообразности применении модели. Нам известно, что расходы на возвращение ушедшего клиента (или привлечение нового) обходится компании значительно дороже, чем удержание \"сомневающегося\", - цена ошибка второго рода модели (ложноотрицательный результат) по сравнению с ошибкой первого рода (ложное срабатывание) выше. Чтобы оценить эффективность модели с этой стороны, расчитаем метрики **полноты (recall)** и **точности (precision)** предсказаний.\n",
    "\n",
    "В нашем случае **полнота** - это вероятность того, что модель отметит клиента ушедшим, при условии, что он действительно расторг договор. А **точность** - это вероятность того, что клиент действительно расторг договор, при условии, что модель отметила клиента ушедшим.\n",
    "\n",
    "Оценив результаты, мы решим использование какой модели съэкономит компании больше денег."
   ]
  },
  {
   "cell_type": "code",
   "execution_count": 33,
   "metadata": {
    "id": "87FLwI6S6QNF"
   },
   "outputs": [],
   "source": [
    "# зададим список расчитываемых метрик\n",
    "scoring_list = ['roc_auc', 'recall', 'precision']"
   ]
  },
  {
   "cell_type": "code",
   "execution_count": 34,
   "metadata": {
    "id": "ZOf6Hp6V1xIZ"
   },
   "outputs": [],
   "source": [
    "# время обучения/предсказания моделей будет расчитывать функция timer\n",
    "def timer(start, stop):\n",
    "    time = stop - start\n",
    "    m, s = divmod(time, 60)\n",
    "    h, m = divmod(m, 60)\n",
    "    s,m,h = int(round(s, 0)), int(round(m, 0)), int(round(h, 0))\n",
    "    return '{0:02d}:{1:02d}:{2:02d}'.format(h, m, s)"
   ]
  },
  {
   "cell_type": "code",
   "execution_count": 35,
   "metadata": {
    "id": "7ZPdJE1l5UnI"
   },
   "outputs": [],
   "source": [
    "# соберем сравнительную таблицу results, в которую будем записывать характеристики моделей\n",
    "\n",
    "results = pd.DataFrame({'algorithm' : ['логистическая регрессия', 'случайный лес', 'градиентный бустинг'],\n",
    "                      'training_time' : [0, 0, 0],\n",
    "                      'settings' : ['', '', ''],\n",
    "                      'validation_AUC-ROC' : [0, 0, 0],\n",
    "                      'validation_recall' : [0, 0, 0],\n",
    "                      'validation_precision' : [0, 0, 0]})"
   ]
  },
  {
   "cell_type": "markdown",
   "metadata": {
    "id": "qjLSEuwk1mK5"
   },
   "source": [
    "### Обучение и сравнение моделей  <a name=\"subparagraph5.1\"></a>\n",
    "Обучим модели, применяя кросс-валидацию, выберем оптимальные гиперпараметры и сравним результаты. C дисбалансом классов будем бороться методом Upsampling with SMOTE, реализованной в библиотеке **imblanced-learn**.\n",
    "\n",
    "Простое копирование объектов редкого класса может привести к переобучению модели. Метод SMOTE (~ синтетический метод перевыборки меньшинства) позволяет добавить в данные искусственные объекты, которые не являются точной копией существующих экземпляров редкого класса, но очень похожи на них."
   ]
  },
  {
   "cell_type": "code",
   "execution_count": 36,
   "metadata": {
    "id": "SthDfC-FH-nN"
   },
   "outputs": [],
   "source": [
    "# инициируем SMOTE-преобразователь и ресемплируем признаки обучающей выборки\n",
    "upsampler = SMOTE(random_state=250722)\n",
    "features_train_up, target_train_up = upsampler.fit_resample(features_train, target_train)"
   ]
  },
  {
   "cell_type": "code",
   "execution_count": 37,
   "metadata": {
    "colab": {
     "base_uri": "https://localhost:8080/"
    },
    "id": "hbsQ1uyvKIrD",
    "outputId": "6d8f5358-4f0e-461f-91d6-49f9398041a9"
   },
   "outputs": [
    {
     "name": "stdout",
     "output_type": "stream",
     "text": [
      "Баланс классов в ресемплированных данных:\n",
      "\n"
     ]
    },
    {
     "data": {
      "text/plain": [
       "0    0.5\n",
       "1    0.5\n",
       "Name: target, dtype: float64"
      ]
     },
     "execution_count": 37,
     "metadata": {},
     "output_type": "execute_result"
    }
   ],
   "source": [
    "print('Баланс классов в ресемплированных данных:\\n')\n",
    "target_train_up.value_counts(normalize=1)"
   ]
  },
  {
   "cell_type": "markdown",
   "metadata": {
    "id": "loZ1ynAFKjWM"
   },
   "source": [
    "Обучающая выборка сбалансированна по классам объектов - переходим к обучению моделей."
   ]
  },
  {
   "cell_type": "code",
   "execution_count": 38,
   "metadata": {
    "colab": {
     "base_uri": "https://localhost:8080/"
    },
    "id": "J9rwVQL-yHjf",
    "outputId": "b71cbaec-0ab9-48d4-c59e-1b6229da7c9f"
   },
   "outputs": [
    {
     "name": "stdout",
     "output_type": "stream",
     "text": [
      "Алгоритм логистической регрессии. Кросс-валидация.\n",
      "Среднее значение метрики AUC-ROC = 0.903\n"
     ]
    }
   ],
   "source": [
    "# инициируем модель\n",
    "lr = LogisticRegression(random_state=250722, solver='liblinear')\n",
    "# значения полученных методом кросс-валидации метрик запишем в lr_scores\n",
    "lr_scores = cross_validate(lr, features_train_up, target_train_up, scoring=scoring_list, cv=5, n_jobs=-1, return_estimator=True)\n",
    "print('Алгоритм логистической регрессии. Кросс-валидация.\\nСреднее значение метрики AUC-ROC = {:.3f}'.format(lr_scores['test_roc_auc'].mean()))\n",
    "\n",
    "# измеряем время обучения и фиксируем его в таблице\n",
    "start = time.time() \n",
    "lr.fit(features_train_up, target_train_up)\n",
    "stop = time.time() \n",
    "\n",
    "results.loc[0,'training_time'] = timer(start, stop)\n",
    "results.loc[0,'validation_AUC-ROC'] = lr_scores['test_roc_auc'].mean()\n",
    "results.loc[0,'validation_recall'] = lr_scores['test_recall'].mean()\n",
    "results.loc[0,'validation_precision'] = lr_scores['test_precision'].mean()\n",
    "results.loc[0,'settings'] = lr"
   ]
  },
  {
   "cell_type": "code",
   "execution_count": 39,
   "metadata": {
    "colab": {
     "base_uri": "https://localhost:8080/"
    },
    "id": "-W7rcXEj1xBO",
    "outputId": "698b449b-f86f-4d09-e22f-842ade026592"
   },
   "outputs": [
    {
     "name": "stdout",
     "output_type": "stream",
     "text": [
      "Алгоритм случайного леса. Метод RandomizedSearchCV.\n",
      "Лучшее значение метрики ROC_AUC = 0.929\n",
      "Глубина дерева: 35\n",
      "Количество деревьев: 250\n",
      "CPU times: total: 7.48 s\n",
      "Wall time: 1min 34s\n"
     ]
    }
   ],
   "source": [
    "%%time\n",
    "# установим диапазон перебора гиперпараметров\n",
    "parametrs = {'n_estimators': range(25, 251, 25), 'max_depth': range(5, 51, 5)}\n",
    "# инициируем модель\n",
    "rf = RandomizedSearchCV(\n",
    "    RandomForestClassifier(random_state=250722, max_features='sqrt'), param_distributions=parametrs,\n",
    "    scoring=scoring_list, n_iter=30, cv=5, n_jobs=-1, refit='roc_auc')\n",
    "\n",
    "# выбираем гиперпараметры\n",
    "rf.fit(features_train_up, target_train_up)\n",
    "\n",
    "print(f'Алгоритм случайного леса. Метод RandomizedSearchCV.\\nЛучшее значение метрики ROC_AUC = {rf.best_score_:.3f}')\n",
    "print('Глубина дерева:', rf.best_params_.get('max_depth'))\n",
    "print('Количество деревьев:', rf.best_params_.get('n_estimators'))\n",
    "\n",
    "# измеряем время обучения лучшей модели\n",
    "start = time.time() \n",
    "rf.best_estimator_.fit(features_train_up, target_train_up)\n",
    "stop = time.time()\n",
    "# записываем в сравнительную таблицу время обучение и параметры модели\n",
    "results.loc[1,'training_time'] = timer(start, stop)\n",
    "results.loc[1,'settings'] = str(rf.best_params_)\n",
    "results.loc[1,'validation_AUC-ROC'] = rf.cv_results_['mean_test_roc_auc'].max()\n",
    "results.loc[1,'validation_recall'] = rf.cv_results_['mean_test_recall'].max()\n",
    "results.loc[1,'validation_precision'] = rf.cv_results_['mean_test_precision'].max()\n",
    "results.loc[1,'validation_AUC-ROC'] = rf.cv_results_['mean_test_roc_auc'].max()"
   ]
  },
  {
   "cell_type": "code",
   "execution_count": 40,
   "metadata": {
    "colab": {
     "base_uri": "https://localhost:8080/"
    },
    "id": "yXX4_MCh1w-O",
    "outputId": "b6d95ed1-e2c9-41d3-91e9-2160f478899d"
   },
   "outputs": [
    {
     "name": "stdout",
     "output_type": "stream",
     "text": [
      "Градиентный бустинг. Метод RandomizedSearchCV.\n",
      "Лучшее значение метрики AUC-ROC = 0.957\n",
      "Количество моделей в ансамбле: 200\n",
      "Размер подвыборки: 0.7\n",
      "Максимальная глубина дерева: 25\n",
      "Скорость обучения: 0.3\n",
      "CPU times: total: 3.11 s\n",
      "Wall time: 24.5 s\n"
     ]
    }
   ],
   "source": [
    "%%time\n",
    "# установим диапазон перебора гиперпараметров\n",
    "parametrs = {'learning_rate': [0.1, 0.2, 0.3],\n",
    "             'max_depth': [2, 10, 25],\n",
    "             'n_estimators': [100, 200, 300],\n",
    "             'colsample_bytree': [0.7, 0.8, 1],}\n",
    " \n",
    "# инициируем модель\n",
    "booster = RandomizedSearchCV(\n",
    "    lgb.LGBMClassifier(random_state=250722), param_distributions=parametrs,\n",
    "    scoring=scoring_list, n_iter=30, cv=5, n_jobs=-1, refit='roc_auc')\n",
    " \n",
    "# выбираем гиперпараметры\n",
    "booster.fit(features_train_up, target_train_up)\n",
    " \n",
    "# вычисляем параметры\n",
    "print(f'Градиентный бустинг. Метод RandomizedSearchCV.\\nЛучшее значение метрики AUC-ROC = {booster.best_score_:.3f}')\n",
    "print('Количество моделей в ансамбле:', booster.best_params_.get('n_estimators'))\n",
    "print('Размер подвыборки:', booster.best_params_.get('colsample_bytree'))\n",
    "print('Максимальная глубина дерева:', booster.best_params_.get('max_depth'))\n",
    "print('Скорость обучения:', booster.best_params_.get('learning_rate'))\n",
    "\n",
    "# измеряем время обучения лучшей модели\n",
    "start = time.time() \n",
    "booster.best_estimator_.fit(features_train_up, target_train_up)\n",
    "stop = time.time()\n",
    "# записываем в сравнительную таблицу время обучение и параметры модели\n",
    "results.loc[2,'training_time'] = timer(start, stop)\n",
    "results.loc[2,'settings'] = str(booster.best_params_)\n",
    "results.loc[2,'validation_AUC-ROC'] = booster.cv_results_['mean_test_roc_auc'].max()\n",
    "results.loc[2,'validation_recall'] = booster.cv_results_['mean_test_recall'].max()\n",
    "results.loc[2,'validation_precision'] = booster.cv_results_['mean_test_precision'].max()\n",
    "results.loc[2,'validation_AUC-ROC'] = booster.cv_results_['mean_test_roc_auc'].max()"
   ]
  },
  {
   "cell_type": "code",
   "execution_count": 41,
   "metadata": {
    "colab": {
     "base_uri": "https://localhost:8080/",
     "height": 143
    },
    "id": "KPxamWX8q8i3",
    "outputId": "c164888b-1b0c-4a15-dc81-c7b40ba9f747"
   },
   "outputs": [
    {
     "data": {
      "text/html": [
       "<div>\n",
       "<style scoped>\n",
       "    .dataframe tbody tr th:only-of-type {\n",
       "        vertical-align: middle;\n",
       "    }\n",
       "\n",
       "    .dataframe tbody tr th {\n",
       "        vertical-align: top;\n",
       "    }\n",
       "\n",
       "    .dataframe thead th {\n",
       "        text-align: right;\n",
       "    }\n",
       "</style>\n",
       "<table border=\"1\" class=\"dataframe\">\n",
       "  <thead>\n",
       "    <tr style=\"text-align: right;\">\n",
       "      <th></th>\n",
       "      <th>algorithm</th>\n",
       "      <th>training_time</th>\n",
       "      <th>settings</th>\n",
       "      <th>validation_AUC-ROC</th>\n",
       "      <th>validation_recall</th>\n",
       "      <th>validation_precision</th>\n",
       "    </tr>\n",
       "  </thead>\n",
       "  <tbody>\n",
       "    <tr>\n",
       "      <th>0</th>\n",
       "      <td>логистическая регрессия</td>\n",
       "      <td>00:00:00</td>\n",
       "      <td>LogisticRegression(random_state=250722, solver...</td>\n",
       "      <td>0.903095</td>\n",
       "      <td>0.811094</td>\n",
       "      <td>0.808973</td>\n",
       "    </tr>\n",
       "    <tr>\n",
       "      <th>1</th>\n",
       "      <td>случайный лес</td>\n",
       "      <td>00:00:03</td>\n",
       "      <td>{'n_estimators': 250, 'max_depth': 35}</td>\n",
       "      <td>0.929102</td>\n",
       "      <td>0.850862</td>\n",
       "      <td>0.843911</td>\n",
       "    </tr>\n",
       "    <tr>\n",
       "      <th>2</th>\n",
       "      <td>градиентный бустинг</td>\n",
       "      <td>00:00:01</td>\n",
       "      <td>{'n_estimators': 200, 'max_depth': 25, 'learni...</td>\n",
       "      <td>0.956662</td>\n",
       "      <td>0.869612</td>\n",
       "      <td>0.899879</td>\n",
       "    </tr>\n",
       "  </tbody>\n",
       "</table>\n",
       "</div>"
      ],
      "text/plain": [
       "                 algorithm training_time  \\\n",
       "0  логистическая регрессия      00:00:00   \n",
       "1            случайный лес      00:00:03   \n",
       "2      градиентный бустинг      00:00:01   \n",
       "\n",
       "                                            settings  validation_AUC-ROC  \\\n",
       "0  LogisticRegression(random_state=250722, solver...            0.903095   \n",
       "1             {'n_estimators': 250, 'max_depth': 35}            0.929102   \n",
       "2  {'n_estimators': 200, 'max_depth': 25, 'learni...            0.956662   \n",
       "\n",
       "   validation_recall  validation_precision  \n",
       "0           0.811094              0.808973  \n",
       "1           0.850862              0.843911  \n",
       "2           0.869612              0.899879  "
      ]
     },
     "execution_count": 41,
     "metadata": {},
     "output_type": "execute_result"
    }
   ],
   "source": [
    "results"
   ]
  },
  {
   "cell_type": "markdown",
   "metadata": {},
   "source": [
    "\n",
    "***\n",
    "\n",
    "[Вернуться к содержанию](#contents)"
   ]
  },
  {
   "cell_type": "markdown",
   "metadata": {
    "id": "ZVaz48kIGTN4"
   },
   "source": [
    "### Улучшение модели-лидера  <a name=\"subparagraph5.2\"></a>\n",
    "Модель градиентного бустинга показала более высокие значения трех метрик на валидационной выборке. Попробуем улучшить эту модель с помощью оценки значимости признаков и мультиколлинеарности."
   ]
  },
  {
   "cell_type": "markdown",
   "metadata": {
    "id": "Aezz3YydM2O4"
   },
   "source": [
    "Мультиколлинеарность — корреляция независимых признаков, которая затрудняет оценку и анализ общего результата работы модели. Оценивать корреляцию количественных признаков будем с помощью расчета фактора инфляции дисперсии (Variance inflation factor), категориальных - $\\phi_k$."
   ]
  },
  {
   "cell_type": "markdown",
   "metadata": {
    "id": "QM4viBCXWfjg"
   },
   "source": [
    "Расчитаем значения фактора инфляции дисперсии для количественных признаков обучающей выборки."
   ]
  },
  {
   "cell_type": "code",
   "execution_count": 42,
   "metadata": {
    "colab": {
     "base_uri": "https://localhost:8080/"
    },
    "id": "z4u9-cprShrH",
    "outputId": "68492239-3a48-41b1-8d3b-4276f3aeca02"
   },
   "outputs": [
    {
     "name": "stdout",
     "output_type": "stream",
     "text": [
      "Мера мультиколлинеарности количественных признаков\n",
      "\n"
     ]
    },
    {
     "data": {
      "text/plain": [
       "MonthlyCharges    1.094781\n",
       "prolongation      1.111557\n",
       "duration          1.080897\n",
       "dtype: float64"
      ]
     },
     "execution_count": 42,
     "metadata": {},
     "output_type": "execute_result"
    }
   ],
   "source": [
    "print('Мера мультиколлинеарности количественных признаков\\n')\n",
    "# количественные признаки запишем в список numeric\n",
    "numeric = ['MonthlyCharges', 'prolongation', 'duration']\n",
    "vif_data = add_constant(features_train_up[numeric])\n",
    "pd.Series([vif(vif_data.values, i) for i in range(vif_data.shape[1])], index=vif_data.columns).drop(['const'])"
   ]
  },
  {
   "cell_type": "markdown",
   "metadata": {
    "id": "6bttjZsgbGPF"
   },
   "source": [
    "Значения VIF указывют на, то что мультиколлинеарности среди количественных признаков нет. Удостоверимся в этом, оценим коэффициенты корреляции Пирсона."
   ]
  },
  {
   "cell_type": "code",
   "execution_count": 43,
   "metadata": {
    "colab": {
     "base_uri": "https://localhost:8080/",
     "height": 143
    },
    "id": "B7d02hjkaydg",
    "outputId": "970626c6-6d00-41c9-f6d0-29664d1a0ab5"
   },
   "outputs": [
    {
     "data": {
      "text/html": [
       "<div>\n",
       "<style scoped>\n",
       "    .dataframe tbody tr th:only-of-type {\n",
       "        vertical-align: middle;\n",
       "    }\n",
       "\n",
       "    .dataframe tbody tr th {\n",
       "        vertical-align: top;\n",
       "    }\n",
       "\n",
       "    .dataframe thead th {\n",
       "        text-align: right;\n",
       "    }\n",
       "</style>\n",
       "<table border=\"1\" class=\"dataframe\">\n",
       "  <thead>\n",
       "    <tr style=\"text-align: right;\">\n",
       "      <th></th>\n",
       "      <th>MonthlyCharges</th>\n",
       "      <th>prolongation</th>\n",
       "      <th>duration</th>\n",
       "    </tr>\n",
       "  </thead>\n",
       "  <tbody>\n",
       "    <tr>\n",
       "      <th>MonthlyCharges</th>\n",
       "      <td>1.000000</td>\n",
       "      <td>0.257079</td>\n",
       "      <td>0.198995</td>\n",
       "    </tr>\n",
       "    <tr>\n",
       "      <th>prolongation</th>\n",
       "      <td>0.257079</td>\n",
       "      <td>1.000000</td>\n",
       "      <td>0.232580</td>\n",
       "    </tr>\n",
       "    <tr>\n",
       "      <th>duration</th>\n",
       "      <td>0.198995</td>\n",
       "      <td>0.232580</td>\n",
       "      <td>1.000000</td>\n",
       "    </tr>\n",
       "  </tbody>\n",
       "</table>\n",
       "</div>"
      ],
      "text/plain": [
       "                MonthlyCharges  prolongation  duration\n",
       "MonthlyCharges        1.000000      0.257079  0.198995\n",
       "prolongation          0.257079      1.000000  0.232580\n",
       "duration              0.198995      0.232580  1.000000"
      ]
     },
     "execution_count": 43,
     "metadata": {},
     "output_type": "execute_result"
    }
   ],
   "source": [
    "features_train_up[numeric].corr()"
   ]
  },
  {
   "cell_type": "markdown",
   "metadata": {
    "id": "K3WRxnfObrHI"
   },
   "source": [
    "Все значения меньше 0.5 - будем считать, что корреляции внутри количественных признаков нет."
   ]
  },
  {
   "cell_type": "markdown",
   "metadata": {
    "id": "5vvFvjwIu8hC"
   },
   "source": [
    "Средствами библиотеки **phik** вычислим глобальный коэффициент корреляции $g_k$ - это мера общей корреляции одного признака со всеми другими признаками в наборе данных. $g_k$ дает представление о том, насколько хорошо один из признаков может быть может быть смоделирован через другие признакми."
   ]
  },
  {
   "cell_type": "code",
   "execution_count": 44,
   "metadata": {},
   "outputs": [],
   "source": [
    "# объявим функцию для вычисления глобальный коэффициент корреляции и построения тепловой карты\n",
    "def gk (features, drop_list=[]):\n",
    "    global_correlation, global_labels = features.drop(drop_list, axis=1).global_phik(verbose=False)\n",
    "    plot_correlation_matrix(global_correlation, x_labels=[''], y_labels=global_labels, \n",
    "                        vmin=0, vmax=1, figsize=(4, 8),\n",
    "                        color_map='Blues', title='$g_k$',\n",
    "                        fontsize_factor=1)\n",
    "    return plt.tight_layout()"
   ]
  },
  {
   "cell_type": "code",
   "execution_count": 45,
   "metadata": {
    "colab": {
     "base_uri": "https://localhost:8080/",
     "height": 803
    },
    "id": "C4aMV4GS6kSA",
    "outputId": "1ee3f13a-1c01-489e-8bf8-1694053d584f",
    "scrolled": false
   },
   "outputs": [
    {
     "data": {
      "image/png": "[encoded data removed]",
      "text/plain": [
       "<Figure size 400x800 with 2 Axes>"
      ]
     },
     "metadata": {},
     "output_type": "display_data"
    }
   ],
   "source": [
    "gk(features_train_up)"
   ]
  },
  {
   "cell_type": "markdown",
   "metadata": {
    "id": "bMl-CRvn6_Xy"
   },
   "source": [
    "Попробуем исключить признаки: InternetService_No, MonthlyCharges, и phone_usage."
   ]
  },
  {
   "cell_type": "code",
   "execution_count": 46,
   "metadata": {
    "colab": {
     "base_uri": "https://localhost:8080/",
     "height": 803
    },
    "id": "t_D_twto06R1",
    "outputId": "1134a03f-7bd3-4c5c-fe22-68c1242a5522",
    "scrolled": false
   },
   "outputs": [
    {
     "data": {
      "image/png": "[encoded data removed]",
      "text/plain": [
       "<Figure size 400x800 with 2 Axes>"
      ]
     },
     "metadata": {},
     "output_type": "display_data"
    }
   ],
   "source": [
    "drop_list = ['InternetService_No', 'MonthlyCharges', 'phone_usage']\n",
    "gk(features_train_up, drop_list)"
   ]
  },
  {
   "cell_type": "markdown",
   "metadata": {
    "id": "smRG9__LZ_ve"
   },
   "source": [
    "График выглядит иначе - переобучим модель градиентного бустинга, исключив лишние признаки, и оценим метрики."
   ]
  },
  {
   "cell_type": "code",
   "execution_count": 47,
   "metadata": {
    "colab": {
     "base_uri": "https://localhost:8080/"
    },
    "id": "kVVq9AECaUsY",
    "outputId": "12145f6b-35a6-47e7-83cc-d2e5571073b8"
   },
   "outputs": [
    {
     "name": "stdout",
     "output_type": "stream",
     "text": [
      "Модель обновлена.\n"
     ]
    }
   ],
   "source": [
    "# переобучаем модель, исключив коррелирующие признаки\n",
    "booster.fit(features_train_up.drop(drop_list, axis=1), target_train_up)\n",
    "print('Модель обновлена.')"
   ]
  },
  {
   "cell_type": "code",
   "execution_count": 48,
   "metadata": {
    "colab": {
     "base_uri": "https://localhost:8080/"
    },
    "id": "YjTNz8lXjaCT",
    "outputId": "8d22f2c7-4a44-4881-b27c-6599e5fa5c01"
   },
   "outputs": [
    {
     "name": "stdout",
     "output_type": "stream",
     "text": [
      "Улучшение модели градиентного бустинга - оценка корреляции признаков.\n",
      "\n",
      "Изменение метрики AUC_ROC: 0.007\n",
      "Изменение метрики recall: 0.015\n",
      "Изменение метрики precision: 0.009\n"
     ]
    }
   ],
   "source": [
    "print('Улучшение модели градиентного бустинга - оценка корреляции признаков.\\n')\n",
    "gk_AUC_ROC = booster.best_score_\n",
    "gk_recall = booster.cv_results_['mean_test_recall'].max()\n",
    "gk_precision = booster.cv_results_['mean_test_precision'].max()\n",
    "print('Изменение метрики AUC_ROC:', (gk_AUC_ROC - results.loc[2,'validation_AUC-ROC']).round(3))\n",
    "print('Изменение метрики recall:', (gk_recall  - results.loc[2,'validation_recall']).round(3))\n",
    "print('Изменение метрики precision:', (gk_precision - results.loc[2,'validation_precision']).round(3))"
   ]
  },
  {
   "cell_type": "markdown",
   "metadata": {
    "id": "CNe-V6lcdHem"
   },
   "source": [
    "После исключение коррелирующих признаков все метрики на валидационной выборке выросли. Продолжим настройку модели градиентного бустинга - оценим значимость оставщихся признаков. "
   ]
  },
  {
   "cell_type": "code",
   "execution_count": 49,
   "metadata": {
    "id": "5QiuquFC8UOW"
   },
   "outputs": [],
   "source": [
    "def chart_feature_imp(model):\n",
    "    feature_imp = pd.Series(model.feature_importances_, index=features_train_up.drop(drop_list, axis=1).columns).sort_values(ascending=False)\n",
    "    plt.subplots(figsize=(8, 4))\n",
    "    ax = sns.barplot(x=feature_imp, y=feature_imp.index, palette='Blues_r')\n",
    "    _ = ax.set(xlabel='Оценка значимости признаков', ylabel='')\n",
    "    _ = ax.set_title(str(model) + '\\n')"
   ]
  },
  {
   "cell_type": "code",
   "execution_count": 50,
   "metadata": {
    "colab": {
     "base_uri": "https://localhost:8080/",
     "height": 434
    },
    "id": "Njf_GJfS8dpq",
    "outputId": "70376ea4-1667-48b9-9633-587aeb8a6750"
   },
   "outputs": [
    {
     "data": {
      "image/png": "[encoded data removed]",
      "text/plain": [
       "<Figure size 800x400 with 1 Axes>"
      ]
     },
     "metadata": {},
     "output_type": "display_data"
    }
   ],
   "source": [
    "chart_feature_imp(booster.best_estimator_)"
   ]
  },
  {
   "cell_type": "markdown",
   "metadata": {
    "id": "Uie_wgCMiaO4"
   },
   "source": [
    "Наиболее значимы для модели синтетические признаки: prolongation, duration. \n",
    "Наименее значимы признаки: Type_One year, Type_two year - удалим их и пересчитаем метрику."
   ]
  },
  {
   "cell_type": "code",
   "execution_count": 51,
   "metadata": {
    "colab": {
     "base_uri": "https://localhost:8080/"
    },
    "id": "6wNQdshWlW1H",
    "outputId": "475d2a82-1ffe-4a47-e363-89317405cc44"
   },
   "outputs": [
    {
     "name": "stdout",
     "output_type": "stream",
     "text": [
      "Модель обновлена.\n"
     ]
    }
   ],
   "source": [
    "# обновим списко исключаемых признаков\n",
    "drop_list.extend(['Type_One year', 'Type_Two year'])\n",
    "# переобучаем модель, исключив малозначимые признаки\n",
    "booster.fit(features_train_up.drop(drop_list, axis=1), target_train_up)\n",
    "print('Модель обновлена.')"
   ]
  },
  {
   "cell_type": "code",
   "execution_count": 52,
   "metadata": {
    "colab": {
     "base_uri": "https://localhost:8080/"
    },
    "id": "XKm7uF9Imu7y",
    "outputId": "80136c9e-9531-4188-85d2-0a59a215df00"
   },
   "outputs": [
    {
     "name": "stdout",
     "output_type": "stream",
     "text": [
      "Улучшение модели градиентного бустинга - оценка значимости признаков.\n",
      "\n",
      "Изменение метрики AUC_ROC: 0.001\n",
      "Изменение метрики recall: -0.001\n",
      "Изменение метрики precision: 0.001\n"
     ]
    }
   ],
   "source": [
    "print('Улучшение модели градиентного бустинга - оценка значимости признаков.\\n')\n",
    "print('Изменение метрики AUC_ROC:', (booster.best_score_ - gk_AUC_ROC).round(3))\n",
    "print('Изменение метрики recall:', (booster.cv_results_['mean_test_recall'].max() - gk_recall).round(3))\n",
    "print('Изменение метрики precision:', (booster.cv_results_['mean_test_precision'].max() - gk_precision).round(3))"
   ]
  },
  {
   "cell_type": "markdown",
   "metadata": {
    "id": "1kXDjFT1rhVX"
   },
   "source": [
    "Похоже, что значения метрик градиентного бустинга на валидационной выборке достигли своего потолка. Переходим к тестированию.\n",
    "\n",
    "***\n",
    "\n",
    "[Вернуться к содержанию](#contents)"
   ]
  },
  {
   "cell_type": "markdown",
   "metadata": {
    "id": "1187UF6O6O-9"
   },
   "source": [
    "### Тестирование модели  <a name=\"subparagraph5.3\"></a>\n",
    "Протестируем улучшенную модель градиентного бустинга и построим матрицу ошибок."
   ]
  },
  {
   "cell_type": "code",
   "execution_count": 53,
   "metadata": {
    "colab": {
     "base_uri": "https://localhost:8080/"
    },
    "id": "hwj10f10nGaq",
    "outputId": "2dc9905f-e8c1-47d9-8055-bd2999994528"
   },
   "outputs": [
    {
     "name": "stdout",
     "output_type": "stream",
     "text": [
      "Тестирование улучшенной модели градиентного бустинга\n",
      "Значение метрики AUC-ROC = 0.934\n",
      "Значение метрики recall = 0.789\n",
      "Значение метрики precision = 0.775\n"
     ]
    }
   ],
   "source": [
    "predictions = booster.best_estimator_.predict(features_test.drop(drop_list, axis=1))\n",
    "probabilities_test = booster.best_estimator_.predict_proba(features_test.drop(drop_list, axis=1))\n",
    "probabilities_one_test = probabilities_test[:, 1]\n",
    "\n",
    "print('Тестирование улучшенной модели градиентного бустинга')\n",
    "print(f'Значение метрики AUC-ROC = {roc_auc_score(target_test, probabilities_one_test):.3f}')\n",
    "print(f'Значение метрики recall = {recall_score(target_test, predictions):.3f}')\n",
    "print(f'Значение метрики precision = {precision_score(target_test, predictions):.3f}')"
   ]
  },
  {
   "cell_type": "code",
   "execution_count": 54,
   "metadata": {
    "colab": {
     "base_uri": "https://localhost:8080/",
     "height": 337
    },
    "id": "-04dqnnSs_60",
    "outputId": "d1339198-eab4-4cfc-f1fd-3b33da043494"
   },
   "outputs": [
    {
     "data": {
      "image/png": "[encoded data removed]",
      "text/plain": [
       "<Figure size 640x480 with 2 Axes>"
      ]
     },
     "metadata": {},
     "output_type": "display_data"
    }
   ],
   "source": [
    "booster_matrix = confusion_matrix(target_test, predictions)\n",
    "# изобразим матрицу ошибок модели градиентного бустинга в процентном представлении\n",
    "ax = sns.heatmap(booster_matrix/np.sum(booster_matrix), annot=True, \n",
    "            fmt='.2%', cmap='Blues')\n",
    "ax.set_title('Матрица ошибок протестированной модели\\n\\n');\n",
    "ax.set_xlabel('\\nПредсказания модели')\n",
    "ax.set_ylabel('Истинные значения\\n');\n",
    "\n",
    "ax.xaxis.set_ticklabels(['False','True'])\n",
    "ax.yaxis.set_ticklabels(['False','True'])\n",
    "\n",
    "plt.show()"
   ]
  },
  {
   "cell_type": "code",
   "execution_count": 55,
   "metadata": {},
   "outputs": [
    {
     "name": "stdout",
     "output_type": "stream",
     "text": [
      "Частота ошибок второго рода: 5.73%\n"
     ]
    }
   ],
   "source": [
    "false_negavite = (booster_matrix/np.sum(booster_matrix))[1,0]\n",
    "print('Частота ошибок второго рода: {:.2%}'.format(false_negavite)) "
   ]
  },
  {
   "cell_type": "markdown",
   "metadata": {},
   "source": [
    "***\n",
    "\n",
    "[Вернуться к содержанию](#contents)"
   ]
  },
  {
   "cell_type": "markdown",
   "metadata": {
    "id": "OBtQcBuRwqSN"
   },
   "source": [
    "## Общий вывод  <a name=\"paragraph6\"></a>\n",
    "\n",
    "Нам удалось простроить модель, прогнозирующую отток клиентов телеком-компании с метрикой качества AUC-ROC выше 0.92. Наиболее значимыми для модели являются синтетические признаки: стаж клиента (в днях) и количество пролонгаций договора.\n",
    "\n",
    "Наша модель допускает \"дорогостоящие\" ошибки второго рода в ~6% случаев. Вероятность того, что модель заметит желание клиента расторнуть договор, при условии, что клиент действительно собирается это сделать, составляет 75,4%. Вероятность того, что клиент действительно расторгнет договор, при условии, что модель сделает такой прогноз, составляет 73,8%.\n",
    "\n",
    "Чтобы оценить экономическую эффективность модели, предположим, что в среднем отток клиентов из компании составляет 1000 клиентов в год, а средняя выручка компании с каждого клиента составлят 1000 денег в год - в сумме 1 000 000 денег. Внедрив нашу модель с полнотой предсказаний 75%, компания сможет предотвратить отток 750 клиентов (750 000 денег). Оставшиеся 250 клиентов (250 000 денег) - это потери компании, которые модель не смогла предотвратить. Точность предсказаний 73% означает, что в 27% компания понесет расходы (промокоды, специальные условия и т.п.) на удержание заведомо лояльных клиентов.\n",
    "\n",
    "Хорошо это или плохо?\n",
    "\n",
    "По сигналу модели об уходящем клиенте компания совершает какие-либо действия. Например, предлагает клиентам специальные, более выгодные условия тарифа. Предположим, что одно такое спецпредложение - это уменьшение выручки компании на 100 денег в год. С учетом точности модели в 73% компании придется направить 750 / 0,73 = 1027 спецпредложений, недополучив при этом 102 700 денег прибыли. Итоговые годовые расходы телеком-компании составят: 250 000 + 102 700 = 352,7 тысяч денег. Но без внедрения модели компания потеряла бы один миллион. \n",
    "\n",
    "Следовательно выгода компании от внедрения и поддержки модели, предсказывающей отток клиентов, составлят 647,3 тысяч денег.\n",
    "\n",
    "***\n",
    "\n",
    "[Вернуться к содержанию](#contents)"
   ]
  },
  {
   "cell_type": "markdown",
   "metadata": {
    "id": "OAuP6THggCfa"
   },
   "source": [
    "# Отчет о результатах работы <a name=\"paragraph7\"></a>\n",
    "\n",
    "+ **Исследование прошло по плану**\n",
    "    - [x] знакомство с данными и предобработка\n",
    "        * календарные признаки с датой открытия и датой расторжения договора были приведены к типу `datetime` для того, чтобы на их основе, учитывая тип контракта (ежемесячный, на год или два) создать расчетные синтетиские признаки стажа клиента в днях и количества пролонгаций договора\n",
    "        * из колонки с датой расторжения договора был сформирован целевой признак: закрыт договор (1) или нет (0)\n",
    "        * были исключены бессодержательные записи о клиентах, заключивших договор с компанией в день выгрузки данных\n",
    "        * было установлено, что большинство признаков бинарные, а значит целесообразно применить для них прямое кодирование - размерность матрицы признаков не будет чрезмерной\n",
    "    - [x] исследовательский анализ\n",
    "        * для того, чтобы узнать все ли клиенты уходят \"потому, что дорого\" исследованы среднемесячные расходы лояльных и ушедших клиентов\n",
    "        * выдвинута и проверена гипотеза о том, что даже сомневающиеся клиенты не уходят, раньше истечения срока действия оплаченного периода или контракта (месяц, год или два года) \n",
    "        * взамен календарных признаков были введены синтетические - стаж клиента и количество пролонгаций доровора с момента регистрации, характеризующие уровень лояльности клиента\n",
    "    - [x] построение модели\n",
    "        * классы обучающей выборки были сбалансированны методом SMOTE\n",
    "        * методом кросс-валидации обучены модели логистической регрессии, случайного леса и градиентного бустинга\n",
    "        * лидирующая по результатам валидации модель LGBMClassifier была улучшена путем отбора признаков по уровню значимости и корреляции между собой\n",
    "    - [x] оценка результатов работы\n",
    "        * для оценка качества предсказаний модели использованы метрики Recall, Precision и AUC-ROC, а также оценка количества дорогостоящих ошибок второго рода\n",
    "        * в общем выводе был оценен экономический эффект внедрения модели\n",
    "\n",
    " При знакомстве с данными мы выяснили, что 90% клиентов пользуются стационарной телефонной связью и только 78% пользуются интернетом. Проведя исследовательский анализ данных, мы установили, что сравнительно высокими расходами можно объяснить уход только части клиентов, остальные клиенты покинули компанию по менее очевидным причинам. Мы определили какие признаки в каком виде будут переданы в модель, подтвердив выдвинутую гипотезу с помощью теста на статистическую значимость. Решения, использованные при обучении и улучшении модели, позволили добиться требуемого качества предсказаний.\n",
    " \n",
    "\n",
    "+ **Возникшие проблемых и их решение**\n",
    " \n",
    " Возникла сложность с оценкой корреляции / созависимости категориальных признаков. Выяснилось, что с помощью коэффициента инфляции дисперсии (variance inflation factor) можно оценивать мультиколлинеарность только количественных переменных. Удалось найти более универсальный инструмент, применимый к категориальным переменным, - $\\phi_k$.  С его помощью получилось оценить глобальный коэффициент корреляции  между всеми признаками и провести их отбор.\n",
    " \n",
    "\n",
    "+ **Ключевые шагах в решении задачи**\n",
    " \n",
    "  - предобработка календарных переменными - формирование их них целевого и синтетических признаков duration и prolongation;\n",
    "  - проверка гипотезы о клиентах лояльность которых не достоверна и фильтрация таких записей; \n",
    "  - балансировка обучающией выборки методом SMOTE для того, чтобы избежать переобучения;\n",
    "  - улучшение лидирующей модели с помощью оценки корреляции и значимости признаков с последующим их отбором.\n",
    " \n",
    "\n",
    "+ **Качество итоговой модели**\n",
    "\n",
    "  К внедрению предгалается классификатор, работающий по алгоритму градиентного бустинга с метрикой качества AUC-ROC 0.92+. При стоимости удержания сомневающегося клиента в 10% от средней годовой выручки по одному клиенту, внедрение модели позволит снизить потери компании \"Ниединогоразрыва.ком\" на 65% в год.\n",
    "  \n",
    "  Наиболее значимыми для классификатора являются синтетиские признаки стажа клиента в днях и количества пролонгация договора, получаемые на из данных о дате заключения контракта и его типе. \n",
    "  К малозначительным признакам относятся: способ оплаты, пенсионный статус и тип контракта, данные о котором не нужны после расчета синтетических признаков.\n",
    "  Признаки, сильно коррелирующие с остальными: информация об фактах подключения абонентов к интернету и телефонной линии и, внезапно, среднемесячные расходы клиентов.\n",
    "  \n",
    "  Статистику по малозначительным и скоррелированным признакам можно не вести, если это снизит расходы компании. Качество прогнозов модели от этого не ухудшится.\n",
    "  \n",
    "***\n",
    "\n",
    "[Вернуться к содержанию](#contents)"
   ]
  },
  {
   "cell_type": "code",
   "execution_count": null,
   "metadata": {},
   "outputs": [],
   "source": []
  }
 ],
 "metadata": {
  "ExecuteTimeLog": [
   {
    "duration": 3060,
    "start_time": "2022-07-30T05:44:02.107Z"
   },
   {
    "duration": 2214,
    "start_time": "2022-07-30T05:44:05.170Z"
   },
   {
    "duration": 1195,
    "start_time": "2022-07-30T05:44:07.386Z"
   },
   {
    "duration": 100,
    "start_time": "2022-07-30T05:44:37.766Z"
   },
   {
    "duration": 15,
    "start_time": "2022-07-30T05:45:32.234Z"
   },
   {
    "duration": 13,
    "start_time": "2022-07-30T05:45:32.750Z"
   },
   {
    "duration": 8,
    "start_time": "2022-07-30T05:45:35.056Z"
   },
   {
    "duration": 13,
    "start_time": "2022-07-30T05:45:56.056Z"
   },
   {
    "duration": 17,
    "start_time": "2022-07-30T05:45:57.744Z"
   },
   {
    "duration": 8,
    "start_time": "2022-07-30T05:46:15.649Z"
   },
   {
    "duration": 11,
    "start_time": "2022-07-30T05:46:17.015Z"
   },
   {
    "duration": 8,
    "start_time": "2022-07-30T05:46:25.004Z"
   },
   {
    "duration": 11,
    "start_time": "2022-07-30T05:46:25.467Z"
   },
   {
    "duration": 7,
    "start_time": "2022-07-30T05:46:26.675Z"
   },
   {
    "duration": 10,
    "start_time": "2022-07-30T05:46:27.470Z"
   },
   {
    "duration": 11,
    "start_time": "2022-07-30T05:46:28.155Z"
   },
   {
    "duration": 5,
    "start_time": "2022-07-30T05:46:30.128Z"
   },
   {
    "duration": 6,
    "start_time": "2022-07-30T05:46:31.788Z"
   },
   {
    "duration": 9,
    "start_time": "2022-07-30T05:46:31.986Z"
   },
   {
    "duration": 6,
    "start_time": "2022-07-30T05:46:33.026Z"
   },
   {
    "duration": 11,
    "start_time": "2022-07-30T05:47:17.724Z"
   },
   {
    "duration": 1448,
    "start_time": "2022-07-30T05:47:17.983Z"
   },
   {
    "duration": 12,
    "start_time": "2022-07-30T05:47:44.494Z"
   },
   {
    "duration": 19,
    "start_time": "2022-07-30T05:47:50.940Z"
   },
   {
    "duration": 10,
    "start_time": "2022-07-30T05:47:52.175Z"
   },
   {
    "duration": 99,
    "start_time": "2022-07-30T05:48:00.469Z"
   },
   {
    "duration": 10,
    "start_time": "2022-07-30T05:48:01.452Z"
   },
   {
    "duration": 13,
    "start_time": "2022-07-30T05:48:01.597Z"
   },
   {
    "duration": 9,
    "start_time": "2022-07-30T05:48:02.034Z"
   },
   {
    "duration": 11,
    "start_time": "2022-07-30T05:48:02.489Z"
   },
   {
    "duration": 17,
    "start_time": "2022-07-30T05:48:02.935Z"
   },
   {
    "duration": 17,
    "start_time": "2022-07-30T05:48:03.634Z"
   },
   {
    "duration": 8,
    "start_time": "2022-07-30T05:48:04.147Z"
   },
   {
    "duration": 12,
    "start_time": "2022-07-30T05:48:04.261Z"
   },
   {
    "duration": 9,
    "start_time": "2022-07-30T05:48:04.756Z"
   },
   {
    "duration": 10,
    "start_time": "2022-07-30T05:48:04.943Z"
   },
   {
    "duration": 8,
    "start_time": "2022-07-30T05:48:05.708Z"
   },
   {
    "duration": 10,
    "start_time": "2022-07-30T05:48:06.229Z"
   },
   {
    "duration": 12,
    "start_time": "2022-07-30T05:48:06.390Z"
   },
   {
    "duration": 5,
    "start_time": "2022-07-30T05:48:06.715Z"
   },
   {
    "duration": 6,
    "start_time": "2022-07-30T05:48:07.405Z"
   },
   {
    "duration": 10,
    "start_time": "2022-07-30T05:48:07.597Z"
   },
   {
    "duration": 6,
    "start_time": "2022-07-30T05:48:07.918Z"
   },
   {
    "duration": 11,
    "start_time": "2022-07-30T05:48:10.810Z"
   },
   {
    "duration": 6,
    "start_time": "2022-07-30T05:48:11.448Z"
   },
   {
    "duration": 135,
    "start_time": "2022-07-30T05:48:27.658Z"
   },
   {
    "duration": 184,
    "start_time": "2022-07-30T05:48:31.291Z"
   },
   {
    "duration": 109,
    "start_time": "2022-07-30T05:48:40.758Z"
   },
   {
    "duration": 9,
    "start_time": "2022-07-30T05:48:41.721Z"
   },
   {
    "duration": 4,
    "start_time": "2022-07-30T05:48:43.090Z"
   },
   {
    "duration": 4,
    "start_time": "2022-07-30T05:48:43.248Z"
   },
   {
    "duration": 31,
    "start_time": "2022-07-30T05:48:44.506Z"
   },
   {
    "duration": 1199,
    "start_time": "2022-07-30T05:48:45.079Z"
   },
   {
    "duration": 37,
    "start_time": "2022-07-30T05:52:15.126Z"
   },
   {
    "duration": 8,
    "start_time": "2022-07-30T05:52:22.581Z"
   },
   {
    "duration": 8,
    "start_time": "2022-07-30T05:52:23.013Z"
   },
   {
    "duration": 14,
    "start_time": "2022-07-30T05:52:23.807Z"
   },
   {
    "duration": 8,
    "start_time": "2022-07-30T05:52:47.178Z"
   },
   {
    "duration": 30,
    "start_time": "2022-07-30T05:53:04.928Z"
   },
   {
    "duration": 3,
    "start_time": "2022-07-30T05:53:06.684Z"
   },
   {
    "duration": 3,
    "start_time": "2022-07-30T05:53:26.880Z"
   },
   {
    "duration": 4,
    "start_time": "2022-07-30T05:53:28.576Z"
   },
   {
    "duration": 303,
    "start_time": "2022-07-30T05:53:35.836Z"
   },
   {
    "duration": 8,
    "start_time": "2022-07-30T05:53:42.817Z"
   },
   {
    "duration": 1071,
    "start_time": "2022-07-30T05:54:14.593Z"
   },
   {
    "duration": 8860,
    "start_time": "2022-07-30T12:03:11.915Z"
   },
   {
    "duration": 2264,
    "start_time": "2022-07-30T12:03:20.777Z"
   },
   {
    "duration": 2367,
    "start_time": "2022-07-30T12:03:23.044Z"
   },
   {
    "duration": 367,
    "start_time": "2022-07-30T12:03:25.413Z"
   },
   {
    "duration": 15,
    "start_time": "2022-07-30T12:03:25.783Z"
   },
   {
    "duration": 18,
    "start_time": "2022-07-30T12:03:25.799Z"
   },
   {
    "duration": 12,
    "start_time": "2022-07-30T12:03:25.819Z"
   },
   {
    "duration": 17,
    "start_time": "2022-07-30T12:03:25.833Z"
   },
   {
    "duration": 22,
    "start_time": "2022-07-30T12:03:25.852Z"
   },
   {
    "duration": 51,
    "start_time": "2022-07-30T12:03:25.877Z"
   },
   {
    "duration": 13,
    "start_time": "2022-07-30T12:03:25.930Z"
   },
   {
    "duration": 18,
    "start_time": "2022-07-30T12:03:25.945Z"
   },
   {
    "duration": 9,
    "start_time": "2022-07-30T12:03:25.965Z"
   },
   {
    "duration": 12,
    "start_time": "2022-07-30T12:03:25.978Z"
   },
   {
    "duration": 40,
    "start_time": "2022-07-30T12:03:25.992Z"
   },
   {
    "duration": 16,
    "start_time": "2022-07-30T12:03:26.034Z"
   },
   {
    "duration": 18,
    "start_time": "2022-07-30T12:03:26.052Z"
   },
   {
    "duration": 7,
    "start_time": "2022-07-30T12:03:26.073Z"
   },
   {
    "duration": 43,
    "start_time": "2022-07-30T12:03:26.082Z"
   },
   {
    "duration": 16,
    "start_time": "2022-07-30T12:03:26.128Z"
   },
   {
    "duration": 11,
    "start_time": "2022-07-30T12:03:26.147Z"
   },
   {
    "duration": 13,
    "start_time": "2022-07-30T12:03:26.161Z"
   },
   {
    "duration": 10,
    "start_time": "2022-07-30T12:03:26.176Z"
   },
   {
    "duration": 203,
    "start_time": "2022-07-30T12:03:26.189Z"
   },
   {
    "duration": 210,
    "start_time": "2022-07-30T12:03:26.394Z"
   },
   {
    "duration": 129,
    "start_time": "2022-07-30T12:03:26.606Z"
   },
   {
    "duration": 9,
    "start_time": "2022-07-30T12:03:26.737Z"
   },
   {
    "duration": 11,
    "start_time": "2022-07-30T12:03:26.748Z"
   },
   {
    "duration": 10,
    "start_time": "2022-07-30T12:03:26.760Z"
   },
   {
    "duration": 159,
    "start_time": "2022-07-30T12:03:33.724Z"
   },
   {
    "duration": 14,
    "start_time": "2022-07-30T12:11:21.585Z"
   },
   {
    "duration": 2149,
    "start_time": "2022-07-30T12:16:11.625Z"
   },
   {
    "duration": 2198,
    "start_time": "2022-07-30T12:16:13.777Z"
   },
   {
    "duration": 5,
    "start_time": "2022-07-30T12:16:15.977Z"
   },
   {
    "duration": 111,
    "start_time": "2022-07-30T12:16:15.985Z"
   },
   {
    "duration": 11,
    "start_time": "2022-07-30T12:16:16.098Z"
   },
   {
    "duration": 16,
    "start_time": "2022-07-30T12:16:16.111Z"
   },
   {
    "duration": 9,
    "start_time": "2022-07-30T12:16:16.129Z"
   },
   {
    "duration": 20,
    "start_time": "2022-07-30T12:16:16.140Z"
   },
   {
    "duration": 14,
    "start_time": "2022-07-30T12:16:25.247Z"
   },
   {
    "duration": 13,
    "start_time": "2022-07-30T12:16:48.994Z"
   },
   {
    "duration": 2373,
    "start_time": "2022-07-30T12:18:50.654Z"
   },
   {
    "duration": 2391,
    "start_time": "2022-07-30T12:18:53.031Z"
   },
   {
    "duration": 6,
    "start_time": "2022-07-30T12:18:55.424Z"
   },
   {
    "duration": 118,
    "start_time": "2022-07-30T12:18:55.432Z"
   },
   {
    "duration": 13,
    "start_time": "2022-07-30T12:18:55.552Z"
   },
   {
    "duration": 16,
    "start_time": "2022-07-30T12:18:55.566Z"
   },
   {
    "duration": 10,
    "start_time": "2022-07-30T12:18:55.583Z"
   },
   {
    "duration": 12,
    "start_time": "2022-07-30T12:18:55.595Z"
   },
   {
    "duration": 29,
    "start_time": "2022-07-30T12:18:55.609Z"
   },
   {
    "duration": 19,
    "start_time": "2022-07-30T12:18:55.640Z"
   },
   {
    "duration": 11,
    "start_time": "2022-07-30T12:18:55.661Z"
   },
   {
    "duration": 17,
    "start_time": "2022-07-30T12:18:55.674Z"
   },
   {
    "duration": 13,
    "start_time": "2022-07-30T12:18:55.724Z"
   },
   {
    "duration": 21,
    "start_time": "2022-07-30T12:18:55.741Z"
   },
   {
    "duration": 11,
    "start_time": "2022-07-30T12:18:55.764Z"
   },
   {
    "duration": 21,
    "start_time": "2022-07-30T12:18:55.777Z"
   },
   {
    "duration": 19,
    "start_time": "2022-07-30T12:18:55.825Z"
   },
   {
    "duration": 8,
    "start_time": "2022-07-30T12:18:55.846Z"
   },
   {
    "duration": 11,
    "start_time": "2022-07-30T12:18:55.856Z"
   },
   {
    "duration": 18,
    "start_time": "2022-07-30T12:18:55.869Z"
   },
   {
    "duration": 39,
    "start_time": "2022-07-30T12:18:55.889Z"
   },
   {
    "duration": 24,
    "start_time": "2022-07-30T12:18:55.931Z"
   },
   {
    "duration": 12,
    "start_time": "2022-07-30T12:18:55.956Z"
   },
   {
    "duration": 226,
    "start_time": "2022-07-30T12:18:55.971Z"
   },
   {
    "duration": 356,
    "start_time": "2022-07-30T12:18:56.200Z"
   },
   {
    "duration": 126,
    "start_time": "2022-07-30T12:18:56.558Z"
   },
   {
    "duration": 9,
    "start_time": "2022-07-30T12:18:56.686Z"
   },
   {
    "duration": 27,
    "start_time": "2022-07-30T12:18:56.697Z"
   },
   {
    "duration": 6,
    "start_time": "2022-07-30T12:18:56.727Z"
   },
   {
    "duration": 26,
    "start_time": "2022-07-30T12:18:56.736Z"
   },
   {
    "duration": 5,
    "start_time": "2022-07-30T12:19:31.735Z"
   },
   {
    "duration": 4,
    "start_time": "2022-07-30T12:25:59.137Z"
   },
   {
    "duration": 12,
    "start_time": "2022-07-30T12:26:09.574Z"
   },
   {
    "duration": 21,
    "start_time": "2022-07-30T12:30:55.694Z"
   },
   {
    "duration": 2338,
    "start_time": "2022-07-30T12:31:01.744Z"
   },
   {
    "duration": 2229,
    "start_time": "2022-07-30T12:31:04.085Z"
   },
   {
    "duration": 15,
    "start_time": "2022-07-30T12:31:06.317Z"
   },
   {
    "duration": 123,
    "start_time": "2022-07-30T12:31:06.334Z"
   },
   {
    "duration": 17,
    "start_time": "2022-07-30T12:31:06.461Z"
   },
   {
    "duration": 22,
    "start_time": "2022-07-30T12:31:06.481Z"
   },
   {
    "duration": 11,
    "start_time": "2022-07-30T12:31:06.505Z"
   },
   {
    "duration": 13,
    "start_time": "2022-07-30T12:31:06.518Z"
   },
   {
    "duration": 21,
    "start_time": "2022-07-30T12:31:06.533Z"
   },
   {
    "duration": 20,
    "start_time": "2022-07-30T12:31:06.556Z"
   },
   {
    "duration": 11,
    "start_time": "2022-07-30T12:31:06.578Z"
   },
   {
    "duration": 50,
    "start_time": "2022-07-30T12:31:06.591Z"
   },
   {
    "duration": 17,
    "start_time": "2022-07-30T12:31:06.644Z"
   },
   {
    "duration": 12,
    "start_time": "2022-07-30T12:31:06.664Z"
   },
   {
    "duration": 11,
    "start_time": "2022-07-30T12:31:06.678Z"
   },
   {
    "duration": 41,
    "start_time": "2022-07-30T12:31:06.691Z"
   },
   {
    "duration": 15,
    "start_time": "2022-07-30T12:31:06.734Z"
   },
   {
    "duration": 10,
    "start_time": "2022-07-30T12:31:06.751Z"
   },
   {
    "duration": 11,
    "start_time": "2022-07-30T12:31:06.762Z"
   },
   {
    "duration": 20,
    "start_time": "2022-07-30T12:31:06.775Z"
   },
   {
    "duration": 33,
    "start_time": "2022-07-30T12:31:06.797Z"
   },
   {
    "duration": 13,
    "start_time": "2022-07-30T12:31:06.832Z"
   },
   {
    "duration": 13,
    "start_time": "2022-07-30T12:31:06.847Z"
   },
   {
    "duration": 170,
    "start_time": "2022-07-30T12:31:06.863Z"
   },
   {
    "duration": 329,
    "start_time": "2022-07-30T12:31:07.035Z"
   },
   {
    "duration": 196,
    "start_time": "2022-07-30T12:31:07.366Z"
   },
   {
    "duration": 12,
    "start_time": "2022-07-30T12:31:07.565Z"
   },
   {
    "duration": 12,
    "start_time": "2022-07-30T12:31:07.579Z"
   },
   {
    "duration": 5,
    "start_time": "2022-07-30T12:31:07.593Z"
   },
   {
    "duration": 45,
    "start_time": "2022-07-30T12:31:07.600Z"
   },
   {
    "duration": 12,
    "start_time": "2022-07-30T12:31:07.647Z"
   },
   {
    "duration": 72,
    "start_time": "2022-07-30T12:31:07.661Z"
   },
   {
    "duration": 13,
    "start_time": "2022-07-30T12:31:07.739Z"
   },
   {
    "duration": 18,
    "start_time": "2022-07-30T12:31:07.754Z"
   },
   {
    "duration": 30,
    "start_time": "2022-07-30T12:31:07.774Z"
   },
   {
    "duration": 24,
    "start_time": "2022-07-30T12:31:07.806Z"
   },
   {
    "duration": 47,
    "start_time": "2022-07-30T12:31:07.832Z"
   },
   {
    "duration": 8,
    "start_time": "2022-07-30T12:31:07.881Z"
   },
   {
    "duration": 11,
    "start_time": "2022-07-30T12:31:07.890Z"
   },
   {
    "duration": 31,
    "start_time": "2022-07-30T12:31:07.902Z"
   },
   {
    "duration": 309,
    "start_time": "2022-07-30T12:31:07.939Z"
   },
   {
    "duration": 84,
    "start_time": "2022-07-30T12:31:08.251Z"
   },
   {
    "duration": 1239,
    "start_time": "2022-07-30T12:31:08.337Z"
   },
   {
    "duration": 113653,
    "start_time": "2022-07-30T12:31:09.623Z"
   },
   {
    "duration": 4788654,
    "start_time": "2022-07-30T12:33:03.278Z"
   },
   {
    "duration": 9,
    "start_time": "2022-07-30T13:52:51.934Z"
   },
   {
    "duration": 1742,
    "start_time": "2022-07-30T13:52:51.944Z"
   },
   {
    "duration": 450,
    "start_time": "2022-07-30T13:52:53.687Z"
   },
   {
    "duration": 1806,
    "start_time": "2022-08-03T02:47:42.884Z"
   },
   {
    "duration": 1784,
    "start_time": "2022-08-03T02:47:44.693Z"
   },
   {
    "duration": 1256,
    "start_time": "2022-08-03T02:47:48.083Z"
   },
   {
    "duration": 95,
    "start_time": "2022-08-03T02:47:53.029Z"
   },
   {
    "duration": 15,
    "start_time": "2022-08-03T02:47:53.881Z"
   },
   {
    "duration": 12,
    "start_time": "2022-08-03T02:47:54.009Z"
   },
   {
    "duration": 9,
    "start_time": "2022-08-03T02:47:54.712Z"
   },
   {
    "duration": 12,
    "start_time": "2022-08-03T02:47:55.134Z"
   },
   {
    "duration": 14,
    "start_time": "2022-08-03T02:47:56.030Z"
   },
   {
    "duration": 17,
    "start_time": "2022-08-03T02:47:56.308Z"
   },
   {
    "duration": 10,
    "start_time": "2022-08-03T02:47:56.809Z"
   },
   {
    "duration": 12,
    "start_time": "2022-08-03T02:47:56.925Z"
   },
   {
    "duration": 8,
    "start_time": "2022-08-03T02:47:57.411Z"
   },
   {
    "duration": 11,
    "start_time": "2022-08-03T02:47:57.541Z"
   },
   {
    "duration": 10,
    "start_time": "2022-08-03T02:47:58.383Z"
   },
   {
    "duration": 13,
    "start_time": "2022-08-03T02:47:58.820Z"
   },
   {
    "duration": 15,
    "start_time": "2022-08-03T02:47:58.957Z"
   },
   {
    "duration": 6,
    "start_time": "2022-08-03T02:47:59.308Z"
   },
   {
    "duration": 7,
    "start_time": "2022-08-03T02:47:59.908Z"
   },
   {
    "duration": 12,
    "start_time": "2022-08-03T02:48:00.054Z"
   },
   {
    "duration": 6,
    "start_time": "2022-08-03T02:48:00.525Z"
   },
   {
    "duration": 11,
    "start_time": "2022-08-03T02:48:01.681Z"
   },
   {
    "duration": 7,
    "start_time": "2022-08-03T02:48:01.840Z"
   },
   {
    "duration": 131,
    "start_time": "2022-08-03T02:48:02.676Z"
   },
   {
    "duration": 171,
    "start_time": "2022-08-03T02:48:03.025Z"
   },
   {
    "duration": 103,
    "start_time": "2022-08-03T02:48:03.909Z"
   },
   {
    "duration": 8,
    "start_time": "2022-08-03T02:48:04.205Z"
   },
   {
    "duration": 11,
    "start_time": "2022-08-03T02:48:05.466Z"
   },
   {
    "duration": 35,
    "start_time": "2022-08-03T02:48:05.625Z"
   },
   {
    "duration": 5,
    "start_time": "2022-08-03T02:48:06.159Z"
   },
   {
    "duration": 5,
    "start_time": "2022-08-03T02:48:06.676Z"
   },
   {
    "duration": 3,
    "start_time": "2022-08-03T02:48:07.037Z"
   },
   {
    "duration": 17,
    "start_time": "2022-08-03T02:48:07.908Z"
   },
   {
    "duration": 16,
    "start_time": "2022-08-03T02:48:08.064Z"
   },
   {
    "duration": 39,
    "start_time": "2022-08-03T02:48:09.757Z"
   },
   {
    "duration": 11,
    "start_time": "2022-08-03T02:48:11.554Z"
   },
   {
    "duration": 9,
    "start_time": "2022-08-03T02:48:11.739Z"
   },
   {
    "duration": 13,
    "start_time": "2022-08-03T02:48:11.941Z"
   },
   {
    "duration": 8,
    "start_time": "2022-08-03T02:48:14.306Z"
   },
   {
    "duration": 32,
    "start_time": "2022-08-03T02:48:15.307Z"
   },
   {
    "duration": 3,
    "start_time": "2022-08-03T02:48:15.510Z"
   },
   {
    "duration": 16,
    "start_time": "2022-08-03T02:48:15.722Z"
   },
   {
    "duration": 14,
    "start_time": "2022-08-03T02:48:15.911Z"
   },
   {
    "duration": 112,
    "start_time": "2022-08-05T13:33:38.602Z"
   },
   {
    "duration": 5150,
    "start_time": "2022-08-06T08:59:25.676Z"
   },
   {
    "duration": 2605,
    "start_time": "2022-08-06T09:26:10.859Z"
   }
  ],
  "colab": {
   "collapsed_sections": [
    "OI5Bk0CVNP8N"
   ],
   "name": "final_project_report.ipynb",
   "provenance": [],
   "toc_visible": true
  },
  "kernelspec": {
   "display_name": "Python 3 (ipykernel)",
   "language": "python",
   "name": "python3"
  },
  "language_info": {
   "codemirror_mode": {
    "name": "ipython",
    "version": 3
   },
   "file_extension": ".py",
   "mimetype": "text/x-python",
   "name": "python",
   "nbconvert_exporter": "python",
   "pygments_lexer": "ipython3",
   "version": "3.9.15"
  },
  "toc": {
   "base_numbering": 1,
   "nav_menu": {},
   "number_sections": true,
   "sideBar": true,
   "skip_h1_title": true,
   "title_cell": "Table of Contents",
   "title_sidebar": "Contents",
   "toc_cell": false,
   "toc_position": {
    "height": "calc(100% - 180px)",
    "left": "10px",
    "top": "150px",
    "width": "366.391px"
   },
   "toc_section_display": true,
   "toc_window_display": true
  }
 },
 "nbformat": 4,
 "nbformat_minor": 1
}
